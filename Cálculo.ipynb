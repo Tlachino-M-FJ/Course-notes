{
 "cells": [
  {
   "cell_type": "code",
   "execution_count": 23,
   "metadata": {
    "lang": "es",
    "slideshow": {
     "slide_type": "notes"
    }
   },
   "outputs": [],
   "source": [
    "import numpy as np # importando numpy\n",
    "import pandas as pd # importando pandas\n",
    "\n",
    "from pylab import *      # importar todas las funciones de pylab\n",
    "import matplotlib\n",
    "import matplotlib.pyplot as plt\n",
    "import matplotlib.animation as animation\n",
    "import seaborn as sns \n",
    "import glob\n",
    "\n",
    "import sympy as sp\n",
    "from sympy import *\n",
    "from sympy.interactive import printing\n",
    "from sympy.abc import x, y, t\n",
    "from ipywidgets import interact\n",
    "\n",
    "from IPython.display import Image\n",
    "from IPython.display import YouTubeVideo\n",
    "from IPython.display import IFrame\n",
    "from IPython.display import display\n",
    "from IPython.display import Latex\n",
    "# \\textit para texto en cursiva, \\textbf para texto en negrita y \\textsf para tipo de letra sans serif.\n",
    "# \\mathcal{F}\n",
    "# \\mathbb{N}\n",
    "# \\mathfrak{G}\n",
    "# \\mathrm{si}\n",
    "# \\mathit{si}\n",
    "# \\mathsf{si}\n",
    "\n",
    "printing.init_printing(use_latex='mathjax') # imprimir con notación matemática."
   ]
  },
  {
   "cell_type": "markdown",
   "metadata": {
    "slideshow": {
     "slide_type": "slide"
    }
   },
   "source": [
    "# <font color='Orange'>**Cálculo Diferencial e Integral**</font>"
   ]
  },
  {
   "cell_type": "markdown",
   "metadata": {
    "slideshow": {
     "slide_type": "fragment"
    }
   },
   "source": [
    "<img src=\"Frase-Galileo.png\" width=\"1000\" align=\"center\">"
   ]
  },
  {
   "cell_type": "markdown",
   "metadata": {
    "slideshow": {
     "slide_type": "subslide"
    }
   },
   "source": [
    "<font color='blue'>**Contenido**</font>\n",
    "\n",
    "*    ***Funciones, límites y continuidad***\n",
    "*    ***Derivaión***\n",
    "*    ***Integración***\n",
    "*    ***Aplicaciones básicas del cálculo***\n",
    "\n",
    "**Bibliografia:**\n",
    "\n",
    "[1]    Stewart, J., & López, E. F. (2001). Cálculo de una variable: Trascendentes tempranas (No. 515.83 S7C3 2001). Thomson learning.\n",
    "\n",
    "[2]    Spivak, M. (2020). Cálculo: Cálculo infinitesimal . Reverté.\n",
    "\n",
    "[3]    Apostol, T. M. (1991). Calculus, Volume 1. John Wiley & Sons.\n",
    "    \n",
    "<font color='green'>*Dr. Felipe de Jesús Tlachino Macuitl*</font>\n",
    "\n",
    "*felipe.tlachino459@uppuebla.edu.mx*"
   ]
  },
  {
   "cell_type": "markdown",
   "metadata": {
    "slideshow": {
     "slide_type": "slide"
    }
   },
   "source": [
    "## <font color='blue'>**Funciones, límites y continuidad**</font>"
   ]
  },
  {
   "cell_type": "markdown",
   "metadata": {
    "slideshow": {
     "slide_type": "fragment"
    }
   },
   "source": [
    "* **Funciones**\n",
    "    * ***Definición de función***\n",
    "    * ***Gráfica de una función***\n",
    "    * ***Operaciones con funciones***\n",
    "    * ***Tipos de funciones***\n",
    "* **Límites**\n",
    "    * ***Definición de límite***\n",
    "    * ***Teoremas fundamentales de límites***\n",
    "    * ***Operaciones con límites***\n",
    "* **Continuidad**\n",
    "    * ***Continuidad de funciones***\n",
    "    * ***Teoremas sobre continuidad de funciones***"
   ]
  },
  {
   "cell_type": "markdown",
   "metadata": {
    "slideshow": {
     "slide_type": "subslide"
    }
   },
   "source": [
    "### <font color='green'>**Funciones**</font>"
   ]
  },
  {
   "cell_type": "markdown",
   "metadata": {
    "slideshow": {
     "slide_type": "fragment"
    }
   },
   "source": [
    "#### <font color='orange'>**Definición de función**</font>\n",
    "\n",
    "> **Def. provisional.** Una ***función*** es una regla que asigna a cada uno de ciertos números reales un número real."
   ]
  },
  {
   "cell_type": "markdown",
   "metadata": {
    "slideshow": {
     "slide_type": "subslide"
    }
   },
   "source": [
    "<img src=\"función.gif\" width=\"2100\" align=\"center\">"
   ]
  },
  {
   "cell_type": "markdown",
   "metadata": {
    "slideshow": {
     "slide_type": "subslide"
    }
   },
   "source": [
    "El conjunto de los números a los cuales se *aplica* una función recibe el nombre de ***dominio*** y el conjunto de números que se obtienen al *aplicar* la función se le llama ***imagen***.\n",
    "\n",
    "La práctica común consite en designar una función mediante una letra. Por razones obvias se emplea preferentemente la letra \"$f$\", lo cual hace que sigan en ese ordende de preferencia las letras \"$g$\" y \"$h$\" (pero en fin de cuentas podemos utilizar cualquier letra o símbolo razonable), por otro lado las variables se representan por las letras \"$x$\" y la \"$y$\" preferentemente.\n",
    "\n",
    "**Notación.** Si $f$ es la función, entonces el número que $f$ asocia con $x$ se designa por $f(x)$: este símbolo se lee \"$f$ de $x$\" y se le da con frecuencia el nombre de ***valor de $f$ en $x$ ($y$)***. Una función la podemos denotar como\n",
    "\n",
    "\\begin{array}{llcl}\n",
    " f:&X &\\longrightarrow &Y \\nonumber \\\\\n",
    "   &x &\\longmapsto &y=f(x) \\nonumber\n",
    "\\end{array}\n",
    "\n",
    "Obsérvese que el símbolo $f(x)$ solamente tiene sentido cuando $x$ pertenece al dominio de $f$; para otros $x$ el símbolo $f(x)$ no está definido.\n"
   ]
  },
  {
   "cell_type": "markdown",
   "metadata": {
    "slideshow": {
     "slide_type": "subslide"
    }
   },
   "source": [
    "En la practica se toleran algunas abreviaciones. El **ejemplo 1** se escribiría como\n",
    "\n",
    "\\begin{array}{llcl}\n",
    " f:&\\mathbb R &\\longrightarrow &\\{x \\in \\mathbb R : x \\geq 0 \\} \\nonumber \\\\\n",
    "   &x &\\longmapsto &y=x^2 \\nonumber\n",
    "\\end{array}\n",
    "\n",
    "O podría escribirse simplemente\n",
    "$f(x)=x^2$"
   ]
  },
  {
   "cell_type": "markdown",
   "metadata": {
    "slideshow": {
     "slide_type": "fragment"
    }
   },
   "source": [
    "<img src=\"CDI-Ima1.1.png\" width=\"500\" align=\"center\"> "
   ]
  },
  {
   "cell_type": "markdown",
   "metadata": {
    "slideshow": {
     "slide_type": "subslide"
    }
   },
   "source": [
    "**DEFINICIÓN**\n",
    "\n",
    "> Una ***función*** es una colección de pares de números con la siguiente propiedad: Si $(a,b)$ y $(a,c)$ pertenecen ambos a la colección, entonces $b=c$; en otras palabras, la colección no debe contener dos pares distintos con el mismo primer elemento.$^{[2]}$\n",
    "\n",
    "> Si $f$ es una función, el ***dominio*** de $f$ es el conjunto de todas las $a$ para los que existe algún $b$ tal que $(a,b)$ está en $f$. Si $a$ está en el dominio de $f$, se sigue de la definición de función que existe, en efecto, un número $b$ *único* tal que $(a,b)$ está en $f$. Este $b$ único se designa por $f(a)$, $(a, f(a))$. Notación $dom(f)=\\{\\}$.$^{[2]}$\n",
    "\n",
    "**Nota**. Una colección la repesentamos por una letra, por ejemplo $A$, y sus elementos estaran detro de llaves. Ejemplo $A=\\{(-2,4),(-1,1),(0,0),(1,1),(2,4)\\}.$"
   ]
  },
  {
   "cell_type": "markdown",
   "metadata": {
    "slideshow": {
     "slide_type": "subslide"
    }
   },
   "source": [
    "#### <font color='orange'>**Gráfica de una función**</font>"
   ]
  },
  {
   "cell_type": "markdown",
   "metadata": {
    "slideshow": {
     "slide_type": "fragment"
    }
   },
   "source": [
    "Si a un matemático se le mencionan los números reales es posible que, sin él quererlo, se forme en su mente la imagen de una recta\n",
    "\n",
    "$$ \\color{blue}{\\text{____________________________________________}} \\nonumber $$\n",
    "\n",
    "> Podemos interpretar un punto el la recta como un número real, $x \\in \\mathbb R$."
   ]
  },
  {
   "cell_type": "markdown",
   "metadata": {
    "slideshow": {
     "slide_type": "fragment"
    }
   },
   "source": [
    "Ahora, necesitamos un método para dibujar pares de números. Este procedimiento requiere un ***sistema de coordenadas***, a saber, dos líneas rectas que se cortan en un anulo recto. Para distinguir estas rectas llamamos a una de ellas ***eje horizontal*** y a la otra ***eje vertical***."
   ]
  },
  {
   "cell_type": "markdown",
   "metadata": {
    "slideshow": {
     "slide_type": "subslide"
    }
   },
   "source": [
    "Puesto que una función no es mas que una colección de pares de números, el trazo de una función se rduce a trazar cada uno de los pares de la misma. El dibujo así obtenido recibe el nombre ***gráfica de la función***. En otros términos, la gráfica contiene todos los puntos correspondiente a pares $(x,f(x))$.$^{[2]}$"
   ]
  },
  {
   "cell_type": "code",
   "execution_count": 20,
   "metadata": {
    "slideshow": {
     "slide_type": "notes"
    }
   },
   "outputs": [],
   "source": [
    "import cutecharts.charts as ctc \n",
    "df = pd.DataFrame ({ \n",
    "'x': ['0', '1', '2', '3', '4', '5', '6', '7', '8', '9'], \n",
    "' y ': ['0', '1', '2', '3', '4', '5', '6', '7', '8', '9'],\n",
    "' z ': ['0', '1', '4', '9', '16', '25', '36', '49', '64', '81'],\n",
    "' w ': ['45', '45', '45', '45', '45', '45', '45', '45', '45', '45']})"
   ]
  },
  {
   "cell_type": "code",
   "execution_count": 21,
   "metadata": {
    "slideshow": {
     "slide_type": "notes"
    }
   },
   "outputs": [
    {
     "data": {
      "text/plain": [
       "<cutecharts.charts.line.Line at 0x1f42ba905b0>"
      ]
     },
     "execution_count": 21,
     "metadata": {},
     "output_type": "execute_result"
    }
   ],
   "source": [
    "chart = ctc.Line (\"Gráfica de la función f(x)\", width = '900px', height = '900px') \n",
    "chart.set_options (labels = list (df ['x']), x_label = \"x\", y_label = \"f(x)\")\n",
    "chart.add_series (\"f(x)=x\", list (df [' y ']))\n",
    "chart.add_series (\"f(x)=x^2\", list (df [' z ']))\n",
    "chart.add_series (\"f(x)=45\", list (df [' w ']))"
   ]
  },
  {
   "cell_type": "code",
   "execution_count": 22,
   "metadata": {
    "scrolled": true,
    "slideshow": {
     "slide_type": "fragment"
    }
   },
   "outputs": [
    {
     "data": {
      "text/html": [
       "\n",
       "<script>\n",
       "    require.config({\n",
       "        paths: {\n",
       "            'chartXkcd':'https://cdn.jsdelivr.net/npm/chart.xkcd@1.1/dist/chart.xkcd.min'\n",
       "        }\n",
       "    });\n",
       "</script>\n",
       "\n",
       "<div id=\"83ff5326f30c46c2bd8e177bc9579a27\" class=\"chart-container\" style=\"width: 900px\">\n",
       "        <svg id=\"chart_83ff5326f30c46c2bd8e177bc9579a27\"></svg>\n",
       "    </div>\n",
       "    <script>\n",
       "        require(['chartXkcd'], function(chartXkcd) {\n",
       "            const svg_83ff5326f30c46c2bd8e177bc9579a27 = document.querySelector('#chart_83ff5326f30c46c2bd8e177bc9579a27')\n",
       "            const chart_83ff5326f30c46c2bd8e177bc9579a27 = new chartXkcd.Line(svg_83ff5326f30c46c2bd8e177bc9579a27, {\"title\": \"Gr\\u00e1fica de la funci\\u00f3n f(x)\", \"data\": {\"datasets\": [{\"label\": \"f(x)=x\", \"data\": [\"0\", \"1\", \"2\", \"3\", \"4\", \"5\", \"6\", \"7\", \"8\", \"9\"]}, {\"label\": \"f(x)=x^2\", \"data\": [\"0\", \"1\", \"4\", \"9\", \"16\", \"25\", \"36\", \"49\", \"64\", \"81\"]}, {\"label\": \"f(x)=45\", \"data\": [\"45\", \"45\", \"45\", \"45\", \"45\", \"45\", \"45\", \"45\", \"45\", \"45\"]}], \"labels\": [\"0\", \"1\", \"2\", \"3\", \"4\", \"5\", \"6\", \"7\", \"8\", \"9\"]}, \"xLabel\": \"x\", \"yLabel\": \"f(x)\", \"options\": {\"yTickCount\": 3, \"legendPosition\": 1}});\n",
       "        })\n",
       "    </script>\n"
      ],
      "text/plain": [
       "<cutecharts.render.engine.HTML at 0x1f4323b2be0>"
      ]
     },
     "execution_count": 22,
     "metadata": {},
     "output_type": "execute_result"
    }
   ],
   "source": [
    "chart.render_notebook ()"
   ]
  },
  {
   "cell_type": "markdown",
   "metadata": {
    "slideshow": {
     "slide_type": "subslide"
    }
   },
   "source": [
    "#### <font color='orange'>**Operaciones con funciones**</font>"
   ]
  },
  {
   "cell_type": "markdown",
   "metadata": {
    "slideshow": {
     "slide_type": "fragment"
    }
   },
   "source": [
    "* ***Suma.*** Si $f$ y $g$ son dos funciones cualesquiera, podemos definir una nueva función $f+g$ denominada **suma** de $f$ y $g$ mediante la ecuación\n",
    "\n",
    "$$ (f+g)(x)=f(x)+g(x) \\nonumber $$\n",
    "\n",
    "* ***Producto.*** Si $f$ y $g$ son dos funciones cualesquiera, podemos definir una nueva función $fg$ denominada **producto** de $f$ y $g$ mediante la ecuación\n",
    "\n",
    "$$ (fg)(x)=f(x)g(x) \\nonumber$$\n",
    "\n",
    "* ***Cociente.*** Si $f$ y $g$ son dos funciones cualesquiera ($g$ diferente de cero), podemos definir una nueva función $f/g$ denominada **cociente** de $f$ y $g$ mediante la ecuación\n",
    "\n",
    "$$ (f/g)(x)=\\frac{f(x)}{g(x)} \\nonumber$$"
   ]
  },
  {
   "cell_type": "markdown",
   "metadata": {
    "slideshow": {
     "slide_type": "subslide"
    }
   },
   "source": [
    "* ***Composición.*** Si $f$ y $g$ son dos funciones cualesquiera, podemos definir una nueva función $f \\circ g$ denominada **composición** de $f$ con $g$ mediante la ecuación\n",
    "\n",
    "$$ (f \\circ g)(x)=f(g(x)) \\nonumber$$\n",
    "\n",
    "> <font color='blue'>***Función inversa***</font>. Si $f$ y $g$ son dos funciones cualesquiera, tales que  $(f \\circ g)(x)=(g \\circ f)(x)=I(x)$, donde $I(x)$ es la función identidad, entonces $g$ es la **función inversa** de $f$, esta funcion se denota por $g=f^{-1}$. Es decir:\n",
    "\n",
    "$$ (f \\circ f^{-1})(x)=(f^{-1} \\circ f)(x)=I(x) \\nonumber $$\n",
    "\n",
    "Además, para que una función tenga inversa es necesario que sea una función uno a uno, es decir que si $f(a) = f(b)$ entonces $a=b$. O en otras palabras la función debe ser monótona (más adelante enteremos estos conceptos.)"
   ]
  },
  {
   "cell_type": "markdown",
   "metadata": {
    "slideshow": {
     "slide_type": "subslide"
    }
   },
   "source": [
    "#### <font color='orange'>**Tipos de funciones**</font>"
   ]
  },
  {
   "cell_type": "markdown",
   "metadata": {
    "slideshow": {
     "slide_type": "fragment"
    }
   },
   "source": [
    "$$\n",
    "\\color{blue}{\\text{Funciones }} \\left\\{ \\begin{array}{ll}\n",
    "    \\color{green}{\\text{Funciones elementales}}& \\left\\{ \\begin{array}{ll}\n",
    "        \\color{orange}{\\text{Funciones algebraicas}} & \\left\\{ \\begin{array}{l}\n",
    "            \\color{blue}{\\text{Funciones polinómicas}} \\\\\n",
    "            \\color{blue}{\\text{Funciones racionales}} \\\\\n",
    "            \\color{blue}{\\text{Funciones radicales}}\n",
    "            \\end{array}\n",
    "            \\right. \\\\\n",
    "        &\\\\\n",
    "        \\color{orange}{\\text{Funciones trascendentes}} & \\left\\{ \\begin{array}{l}\n",
    "            \\color{blue}{\\text{Funciones trigonométricas}} \\\\\n",
    "            \\color{blue}{\\text{Funciones exponenciales}} \\\\\n",
    "            \\color{blue}{\\text{Funciones logarítmicas}} \\\\\n",
    "            \\color{blue}{\\text{Funciones hiperbolicas}}\n",
    "            \\end{array}\n",
    "            \\right. \\\\ \n",
    "        \\end{array}\n",
    "        \\right. \\\\\n",
    "    & \\\\\n",
    "    \\color{green}{\\text{Funciones no elementales}}& \\left\\{ \\begin{array}{l}\n",
    "        \\color{orange}{\\text{Funciones definidas a trozos}} \\\\\n",
    "        \\color{orange}{\\text{Función Gamma (}\\Gamma(x)\\text{), ...}}\n",
    "        \\end{array}\n",
    "        \\right.\n",
    "    \\end{array}\n",
    "    \\right. \\nonumber\n",
    "$$"
   ]
  },
  {
   "cell_type": "markdown",
   "metadata": {
    "slideshow": {
     "slide_type": "subslide"
    }
   },
   "source": [
    "##### <font color='blue'>**Funciones algebraicas**</font>"
   ]
  },
  {
   "cell_type": "markdown",
   "metadata": {
    "slideshow": {
     "slide_type": "fragment"
    }
   },
   "source": [
    "*    ***Funciones polinómicas.***\n",
    "\n",
    "<blockquote><div style=\"background-color:#DCDCDC; color:#000000; font-style: normal; font-family: Georgia;\">\n",
    "    \n",
    "* Son de la forma: $\\quad\\quad a_n x^n + a_{n-1} x^{n-1} + \\cdots + a_2 x^2 + a_1 x +a_0, \\quad\\forall x \\in \\mathbb R$,\n",
    "    \n",
    "* donde $a_n$ son los coeficientes del polinomio.\n",
    "    \n",
    "* Se asume que $a_n \\neq 0$, la potencia más alta de $x$ con coeficiente diferente cero es el \"grado\" de $f$.\n",
    "</div></blockquote>"
   ]
  },
  {
   "cell_type": "markdown",
   "metadata": {
    "slideshow": {
     "slide_type": "fragment"
    }
   },
   "source": [
    "*    ***Funciones racionales.***\n",
    "\n",
    "<blockquote><div style=\"background-color:#DCDCDC; color:#000000; font-style: normal; font-family: Georgia;\">\n",
    "    \n",
    "* Son de la forma: $\\quad\\frac{P(x)}{Q(x)}$,\n",
    "    \n",
    "* donde $P(x)$ y $Q(x)$ son funciones polinómicas.\n",
    "    \n",
    "* Es obvio que $Q(x) \\neq 0$.\n",
    "</div></blockquote>"
   ]
  },
  {
   "cell_type": "markdown",
   "metadata": {
    "slideshow": {
     "slide_type": "fragment"
    }
   },
   "source": [
    "*    ***Funciones radicales.***\n",
    "\n",
    "<blockquote><div style=\"background-color:#DCDCDC; color:#000000; font-style: normal; font-family: Georgia;\">\n",
    "    \n",
    "* Son de la forma: $\\quad\\sqrt[n]{x}$,\n",
    "    \n",
    "* donde $n$ es el radical.\n",
    "\n",
    "* Si $n$ es par, la función solo esta definida para $\\mathbb R^+$ (reales positivos).   \n",
    "</div></blockquote>"
   ]
  },
  {
   "cell_type": "markdown",
   "metadata": {
    "slideshow": {
     "slide_type": "subslide"
    }
   },
   "source": [
    "##### <font color='blue'>**Funciones trascendentes**</font>"
   ]
  },
  {
   "cell_type": "markdown",
   "metadata": {
    "slideshow": {
     "slide_type": "fragment"
    }
   },
   "source": [
    "*    ***Funciones trigonométricas***\n",
    "> $sin(x)$, $cos(x)$, $tan(x)$, $sec(x)$, $csc(x)$, $cot(x)$, ..."
   ]
  },
  {
   "cell_type": "code",
   "execution_count": 6,
   "metadata": {
    "slideshow": {
     "slide_type": "notes"
    }
   },
   "outputs": [],
   "source": [
    "def fun_tri(alpha):\n",
    "    theta = np.arange(0, alpha, 0.01*np.pi)\n",
    "    r=1\n",
    "    figure, axes = plt.subplots()\n",
    "    plt.grid() #  colocar una rejilla que nos ayude a identificar mejor las áreas del gráfico\n",
    "    plt.minorticks_on()  # Pedimos que se vean subrrayas de división en los ejes\n",
    "    plt.axis() # matplotlib dibuja los ejes de forma que se ajusten al gráfico pero quizá eso no es lo que nos interese en algunos momentos\n",
    "    plt.ylim(-1.5,1.5)\n",
    "    plt.xlim(-1.5,13)\n",
    "\n",
    "    plt.xticks([-1, -0.5, 0, 0.5, 1, (1/2)*np.pi, (3/4)*np.pi, (1)*np.pi, (5/4)*np.pi, (6/4)*np.pi, (7/4)*np.pi, 2*np.pi,\n",
    "               (9/4)*np.pi, (10/4)*np.pi, (11/4)*np.pi, 3*np.pi, (13/4)*np.pi, (14/4)*np.pi, (15/4)*np.pi, 4*np.pi])\n",
    "\n",
    "    plt.axvline() # dibujan líneas verticales y horizontales en la x o en la y \n",
    "    plt.axhline()\n",
    "\n",
    "    plt.axvline([np.cos(alpha)], color = 'green', linestyle=\"--\")\n",
    "    plt.axhline([np.sin(alpha)], color = 'orange', linestyle=\"--\")\n",
    "    plt.axhline([np.cos(alpha)], color = 'green', linestyle=\"--\")\n",
    "    plt.xlabel('Valores de alpha (en radianes)')  # Ponemos etiqueta al eje x\n",
    "\n",
    "    axes.plot(r*np.cos(theta), r*np.sin(theta))\n",
    "    axes.plot(theta,r*np.sin(theta), label=\"y=sin(x)\")\n",
    "    axes.plot(theta,r*np.cos(theta), label=\"y=cos(x)\")\n",
    "\n",
    "    axes.arrow(0, 0, 0.95*np.cos(alpha), 0.95*np.sin(alpha), head_width=0.05, head_length=0.05, fc='k', ec='k')\n",
    "    axes.arrow(0, 0, 0.95*np.cos(alpha), 0, head_width=0.05, head_length=0.05, fc='k', ec='k')\n",
    "    axes.arrow(0, 0, 0, 0.95*np.sin(alpha), head_width=0.05, head_length=0.05, fc='k', ec='k')\n",
    "    axes.set_aspect(1)\n",
    "    figure.legend(loc='center')\n",
    "    figure.tight_layout()\n",
    "    figure.set_size_inches(17, 5)\n",
    "    plt.title('Funciones trigonométricas') # titulo de la grafica\n",
    "    plt.show()"
   ]
  },
  {
   "cell_type": "code",
   "execution_count": 7,
   "metadata": {
    "scrolled": true,
    "slideshow": {
     "slide_type": "fragment"
    }
   },
   "outputs": [
    {
     "data": {
      "application/vnd.jupyter.widget-view+json": {
       "model_id": "c8ec3b2145334828a0b5e54c046c9f8c",
       "version_major": 2,
       "version_minor": 0
      },
      "text/plain": [
       "interactive(children=(FloatSlider(value=6.2517693806436885, description='alpha', max=12.566370614359172, step=…"
      ]
     },
     "metadata": {},
     "output_type": "display_data"
    },
    {
     "data": {
      "text/plain": [
       "<function __main__.fun_tri(alpha)>"
      ]
     },
     "execution_count": 7,
     "metadata": {},
     "output_type": "execute_result"
    }
   ],
   "source": [
    "interact(fun_tri, alpha=(0, 4*np.pi, 0.01*np.pi))"
   ]
  },
  {
   "cell_type": "markdown",
   "metadata": {
    "slideshow": {
     "slide_type": "subslide"
    }
   },
   "source": [
    "> <font color='green'>***Funciones pares e impares***</font>\n",
    "\n",
    "*    Una función es ***par*** si $f(x) = f(-x)$\n",
    "\n",
    "\n",
    "*    Una función es ***impar*** si $f(x) = -f(-x)$ "
   ]
  },
  {
   "cell_type": "markdown",
   "metadata": {
    "slideshow": {
     "slide_type": "fragment"
    }
   },
   "source": [
    "> <font color='green'>***Funciones periodicas***</font>\n",
    "\n",
    "*    En matemática, una función es ***periodica*** si $f(x) = f(x + T)$,\n",
    "    *    el número $T$ se llama ***periodo*** de la función. Generalmente, se llama periodo fundamental al menor número real positivo $T$ que satisface la condición.\n",
    "\n",
    "\n",
    "*    De la misma manera, pero en un contexto físico, las ondas periódicas son aquellas ondas que muestran periodicidad respecto del tiempo, es decir, describen ciclos repetitivos. En una onda periódica se cumple:\n",
    "$$ x(t)=x(t+T_{p})=x(t+nT_{p}) \\nonumber $$\n",
    "    *    donde el periodo propio fundamental $T_{p}={\\frac {1}{F}}$, \n",
    "    *    $F$ es la frecuencia de la componente fundamental de la onda periódica \n",
    "    *    y $n$ un número entero."
   ]
  },
  {
   "cell_type": "markdown",
   "metadata": {
    "slideshow": {
     "slide_type": "subslide"
    }
   },
   "source": [
    "> <font color='green'>***Aplicaiones***</font>\n",
    "\n",
    "La forma más simple de onda periódica es la ***onda armónica*** ($sinusoidal$):\n",
    "\n",
    "$$ x(t) = A \\sin (\\Omega t + \\theta) \\nonumber $$\n",
    "\n",
    "* $A$ es la ***amplitud*** de la $sinusoide$,\n",
    "* $\\Omega$ es la ***frecuencia*** ($rad/s$),\n",
    "* $\\theta$ es la ***fase*** ($rad$). En lugar de $\\Omega$, a menudo se utiliza la frecuencia $F$ (ciclos por segundo o hercios ($Hz$)), donde $\\Omega = 2 \\pi F$.\n"
   ]
  },
  {
   "cell_type": "markdown",
   "metadata": {
    "slideshow": {
     "slide_type": "fragment"
    }
   },
   "source": [
    "***Joseph Fourier*** demostró que las ondas periódicas con formas complicadas pueden considerarse como suma de ondas armónicas. Si $x(t)$ y su derivada son continuas, dicha función puede representarse mediante una suma del tipo:\n",
    "\n",
    "$$ x(t) = \\sum _{k=1}^{\\infty }A_{k}\\sin(k\\Omega t+\\theta _{k}) \\qquad\\color{blue}{\\text{serie de Fourier*}} \\nonumber $$\n",
    "\n",
    "*    El proceso para determinar los coeficientes $A_k$ y fases $\\theta_k$, para una forma de onda determinaa se llama *análisis de Fourier*."
   ]
  },
  {
   "cell_type": "markdown",
   "metadata": {
    "slideshow": {
     "slide_type": "fragment"
    }
   },
   "source": [
    "*    Es importante notar que para las señales de ancho de banda limitado (Telecomunicaciones), la suma de armónicos es también finita:\n",
    "\n",
    "$$ x(t) = \\sum _{k=1}^{n}A_{k}\\sin(k\\Omega t+\\theta _{k}) \\nonumber $$\n"
   ]
  },
  {
   "cell_type": "code",
   "execution_count": 8,
   "metadata": {
    "slideshow": {
     "slide_type": "notes"
    }
   },
   "outputs": [],
   "source": [
    "def Sn(n,ampl,frec,fase,t): # función senoidal\n",
    "    Sn = 0.0\n",
    "    for k in range(n):\n",
    "        Sn = (4*ampl/np.pi)*np.sin((2*k+1)*frec*t + fase)/(2*k+1) + Sn \n",
    "    return Sn\n",
    "t = np.linspace(-2*np.pi,2*np.pi,1000) # parametro (tiempo)\n",
    "\n",
    "def Señal(n,ampl,frec,fase):\n",
    "    plt.plot(t,Sn(n,ampl,frec,fase,t))\n",
    "    plt.grid()\n",
    "    plt.xlabel(r'$\\theta$',fontsize=15)\n",
    "    plt.ylabel(r'$S_n(\\theta)$',fontsize=15)\n",
    "    plt.title('$A_n = A /(2n+1)$')"
   ]
  },
  {
   "cell_type": "code",
   "execution_count": 9,
   "metadata": {
    "scrolled": false,
    "slideshow": {
     "slide_type": "fragment"
    }
   },
   "outputs": [
    {
     "data": {
      "application/vnd.jupyter.widget-view+json": {
       "model_id": "260120e3e27f44b79d9f59c30c8aa491",
       "version_major": 2,
       "version_minor": 0
      },
      "text/plain": [
       "interactive(children=(IntSlider(value=25, description='n', max=50, min=1), FloatSlider(value=0.0, description=…"
      ]
     },
     "metadata": {},
     "output_type": "display_data"
    },
    {
     "data": {
      "text/plain": [
       "<function __main__.Señal(n, ampl, frec, fase)>"
      ]
     },
     "execution_count": 9,
     "metadata": {},
     "output_type": "execute_result"
    }
   ],
   "source": [
    "interact(Señal, n=(1, 50, 1), ampl=(0,1,0.2), frec=(0,1,0.2), fase=(0,2*np.pi, np.pi/8))"
   ]
  },
  {
   "cell_type": "markdown",
   "metadata": {
    "slideshow": {
     "slide_type": "subslide"
    }
   },
   "source": [
    "*    ***Funciones exponenciales y logarítmicas***\n",
    "\n",
    "> Una ***función exponencial*** es de la forma $f(x)=ab^{x}$\n",
    "\n",
    "> Las funciones exponenciales se caracterizan únicamente por el hecho de que la ***tasa de crecimiento*** (***derivada***) de dicha función es directamente proporcional al valor de la función. La constante de proporcionalidad de esta relación es el **logaritmo natural** de la base $b$. La constante $e = 2.71828...$ es la única base para la cual la constante de proporcionalidad es $1$.\n",
    "\n",
    "> Es computacionalmente conveniente reducir el estudio de las funciones exponenciales en el análisis matemático al estudio de esta función particular, llamada convencionalmente la ***función exponencial natural***, o simplemente, la ***función exponencial*** y denotada por $f(x) = e^{x}$ o bien $f(x) = \\exp(x)$.\n",
    "\n",
    ">  ***Fórmula de Euler***, la cual especifica que:\n",
    "\n",
    "$$ e^{ix}=\\cos x+i\\operatorname {sen} x \\nonumber $$"
   ]
  },
  {
   "cell_type": "markdown",
   "metadata": {
    "slideshow": {
     "slide_type": "subslide"
    }
   },
   "source": [
    "*    *Propiedades*\n",
    "\n",
    "> <font color='green'>***Función extrictamente creciente***</font>\n",
    "\n",
    "*    Una función $f$ es ***monótona*** $si$ $y$ $solo$ $si$ $x\\leq y$ $implica$ $f(x)\\leq f(y)$ (es decir, la función es ***creciente***),\n",
    "\n",
    "$\\quad$ o bien $x\\leq y$ $implica$ $f(x)\\geq f(y)$ (es decir, la función es ***decreciente***).\n",
    "\n",
    "> <font color='green'>***Función biyectiva***</font>\n",
    "\n",
    "*    Una función es ***biyectiva*** si es al mismo tiempo *inyectiva* y *sobreyectiva*:\n",
    "\n",
    "Sea\n",
    "\\begin{array}{llcl}\n",
    " f:&X &\\longrightarrow &Y \\nonumber \\\\\n",
    "   &x &\\longmapsto &y=f(x) \\nonumber\n",
    "\\end{array}\n",
    "\n",
    "*    La función $f$ es ***inyectiva*** si: $\\forall \\,a,b\\in X$, si $f(a)=f(b)\\Longrightarrow a=b$,\n",
    "\n",
    "$\\quad$ o de forma equivalente: $\\forall \\,a,b\\in X$, si $a\\neq b\\Longrightarrow f(a)\\neq f(b)$\n",
    "\n",
    "\n",
    "*    La función $f$ es ***sobreyectiva*** si: $\\forall y\\in Y \\;\\exists x\\in X:\\quad f(x)=y$\n",
    "\n",
    "\n",
    "*    En resumen la función es ***biyectiva*** si: $\\forall y\\in Y \\;\\exists !\\ x\\in X\\; :\\quad f(x)=y$"
   ]
  },
  {
   "cell_type": "markdown",
   "metadata": {
    "slideshow": {
     "slide_type": "subslide"
    }
   },
   "source": [
    "> La ***función logaritmo*** es la función inversa de la exponencial.\n",
    "\n",
    "*    Es decir, el *logaritmo* de un número real positivo $n$, en una determinada base $b$, es el exponente $x$ de $b$ para obtener $n$:\n",
    "\n",
    "$$\\log _{b}n=x\\quad \\Leftrightarrow \\ \\quad b^{x}=n \\nonumber $$\n",
    "\n",
    "*    Los logaritmos fueron introducidos por ***John Napier*** a principios del siglo XVII como un medio de simplificación de los cálculos. La propiedad mas importante (*identidades logarítmicas*): el logaritmo de un producto es la suma de los logaritmos de los factores,\n",
    "\n",
    "$$ \\log _{b}(xy)=\\log _{b}(x)+\\log _{b}(y) \\nonumber $$\n",
    "\n",
    "*    La función ***logaritmo natural*** se escribe como: $\\log _{e}(x) = ln(x)$"
   ]
  },
  {
   "cell_type": "markdown",
   "metadata": {
    "slideshow": {
     "slide_type": "subslide"
    }
   },
   "source": [
    "##### <font color='blue'>**Funciones no elementales**</font>"
   ]
  },
  {
   "cell_type": "markdown",
   "metadata": {
    "slideshow": {
     "slide_type": "fragment"
    }
   },
   "source": [
    "*    ***Funciones definidas a trozos***\n",
    "\n",
    "\n",
    "Una *función definida a trozos* es una función cuya definición, llamada regla de correspondencia, cambia dependiendo del valor de la variable independiente.\n",
    "\n",
    "**Ejemplos:**\n",
    "\n",
    "*    ***valor absoluto o módulo***\n",
    "\n",
    "Para cualquier número real, el valor absoluto de $x$ se denota por $|x|$ y se define como:\n",
    "\n",
    "$$|x|=\\left\\{{\\begin{array}{rcl}x,&{\\mbox{si}}&x\\geq 0\\\\-x,&{\\mbox{si}}&x<0\\end{array}}\\right. \\nonumber $$\n",
    "\n",
    "*    ***Parte entera***: se aplica a un número real $x$ y devuelve un número entero:\n",
    "    *   Parte entera superior: $y=\\lceil x\\rceil :\\quad y={\\big \\{}y:\\quad y\\in \\mathbb {Z} \\quad \\land \\quad x\\in \\mathbb {R} \\quad \\land \\quad y-1<x\\leq y{\\big \\}}$\n",
    "    *   Parte entera inferior: $y=\\lfloor x\\rfloor :\\quad y={\\big \\{}y:\\quad y\\in \\mathbb {Z} \\quad \\land \\quad x\\in \\mathbb {R} \\quad \\land \\quad y\\leq x<y+1{\\big \\}}$"
   ]
  },
  {
   "cell_type": "markdown",
   "metadata": {
    "slideshow": {
     "slide_type": "fragment"
    }
   },
   "source": [
    "*    ***Funciones de probabilidad***\n",
    "\n",
    "Por ejemplo la *función de densidad de la distribución normal* (con media 0 y desviación típica 1) viene\n",
    "dada por la función\n",
    "\n",
    "$$ f(t) = \\frac{1}{\\sqrt{2\\pi}}e^{−t^2 / 2} \\nonumber $$\n",
    "\n",
    "Esto significa que la probabilidad de que una variable aleatoria con dicha distribución tome su valor en un intervalo $[a, b]$ viene dada por la integral\n",
    "\n",
    "$$  \\frac{1}{\\sqrt{2\\pi}}\\int_{a}^{b} e^{−t^2 / 2}dt \\nonumber $$\n",
    "\n",
    "Sin embargo, la función $e^{−t^2 / 2}$ “no se puede integrar”, obviamente, no en el sentido de que no exista la integral\n",
    "(todas las funciones continuas tienen integral), sino en el sentido de que no existe ninguna fórmula “elemental”, es decir, en términos de polinomios, raíces, senos, cosenos, exponenciales, logaritmos, etc., que determine una función $F(t)$ tal que $F'= f$."
   ]
  },
  {
   "cell_type": "markdown",
   "metadata": {
    "slideshow": {
     "slide_type": "subslide"
    }
   },
   "source": [
    "### <font color='green'>**Límites**</font>"
   ]
  },
  {
   "cell_type": "markdown",
   "metadata": {
    "slideshow": {
     "slide_type": "fragment"
    }
   },
   "source": [
    "#### <font color='orange'>**Definición de límiite**</font>\n",
    "\n",
    "> La función $f$ ***tiende hacia el límite $l$ en $a$*** significa$^{[2]}$:\n",
    "\n",
    "$$ \\forall \\,\\epsilon > 0, \\quad\\exists \\,\\delta > 0 \\, : \\quad\\forall \\,x, \\text{ si } 0 < |x-a| < \\delta \\,\\,\\Rightarrow \\,\\, |f(x)-l| < \\epsilon \\nonumber $$ "
   ]
  },
  {
   "cell_type": "markdown",
   "metadata": {
    "slideshow": {
     "slide_type": "fragment"
    }
   },
   "source": [
    "<blockquote><div style=\"background-color:#DCDCDC; color:#000000; font-style: normal; font-family: Georgia;\">\n",
    "\n",
    "Supongamos que $f(x)$ está definida cuando $x$ está cerca del número $a$. (Esto significa que $f$ está definida en algún intervalo abierto que contiene a $a$, excepto posiblemente en $a$ misma.) Entonces escribimos\n",
    "\n",
    "$$ \\lim_{x \\to a}f(x) = L \\nonumber $$\n",
    "\n",
    "y decimos que \" el límite de $f(x)$, cuando $x$ tiende a $a$, es igual a $L$\"\n",
    "\n",
    "si podemos hacer que los valores de $f(x)$ estén arbitrariamente cercanos a $L$ (tan cercanos a $L$ como queramos), tomando valores de $x$ suficientemente cerca de $a$ (por ambos lados de $a$), pero no iguales a $a$.$^{[1]}$\n",
    "</div></blockquote>"
   ]
  },
  {
   "cell_type": "markdown",
   "metadata": {
    "scrolled": true,
    "slideshow": {
     "slide_type": "subslide"
    }
   },
   "source": [
    "<img src=\"límite.gif\" width=\"1300\" align=\"center\"> "
   ]
  },
  {
   "cell_type": "markdown",
   "metadata": {
    "slideshow": {
     "slide_type": "subslide"
    }
   },
   "source": [
    "<blockquote><div style=\"background-color:#DCDCDC; color:#000000; font-style: normal; font-family: Georgia;\">\n",
    "\n",
    "Cuando escribimos\n",
    "\n",
    "$$ \\lim_{x \\to a^-}f(x) = L \\nonumber $$\n",
    "\n",
    "estamos diciendo que el **límite izquierdo de $f(x)$ cuado $x$ se aproxima a $a$ (o el límite de $f(x)$ cuando $x$ tiene a $a$ por la izquierda)** es igual a $L$ si podemos hacer que los valores de $f(x)$ se acerquen arbitrariamente a $L$, tanto como queramos, tomando $x$ suficientemente cercano a $a$, pero menores que $a$.$^{[1]}$\n",
    "</div></blockquote>"
   ]
  },
  {
   "cell_type": "markdown",
   "metadata": {
    "slideshow": {
     "slide_type": "fragment"
    }
   },
   "source": [
    "Por último, se dice que *el límite de una función $f$ en un punto $x=a$ existe,* si sus límites laterales son iguales, es decir:\n",
    "    \n",
    "$$ \\lim_{x \\to a^-}f(x) =\\lim_{x \\to a^+}f(x) \\nonumber $$"
   ]
  },
  {
   "cell_type": "markdown",
   "metadata": {
    "slideshow": {
     "slide_type": "subslide"
    }
   },
   "source": [
    "#### <font color='orange'>**Teoremas de Límites**</font>"
   ]
  },
  {
   "cell_type": "markdown",
   "metadata": {
    "slideshow": {
     "slide_type": "fragment"
    }
   },
   "source": [
    "> **Teorema L-1:** Límite de una función constante.\n",
    "$$\n",
    "\\begin{array}{l}\n",
    "\\text{Sea } f(x) = k \\text{ (constante), entonces:} \\\\ \\nonumber\n",
    "\\color{blue}{\\lim_{x \\to a}f(x) = \\lim_{x \\to a}k = k} \\nonumber\n",
    "\\end{array}\n",
    "$$\n",
    "\n",
    "*Ejemplo:* Sea f(x)= 3, calcular el límite cuando $x \\rightarrow 2$.\n",
    "\n",
    "$$ \\lim_{x \\to 2}f(x) = \\lim_{x \\to 2}3 = 3 \\nonumber $$"
   ]
  },
  {
   "cell_type": "markdown",
   "metadata": {
    "slideshow": {
     "slide_type": "subslide"
    }
   },
   "source": [
    "> **Teorema L-2:** Límite de $f(x)=x$.\n",
    "$$\n",
    "\\begin{array}{l}\n",
    "\\text{Sea } f(x) = x, \\text{ entonces:}\\\\ \\nonumber\n",
    "\\color{blue}{\\lim_{x \\to a}f(x) = \\lim_{x \\to a}x = a} \\nonumber\n",
    "\\end{array}$$\n",
    "\n",
    "*Ejemplo:* Sea f(x)= x, calcular el límite cuando $x \\rightarrow 3$.\n",
    "\n",
    "$$ \\lim_{x \\to 3}f(x) = \\lim_{x \\to 3}x = 3 \\nonumber $$"
   ]
  },
  {
   "cell_type": "markdown",
   "metadata": {
    "slideshow": {
     "slide_type": "subslide"
    }
   },
   "source": [
    "> **Teorema L-3:** Límite de una función multiplicada por una constante.\n",
    "$$\n",
    "\\begin{array}{l}\n",
    "\\text{Sea } k \\text{ una constante y } f(x) \\text{ una función dada talque su límite cuando } x \\rightarrow a \\text{ es igual a } L, \\text{ entonces:}\\\\ \\nonumber\n",
    "\\color{blue}{\\lim_{x \\to a}kf(x) = k\\lim_{x \\to a}f(x) = k L} \\nonumber\n",
    "\\end{array}\n",
    "$$\n",
    "\n",
    "*Ejemplo:* Sea $k=2$ y $f(x)$ una función dada, tal que su límite cuando $x \\rightarrow 5$ es igual a 9. Entonces:\n",
    "\n",
    "$$ \\lim_{x \\to 5}2f(x) = 2\\lim_{x \\to 5}f(x) = 2(9) = 18 \\nonumber $$"
   ]
  },
  {
   "cell_type": "markdown",
   "metadata": {
    "slideshow": {
     "slide_type": "subslide"
    }
   },
   "source": [
    "> **Teorema L-4:** Límite de una suma, producto y cociente de funciones.\n",
    "$$\n",
    "\\begin{array}{l}\n",
    "\\text{Supóngamos que} \\\\ \\nonumber\n",
    "\\lim_{x \\to a}F(x) = L_1 \\qquad\\text{ y }\\qquad\\lim_{x \\to a}G(x) = L_2 \\\\ \\nonumber\n",
    "\\text{Entonces:} \\\\ \\nonumber\n",
    "\\color{blue}{\\lim_{x \\to a}[F(x)+G(x)] = \\lim_{x \\to a}F(x) + \\lim_{x \\to a}G(x) = L_1 + L_2}. \\\\ \\nonumber\n",
    "\\color{blue}{\\lim_{x \\to a}[F(x)G(x)] = \\left(\\lim_{x \\to a}F(x)\\right) \\left(\\lim_{x \\to a}G(x)\\right) = L_1 L_2}. \\\\ \\nonumber\n",
    "\\color{blue}{\\lim_{x \\to a}\\left[\\frac{F(x)}{G(x)}\\right] = \\frac{\\lim_{x \\to a}F(x)}{\\lim_{x \\to a}G(x)} = \\frac{L_1}{L_2}}. \\nonumber\n",
    "\\end{array}\n",
    "$$\n",
    "\n",
    "**Nota:** En el caso del cociente es necesario que $L_2 \\neq 0$."
   ]
  },
  {
   "cell_type": "markdown",
   "metadata": {
    "slideshow": {
     "slide_type": "subslide"
    }
   },
   "source": [
    "*Ejemplo:* Sean $F(x)$ y $G(x)$ funciones dadas, tales que su límite cuando $x \\rightarrow 3$ es igual a $11$ y $13$ respectivamenete. Calcular el límite cuando $x \\rightarrow 3$ de la suma, producto y cociente de $F(x)$ con $G(x)$.\n",
    "\n",
    "$$ \\lim_{x \\to 3}[F(x)+G(x)] = \\lim_{x \\to 3}F(x) + \\lim_{x \\to 3}G(x) = 11+13 = 24 \\nonumber $$\n",
    "\n",
    "$$ \\lim_{x \\to 3}[F(x)G(x)] = \\left(\\lim_{x \\to 3}F(x)\\right) \\left(\\lim_{x \\to 3}G(x)\\right) = (11)(13) = 146 \\nonumber $$\n",
    "\n",
    "$$ \\lim_{x \\to 3}\\left[\\frac{F(x)}{G(x)}\\right] = \\frac{\\lim_{x \\to 3}F(x)}{\\lim_{x \\to 3}G(x)} = \\frac{11}{13} \\nonumber $$"
   ]
  },
  {
   "cell_type": "markdown",
   "metadata": {
    "slideshow": {
     "slide_type": "subslide"
    }
   },
   "source": [
    "> **Teorema L-5:** Límite de una funció compuesta.\n",
    "$$\n",
    "\\begin{array}{l}\n",
    "\\text{Si } F \\text{ y } G \\text{ son funciones tales que} \\\\ \\nonumber\n",
    "\\lim_{x \\to a}G(x) = L_1 \\qquad\\lim_{x \\to L_1}F(x) = L_2 \\\\ \\nonumber\n",
    "\\text{Entonces:} \\\\ \\nonumber\n",
    "\\color{blue}{\\lim_{x \\to L_1}F[G(x)] = F\\left(\\lim_{x \\to a}G(x)\\right) = F(L_1) = L_2} \\nonumber\n",
    "\\end{array}\n",
    "$$"
   ]
  },
  {
   "cell_type": "markdown",
   "metadata": {
    "slideshow": {
     "slide_type": "subslide"
    }
   },
   "source": [
    "*Ejemplo:* Sean $F(x)$ y $G(x)$ funciones dadas, tales que\n",
    "\n",
    "$$ \\lim_{x \\to 1}G(x) = 7 \\qquad\\lim_{x \\to 7}F(x) = 3 \\nonumber $$\n",
    "\n",
    "Entonces:\n",
    "\n",
    "$$ \\lim_{x \\to 7}F[G(x)] = F(\\lim_{x \\to 1}G(x)) = F(7)=3 \\nonumber $$"
   ]
  },
  {
   "cell_type": "markdown",
   "metadata": {
    "slideshow": {
     "slide_type": "subslide"
    }
   },
   "source": [
    "* ***Ahora veamos un ejemplo donde apliquemos los teoremas anteriores en conjunto***\n",
    " \n",
    "*Ejemplo:* Calcular el siguiente límite\n",
    "    \n",
    "$$ \\lim_{x \\to 1}\\frac{sen(x^2 - 3x + 1)}{\\sqrt{3x - 1}}  \\nonumber $$\n",
    "\n",
    "**Solución:** Aplicaremos los teoremas anteriores, para esto suponemos que los limites existen. Despues de cada igual estare ocupando los teoremas.\n",
    "    \n",
    "\\begin{align}\n",
    " & \\lim_{x \\to 1}\\frac{sen(x^2 - 3x + 1)}{\\sqrt{3x - 1}} &\\nonumber \\\\\n",
    " &= \\frac{\\lim_{x \\to 1}sen(x^2 - 3x + 1)}{\\lim_{x \\to 1}\\sqrt{3x - 1}} = \\frac{sen\\left(\\lim_{x \\to 1}(x^2 - 3x + 1)\\right)}{\\sqrt{\\lim_{x \\to 1}(3x - 1)}} \\nonumber \\\\\n",
    " &= \\frac{sen\\left(\\lim_{x \\to 1}x^2 - \\lim_{x \\to 1}3x + \\lim_{x \\to 1}1\\right)}{\\sqrt{\\lim_{x \\to 1}3x - \\lim_{x \\to 1}1}} = \\frac{sen\\left(\\left(\\lim_{x \\to 1}x\\right)^2 - 3\\left(\\lim_{x \\to 1}x\\right) + 1\\right)}{\\sqrt{3\\left(\\lim_{x \\to 1}x\\right) - 1}} \\nonumber \\\\\n",
    " & = \\frac{sen\\left(\\left(1\\right)^2 - 3\\left(1\\right) + 1\\right)}{\\sqrt{3\\left(1\\right) - 1}} = \\frac{sen(-1)}{\\sqrt{2}} \\nonumber \n",
    "\\end{align}\n"
   ]
  },
  {
   "cell_type": "markdown",
   "metadata": {
    "slideshow": {
     "slide_type": "subslide"
    }
   },
   "source": [
    "#### <font color='Orange'>**Operaciones con límites**</font>"
   ]
  },
  {
   "cell_type": "markdown",
   "metadata": {
    "slideshow": {
     "slide_type": "fragment"
    }
   },
   "source": [
    "*    ***Sustitucion directa***\n",
    "\n",
    "En este caso solo se aplica la sustitucion que indica el limite y se evalua la función\n",
    "\n",
    "*Ejemplo:* Calcular $\\lim_{x \\to 1}\\frac{\\sqrt{x}}{x+1}$\n",
    "\n",
    "*Solución:* En este caso como el metodo lo indica se hace la sustitucion $x=1$ y se evalua\n",
    "\n",
    "$$ \\lim_{x \\to 1}\\frac{\\sqrt{x}}{x+1} = \\frac{\\sqrt{1}}{1+1} =\\frac{1}{2} \\nonumber $$\n"
   ]
  },
  {
   "cell_type": "markdown",
   "metadata": {
    "slideshow": {
     "slide_type": "subslide"
    }
   },
   "source": [
    "*    ***Cambio de variable (Indeterminacion $\\frac{0}{0}$)***\n",
    "\n",
    "Las expresiones irracionales se reducen, en muchos casos a una forma racional introduciendo una nueva variable. Veamos esto con un par de ejemplos.\n",
    "\n",
    "*Ejemplo 1:*\n",
    "Calcular el $\\lim_{x \\to 1}\\frac{\\sqrt{x}-1}{x-1}$, utilizando un cambio de variable.\n",
    "\n",
    "*Solución:* El propósito de un cambio de variable es el tratar de evitar los radicales así que buscaremos una variable con un exponente que sea divisible entre 2 para eliminar la raíz cuadrada. De esta manera proponemos hacer el cambio de $x = y^2$. Entonces, como $x \\rightarrow 1$, se tiene que $y^2 \\rightarrow 1$ y por lo tanto $y \\rightarrow 1$. Para hacer el cambio de variable reemplazamos todas las $x$ de la función por $y^2$ y en lugar de $x \\rightarrow 1$, escribimos $y \\rightarrow 1$.\n",
    "\n",
    "\\begin{align}\n",
    "\\lim_{x \\to 1}\\frac{\\sqrt{x}-1}{x-1} &= \\lim_{y \\to 1}\\frac{\\sqrt{y^2}-1}{y^2-1} = \\lim_{y \\to 1}\\frac{(y-1)1}{(y-1)(y+1)} \\nonumber \\\\\n",
    "&= \\lim_{y \\to 1}\\frac{1}{y+1} = \\frac{1}{1+1} = \\frac{1}{2} \\nonumber\n",
    "\\end{align}\n",
    "\n",
    "**Nota:** En este caso $\\sqrt{y^2}=y$ porque se $y$ toma valores alrededor de 1."
   ]
  },
  {
   "cell_type": "markdown",
   "metadata": {
    "slideshow": {
     "slide_type": "subslide"
    }
   },
   "source": [
    "*Ejemplo 2:*\n",
    "Calcular el $\\lim_{x \\to 1}\\frac{\\sqrt[3]{x}-1}{\\sqrt{x}-1}$, utilizando un cambio de variable.\n",
    "\n",
    "*Solución:* En este caso buscamos el exponente menor que sea divisible entre 3 y 2. Así que tomaremos $x = y^6$. Entonces, como $x \\rightarrow 1$, se tiene que $y^6 \\rightarrow 1$ y por lo tanto $y \\rightarrow 1$. Para hacer el cambio de variable reemplazamos todas las $x$ de la función por $y^6$ y en lugar de $x \\rightarrow 1$, escribimos $y \\rightarrow 1$.\n",
    "\n",
    "\\begin{align}\n",
    "\\lim_{x \\to 1}\\frac{\\sqrt[3]{x}-1}{\\sqrt{x}-1} &= \\lim_{y \\to 1}\\frac{\\sqrt[3]{y^6}-1}{\\sqrt{y^6}-1} = \\lim_{y \\to 1}\\frac{y^2-1}{y^3-1} = \\lim_{y \\to 1}\\frac{(y-1)(y+1)}{(y-1)(y^2 +y+1)} \\nonumber\\\\\n",
    "&= \\lim_{y \\to 1}\\frac{y+1}{y^2 +y+1} = \\frac{1+1}{1^2 +1+1} = \\frac{2}{3} \\nonumber\n",
    "\\end{align}\n",
    "\n",
    "**Nota:** Como puden ver una ves que se sustituye $y=1$ ya no se escribe la notación de límite."
   ]
  },
  {
   "cell_type": "markdown",
   "metadata": {
    "slideshow": {
     "slide_type": "subslide"
    }
   },
   "source": [
    "*    ***Cociente de polinomios (Indeterminacion $\\frac{0}{0}$ o $\\frac{c}{0}$)***\n",
    "\n",
    "**Regla 1:** para eliminar la indeterminación $\\frac{0}{0}$ en un cociente de polinomios, se factorizan numerador y/o denominador y se eliminan los factores comunes en el límite de la función.\n",
    "\n",
    "*Ejemplos:*\n",
    "\n",
    "$$\n",
    "\\lim_{x \\to 3}\\frac{x-3}{x^2-9} = \\lim_{x \\to 3}\\frac{x-3}{(x-3)(x+3)} = \\lim_{x \\to 3}\\frac{1}{x+3}= \\frac{1}{3+3} = \\frac{1}{6} \\nonumber $$\n",
    "\n",
    "\n",
    "$$ \\lim_{x \\to 2}\\frac{x^2-4x+4}{x^2-4} = \\lim_{x \\to 2}\\frac{(x-2)^2}{(x-2)(x+2)} = \\lim_{x \\to 2}\\frac{x-2}{x+2} = \\frac{0}{4} = 0 \\nonumber $$"
   ]
  },
  {
   "cell_type": "markdown",
   "metadata": {
    "slideshow": {
     "slide_type": "subslide"
    }
   },
   "source": [
    "*    ***Fracción con radicales (Indeterminacion $\\frac{0}{0}$ o $\\frac{c}{0}$)***\n",
    "\n",
    "**Regla 2.** Para eliminar la indeterminación $\\frac{0}{0}$ en una función en la que el numerador o el denominador contienen radicales, se racionaliza la parte irracional en el límite de la función y se simplifica el resultado. Una manera de racionalizar es, multiplicar por el conjugado del término irracional.\n",
    "\n",
    "*Ejemplo:*\n",
    "\n",
    "\\begin{align}\n",
    "\\lim_{x \\to 1}\\frac{x-1}{\\sqrt{x}-1} &= \\lim_{x \\to 1}\\left(\\frac{x-1}{\\sqrt{x}-1}\\right)\\left(\\frac{\\sqrt{x}+1}{\\sqrt{x}+1}\\right) \\nonumber \\\\\n",
    "&= \\lim_{x \\to 1}\\frac{(x-1)(\\sqrt{x}+1)}{x-1} = \\lim_{x \\to 1}(\\sqrt{x}+1) =\\sqrt{1}+1 = 2 \\nonumber\n",
    "\\end{align}\n",
    "\n",
    "**Nota:** Se aplico el producto notable \"diferencia de cuadrados\": $a^2 - b^2 =(a-b)(a+b)$"
   ]
  },
  {
   "cell_type": "markdown",
   "metadata": {
    "slideshow": {
     "slide_type": "subslide"
    }
   },
   "source": [
    "##### <font color='blue'>**Límites al infinito y con infinito**</font>"
   ]
  },
  {
   "cell_type": "markdown",
   "metadata": {
    "slideshow": {
     "slide_type": "fragment"
    }
   },
   "source": [
    "*    ***Operaciones con $\\infty$***\n",
    "\n",
    "Sea $c$ un número real\n",
    "\n",
    "$$\n",
    "\\begin{array}{|ccccc,ccccc|}\n",
    "\\hline 1 & \\infty+\\infty=\\infty & c+\\infty=\\infty & c-\\infty=-\\infty  & \\infty^c=\\infty, (c\\neq0)\\\\\n",
    "2 & si \\quad\\quad c > 0: & c\\infty=\\infty & \\frac{\\infty}{c}=\\infty & c(-\\infty)=-\\infty& \\frac{-\\infty}{c}=-\\infty \\\\\n",
    "3 & si \\quad\\quad c < 0: & c\\infty=-\\infty & \\frac{\\infty}{c}=-\\infty & c(-\\infty)=\\infty& \\frac{-\\infty}{c}=\\infty \\\\\n",
    "4 & \\frac{c}{\\infty}=0  \\\\\n",
    "5 & \\infty-\\infty & \\frac{\\infty}{\\infty} & Indeterminaciones\\\\\n",
    "\\hline \\nonumber\n",
    "\\end{array}\n",
    "$$"
   ]
  },
  {
   "cell_type": "markdown",
   "metadata": {
    "slideshow": {
     "slide_type": "subslide"
    }
   },
   "source": [
    "*    ***Indeterminación: $\\frac{\\infty}{\\infty}$***\n",
    "\n",
    "**Regla 3.** Para eliminar la indeterminación $\\frac{\\infty}{\\infty}$ en el límite de una función algebraica racional, se divide entre la mayor potencia de la variable $x$ que esté en el numerador y/o denominador y se evalúa el resultado.\n",
    "\n",
    "*Ejemplos:*\n",
    "\n",
    "$$ \\lim_{x \\to \\infty}\\frac{x-3}{3x^2+1} = \\lim_{x \\to \\infty}\\frac{\\frac{x - 3}{x^2}}{\\frac{3x^2+1}{x^2}} = \\lim_{x \\to \\infty}\\frac{\\frac{1}{x} - \\frac{3}{x^2}}{3+\\frac{1}{x^2}} = \\frac{\\frac{1}{\\infty} - \\frac{3}{\\infty^2}}{3+\\frac{1}{\\infty^2}} = \\frac{0}{3} = 0 \\nonumber $$\n",
    "\n",
    "\n",
    "$$ \\lim_{x \\to \\infty}\\frac{3x^2+1}{x-3} = \\lim_{x \\to \\infty}\\frac{\\frac{3x^2+1}{x^2}}{\\frac{x - 3}{x^2}} = \\lim_{x \\to \\infty}\\frac{3+\\frac{1}{x^2}}{\\frac{1}{x} - \\frac{3}{x^2}} = \\frac{3+\\frac{1}{\\infty^2}}{\\frac{1}{\\infty} - \\frac{3}{\\infty^2}} = \\frac{3}{0} = \\infty \\nonumber $$\n",
    "\n",
    "\n",
    "$$\n",
    "\\lim_{x \\to \\infty}\\frac{\\sqrt{3x^2+1}}{x-3} = \\lim_{x \\to \\infty}\\frac{\\frac{\\sqrt{3x^2+1}}{x}}{\\frac{x - 3}{x}} = \\lim_{x \\to \\infty}\\frac{\\sqrt{\\frac{3x^2+1}{x^2}}}{\\frac{x - 3}{x}} = \\lim_{x \\to \\infty}\\frac{\\sqrt{\\left(3+\\frac{1}{x^2}\\right)}}{\\left(1 - \\frac{3}{x}\\right)}= \\frac{\\sqrt{3+\\frac{1}{\\infty^2}}}{1- \\frac{3}{\\infty}} = \\frac{\\sqrt{3}}{1} = \\sqrt{3} \\nonumber\n",
    "$$"
   ]
  },
  {
   "cell_type": "markdown",
   "metadata": {
    "slideshow": {
     "slide_type": "subslide"
    }
   },
   "source": [
    "*    ***Indeterminación: $\\infty-\\infty$***\n",
    "\n",
    "**Regla 4.** Para eliminar la indeterminación $\\infty-\\infty$. En el caso de polinomios tendrá el signo de la potencia mayor y en el caso de radicales se puede optar por racionalizar.\n",
    "\n",
    "*Ejemplos:*\n",
    "\n",
    "$$ \\lim_{x \\to -\\infty}(x^3-4x^5+3)=-4(-\\infty)^5=\\infty \\nonumber $$\n",
    "$$ \\lim_{x \\to \\infty}(2x^4-4x^2+1)=\\infty \\nonumber $$\n",
    "\\begin{align}\n",
    "\\lim_{x \\to \\infty}(\\sqrt{x+2}-\\sqrt{x})&= \\lim_{x \\to \\infty}\\left(\\sqrt{x+2}-\\sqrt{x}\\right)\\left(\\frac{\\sqrt{x+2}+\\sqrt{x}}{\\sqrt{x+2}+\\sqrt{x}}\\right) \\nonumber \\\\\n",
    "&= \\lim_{x \\to \\infty}\\frac{x+2-x}{\\sqrt{x+2}+\\sqrt{x}} = \\lim_{x \\to \\infty}\\frac{2}{\\sqrt{x+2}+\\sqrt{x}} \\nonumber \\\\\n",
    "&= \\frac{2}{\\sqrt{\\infty+2}+\\sqrt{\\infty}} =  \\frac{2}{\\infty} = 0 \\nonumber\n",
    "\\end{align}"
   ]
  },
  {
   "cell_type": "markdown",
   "metadata": {
    "slideshow": {
     "slide_type": "subslide"
    }
   },
   "source": [
    "### <font color='green'>**Continuidad**</font>"
   ]
  },
  {
   "cell_type": "markdown",
   "metadata": {
    "slideshow": {
     "slide_type": "fragment"
    }
   },
   "source": [
    "> **Definición.** Sea $f$ una función, se dice que ***$f$ es continua en $x=a$*** si:\n",
    "$$ \\lim_{x \\to a}f(x) = f(a). ^{[2]} \\nonumber  $$\n",
    "\n",
    "> **Definición.** Si $f$ es continua en $x$ para todo $x$ de $(a,b)$, entonces se dice que ***$f$ es continua en $(a,b)$***. La continuidad en un intervalo cerrado se define de modo algo diferente; una función $f$ se dice que es ***continua en*** $[a,b]$ si\n",
    "\\begin{align}\n",
    "\\begin{array}{l}\n",
    "(1) \\quad\\quad f \\text{ es continua en } x \\text{ para todo } x \\text{ de } (a,b) \\\\ \\nonumber \n",
    "(2) \\quad\\lim_{x \\to a^+}f(x) = f(a) \\quad\\text{ y } \\quad\\lim_{x \\to b^-}f(x) = f(b). ^{[2]} \\nonumber \n",
    "\\end{array}\n",
    "\\end{align}"
   ]
  },
  {
   "cell_type": "markdown",
   "metadata": {
    "slideshow": {
     "slide_type": "subslide"
    }
   },
   "source": [
    "<img src=\"Continuidad.png\" width=\"1100\" align=\"center\"> "
   ]
  },
  {
   "cell_type": "markdown",
   "metadata": {
    "slideshow": {
     "slide_type": "subslide"
    }
   },
   "source": [
    "*Ejemplo:*\n",
    "\n",
    "Considere la función \n",
    "\n",
    "\\begin{align}\n",
    "f(x)= \\left\\{ \\begin{array}{c}\n",
    "\\frac{x^2-x-2}{x-2} & si & x \\neq 2\\\\\n",
    "2 &si&x=2\n",
    "\\end{array} \\right. \\nonumber\n",
    "\\end{align}\n",
    "\n",
    "es continua en $x=2$?\n",
    "\n",
    "*Solución:* Para ver si $f$ es continua en $x=2$ tenemos que comprobar los tres puntos de la definición.\n",
    "\n",
    "1. $f(2)=2$, por lo tanto $f(2)$ si existe\n",
    "\n",
    "2. Para ver si el $\\lim_{x \\to 2}f(x)$ existe, tenemos que calcular los límites laterales, pero en este caso la función se comporta de la misma manera por la izquierda y derecha, así que:\n",
    "\n",
    "$$ \\lim_{x \\to 2}f(x) = \\lim_{x \\to 2}\\frac{x^2-x-2}{x-2} =\\lim_{x \\to 2}\\frac{(x-2)(x+1)}{x-2} =\\lim_{x \\to 2}(x+1) = 2 + 1 = 3 \\nonumber $$\n",
    "\n",
    "3. Por último comparamos $\\lim_{x \\to 2}f(x) \\neq  f(2)$\n",
    "\n",
    "Como no se cumplió el punto 3, entonces decimos que la función $f$ no es continua en $x=2$\n"
   ]
  },
  {
   "cell_type": "markdown",
   "metadata": {
    "slideshow": {
     "slide_type": "subslide"
    }
   },
   "source": [
    "> **Teorema C-1:** Si $f$ y $g$ son continuas en $a$, entonces\n",
    "$$\n",
    "\\begin{array}{ll}\n",
    "(1) & \\color{blue}{f + g \\quad\\text{ es continua en } a }\\\\ \\nonumber\n",
    "(2) & \\color{blue}{f \\cdot g \\quad\\text{ es continua en } a }\\\\ \\nonumber\n",
    "(3) & \\color{blue}{\\text{Si }  g(a) \\neq 0 , \\quad\\text{ entonces }  \\quad1/g \\quad\\text{ es continua en } a }\\nonumber\n",
    "\\end{array}\n",
    "$$\n"
   ]
  },
  {
   "cell_type": "markdown",
   "metadata": {
    "slideshow": {
     "slide_type": "fragment"
    }
   },
   "source": [
    "> **Teorema C-2:** Si $g$ es continua en $a$, y $f$ es continua en $g(a)$, entonces:\n",
    "$$ \\color{blue}{\\quad\\quad f \\circ g\\quad\\text{ es continua en } a } \\nonumber $$"
   ]
  },
  {
   "cell_type": "markdown",
   "metadata": {
    "slideshow": {
     "slide_type": "fragment"
    }
   },
   "source": [
    "> **Teorema C-3:** Supóngase que $f$ es continua en $a$, y $f(a) > 0$. Entonces existe un número $\\delta > 0$ tal que $f(x) > 0$ para todo $x$ que satisface $|x - a| < \\delta$. Analogamente, si $f(a) < 0$, entonces existe un número $\\delta > 0$ tal que $f(x) < 0$ para todo $x$ que satisface $|x - a| < \\delta$"
   ]
  },
  {
   "cell_type": "markdown",
   "metadata": {
    "slideshow": {
     "slide_type": "subslide"
    }
   },
   "source": [
    "#### <font color='orange'>**Tres teoremas fuertes**</font>\n",
    "\n",
    "Este apartado está dedicado a tres teoremas acerca de funciones continuas y a algunas de sus consecuencias."
   ]
  },
  {
   "cell_type": "markdown",
   "metadata": {
    "slideshow": {
     "slide_type": "fragment"
    }
   },
   "source": [
    "> <font color='blue'>**Teorema T-1:** Si $f$ es continua en $[a.b]$, y $f(a) < 0 < f(b)$, entonces existe algún $x$ en $[a,b]$ tal que $f(x) = 0$.</font>"
   ]
  },
  {
   "cell_type": "markdown",
   "metadata": {
    "slideshow": {
     "slide_type": "fragment"
    }
   },
   "source": [
    "> <font color='blue'>**Teorema T-2:** Si $f$ es continua en $[a.b]$, entonces $f$ esta acotado superirmente en $[a,b]$, es decir, existe algún número $N$ tal que $f(x) \\leq N$ para todo $x$ en $[a,b]$.</font>"
   ]
  },
  {
   "cell_type": "markdown",
   "metadata": {
    "slideshow": {
     "slide_type": "fragment"
    }
   },
   "source": [
    "> <font color='blue'>**Teorema T-3:** Si $f$ es continua en $[a.b]$, entonces existe algún número $y$ en $[a,b]$ tal que $f(y) > f(x)$ para todo $x$ en $[a,b]$.</font>"
   ]
  },
  {
   "cell_type": "markdown",
   "metadata": {
    "slideshow": {
     "slide_type": "fragment"
    }
   },
   "source": [
    "El intervalo cerrado $[a,b]$ del teorema 2 no puede ser sustituido por un intervalo abierto $(a,b)$, ya que la función $f$ puede ser continua en $(a,b)$ pero no estaría acotada necesariamente.\n",
    "\n",
    "El teorema 3 es considerablemente más fuerte que el teorema 2. El teorema 3 se parafrasea a menudo diciendo que: una función continua en un intervalo cerrado ***alcanza su valor máximo*** en dicho intervalo."
   ]
  },
  {
   "cell_type": "markdown",
   "metadata": {
    "slideshow": {
     "slide_type": "subslide"
    }
   },
   "source": [
    " Para ilustrar la utilidad de los teoremas 1, 2 y 3, deduciremos algunas consecuencias importantes, pero primero será conveniente mencionar algunas generalizaciones simples de estos teoremas."
   ]
  },
  {
   "cell_type": "markdown",
   "metadata": {
    "slideshow": {
     "slide_type": "fragment"
    }
   },
   "source": [
    "> **Teorema T-4:** Si $f$ es continua en $[a.b]$ y $f(a) < c < f(b)$, entonces existe algún $x$ en $[a,b]$ tal que $f(x) = c$.\n",
    "\n",
    "> **Teorema T-5:** Si $f$ es continua en $[a.b]$ y $f(a) > c > f(b)$, entonces existe algún $x$ en $[a,b]$ tal que $f(x) = c$.\n",
    "\n",
    "> **Teorema T-6:** Si $f$ es continua en $[a.b]$, entonces $f$ está acotada inferiormente en $[a,b]$, es decir, existe algún número $N$ tal que $f(x) \\geq N$ para todo $x$ de $[a,b]$.\n",
    "\n",
    "> **Teorema T-7:** Si $f$ es continua en $[a.b]$, entonces existe algún $y$ en $[a,b]$ tal que $f(y) \\geq f(x)$ para todo $x$ de $[a,b]$. (Una función continua en un intervalo cerrado alcanza su mínimo en dicho intervalo.)\n"
   ]
  },
  {
   "cell_type": "markdown",
   "metadata": {
    "slideshow": {
     "slide_type": "subslide"
    }
   },
   "source": [
    "> **Teorema T-8:** Todo número positivo posee una raíz cuadrada. En otras palabras, si $\\alpha > 0$, entonces existe algún número $x$ tal que $x^2 = \\alpha$.\n",
    "\n",
    "> **Teorema T-9:** Si $n$ es impar, entonces cualquier ecuación\n",
    "$$\\quad\\quad x^n + a_{n-1}x^{n-1} + \\cdots +a_0 = 0 \\nonumber$$\n",
    "posee una raíz\n",
    "\n",
    "> **Teorema T-10:** Si $n$ es par y $f(x) = x^n + a_{n-1}x^{n-1} + \\cdots +a_0$, entonces existe un número $y$ tal que $f(y) \\leq f(x)$ para todo $x$.\n",
    "\n",
    "> **Teorema T-11:** Considere la ecuación\n",
    "$$(*)\\quad\\quad x^n + a_{n-1}x^{n-1} + \\cdots +a_0 = c, \\nonumber$$\n",
    "y supongamos que $n$ es par. Entonces existe un número $m$ tal que la ecuación $(*)$ posee una solución para $c \\geq m$ y no para $c < m$."
   ]
  },
  {
   "cell_type": "markdown",
   "metadata": {
    "slideshow": {
     "slide_type": "slide"
    }
   },
   "source": [
    "## <font color='blue'>**Derivadas**</font>"
   ]
  },
  {
   "cell_type": "markdown",
   "metadata": {
    "slideshow": {
     "slide_type": "fragment"
    }
   },
   "source": [
    "* **Introducción**\n",
    "\n",
    "\n",
    "* **Definición de derivada**\n",
    "\n",
    "    * ***Notación***\n",
    "\n",
    "\n",
    "* **Reglas de derivación**\n",
    "\n",
    "\n",
    "* **Aplicaciones de la derivada**\n",
    "\n",
    "    * ***Máximos y mínimos***\n",
    "\n",
    "    * ***Más consecuencias del teorema del valor medio***"
   ]
  },
  {
   "cell_type": "markdown",
   "metadata": {
    "slideshow": {
     "slide_type": "subslide"
    }
   },
   "source": [
    "### <font color='green'>**Introducción**</font>"
   ]
  },
  {
   "cell_type": "markdown",
   "metadata": {
    "slideshow": {
     "slide_type": "fragment"
    }
   },
   "source": [
    "La derivada es el primero de los dos conceptos fundamentales de este curso, junto con la integral constituyen la fuente de la cual deriva el Cálculo su aroma particular. Si bien es verdad que el concepto de función es fundamental que no se puede hacer nada sin límites o continuidad, todo lo que hemos hecho hasta ahora ha sido una pequeña preparación, para las ideas verdaderamente luminosas que van a venir, los penetrantes conceptos que son verdaderamente característicos del cálculo infinitesimal."
   ]
  },
  {
   "cell_type": "markdown",
   "metadata": {
    "slideshow": {
     "slide_type": "subslide"
    }
   },
   "source": [
    "Muchos de los conceptos, e incluso teoremas, pueden describirse en términos de problemas físicos a menudo de manera reveladora. De hecho, las necesidades de los físicos constituyeron la inspiración original para estas ideas fundamentales del cálculo. Pero siempre definiremos primero las ideas en forma matemática.\n",
    "\n",
    "Para entender el concepto de derivada, primero hablaremos de conceptos ya conocidos, como el de ***pendiente, [secante](https://es.wikipedia.org/wiki/Recta_secante), [tangente](https://es.wikipedia.org/wiki/Tangente_(geometr%C3%ADa))*** y ***razón de cambio***. Para entender el último concepto nos ayudaremos con el concepto de ***[velocidad](https://es.wikipedia.org/wiki/Velocidad)***."
   ]
  },
  {
   "cell_type": "markdown",
   "metadata": {
    "slideshow": {
     "slide_type": "subslide"
    }
   },
   "source": [
    "<img src=\"derivada.gif\" width=\"1300\" align=\"center\"> "
   ]
  },
  {
   "cell_type": "markdown",
   "metadata": {
    "slideshow": {
     "slide_type": "notes"
    }
   },
   "source": [
    "la velocidad es larazon de cambio de la posición con respecto al tiempo (un velocimetro es una maquina que calcula la velocidad instantanea), de forma similar podemos decir que la velocidad es el ritmo de cambio de la posición con respecto al tiempo."
   ]
  },
  {
   "cell_type": "markdown",
   "metadata": {
    "slideshow": {
     "slide_type": "subslide"
    }
   },
   "source": [
    "### <font color='green'>**Definición**</font>"
   ]
  },
  {
   "cell_type": "markdown",
   "metadata": {
    "slideshow": {
     "slide_type": "fragment"
    }
   },
   "source": [
    "> La función $f$ es **derivable en $a$** si\n",
    "$$ \\lim_{h \\to 0}\\frac{f(a+h)-f(a)}{h} \\nonumber $$ existe.\n",
    "\n",
    "En este caso el **límite** se designa por **$f'(a)$** y recibe el nombre de **derivada de $f$ en $a$**. (Decimos también que **$f$** es **derivable** si **$f$** es derivable en $a$ para todo $a$ del dominio de **$f$**.) Para una función dada $f$, la derivada $f'$ se designa a menudo por\n",
    "\n",
    "$$ \\frac{df(x)}{dx}. \\nonumber $$\n"
   ]
  },
  {
   "cell_type": "markdown",
   "metadata": {
    "slideshow": {
     "slide_type": "subslide"
    }
   },
   "source": [
    "*Ejemplos:*"
   ]
  },
  {
   "cell_type": "markdown",
   "metadata": {
    "slideshow": {
     "slide_type": "fragment"
    }
   },
   "source": [
    "* Derivada de una constante: $f(x)=c$\n",
    "$$ f'(a)=\\lim_{h \\to 0}\\frac{f(a+h)-f(a)}{h}=\\lim_{h \\to 0}\\frac{c-c}{h}=0. \\nonumber $$\n",
    "* Derivada de $f(x)=cx+b$\n",
    "$$ f'(a)=\\lim_{h \\to 0}\\frac{f(a+h)-f(a)}{h}=\\lim_{h \\to 0}\\frac{c(a+h)+b-(ca+b)}{h}=\\lim_{h \\to 0}\\frac{ch}{h}=c. \\nonumber $$\n",
    "* Derivada de $f(x)=x^2$\n",
    "$$ f'(a)=\\lim_{h \\to 0}\\frac{f(a+h)-f(a)}{h}=\\lim_{h \\to 0}\\frac{(a+h)^2-a^2}{h}=\\lim_{h \\to 0}\\frac{a^2+2ah+h^2-a^2}{h}=\\lim_{h \\to 0}(2a+h)=2a. \\nonumber $$\n",
    "* Derivada de $f(x)=x^3$\n",
    "$$ f'(a)=\\lim_{h \\to 0}\\frac{f(a+h)-f(a)}{h}=\\lim_{h \\to 0}\\frac{(a+h)^3-a^3}{h}=\\lim_{h \\to 0}\\frac{a^3+3a^2 h+3ah^2+h^3-a^3}{h}=\\lim_{h \\to 0}(3a^2+3ah+h^2)=3a^2. \\nonumber $$"
   ]
  },
  {
   "cell_type": "code",
   "execution_count": 10,
   "metadata": {
    "slideshow": {
     "slide_type": "notes"
    }
   },
   "outputs": [],
   "source": [
    "h = symbols('h')\n",
    "def f(x):\n",
    "    return -(x)**2\n",
    "def F(x):\n",
    "    return limit((f(x+h)-f(x))/h, h, 0)\n",
    "def m(x3):\n",
    "    m = F(x3)   # Ecuación de la pendiente\n",
    "    tangente = m*(x-x3) + f(x3)   # Ecuación de la recta\n",
    "    p1=plot(f(x), (x, -5, 5), ylabel=y, line_color=\"red\", legend=\"f(x)\", show = False)\n",
    "    p2=plot(tangente, (x, x3-1, x3+1), ylabel=y, line_color=\"blue\", legend=\"m\", show = False)\n",
    "    p1.append(p2[0])\n",
    "    p1\n",
    "    p1.show()"
   ]
  },
  {
   "cell_type": "code",
   "execution_count": 11,
   "metadata": {
    "scrolled": true,
    "slideshow": {
     "slide_type": "subslide"
    }
   },
   "outputs": [
    {
     "data": {
      "application/vnd.jupyter.widget-view+json": {
       "model_id": "233d30520c0e415585a3192ed10136fd",
       "version_major": 2,
       "version_minor": 0
      },
      "text/plain": [
       "interactive(children=(FloatSlider(value=0.0, description='x3', max=4.5, min=-4.5, step=0.5), Output()), _dom_c…"
      ]
     },
     "metadata": {},
     "output_type": "display_data"
    },
    {
     "data": {
      "text/plain": [
       "<function __main__.m(x3)>"
      ]
     },
     "execution_count": 11,
     "metadata": {},
     "output_type": "execute_result"
    }
   ],
   "source": [
    "interact(m, x3=(-4.5, 4.5, 0.5))    # Vamos a variar la posicion del punto x3"
   ]
  },
  {
   "cell_type": "markdown",
   "metadata": {
    "slideshow": {
     "slide_type": "subslide"
    }
   },
   "source": [
    "> **Teorema D-1:** Si $f$ es derivable en $a$, entonces $f$ es cotinua en $a$\n",
    "\n",
    "*Demostración*\n",
    "\n",
    "$$\\lim_{h \\to 0}(f(a+h)-f(a))=\\lim_{h \\to 0}\\frac{f(a+h)-f(a)}{h}\\cdot h=\\lim_{h \\to 0}\\frac{f(a+h)-f(a)}{h}\\cdot\\lim_{h \\to 0}h= f'(a)\\cdot0=0. \\nonumber $$\n",
    "\n",
    "La ecuación $$\\lim_{h \\to 0}(f(a+h)-f(a))=0 \\nonumber $$ es equivalente a $$\\lim_{x \\to 0}f(x)=f(a) \\nonumber $$ así, pues, $f$ es continua en $a$"
   ]
  },
  {
   "cell_type": "markdown",
   "metadata": {
    "slideshow": {
     "slide_type": "subslide"
    }
   },
   "source": [
    "#### <font color='orange'>**Notación**</font>\n",
    "\n",
    "$f^{(1)}=f'$,\n",
    "\n",
    "$f^{(2)}=f''=(f')'$,\n",
    "\n",
    "$f^{(3)}=f'''=(f'')'$,\n",
    "\n",
    "$f^{(4)}=f''''=(f''')'$,\n",
    "\n",
    "etc.\n",
    "    \n",
    "Las distintas funciones $f^{(k)}$, para $k \\geq 2$, son a veces llamadas **derivadas de orden superior** de $f$. Por lo general recurimos a la notación $f^{(k)}$ para $k \\geq 4$, pero podemos utilizar tambien para $k=0$, a saber, $f^{(0)}=f$. Debemos mencionar tambien la notación de *Leibniz*, a saber,\n",
    "\n",
    "$$f^{(n)}= \\frac{d^n f(x)}{dx^n}\\;y\\;f^{(n)}(a)=\\frac{d^n f(a)}{dx^n}=\\left.\\frac{d^n f(x)}{dx^n}\\right|_{x=a}  \\nonumber $$"
   ]
  },
  {
   "cell_type": "markdown",
   "metadata": {
    "slideshow": {
     "slide_type": "subslide"
    }
   },
   "source": [
    "### <font color='green'>**Reglas de derivación**</font>"
   ]
  },
  {
   "cell_type": "markdown",
   "metadata": {
    "slideshow": {
     "slide_type": "fragment"
    }
   },
   "source": [
    "> **Teorema D-2**: Si $f$ es una función constante, $f(x)=c$ entonces\n",
    "$$\\color{blue}{f'(a)=0 \\;para\\; todos\\; los\\; números\\; a}. \\nonumber $$\n",
    "\n",
    "**Demostración**\n",
    "\n",
    "$$ f'(a)=\\lim_{h \\to 0}\\frac{f(a+h)-f(a)}{h}=\\lim_{h \\to 0}\\frac{c-c}{h}=0. \\nonumber $$\n",
    "> **Teorema D-3**: Si $f$ es la función identidad, $f(x)=x$ entonces\n",
    "$$\\color{blue}{f'(a)=1 \\;para\\; todos\\; los\\; números\\; a}. \\nonumber $$\n",
    "\n",
    "**Demostración**\n",
    "\n",
    "$$ f'(a)=\\lim_{h \\to 0}\\frac{f(a+h)-f(a)}{h}=\\lim_{h \\to 0}\\frac{a+h-a}{h}=\\lim_{h \\to 0}\\frac{h}{h}=1. \\nonumber $$"
   ]
  },
  {
   "cell_type": "markdown",
   "metadata": {
    "slideshow": {
     "slide_type": "subslide"
    }
   },
   "source": [
    "> **Teoremas D-4**: Si $f$ y $g$ son derivables en $a$, entonces$f+g$ también es derivable en $a$ y\n",
    "$$\\color{blue}{(f+g)'(a)=f'(a)+g'(a)}. \\nonumber $$\n",
    "\n",
    "**Demostración**\n",
    "\n",
    "\\begin{align}\n",
    "(f+g)'(a)&=\\lim_{h \\to 0}\\frac{(f+g)(a+h)-(f+g)(a)}{h} \\nonumber \\\\\n",
    "&=\\lim_{h \\to 0}\\frac{f(a+h)+g(a+h)-[f(a)+g(a)]}{h} \\nonumber \\\\\n",
    "&=\\lim_{h \\to 0}\\left[\\frac{f(a+h)-f(a)}{h}+\\frac{g(a+h)-g(a)}{h}\\right] \\nonumber \\\\\n",
    "&=\\lim_{h \\to 0}\\frac{f(a+h)-f(a)}{h}+\\lim_{h \\to 0}\\frac{g(a+h)-g(a)}{h} \\nonumber \\\\\n",
    "&=f'(a)+g'(a). \\nonumber \n",
    "\\end{align}"
   ]
  },
  {
   "cell_type": "markdown",
   "metadata": {
    "slideshow": {
     "slide_type": "subslide"
    }
   },
   "source": [
    "> **Teoremas D-5**: Si $f$ y $g$ son derivables en $a$, entonces$f\\cdot g$ también es derivable en $a$ y\n",
    "$$\\color{blue}{(f\\cdot g)'(a)=f'(a)\\cdot g(a)+f(a)\\cdot g'(a)}. \\nonumber $$\n",
    "\n",
    "**Demostración**\n",
    "\\begin{align}\n",
    "(f\\cdot g)'(a)&=\\lim_{h \\to 0}\\frac{(f\\cdot g)(a+h)-(f\\cdot g)(a)}{h} \\nonumber \\\\\n",
    "&=\\lim_{h \\to 0}\\frac{f(a+h)\\cdot g(a+h)-f(a)\\cdot g(a)}{h} \\nonumber \\\\\n",
    "&=\\lim_{h \\to 0}\\frac{f(a+h)\\cdot g(a+h)-f(a)\\cdot g(a)\\color{red}{+[f(a+h)\\cdot g(a)-f(a+h)\\cdot g(a)]}}{h} \\nonumber \\\\\n",
    "&=\\lim_{h \\to 0}\\left[\\frac{\\color{red}{f(a+h)}-f(a)}{h}g(a)+f(a+h)\\frac{g(a+h)-\\color{red}{g(a)}}{h}\\right] \\nonumber \\\\\n",
    "&=\\lim_{h \\to 0}\\frac{f(a+h)-f(a)}{h}g(a)+\\lim_{h \\to 0}f(a+h)\\frac{g(a+h)-g(a)}{h} \\nonumber \\\\\n",
    "&=\\lim_{h \\to 0}\\frac{f(a+h)-f(a)}{h}\\lim_{h \\to 0}g(a)+\\lim_{h \\to 0}f(a+h)\\lim_{h \\to 0}\\frac{g(a+h)-g(a)}{h} \\nonumber \\\\\n",
    "&=f'(a)\\cdot g(a)+f(a)\\cdot g'(a). \\nonumber \n",
    "\\end{align}"
   ]
  },
  {
   "cell_type": "markdown",
   "metadata": {
    "slideshow": {
     "slide_type": "subslide"
    }
   },
   "source": [
    "> **Teoremas D-6**: Si $g(x)=cf(x)$ y $f$ es derivable en $a$, entonces $g$ es derivable en $a$ y\n",
    "$$\\color{blue}{g'(a) = (c\\cdot f)'(a) = c\\cdot f'(a)}. \\nonumber $$\n",
    "\n",
    "**Demostración**\n",
    "\n",
    "Si $h(x)=c$, de modo que $g=h\\cdot f$, emtonces por el teorema 4,\n",
    "\n",
    "\\begin{align}\n",
    "g'(a)&=(h\\cdot f)'(a) \\nonumber \\\\\n",
    "&=h'(a)\\cdot f(a)+h(a)\\cdot f'(a) \\nonumber \\\\\n",
    "&=0\\cdot f(a)+c\\cdot f'(a) \\nonumber \\\\\n",
    "&=c\\cdot f'(a). \\nonumber \n",
    "\\end{align}\n",
    "\n",
    "Obsérvese, en particular, que $(-f)'(a)=-f'(a)$, y en consecuencia $(f-g)'(a)=f'(a)-g'(a)$"
   ]
  },
  {
   "cell_type": "markdown",
   "metadata": {
    "slideshow": {
     "slide_type": "subslide"
    }
   },
   "source": [
    "> **Teoremas D-7**: Si $f(x)=x^n$ para algún número natral $n$, entonces\n",
    "$$\\color{blue}{f'(a)=na^{n-1}\\; para\\;todo\\;a}. \\nonumber $$\n",
    "\n",
    "**Demostración**\n",
    "\n",
    "La demostración será por *inducción* sobre $n$. Para $n=1$ esto es simplemente el teorema 2. Supongamos ahora que el teorema se cumle para $n$, de modo que si $f(x)=x^n$, entonces\n",
    "\n",
    "$$f'(a)=na^{n-1}\\; para\\;todo\\;a. \\nonumber $$ \n",
    "\n",
    "Sea $g(x)=x^{n+1}.$ Si $I(x)=x$, la ecuación $x^{n+1}=x^n\\cdot x$ puede escribirse\n",
    "\n",
    "$$g(x)=f(x)\\cdot I(x)\\; para\\;todo\\;x; \\nonumber $$\n",
    "\n",
    "de modo que $g= f\\cdot I$. Entonces, se sigue del teorema 4 que\n",
    "\n",
    "$$g'(a)=(f\\cdot I)'(a)= \\color{red}{f'(a)}\\cdot I(a)+f(a)\\cdot \\color{red}{I'(a)} \\nonumber $$\n",
    "$$=\\color{red}{na^{n-1}}\\cdot a +a^{n}\\cdot \\color{red}{1} = na^n +a^n \\nonumber $$\n",
    "$$=(n+1)a^n \\nonumber $$\n",
    "\n",
    "Este es precisamente el caso $n+1$ que queríamos demostrar."
   ]
  },
  {
   "cell_type": "markdown",
   "metadata": {
    "slideshow": {
     "slide_type": "subslide"
    }
   },
   "source": [
    "> **Teoremas D-8**: Si $g$ es derivable en $a$, y $g(a)\\neq0$ entonces$1/g$ también es derivable en $a$ y\n",
    "$$\\color{blue}{\\left(\\frac{1}{g}\\right)'(a)=\\frac{-g'(a)}{[g(a)]^2}.} \\nonumber $$\n",
    "\n",
    "**Demostración**\n",
    "\n",
    "\\begin{align}\n",
    "\\left(\\frac{1}{g}\\right)'(a)&=\\lim_{h \\to 0}\\frac{\\left(\\frac{1}{g}\\right)(a+h)-\\left(\\frac{1}{g}\\right)(a)}{h} \\nonumber \\\\\n",
    "&=\\lim_{h \\to 0}\\frac{\\frac{1}{g(a+h)}-\\frac{1}{g(a)}}{h}=\\lim_{h \\to 0}\\frac{g(a)-g(a+h)}{h[g(a)\\cdot g(a+h)]} \\nonumber  \\nonumber \\\\\n",
    "&=\\lim_{h \\to 0}\\frac{-[g(a+h)-g(a)]}{h}\\cdot\\frac{1}{g(a)\\cdot g(a+h)} \\nonumber \\\\\n",
    "&=\\lim_{h \\to 0}\\frac{-[g(a+h)-g(a)]}{h}\\cdot\\lim_{h \\to 0}\\frac{1}{g(a)\\cdot g(a+h)} \\nonumber \\\\\n",
    "&=\\frac{-g'(a)}{[g(a)]^2}. \\nonumber \n",
    "\\end{align}"
   ]
  },
  {
   "cell_type": "markdown",
   "metadata": {
    "slideshow": {
     "slide_type": "subslide"
    }
   },
   "source": [
    "> **Teoremas D-9**: Si $f$ y $g$ son derivables en $a$, y $g(a)\\neq0$ entonces$f/g$ es derivable en $a$ y\n",
    "$$\\color{blue}{\\left(\\frac{f}{g}\\right)'(a)=\\frac{g(a)\\cdot f'(a)-f(a)\\cdot g'(a)}{[g(a)]^2}}. \\nonumber $$\n",
    "\n",
    "**Demostración**\n",
    "\n",
    "Puesto que $f/g = f\\cdot (1/g)$, tenemos \n",
    "\\begin{align}\n",
    "\\left(\\frac{f}{g}\\right)'(a)&=\\left(f\\cdot\\frac{1}{g}\\right)'(a) \\nonumber \\\\\n",
    "&=f'(a)\\cdot\\left(\\frac{1}{g}\\right)(a)+f(a)\\cdot\\left(\\frac{1}{g}\\right)'(a) \\nonumber \\\\\n",
    "&=\\frac{f'(a)}{g(a)}+\\frac{f(a)\\cdot\\color{red}{(-g'(a))}}{\\color{red}{[g(a)]^2}} \\nonumber  \\nonumber \\\\\n",
    "&=\\frac{f'(a)\\cdot g(a)-f(a)\\cdot g'(a)}{[g(a)]^2}. \\nonumber \n",
    "\\end{align}"
   ]
  },
  {
   "cell_type": "markdown",
   "metadata": {
    "slideshow": {
     "slide_type": "subslide"
    }
   },
   "source": [
    "> **Teoremas D-10 (REGLA DE LA CADENA)**: Si $g$ es derivable en $a$, y $f$ es derivable en $g(a)$, entonces$f\\circ g$ es derivable en $a$ y\n",
    "$$\\color{blue}{\\left(f\\circ g\\right)'(a)=f'\\left(g(a)\\right)\\cdot g'(a)}. \\nonumber $$\n",
    "\n",
    "*El siguiente razonamiento, aunque no es una demostración, indica algunos de los trucos que se podrían ensayar, así como algunas de las dificultades que se encuentran.*\n",
    "Empecemos, por supuesto, con la definición\n",
    "\n",
    "\\begin{align}\n",
    "(f\\circ g)'(a)&=\\lim_{h \\to 0}\\frac{(f\\circ g)(a+h)-(f\\circ g)(a)}{h} \\nonumber \\\\\n",
    "&=\\lim_{h \\to 0}\\frac{f(g(a+h))-f(g(a))}{h}. \\nonumber \n",
    "\\end{align}\n",
    "\n",
    "Sería deseable encontar aquí en algún lugar la explresión de $g'(a)$. Un intento puede consistir en ponerla a mano:"
   ]
  },
  {
   "cell_type": "markdown",
   "metadata": {
    "slideshow": {
     "slide_type": "subslide"
    }
   },
   "source": [
    "\\begin{align}\n",
    "\\lim_{h \\to 0}\\frac{f(g(a+h))-f(g(a))}{h}&=\\lim_{h \\to 0}\\frac{f(g(a+h))-f(g(a))}{g(a+h)-g(a)}\\cdot \\color{red}{\\frac{g(a+h)-g(a)}{h}} \\nonumber \\\\\n",
    "&=\\lim_{h \\to 0}\\frac{f(g(a)+\\color{green}{[g(a+h)-g(a)]})-f(g(a))}{\\color{green}{g(a+h)-g(a)}}\\cdot \\color{red}{\\lim_{h \\to 0}\\frac{g(a+h)-g(a)}{h}} \\nonumber \\\\\n",
    "\\end{align}"
   ]
  },
  {
   "cell_type": "markdown",
   "metadata": {
    "slideshow": {
     "slide_type": "fragment"
    }
   },
   "source": [
    "El segundo límite es $\\color{red}{g'(a)}$ que necesitamos. Si hacemos $\\color{green}{g(a+h)-g(a)=k}$ (en rigor deveriamos escribir $\\color{green}{k(h)}$), entonces el primer límite es"
   ]
  },
  {
   "cell_type": "markdown",
   "metadata": {
    "slideshow": {
     "slide_type": "fragment"
    }
   },
   "source": [
    "\\begin{align}\n",
    "\\lim_{\\color{green}{k \\to 0}}\\frac{f(g(a)+\\color{green}{k})-f(g(a))}{\\color{green}{k}}. \\nonumber \n",
    "\\end{align}"
   ]
  },
  {
   "cell_type": "markdown",
   "metadata": {
    "slideshow": {
     "slide_type": "subslide"
    }
   },
   "source": [
    "Parece que este límite tenga que ser $\\color{green}{f'(g(a))}$, puesto que la continuidad de $\\color{green}{g}$ en $\\color{green}{a}$ implica que $\\color{green}{k}$ tiende a $\\color{green}{0}$ con $\\color{green}{h}$. De hecho se puede hacer con rigor este tipo de razonamiento.\n",
    "\n",
    "Existe, sin embargo, un problema que deben notar si son de aquellas personas que no dividen a ciegas."
   ]
  },
  {
   "cell_type": "markdown",
   "metadata": {
    "slideshow": {
     "slide_type": "fragment"
    }
   },
   "source": [
    "Incluso para $\\color{green}{h\\neq 0}$ podríamos tener $\\color{green}{g(a+h)-g(a)=0}$, lo cual haría que no tuviese sentido la división y multiplicación por $\\color{green}{g(a+h)-g(a)}$."
   ]
  },
  {
   "cell_type": "markdown",
   "metadata": {
    "slideshow": {
     "slide_type": "fragment"
    }
   },
   "source": [
    "**Nota:** *A partir de aquí pueden utilizar todas las reglas de derivación o incluso algún software*"
   ]
  },
  {
   "cell_type": "markdown",
   "metadata": {
    "slideshow": {
     "slide_type": "subslide"
    }
   },
   "source": [
    "### <font color='green'>**Aplicaciones de la derivada**</font>"
   ]
  },
  {
   "cell_type": "markdown",
   "metadata": {
    "slideshow": {
     "slide_type": "fragment"
    }
   },
   "source": [
    "Uno de los objetivos de este capítulo es justificar el tiempo invertido en aprender a obtener la derivada de una función. Como veremos, el saber algo acerca de $f'$ nos dará mucha información acerca de $f$, sin embargo, para poder hacer esto hará falta un poco más de trabajo."
   ]
  },
  {
   "cell_type": "markdown",
   "metadata": {
    "slideshow": {
     "slide_type": "subslide"
    }
   },
   "source": [
    "#### <font color='orange'>**Máximos y mínimos**</font>\n",
    "\n",
    "Obtener máximos y mínimos de una función se le conoce como ***obtimización***.\n",
    "\n",
    "¿Por qué la derivada nos ayudaría a optimizar las cosas?"
   ]
  },
  {
   "cell_type": "markdown",
   "metadata": {
    "slideshow": {
     "slide_type": "fragment"
    }
   },
   "source": [
    "> La derivada nos dice como cambia una función, es decir nos dice que tan rápido crece o decrece una función. Veamos un ejemplo:"
   ]
  },
  {
   "cell_type": "markdown",
   "metadata": {
    "slideshow": {
     "slide_type": "fragment"
    }
   },
   "source": [
    "**Ejemplo.** Caja de volumen máximo\n",
    "\n",
    "Queremos construir una caja sin tapa, a partir de una hoja cuadrada de lado $L=30cm$, cuyo volumen sea el máximo posible\n"
   ]
  },
  {
   "cell_type": "markdown",
   "metadata": {
    "slideshow": {
     "slide_type": "subslide"
    }
   },
   "source": [
    "***Solución:***\n",
    "    \n",
    "<img src=\"Caja-volumen-máximo.png\" width=\"1000\" align=\"center\"> "
   ]
  },
  {
   "cell_type": "code",
   "execution_count": 12,
   "metadata": {
    "slideshow": {
     "slide_type": "notes"
    }
   },
   "outputs": [
    {
     "data": {
      "text/latex": [
       "$\\displaystyle x \\left(30 - 2 x\\right)^{2}$"
      ],
      "text/plain": [
       "            2\n",
       "x⋅(30 - 2⋅x) "
      ]
     },
     "execution_count": 12,
     "metadata": {},
     "output_type": "execute_result"
    }
   ],
   "source": [
    "# Entonces la formula de volumen sería\n",
    "# V=A*h, donde A=(L-2x)^2 y h=x\n",
    "def V(x):\n",
    "    return x*(30-2*x)*(30-2*x)\n",
    "V(x)"
   ]
  },
  {
   "cell_type": "markdown",
   "metadata": {
    "slideshow": {
     "slide_type": "subslide"
    }
   },
   "source": [
    "Analicemos la gráfica de esa función para ver cómo cambia el volumen cuando cambiamos el tamaño de la altura."
   ]
  },
  {
   "cell_type": "code",
   "execution_count": 13,
   "metadata": {
    "slideshow": {
     "slide_type": "fragment"
    }
   },
   "outputs": [
    {
     "data": {
      "image/png": "[encoded data removed]",
      "text/plain": [
       "<Figure size 432x288 with 1 Axes>"
      ]
     },
     "metadata": {
      "needs_background": "light"
     },
     "output_type": "display_data"
    },
    {
     "data": {
      "text/plain": [
       "<sympy.plotting.plot.Plot at 0x1f4323ca190>"
      ]
     },
     "execution_count": 13,
     "metadata": {},
     "output_type": "execute_result"
    }
   ],
   "source": [
    "plot(V(x), (x, 0, 15))"
   ]
  },
  {
   "cell_type": "markdown",
   "metadata": {
    "slideshow": {
     "slide_type": "fragment"
    }
   },
   "source": [
    "* De la gráfica podemos ver que si hay un volumen máximo.\n",
    "\n",
    "* Observe que ese volumen máximo está donde su pendiente vale cero.\n",
    "\n",
    "* La derivada nos da la pendiente de la recta tangente."
   ]
  },
  {
   "cell_type": "code",
   "execution_count": 14,
   "metadata": {
    "slideshow": {
     "slide_type": "subslide"
    }
   },
   "outputs": [
    {
     "data": {
      "text/latex": [
       "$\\displaystyle 12 \\left(x - 15\\right) \\left(x - 5\\right)$"
      ],
      "text/plain": [
       "12⋅(x - 15)⋅(x - 5)"
      ]
     },
     "execution_count": 14,
     "metadata": {},
     "output_type": "execute_result"
    }
   ],
   "source": [
    "# Derivamos y simplificamos la función:\n",
    "simplify(diff(V(x),x))"
   ]
  },
  {
   "cell_type": "code",
   "execution_count": 15,
   "metadata": {
    "slideshow": {
     "slide_type": "fragment"
    }
   },
   "outputs": [
    {
     "data": {
      "text/latex": [
       "$\\displaystyle \\left[ 5, \\  15\\right]$"
      ],
      "text/plain": [
       "[5, 15]"
      ]
     },
     "execution_count": 15,
     "metadata": {},
     "output_type": "execute_result"
    }
   ],
   "source": [
    "# Igualamos a cero y resolvemos la ecuación:\n",
    "solve(diff(V(x),x))"
   ]
  },
  {
   "cell_type": "markdown",
   "metadata": {
    "slideshow": {
     "slide_type": "fragment"
    }
   },
   "source": [
    "* Tenemos dos soluciones, sin embargo podemos observar que en $x=15$ la función vale cero, por lo tanto la solución correcta es: $x=5$.\n",
    "\n",
    "Ahora pasemos a dar formalidad para un mejor entendimiento y una aplicación más eficaz, para esto enunciaremos unos teoremas y definiciones."
   ]
  },
  {
   "cell_type": "markdown",
   "metadata": {
    "slideshow": {
     "slide_type": "subslide"
    }
   },
   "source": [
    "##### <font color='blue'>**Criterio de la primera derivada**</font>"
   ]
  },
  {
   "cell_type": "markdown",
   "metadata": {
    "slideshow": {
     "slide_type": "fragment"
    }
   },
   "source": [
    "> **Definición:** SEa $f$ una función y $A$ un conjunto de números contenido en el dominio de $f$. Un punto $x$ de $A$ se dice que es un ***punto máximo*** de $f$ sobre $A$ si\n",
    "$$ f(x) \\geq f(y) \\text{ para todo y de } A \\nonumber $$\n",
    "El número $f(x)$ recibe el nombre de ***valor máximo*** de $f$ sobre $A$, decimos también que $f$ *alcanza en $x$* su valor máximo sobre $A$.\n",
    "\n",
    "Observe que una función $f$ puede tener distintos puntos máximos sobre $A$. La definición de ***mínimo*** de $f$ sobre $A$ se deja como ejercicio."
   ]
  },
  {
   "cell_type": "markdown",
   "metadata": {
    "slideshow": {
     "slide_type": "subslide"
    }
   },
   "source": [
    "> **Teorema AD-1:** Sea $f$ una función sobre $(a,b)$. Si $x$ es un máximo (o un mínimo) para $f$ sobre $(a,b)$ y $f$ es derivable en $x$, entonces $f'(x) = 0$. (Observe que no suponemos la derivabilidad, ni siquiera la continuidad, de $f$ en otros puntos.)"
   ]
  },
  {
   "cell_type": "markdown",
   "metadata": {
    "slideshow": {
     "slide_type": "fragment"
    }
   },
   "source": [
    "***Demostración:***\n",
    "    \n",
    "<img src=\"máximo.png\" width=\"1000\" align=\"center\">"
   ]
  },
  {
   "cell_type": "markdown",
   "metadata": {
    "slideshow": {
     "slide_type": "fragment"
    }
   },
   "source": [
    "**Nota:** Observe que no podemos sustituir $(a,b)$ por $[a,b]$ en la proposición del teorema (a no ser que añadamos a la hipótesis la condición de que $x$ está en $[a,b]$).\n",
    "\n",
    "Puesto que $f'(x)$ depende solamente de los valores de $f$ cerca de $x$, resulta casi evidente cómo obtener una versión más fuerte del teorema AD-1. Empecemos con una definición."
   ]
  },
  {
   "cell_type": "markdown",
   "metadata": {
    "slideshow": {
     "slide_type": "subslide"
    }
   },
   "source": [
    "> **Definición:** Sea $f$ una función, y $A$ un conjunto de números contenido en el dominio de $f$. Un punto $x$ de \n",
    "$A$ es un ***punto máximo (mínimo) local*** de $f$ sobre $A$ si existe algún $\\delta > 0$ tal que $x$ es un punto máximo (mínimo) de $f$ sobre $A\\cap(x-\\delta,x+\\delta)$"
   ]
  },
  {
   "cell_type": "markdown",
   "metadata": {
    "slideshow": {
     "slide_type": "fragment"
    }
   },
   "source": [
    "<img src=\"m-m-local.png\" width=\"700\" align=\"center\"> "
   ]
  },
  {
   "cell_type": "markdown",
   "metadata": {
    "slideshow": {
     "slide_type": "subslide"
    }
   },
   "source": [
    "> **Teorema AD-2:** Si $f$ está definida sobre $(a,b)$ y tiene un máximo (mínimo) local en $x$, y $f$ es derivable en $x$, entonces $f'(x) = 0$."
   ]
  },
  {
   "cell_type": "markdown",
   "metadata": {
    "slideshow": {
     "slide_type": "fragment"
    }
   },
   "source": [
    "Para la demostración de este teorema deben darse cuenta de que se trata de una aplicación fácil del teorema AD-1.\n",
    "\n",
    "**Nota:** El reciproco del teorema AD-2 no es cierto, es decir, es posible que $f'(x)$ sea $0$ aunque $x$ no sea un punto máximo o mínimo local de $f$. El ejemplo más sencillo es la función $f(x) = x^3$; en este caso $f'(0) = 0$, pero $f$ no tiene un máximo ni mínimo local en ningún punto.\n",
    "\n",
    "Por esta razón, se ha adoptado una terminología especial para describir los números $x$ que satisfacen la condición $f'(x) = 0$."
   ]
  },
  {
   "cell_type": "markdown",
   "metadata": {
    "slideshow": {
     "slide_type": "fragment"
    }
   },
   "source": [
    "> **Definición:** Se llama ***punto singular*** de una función $f$ a todo número $x$ al que\n",
    "$$ f'(x) = 0. \\nonumber$$\n",
    "El número $f(x)$ recibe el nombre de ***valor singular*** de $f$."
   ]
  },
  {
   "cell_type": "markdown",
   "metadata": {
    "slideshow": {
     "slide_type": "subslide"
    }
   },
   "source": [
    "Ahora sí, ya tenemos las herramientas para hallar el máximo y el mínimo de una función dada $f$. Para localizar el máximo y el mínimo de $f$ deben considerarse tres clases de puntos:\n",
    "\n",
    "*    1) Los puntos singulares de $f$ en $[a,b]$.\n",
    "\n",
    "*    2) Los extremos $a$ y $b$.\n",
    "\n",
    "*    3) Los puntos $x$ de $[a,b]$ tales que $f$ no es derivable en $x$.\n",
    "\n",
    "Si $x$ es un punto máximo o mínimo de $f$ sobre $[a,b]$, entonces $x$ debe estar en una de las tres clases arriba mencionadas: pues si $x$ no está en la segunda o tercera clase de puntos, entonces $x$ está en $(a,b)$ y $f$ es derivable en $x$; en consecuencia $f'(x) = 0$, por el teorema AD-1, y esto significa que $x$ pertenece al primer grupo."
   ]
  },
  {
   "cell_type": "markdown",
   "metadata": {
    "slideshow": {
     "slide_type": "fragment"
    }
   },
   "source": [
    "Con lo visto hasta ahora solo podemos decir que encontramos puntos donde podemos tener un máximo o un mínimo local pero no podemos, aún, concluir si el punto es un máximo o un mínimo local. Para poder hacerlo necesitamos de más herramientas, las cuales mostraremos a continuación."
   ]
  },
  {
   "cell_type": "markdown",
   "metadata": {
    "slideshow": {
     "slide_type": "subslide"
    }
   },
   "source": [
    "> **Teorema AD-3 (TEOREMA DE ROLLE):** Si $F$ es continua sobre $[a,b]$ y derivable sobre $(a,b)$, y $f(a) = f(b)$, entonces existe un número $x$ en $(a,b)$ tal que $f'(x) = 0$."
   ]
  },
  {
   "cell_type": "markdown",
   "metadata": {
    "slideshow": {
     "slide_type": "fragment"
    }
   },
   "source": [
    "***Demostración:***\n",
    "\n",
    "<img src=\"T-Rolle.png\" width=\"700\" align=\"center\">\n",
    "\n",
    "Para la demostración de este teorema es necesario el teorema AD-1, y para poder aplicar el teorema AD-1 es necesaria la hipótesis de que $f$ sea derivable en todo punto de $(a,b)$."
   ]
  },
  {
   "cell_type": "markdown",
   "metadata": {
    "slideshow": {
     "slide_type": "subslide"
    }
   },
   "source": [
    "Puede resultar sorprendente que se dé un nombre especial a un teorema tan fácil como el teorema de Rolle. La razón está en que, aunque el teorema de Rolle es un caso particular del teorema del valor medio, suministra también una demostración sencilla de este último teorema."
   ]
  },
  {
   "cell_type": "markdown",
   "metadata": {
    "slideshow": {
     "slide_type": "fragment"
    }
   },
   "source": [
    "> **Teorema AD-4 (TEOREMA DEL VALOR MEDIO):** Si $f$ es continua en $[a,b]$ y derivable en $(a,b)$, entonces existe un número $x$ en $(a,b)$ tal que \n",
    "$$ f'(x) = \\frac{f(b) - f(a)}{b - a}. \\nonumber $$"
   ]
  },
  {
   "cell_type": "markdown",
   "metadata": {
    "slideshow": {
     "slide_type": "fragment"
    }
   },
   "source": [
    "Para demostrar el teorema del valor medio aplicarems el teorema de Rolle a la función que nos da la recta formada que une los puntos $(a,f(a))$ y $(b,f(b))$. Como podran ver, si denominamos $L$ a esa recta, entonces estara descrita por la siguiente función\n",
    "\n",
    "$$ g(x) = \\left[\\frac{f(b)-f(a)}{b-a}\\right](x-a) + f(a), \\nonumber $$\n",
    "nos conviene considrar\n",
    "$$ f(x) - \\left[\\frac{f(b)-f(a)}{b-a}\\right](x-a). \\nonumber $$\n",
    "La constante $f(a)$ resulta ser irrelevante."
   ]
  },
  {
   "cell_type": "markdown",
   "metadata": {
    "slideshow": {
     "slide_type": "subslide"
    }
   },
   "source": [
    "***Demostración:***\n",
    "\n",
    "<img src=\"T-valor-medio.png\" width=\"1000\" align=\"center\">"
   ]
  },
  {
   "cell_type": "markdown",
   "metadata": {
    "slideshow": {
     "slide_type": "subslide"
    }
   },
   "source": [
    "Observe que el teorema del valor medio es todavía de aquellos teoremas en los que se obtiene información sobre $f'$ a partir de información de $f$. Esta información es tan fuerte que podemos ir en la dirección opuesta."
   ]
  },
  {
   "cell_type": "markdown",
   "metadata": {
    "slideshow": {
     "slide_type": "fragment"
    }
   },
   "source": [
    "> **Corolario TVM-1:** Si se define $f$ sobre un intervalo y $f'(x) = 0$ para todo $x$ del intervalo, entonces $f$ es constante en el intervalo."
   ]
  },
  {
   "cell_type": "markdown",
   "metadata": {
    "slideshow": {
     "slide_type": "fragment"
    }
   },
   "source": [
    "> **Corolario TVM-2:** Si $f$ y $g$ están definidas en el mismo intervalo y $f'(x) = g'(x)$ para todo $x$ del intervalo, entonces existe algún número $c$ tal que $f+g=c$."
   ]
  },
  {
   "cell_type": "markdown",
   "metadata": {
    "slideshow": {
     "slide_type": "subslide"
    }
   },
   "source": [
    "> **Corolario TVM-3:** Si $f'(x) > 0$ para todo $x$ de un intervalo, entonces $f$ es creciente en el intervalo; si $f'(x) < 0$ para todo $x$ del intervalo, entonces $f$ es decreciente en el intervalo.\n",
    "\n",
    "> **Definición:** Se dice que una función $f$ es ***creciente*** sobre un intervalo si $f(a) < f(b)$ siempre que $a$ y $b$ sean dos puntos del intervalo con $a < b$. La función $f$ es ***decreciente*** sobre un intervalo si $f(a) > f(b)$ para todos los $a$ y $b$ del intervalo con $a < b$. (Muchas veces decimos simplemente que $f$ es creciente o decreciente, en cuyo caso se sobreentiende que el intervalo es el dominio de $f$.)"
   ]
  },
  {
   "cell_type": "markdown",
   "metadata": {
    "slideshow": {
     "slide_type": "fragment"
    }
   },
   "source": [
    "**Demostración:**\n",
    "\n",
    "Consideremos el caso $f'(x) > 0$. Sean $a$ y $b$ dos puntos del intervalo con $a < b$. Entonces existe algún $x$ en $(a,b)$ con\n",
    "\n",
    "$$ f'(x) = \\frac{f(b) - f(a)}{b - a}. \\nonumber $$\n",
    "\n",
    "Pero $f'(x) > 0$ para todo $x$ de $(a,b)$, de modo que\n",
    "\n",
    "$$ \\frac{f(b) - f(a)}{b - a} > 0. \\nonumber $$\n",
    "\n",
    "Puesto que $b - a > 0$ se sigue que $f(b) > f(a)$. $\\color{green}{QED}$"
   ]
  },
  {
   "cell_type": "markdown",
   "metadata": {
    "slideshow": {
     "slide_type": "subslide"
    }
   },
   "source": [
    "* La demostración en el caso de $f'(x) < 0$ para todo $x$ se deja como ejercicio.\n",
    "\n",
    "Observe que si bien lo recíprocos de los corolarios TVM-1 y TVM-2 son ciertos, el reciproco del corolario TVM-3 es falso. Si $f$ es creciente, es fácil ver que $f'(x) \\geq 0$ para todo $x$ pero puede valer el signo de igualdad para algún $x$ (considérese $f(x) = x^3$).\n",
    "\n",
    "El corolario TVM-3 aporta información suficiente para adquirir una buena idea de la gráfica de una función trazando el menor número posible de puntos.\n",
    "\n",
    "Ahora ya podemos dar un esquema general para decir si un punto singular es un punto máximo local, mínimo local, o ninguna de las dos cosas."
   ]
  },
  {
   "cell_type": "markdown",
   "metadata": {
    "slideshow": {
     "slide_type": "fragment"
    }
   },
   "source": [
    ">    Si $f' > 0 $ en algún intervalo a la izquierda de $x$ y $f' < 0$ en algún intervalo a la derecha de $x$, entonces $x$ es un punto máximo local.\n",
    "\n",
    ">    Si $f' < 0 $ en algún intervalo a la izquierda de $x$ y $f' > 0$ en algún intervalo a la derecha de $x$, entonces $x$ es un punto mínimo local.\n",
    "\n",
    ">    Si $f' > 0 $ tiene el mismo signo en algún intervalo a la izquierda de $x$ que en algún intervalo a la derecha, entonces $x$ no es un punto máximo ni punto mínimo local."
   ]
  },
  {
   "cell_type": "markdown",
   "metadata": {
    "slideshow": {
     "slide_type": "subslide"
    }
   },
   "source": [
    "**Nota:** No es necesario aprenderse de memoria estas reglas; siempre se puede hacer la gráfica para visualizarlo."
   ]
  },
  {
   "cell_type": "markdown",
   "metadata": {
    "slideshow": {
     "slide_type": "subslide"
    }
   },
   "source": [
    "##### <font color='blue'>**Criterio de la segunda derivada**</font>\n",
    "\n",
    "> **Teorema AD-5:** Supongamos que $f'(a)=0$.\n",
    "$$ \\text{Si } f''(a) > 0 \\text{, entonces } f \\text{ tiene un mínimo local en } a \\nonumber $$\n",
    "$$ \\text{Si } f''(a) < 0 \\text{, entonces } f \\text{ tiene un máximo local en } a \\nonumber $$"
   ]
  },
  {
   "cell_type": "markdown",
   "metadata": {
    "slideshow": {
     "slide_type": "fragment"
    }
   },
   "source": [
    "**Demostración:**\n",
    "\n",
    "Por definición,\n",
    "\n",
    "$$ f''(a) = lim_{h \\to 0}\\frac{f´(a+h) - f(á)}{h} \\nonumber $$\n",
    "\n",
    "Puesto que $f'(a) = 0$, esto se puede escribir como\n",
    "\n",
    "$$ f''(a) = \\lim_{h \\to 0}\\frac{f'(a+h)}{h} \\nonumber $$\n",
    "\n",
    "Supongamos ahora que $f''(a) > 0$. Entonces $f'(a+h)/h$ debe ser positivo para $h$ suficientemente pequeño. Por lo tanto:\n",
    "\n",
    "$$ f'(a+h) \\text{ debe ser positivo para } h > 0 \\text{ suficientemente pequeño} \\nonumber $$\n",
    "$$ \\text{y } f'(a+h) \\text{ debe ser positivo para } h > 0 \\text{ suficientemente pequeño} \\nonumber $$\n",
    "\n",
    "Eso significa (de acuerdo al corolario TVM-3) que $f$ crece en algún intervalo a la derecha de $a$ y $f$ decrece en algún intervalo a la izquierda de $a$. En consecuencia, $f$ tiene u mínimo local en $a$."
   ]
  },
  {
   "cell_type": "markdown",
   "metadata": {
    "slideshow": {
     "slide_type": "fragment"
    }
   },
   "source": [
    "La demostración para el caso $f''(a) < 0$ es parecida. $\\color{green}{QED}$"
   ]
  },
  {
   "cell_type": "markdown",
   "metadata": {
    "slideshow": {
     "slide_type": "subslide"
    }
   },
   "source": [
    "Es interesante observar que el teorema TVM-5 demuestra automaticamente un reciproco parcial de sí mismo.\n",
    "\n",
    "> **Teorema AD-6:** Supongamos que existe $f''(a)$. Si $f$ tiene un mínimo local en $a$, entonces $f''(a) \\geq 0$; si $f$ tiene un máximo local en $a$, entonces $f''(a) \\leq 0$."
   ]
  },
  {
   "cell_type": "markdown",
   "metadata": {
    "slideshow": {
     "slide_type": "fragment"
    }
   },
   "source": [
    "**Demostración:**\n",
    "\n",
    "Supongamos que $f$ tiene un mínimo local en $a$. Si $f''(a) < 0$, entonces $f$ tendría también un máximo local en $a$, según el teorema AD-5. Así pues, $f$ sería constante conteniendo $a$, de modo que $f''(a) = 0$, lo cual es una contradicción. Se debe tener, por lo tanto, $f''(a) \\geq 0$.\n",
    "\n",
    "El caso de un máximo local se trata de manera análoga.\n",
    "\n",
    "Este reciproco del teorema AD-5 es lo más que se puede conseguir, ya que los signos $\\leq$ y $\\geq$ no pueden ser remplazados por $>$ y $<$."
   ]
  },
  {
   "cell_type": "markdown",
   "metadata": {
    "slideshow": {
     "slide_type": "subslide"
    }
   },
   "source": [
    "* Continuando con el ejemplo anterior, tenemos:"
   ]
  },
  {
   "cell_type": "code",
   "execution_count": 16,
   "metadata": {
    "slideshow": {
     "slide_type": "fragment"
    }
   },
   "outputs": [
    {
     "data": {
      "text/latex": [
       "$\\displaystyle 24 \\left(x - 10\\right)$"
      ],
      "text/plain": [
       "24⋅(x - 10)"
      ]
     },
     "execution_count": 16,
     "metadata": {},
     "output_type": "execute_result"
    }
   ],
   "source": [
    "# Utilizando el criterio de las egunda derivada\n",
    "# Primero obtenemos la segunda derivada\n",
    "diff(V(x), x, 2)"
   ]
  },
  {
   "cell_type": "code",
   "execution_count": 17,
   "metadata": {
    "slideshow": {
     "slide_type": "fragment"
    }
   },
   "outputs": [
    {
     "data": {
      "text/latex": [
       "$\\displaystyle -120$"
      ],
      "text/plain": [
       "-120"
      ]
     },
     "execution_count": 17,
     "metadata": {},
     "output_type": "execute_result"
    }
   ],
   "source": [
    "#Ahora evaluamos en los puntos criticos, (x=5 y x=15)\n",
    "def d2V(x):\n",
    "    return 24*(x - 10)\n",
    "d2V(5)"
   ]
  },
  {
   "cell_type": "markdown",
   "metadata": {
    "slideshow": {
     "slide_type": "fragment"
    }
   },
   "source": [
    "Aunque el teorema AD-5 resultará muy útil para funciones polinómicas (como en este ejemplo), la derivada segunda de muchas funciones es tan complicada que resulta más fácil considerar el criterio d la primera derivada."
   ]
  },
  {
   "cell_type": "markdown",
   "metadata": {
    "slideshow": {
     "slide_type": "fragment"
    }
   },
   "source": [
    "**Ejercicio.** Construir una caja de volumen máximo con tapa, a partir de una hoja tamaño carta, además la tapa deberá tener una pestaña de medio centímetro en los tres lados que están libres."
   ]
  },
  {
   "cell_type": "markdown",
   "metadata": {
    "slideshow": {
     "slide_type": "subslide"
    }
   },
   "source": [
    "#### <font color='orange'>**Más consecuencias del teorema del valor medio**</font>"
   ]
  },
  {
   "cell_type": "markdown",
   "metadata": {
    "slideshow": {
     "slide_type": "fragment"
    }
   },
   "source": [
    "Aquí ya no trataremos del trazo de gráficas ni de máximos y mínimos, sino de tres consecuencias del teorema del valor medio."
   ]
  },
  {
   "cell_type": "markdown",
   "metadata": {
    "slideshow": {
     "slide_type": "fragment"
    }
   },
   "source": [
    "> **Teorema AD-7:** Supongamos que $f$ es continua en $a$, y que existe $f'(x)$ para todos los $x$ de algún intervalo que contiene $a$, excepto posiblemente para $x = a$. Supongamos, además, que existe $\\lim_{x \\to a} f'(x)$. Entonces existe también $f'(a)$, y\n",
    "$$ f'(a) = \\lim_{x \\to a} f'(x). \\nonumber $$"
   ]
  },
  {
   "cell_type": "markdown",
   "metadata": {
    "slideshow": {
     "slide_type": "subslide"
    }
   },
   "source": [
    "**Demostración:**\n",
    "\n",
    "Por definición,\n",
    "\n",
    "$$ f'(a) = \\lim_{h \\to 0}\\frac{f(a+h) - f(a)}{h}. \\nonumber $$\n",
    "\n",
    "Para $h>0$ suficientemente pequeño, la función $f$ será continua en $[a,a+h]$ y derivable en $(a,a+h)$ (un enunciado parecido se cumple para $h<0$ suficientemente pequeño). Segú el teorema del valor medio, existe un número $\\alpha_h$ en $(a,a+h)$ tal que\n",
    "\n",
    "$$ \\frac{f(a+h) - f(a)}{h} = f'(\\alpha_h). \\nonumber $$\n",
    "\n",
    "Ahora bien, $\\alpha_h$ se aproxima a $a$ cuando $h$ se aproxima a $0$, puesto que $\\alpha_h$ está en $(a,a+h); de la existencia de $\\lim_{x \\to a}f'(x)$, se sigue que\n",
    "\n",
    "$$ f'(a) = \\lim_{h \\to 0}\\frac{f(a+h) - f(a)}{h} = \\lim_{h \\to 0} f'(\\alpha_h) = \\lim_{x \\to a}f'(x). \\nonumber $$\n",
    "\n",
    "(Para este paso final, aquí se trató de manera algo informal, de forma rigurosa el razonamiento se debe tratar con $\\epsilon$ y $\\delta$.) $\\color{green}{QED}$"
   ]
  },
  {
   "cell_type": "markdown",
   "metadata": {
    "slideshow": {
     "slide_type": "subslide"
    }
   },
   "source": [
    "> **Teorema AD-8 (TEOREMA DEL VALOR MEDIO DE CAUCHY):** Si $f$ y $g$ son continuas en $[a,b]$ y derivables en $(a,b)$, entonces existe un número $x$ en $(a,b)$ tal que\n",
    "$$ [f(b) - f(a)]g'(x) = [g(b) - g(a)]f'(x). \\nonumber $$\n",
    "(Si $g(b) \\neq g(a)$ y $g'(x) \\neq 0$, esta ecuación puede escribirse en la forma\n",
    "$$ \\frac{f(b) - f(a)}{g(b) - g(a)} = \\frac{f'(x)}{g'(x)}. \\nonumber $$\n",
    "Observe que si $g(x) = x$ para todo $x$, entonces $g'(x) = 1$ y obtenemos el teorema del valor medio. Por otra parte, al aplicar el teorema del valor medio a $f$ y a $g$ por separado, se encuentra que existen $x$ e $y$ en $(a,b)$ con\n",
    "$$ \\frac{f(b) - f(a)}{g(b) - g(a)} = \\frac{f'(x)}{g'(y)}; \\nonumber $$\n",
    "pero no existe ninguna garantía de que los $x$ e $y$ hallados de esta manera sean iguales.)"
   ]
  },
  {
   "cell_type": "markdown",
   "metadata": {
    "slideshow": {
     "slide_type": "subslide"
    }
   },
   "source": [
    "**Demostración:**\n",
    "\n",
    "Sea\n",
    "\n",
    "$$ h(x) = f(x)[g(b) - g(a)] - g(x)[f(b) - f(a)]. \\nonumber $$\n",
    "\n",
    "Entonces $h$ es continua en $[a,b]$, derivable en $(a,b)$, y\n",
    "\n",
    "$$ h(a) = f(a)g(b) - g(a)f(b) = h(b). \\nonumber $$\n",
    "\n",
    "Del teorema de Rolle se sigue que $h'(x) = 0$ para algun $x$ de $(a,b)$, lo cual significa que\n",
    "\n",
    "$$ 0 = f'(x)[g(b) - g(a)] - g'(x)[f(b) - f(a)]. \\color{green}{QED} \\nonumber $$\n"
   ]
  },
  {
   "cell_type": "markdown",
   "metadata": {
    "slideshow": {
     "slide_type": "subslide"
    }
   },
   "source": [
    "> **Teorema AD-9 (REGLA D L'HOPITAL):** Supongamos que\n",
    "$$ \\lim_{x \\to a}f(x) = 0 \\quad\\text{y}\\quad\\lim_{x \\to a}g(x) = 0, \\nonumber $$\n",
    "y supongamos también que existe $\\lim_{x \\to a}f'(x)/g'(x)$. entonces existe $\\lim_{x \\to a}f(x)/g(x)$, y\n",
    "$$ \\lim_{x \\to a}\\frac{f(x)}{g(x)} = \\lim_{x \\to a}\\frac{f'(x)}{g'(x)}. \\nonumber $$\n",
    "\n",
    "(Observe que el teorema AD-7 es un caso particular.)"
   ]
  },
  {
   "cell_type": "markdown",
   "metadata": {
    "slideshow": {
     "slide_type": "fragment"
    }
   },
   "source": [
    "**Demostración:**\n",
    "\n",
    "La hipótesis de que existe $\\lim_{x \\to a}f'(x)/g'(x)$ contiene implícitamente dos suposiciones:\n",
    "\n",
    "(1)    existe un intervalo $(a-\\delta,a+\\delta)$ tal que $f'(x)$ y $g'(x)$ existen para todo $x$ de $(a-\\delta,a+\\delta)$ excepto, posiblemente para $x = a$.\n",
    "\n",
    "(2)    en este intervalo $g'(x) \\neq 0$ con, una vez más, la posible excepción de $x = a$."
   ]
  },
  {
   "cell_type": "markdown",
   "metadata": {
    "slideshow": {
     "slide_type": "fragment"
    }
   },
   "source": [
    "Por otra parte, no se supone siquiera que $f$ y $g$ estén definidas en $a$. Si definimos $f(a) = g(a) = 0$ (cambiando si es preciso los valores anteriores d $f(a)$ y $g(a)$), entonces $f$ y $g$ son continuas en $a$. Si $a < x < a+\\delta$, entonces el teorema del valor medio y el teorema del valor medio de Cauchy son aplicables a $f$ y $g$ sobre el intervalo $[a,x]$ (y una proposición análoga es válida para $a-\\delta < x < a$). Aplicando primero el teorema del valor medio a $g$, vemos que $g(x) \\neq 0$, pues si fuera $g(x) = 0$ entonces existiría algún $x_1$ en $(a,x)$ con $g'(x_1) = 0$, en contradicción con el punto (2). Aplicando ahora el teorema del valor medio de Cauchy a $f$ y $g$, vemos que existe un número $\\alpha_x$ en $(a,x)$ tal que\n",
    "\n",
    "$$ [f(x) - 0]g'(\\alpha_x) = [g(x) - 0]f'(\\alpha_x) \\nonumber $$\n",
    "o\n",
    "$$ \\frac{f(x)}{g(x)} = \\frac{f'(\\alpha_x)}{g'(\\alpha_x)}. \\nonumber $$\n",
    "\n",
    "Ahora bien, $\\alpha_x$ se aproxima a $a$ cuando $x$ se aproxima a $a$, puesto que $\\alpha_x$ está en $(a,x)$; de la existencia de $\\lim_{y \\to a}f'(y)/g'(y)$, se sigue que\n",
    "\n",
    "$$ \\lim_{x \\to a}\\frac{f(x)}{g(x)} = \\lim_{x \\to a}\\frac{f'(\\alpha_x)}{g'(\\alpha_x)} = \\lim_{y \\to a}\\frac{f'(y)}{g'(y)}. \\nonumber $$\n",
    "\n",
    "(Una vez más, el razonamiento presentado aquí no es riguroso.) $\\color{green}{QED}$"
   ]
  },
  {
   "cell_type": "markdown",
   "metadata": {
    "slideshow": {
     "slide_type": "notes"
    }
   },
   "source": [
    "Quedan temas pendientes como convexidad y concavidad (puntos de inflexión)."
   ]
  },
  {
   "cell_type": "markdown",
   "metadata": {
    "slideshow": {
     "slide_type": "slide"
    }
   },
   "source": [
    "## <font color='blue'>**Integrales**</font>"
   ]
  },
  {
   "cell_type": "markdown",
   "metadata": {
    "slideshow": {
     "slide_type": "fragment"
    }
   },
   "source": [
    "* **Introducción**\n",
    "\n",
    "\n",
    "* **Sumatorias**\n",
    "\n",
    "\n",
    "* **Definición de la integral**\n",
    "\n",
    "\n",
    "* **Propiedades de la integral**\n",
    "\n",
    "\n",
    "* **Teorema fundamental del cálculo**\n",
    "\n",
    "\n",
    "* **Metodos de integración**"
   ]
  },
  {
   "cell_type": "markdown",
   "metadata": {
    "slideshow": {
     "slide_type": "subslide"
    }
   },
   "source": [
    "### <font color='green'>**Introducción**</font>"
   ]
  },
  {
   "cell_type": "markdown",
   "metadata": {
    "slideshow": {
     "slide_type": "fragment"
    }
   },
   "source": [
    "La derivada no despliega toda su fuerza hasta que se alía con la [integral](https://es.wikipedia.org/wiki/Integraci%C3%B3n) , el segundo concepto fundamental de este currso."
   ]
  },
  {
   "cell_type": "markdown",
   "metadata": {
    "slideshow": {
     "slide_type": "fragment"
    }
   },
   "source": [
    "Aunque será necesario definirla de forma esencialmente complicada, la ***integral*** viene a formalizar un concepto sencillo, intuitivo: el de [área](https://es.wikipedia.org/wiki/%C3%81rea)."
   ]
  },
  {
   "cell_type": "markdown",
   "metadata": {
    "slideshow": {
     "slide_type": "fragment"
    }
   },
   "source": [
    "En geometría elemental se deducen fórmulas para las áreas de muchas figuas planas, pero un poco de reflexión hace ver que raramente se da una definición aceptable de área. El área de una región se define a veces como el número de cuadrados de lado unidad que caben en la región. Pero esta definición es totalmente inadecuada para todas las regiones con excepción de las más simples. Por ejemplo el circulo."
   ]
  },
  {
   "cell_type": "markdown",
   "metadata": {
    "slideshow": {
     "slide_type": "subslide"
    }
   },
   "source": [
    "### <font color='green'>**Sumatorias**</font>"
   ]
  },
  {
   "cell_type": "markdown",
   "metadata": {
    "slideshow": {
     "slide_type": "fragment"
    }
   },
   "source": [
    "La idea que ampara la definición que vamos a dar se muestra en el siguiente GIF\n",
    "\n",
    "<img src=\"S-Riemann.gif\" width=\"1100\" align=\"center\">"
   ]
  },
  {
   "cell_type": "code",
   "execution_count": 18,
   "metadata": {
    "scrolled": true,
    "slideshow": {
     "slide_type": "fragment"
    }
   },
   "outputs": [
    {
     "data": {
      "image/png": "[encoded data removed]",
      "text/plain": [
       "<IPython.core.display.Image object>"
      ]
     },
     "execution_count": 18,
     "metadata": {
      "image/png": {
       "width": 300
      }
     },
     "output_type": "execute_result"
    }
   ],
   "source": [
    "Image(\"CDI-Ima3.2.png\", width=300)"
   ]
  },
  {
   "cell_type": "markdown",
   "metadata": {
    "slideshow": {
     "slide_type": "fragment"
    }
   },
   "source": [
    "Entonces el área baja la curva seria: $\\sum_{i=1}^{n} f(t_i)\\Delta_i$, donde $\\Delta_i = (b-a)/n$ y $t_i$ tomo el valor inicial o final del intervalo de la partición $i-esima$, es decir $x_{i-1}$ 0 $x_i$, recuerde $x_0 = a$ y $x_n = b$"
   ]
  },
  {
   "cell_type": "markdown",
   "metadata": {
    "slideshow": {
     "slide_type": "subslide"
    }
   },
   "source": [
    "### Definicion de Integral (Riemann)"
   ]
  },
  {
   "cell_type": "markdown",
   "metadata": {},
   "source": [
    "$$ \\int_{a}^{b} f(x) dx = \\lim_{|\\Delta_i| \\to 0}\\sum_{i=1}^{n} f(t_i)\\Delta_i $$"
   ]
  },
  {
   "cell_type": "code",
   "execution_count": null,
   "metadata": {
    "scrolled": true
   },
   "outputs": [],
   "source": [
    "Image(\"CDI-Ima3.3.png\", width=800)"
   ]
  },
  {
   "cell_type": "markdown",
   "metadata": {
    "slideshow": {
     "slide_type": "subslide"
    }
   },
   "source": [
    "### Propiedades de la Integral"
   ]
  },
  {
   "cell_type": "markdown",
   "metadata": {
    "slideshow": {
     "slide_type": "fragment"
    }
   },
   "source": [
    "* **Teorema 1**\n",
    "Si $f$ es continua en $[a,b]$, entonces $f$ es integrable en $[a,b]$\n",
    "* **Teorema 2**\n",
    "Sea $a<c<b$. Si $f$ es integrable sobre $[a,b]$, entonces $f$ es integrable sobre $[a,c]$ y $[c,b]$. Reciprocamente, si $f$ es integrable sobre $[a,c]$ y sobre $[c,b]$, entonces $f$ es integrable sobre $[a,b]$. Finalmente si $f$ es integrable sobre $[a,b]$, entonces\n",
    "$$ \\int_{a}^{b} f = \\int_{a}^{c} f + \\int_{c}^{b} f $$"
   ]
  },
  {
   "cell_type": "markdown",
   "metadata": {
    "slideshow": {
     "slide_type": "fragment"
    }
   },
   "source": [
    "Ahora si se introducen las siguientes definiciones\n",
    "$$ \\int_{a}^{a} f = 0 \\;\\;\\;y \\;\\;\\; \\int_{a}^{b} f = - \\int_{b}^{a} f \\;\\;\\;si \\;a>b$$ \n",
    "El teorema 2 se cumple para todo $a,c,b$ incluso si no se cumple $a<c<b$"
   ]
  },
  {
   "cell_type": "markdown",
   "metadata": {
    "slideshow": {
     "slide_type": "subslide"
    }
   },
   "source": [
    "**Teorema 3**\n",
    "Si $f$ y $g$ son integrables sobre $[a,b]$ entonces $f+g$ es integrable sobre $[a,b]$ y\n",
    "$$ \\int_{a}^{b} (f+g) = \\int_{a}^{b} f + \\int_{a}^{b} g $$"
   ]
  },
  {
   "cell_type": "markdown",
   "metadata": {
    "slideshow": {
     "slide_type": "fragment"
    }
   },
   "source": [
    "**Teorema 4**\n",
    "Si $f$es  integrable sobre $[a,b]$ entonces para cualquier número $c$, la función $cf$ es integrable sobre $[a,b]$ y\n",
    "$$ \\int_{a}^{b} cf = c\\cdot\\int_{a}^{b} f $$"
   ]
  },
  {
   "cell_type": "markdown",
   "metadata": {
    "slideshow": {
     "slide_type": "fragment"
    }
   },
   "source": [
    "**Teorema 5**\n",
    "Si $f$es  integrable sobre $[a,b]$ y $F$ está definida sobre $[a,b]$ por\n",
    "$$ F(x) = \\int_{a}^{x} f, $$\n",
    "entonces $F$ es continua sobre $[a,b]$"
   ]
  },
  {
   "cell_type": "markdown",
   "metadata": {
    "slideshow": {
     "slide_type": "subslide"
    }
   },
   "source": [
    "### Teorema Fundamental del Cálculo"
   ]
  },
  {
   "cell_type": "markdown",
   "metadata": {
    "slideshow": {
     "slide_type": "fragment"
    }
   },
   "source": [
    "* *Primer Teorema Fundamental del Cálculo Infinitesimal*\n",
    "\n",
    "Sea $f$ integrable sobre $[a,b]$ y defínase $F$ sobre $[a,b]$ por\n",
    "$$ F(x) = \\int_{a}^{x} f. $$\n",
    "Si $f$ es continua en $c$ de $[a,b]$, entonces $F$ es derivable en $c$, y \n",
    "$$ F'(c) = f(c) $$"
   ]
  },
  {
   "cell_type": "markdown",
   "metadata": {
    "slideshow": {
     "slide_type": "fragment"
    }
   },
   "source": [
    "**Nota:** Si $c=a,b$, entonces $F'(c)$ se entiende que representa la derivada por la derecha o por la izquierda de $F$."
   ]
  },
  {
   "cell_type": "markdown",
   "metadata": {
    "slideshow": {
     "slide_type": "subslide"
    }
   },
   "source": [
    "**Corolario**\n",
    "\n",
    "Si $f$ es continua sobre $[a,b]$ y $f=g'$ para alguna función $g$, entonces\n",
    "$$ \\int_{a}^{b} f = g(b) - g(a).$$\n",
    "*Sea\n",
    "$$ F(x) = \\int_{a}^{x} f. $$\n",
    "Entonces $F'=f=g'$ sobre $[a,b]$. En consecuncia, existe un número $c$ tal que\n",
    "$$ F = g + c $$\n",
    "El número $c$ puede calcularse fácilmente: obsérvese que\n",
    "$$ 0 = F(a) = g(a) + c, $$\n",
    "de modo que $c=-g(a)$; así pues,\n",
    "$$ F(x) = g(x) - g(a) = g(x) + c. $$\n",
    "Esto se cumple, en particular, para $x=b$. Así pues,\n",
    "$$ \\int_{a}^{b} f = F(b) =- g(a).$$\n",
    "QED*"
   ]
  },
  {
   "cell_type": "markdown",
   "metadata": {
    "slideshow": {
     "slide_type": "subslide"
    }
   },
   "source": [
    "* *Segundo Teorema Fundamental del Cálculo Infinitesimal*\n",
    "\n",
    "Si $f$ es integrable sobre $[a,b]$ y $f=g'$ para alguna función $g$, entonces\n",
    "$$ \\int_{a}^{b} f = g(b) - g(a).$$"
   ]
  },
  {
   "cell_type": "markdown",
   "metadata": {},
   "source": [
    "### Metodos de Integración\n",
    "\n",
    "* Integración por sustitución\n",
    "\n",
    "* Integración por partes\n",
    "\n",
    "* Integración por el metodo de fraccines parciales."
   ]
  },
  {
   "cell_type": "code",
   "execution_count": null,
   "metadata": {},
   "outputs": [],
   "source": []
  }
 ],
 "metadata": {
  "celltoolbar": "Slideshow",
  "kernelspec": {
   "display_name": "Python 3 (ipykernel)",
   "language": "python",
   "name": "python3"
  },
  "language_info": {
   "codemirror_mode": {
    "name": "ipython",
    "version": 3
   },
   "file_extension": ".py",
   "mimetype": "text/x-python",
   "name": "python",
   "nbconvert_exporter": "python",
   "pygments_lexer": "ipython3",
   "version": "3.9.7"
  },
  "latex_envs": {
   "LaTeX_envs_menu_present": true,
   "autoclose": false,
   "autocomplete": true,
   "bibliofile": "biblio.bib",
   "cite_by": "apalike",
   "current_citInitial": 1,
   "eqLabelWithNumbers": true,
   "eqNumInitial": 1,
   "hotkeys": {
    "equation": "Ctrl-E",
    "itemize": "Ctrl-I"
   },
   "labels_anchors": false,
   "latex_user_defs": false,
   "report_style_numbering": false,
   "user_envs_cfg": false
  },
  "nbTranslate": {
   "displayLangs": [],
   "hotkey": "alt-t",
   "langInMainMenu": true,
   "sourceLang": "es",
   "targetLang": "en",
   "useGoogleTranslate": true
  },
  "toc": {
   "base_numbering": 1,
   "nav_menu": {},
   "number_sections": true,
   "sideBar": true,
   "skip_h1_title": true,
   "title_cell": "Table of Contents",
   "title_sidebar": "Contenido",
   "toc_cell": false,
   "toc_position": {
    "height": "calc(100% - 180px)",
    "left": "10px",
    "top": "150px",
    "width": "165px"
   },
   "toc_section_display": true,
   "toc_window_display": false
  }
 },
 "nbformat": 4,
 "nbformat_minor": 4
}
