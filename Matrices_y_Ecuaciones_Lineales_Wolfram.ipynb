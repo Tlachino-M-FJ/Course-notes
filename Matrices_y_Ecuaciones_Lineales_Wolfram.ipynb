{
 "cells": [
  {
   "cell_type": "markdown",
   "id": "06ddecbb",
   "metadata": {
    "slideshow": {
     "slide_type": "fragment"
    }
   },
   "source": [
    "># <font color=\"orange\"><b>Matrices y Ecuaciones Lineales</b></font>"
   ]
  },
  {
   "cell_type": "markdown",
   "id": "2d13cf7b",
   "metadata": {
    "slideshow": {
     "slide_type": "slide"
    }
   },
   "source": [
    "## <font color=\"green\"><b>Matrices</b></font>"
   ]
  },
  {
   "cell_type": "markdown",
   "id": "c328164b",
   "metadata": {
    "slideshow": {
     "slide_type": "fragment"
    }
   },
   "source": [
    "<div style=\"background-color:rgb(250, 250, 100); opacity:0.7; border:rgb(0,120,170) 5px double; border-radius:17px;;\">\n",
    "<div style=\"margin:0.3%; color:gray; font-style:italic; font-family:cursive; text-align:justify; text-indent:1em;\">\n",
    "    \n",
    "Ahora que recordó como resolver sistemas de ecuaciones lineales, por ejemplo\n",
    "    \n",
    "\\begin{eqnarray*}\n",
    "\t3x + y + z &=& 0\\\\\n",
    "\tx + y + z &=& 0\n",
    "\\end{eqnarray*}\n",
    "    \n",
    "Debe observa que no es necesario escribir las variables (o incógnitas) $x_1, \\dots, x_m$, ya que realmente se opera solo con los coeficiente $a_{ij}$ y los escalares $b_i$, Es decir, se puede abreviar de la forma:\n",
    "    \n",
    "\\begin{equation*}\n",
    "\tAX = B\n",
    "\\end{equation*}\n",
    "donde    \n",
    "\\begin{equation*}\n",
    "\tA = \n",
    "\t\\begin{pmatrix}\n",
    "\t\t3 & 1 & 2 \\\\\n",
    "\t\t1 & 1 & 1\n",
    "\t\\end{pmatrix},\\qquad\\\n",
    "\tX =\n",
    "\t\\begin{pmatrix}\n",
    "\t\tx \\\\\n",
    "\t\ty \\\\\n",
    "\t\tz\n",
    "\t\\end{pmatrix}\\qquad\\text{y}\\qquad\\\n",
    "\tB = \n",
    "\t\\begin{pmatrix}\n",
    "\t\t0 \\\\\n",
    "\t\t0\n",
    "\t\\end{pmatrix}.\n",
    "\\end{equation*}\n",
    "    \n",
    "</div>\n",
    "</div>"
   ]
  },
  {
   "cell_type": "markdown",
   "id": "a1870d80",
   "metadata": {
    "slideshow": {
     "slide_type": "subslide"
    }
   },
   "source": [
    "### <font color=\"cyan\"><b>Definición de Matriz</b></font>"
   ]
  },
  {
   "cell_type": "markdown",
   "id": "372f87f3",
   "metadata": {
    "slideshow": {
     "slide_type": "fragment"
    }
   },
   "source": [
    "<div style=\"background-color:rgb(250, 250, 100); opacity:0.7; border:rgb(0,120,170) 5px double; border-radius:17px;;\">\n",
    "<div style=\"margin:0.3%; color:gray; font-style:italic; font-family:cursive; text-align:justify; text-indent:1em;\">\n",
    "    \n",
    "Retomemos el sistema de $m$ ecuaciones lineales con $n$ incógnitas\n",
    "\n",
    "\\begin{equation}\\label{eq:sit_ecu_lin}\n",
    "\t\\begin{matrix}\n",
    "\t\ta_{11}x_1 &+\\,\\cdots\\,+& a_{1n}x_n & = & b_1 \\\\\n",
    "\t\t\\vdots & & \\vdots & = & \\vdots \\\\\n",
    "\t\ta_{m1}x_1 &+\\,\\cdots\\,+& a_{mn}x_n & = & b_m\n",
    "\t\\end{matrix}\n",
    "\\end{equation}\n",
    "    \n",
    "<b>Nota</b>: Un sistema de ecuaciones lineales se puede abreviar de la forma\n",
    "\n",
    "\\begin{equation*}\n",
    "\tAX = B\n",
    "\\end{equation*}\n",
    "donde\n",
    "\\begin{equation*}\n",
    "\tA = \n",
    "\t\\begin{pmatrix}\n",
    "\t\ta_{11} & \\cdots & a_{1n}\\\\\n",
    "\t\t\\vdots &  & \\vdots\\\\\n",
    "\t\ta_{m1} & \\cdots & a_{mn}\n",
    "\t\\end{pmatrix},\\qquad\\\n",
    "\tX =\n",
    "\t\\begin{pmatrix}\n",
    "\t\tx_1\\\\\n",
    "\t\t\\vdots\\\\\n",
    "\t\tx_{n}\n",
    "\t\\end{pmatrix}\\qquad\\text{y}\\qquad\\\n",
    "\tB = \n",
    "\t\\begin{pmatrix}\n",
    "\t\tb_1\\\\\n",
    "\t\t\\vdots\\\\\n",
    "\t\tb_{m}\n",
    "\t\\end{pmatrix}.\n",
    "\\end{equation*}\n",
    "\n",
    "Estrictamente hablando, esta disposición rectangular no es una matriz, sino una representación de una matriz.\n",
    "    \n",
    "</div>\n",
    "</div>"
   ]
  },
  {
   "cell_type": "markdown",
   "id": "35f4e1b5",
   "metadata": {
    "slideshow": {
     "slide_type": "subslide"
    }
   },
   "source": [
    "<div style=\"background-color:rgb(0,120,170); opacity:0.7; border:rgb(0,170,120) 5px double; border-radius:17px;\">\n",
    "<div style=\"margin:0.3%; color:white; font-style:italic; font-family:cursive; text-align:justify; text-indent:1em;\">\n",
    "\n",
    "<b>Definición</b>: Una <b>matriz</b> $m \\times n$ sobre un campo $F$ es una función $A$ del conjunto de los pares enteros $(i, j)$, $1 \\leq i \\leq m$, $1 \\leq j \\leq n$, en el campo $F$.\n",
    "\n",
    "Los <b>elementos</b> de la matriz $A$ son los escalares $A(i, j) = a_{ij}$.\n",
    "\n",
    "\n",
    "El espacio de matrices de dimensión $m \\times n$ se representa por $\\mathcal{M}_{m \\times n}(F)$, donde $F$ es el campo al cual pertenecen los elementos de las matrices.\n",
    "    \n",
    "</div>\n",
    "</div>"
   ]
  },
  {
   "cell_type": "markdown",
   "id": "b493fd57",
   "metadata": {
    "slideshow": {
     "slide_type": "fragment"
    }
   },
   "source": [
    "<div style=\"background-color:rgb(0,120,170); opacity:0.7; border:rgb(0,170,120) 5px double; border-radius:17px;\">\n",
    "<div style=\"margin:0.3%; color:white; font-style:italic; font-family:cursive; text-align:justify; text-indent:1em;\">\n",
    "\n",
    "Un vector $(x_1, \\dots, x_n)$ es una matriz de $1 \\times n$.\n",
    "\n",
    "En una matriz, los renglones se pueden considerar como $n-$tuplas (vectores) y las columnas como $m-$tuplas verticales (vectores columna). Cuando expresamos una matriz en la forma $(a_{ij})$, $i$ denota el renglón y $j$ la columna.\n",
    "    \n",
    "</div>\n",
    "</div>"
   ]
  },
  {
   "cell_type": "markdown",
   "id": "0a000f05",
   "metadata": {
    "slideshow": {
     "slide_type": "fragment"
    }
   },
   "source": [
    "<div style=\"background-color:rgb(250,250,100); opacity:0.7; border:rgb(0,120,170) 5px double; border-radius:17px;;\">\n",
    "<div style=\"margin:0.3%; color:gray; font-style:italic; font-family:cursive; text-align:justify; text-indent:1em;\">\n",
    "    \n",
    "Entonces, ¿como manejamos la expresión $A X = B$? Para esto necesitamos saber que operaciones están definidas para las matrices y sus propiedades.\n",
    "    \n",
    "</div>\n",
    "</div>"
   ]
  },
  {
   "cell_type": "markdown",
   "id": "7fdc0682",
   "metadata": {
    "slideshow": {
     "slide_type": "subslide"
    }
   },
   "source": [
    "### <font color=\"cyan\"><b>Operaciones con Matrices</b></font>"
   ]
  },
  {
   "cell_type": "markdown",
   "id": "6907ada0",
   "metadata": {
    "slideshow": {
     "slide_type": "fragment"
    }
   },
   "source": [
    "<div style=\"background-color:rgb(0,120,170); opacity:0.7; border:rgb(0,170,120) 5px double; border-radius:17px;\">\n",
    "<div style=\"margin:0.3%; color:white; font-style:italic; font-family:cursive; text-align:justify; text-indent:1em;\">\n",
    "\n",
    "<b>Definición</b>: Definimos la <b>suma de matrices</b> $A + B$ solo si $A, B \\in \\mathcal{M}_{m \\times n}(F)$. Sean $A = (a_{ij}), \\,\\ B = (b_{ij})  \\in \\mathcal{M}_{m \\times n}(F)$, entonces\n",
    "    \n",
    "\\begin{equation*}\n",
    "    A + B = (a_{ij} + b_{ij})\n",
    "\\end{equation*}\n",
    "    \n",
    "Sea una matriz $A = (a_{ij}) \\in \\mathcal{M}_{m \\times n}(F)$ y un escalar $\\alpha \\in F$, entonces\n",
    "\n",
    "\\begin{equation*}\n",
    "\t\\alpha A = (\\alpha a_{ij})\n",
    "\\end{equation*}\n",
    "\n",
    "Definimos la <b>matriz nula</b> $O$, como aquella en que $a_{ij} = 0$ para todos $i$ y $j$\n",
    "\n",
    "\\begin{equation*}\n",
    "\tO = \n",
    "\t\\begin{pmatrix}\n",
    "\t\t0 & \\cdots & 0\\\\\n",
    "\t\t\\vdots &  & \\vdots\\\\\n",
    "\t\t0 & \\cdots & 0\n",
    "\t\\end{pmatrix}\n",
    "\\end{equation*}\n",
    "    \n",
    "</div>\n",
    "</div>"
   ]
  },
  {
   "cell_type": "markdown",
   "id": "11290f41",
   "metadata": {
    "slideshow": {
     "slide_type": "subslide"
    }
   },
   "source": [
    "<div style=\"background-color:rgb(0, 120, 30); opacity:0.7; border:rgb(250,250,100) 5px double; border-radius:17px;\">\n",
    "<div style=\"margin:0.3%; color:white; font-style:italic; font-family:cursive; text-align:justify; text-indent:1em;\">\n",
    "    \n",
    "<b>Propiedades</b>: Sean $A, B \\text{ y } C \\in \\mathcal{M}_{m \\times n}(F)$ y $\\alpha, \\beta \\in F$, entonces\n",
    "    \n",
    "<ol>\n",
    "<li>$A + B = B + A$</li>\n",
    "\n",
    "<li>$(A + B) + C = A + (B + C)$</li>\n",
    "\n",
    "<li>Sea $O$ la matriz nula en $\\mathcal{M}_{m \\times n}(F)$, entonces $A + O = O + A = A$, para toda $A \\in \\mathcal{M}_{m \\times n}(F)$</li>\n",
    "\n",
    "<li>Para toda $A \\in \\mathcal{M}_{m \\times n}(F)$ existe $B \\in \\mathcal{M}_{m \\times n}(F)$, tal que $A + B =O$, denotada por $B = -A$</li>\n",
    "    \n",
    "<li>$\\alpha(A + B) = \\alpha A + \\alpha B$</li>\n",
    "\n",
    "<li>$\\alpha\\beta(A) = \\alpha(\\beta A)$</li>\n",
    "\n",
    "<li>$(\\alpha + \\beta)A = \\alpha A + \\beta A$</li>\n",
    "</ol>\n",
    "    \n",
    "</div>\n",
    "</div>"
   ]
  },
  {
   "cell_type": "markdown",
   "id": "af38460c",
   "metadata": {
    "slideshow": {
     "slide_type": "fragment"
    }
   },
   "source": [
    "<div style=\"background-color:rgb(0,120,170); opacity:0.7; border:rgb(0,170,120) 5px double; border-radius:17px;\">\n",
    "<div style=\"margin:0.3%; color:white; font-style:italic; font-family:cursive; text-align:justify; text-indent:1em;\">\n",
    "    \n",
    "<b>Nota</b>: Como podrá ver, las matrices cumplen las mismas propiedades que los vectores (en lo que se refiere a la suma y multiplicación por escalar).\n",
    "    \n",
    "</div>\n",
    "</div>"
   ]
  },
  {
   "cell_type": "markdown",
   "id": "f0c2b124",
   "metadata": {
    "slideshow": {
     "slide_type": "subslide"
    }
   },
   "source": [
    "<div style=\"background-color:rgb(100,0,70); opacity:0.7; border:rgb(0,120,170) 5px double; border-radius:17px;\">\n",
    "<div style=\"margin:0.3%; color:white; font-style:italic; font-family:cursive; text-align:justify; text-indent:1em;\">\n",
    "    \n",
    "<b>Ejemplo</b>: Sean las matrices\n",
    "    \n",
    "\\begin{equation*}\n",
    "    A =\n",
    "    \\begin{pmatrix}\n",
    "\t\t1 & 3 & -4\\\\\n",
    "\t\t7 & 1 & 6\n",
    "\t\\end{pmatrix}\n",
    "    \\quad\\text{y}\\quad\\ B =\n",
    "    \\begin{pmatrix}\n",
    "\t\t-3 & 1 & 2\\\\\\\n",
    "\t\t2 & 8 & 3\n",
    "\t\\end{pmatrix}.\n",
    "\\end{equation*}\n",
    "    \n",
    "Obtener: a) $2A + 2B$, b) $2A - 5B$, c) $3B - 4A$, d) $A - 7B$ y e) $3A - 6B$.\n",
    "    \n",
    "<b>Solución a)</b>: Aplicando las definiciones y propiedades antes mencionadas, tenemos\n",
    "    \n",
    "\\begin{eqnarray*}\n",
    "    2A + 2B = 2(A + B) = 2(a_{ij}) + 2(b_{ij}) &=& \n",
    "    2\n",
    "    \\begin{pmatrix}\n",
    "\t\t1 & 3 & -4\\\\\n",
    "\t\t7 & 1 & 6\n",
    "\t\\end{pmatrix}\n",
    "    + 2\n",
    "    \\begin{pmatrix}\n",
    "\t\t-3 & 1 & 2\\\\\\\n",
    "\t\t2 & 8 & 3\n",
    "\t\\end{pmatrix} \\\\\n",
    "    &=&\n",
    "    \\begin{pmatrix}\n",
    "\t\t2 & 6 & -8\\\\\n",
    "\t\t14 & 2 & 12\n",
    "\t\\end{pmatrix}\n",
    "    +\n",
    "    \\begin{pmatrix}\n",
    "\t\t-6 & 2 & 4\\\\\\\n",
    "\t\t4 & 16 & 6\n",
    "\t\\end{pmatrix} \\\\\n",
    "    &=&\n",
    "    \\begin{pmatrix}\n",
    "\t\t-4 & 8 & -4\\\\\n",
    "\t\t18 & 18 & 18\n",
    "\t\\end{pmatrix}.\n",
    "\\end{eqnarray*}\n",
    "    \n",
    "Los incisos b), c), d) y e) se dejan de ejercicio.\n",
    "    \n",
    "</div>\n",
    "</div>"
   ]
  },
  {
   "cell_type": "markdown",
   "id": "1e095e05",
   "metadata": {
    "slideshow": {
     "slide_type": "subslide"
    }
   },
   "source": [
    ">En Wolfram, podremos realizar operaciones con matrices, veamos algunas operaciones resolviendo el ejemplo anterior."
   ]
  },
  {
   "cell_type": "code",
   "execution_count": null,
   "id": "5278c17d",
   "metadata": {
    "slideshow": {
     "slide_type": "fragment"
    },
    "vscode": {
     "languageId": "wolfram language"
    }
   },
   "outputs": [
    {
     "data": {
      "text/html": [
       "<style>\n",
       "\t\t\t\t\t\t\t\t\t\t\t\t\t.grid-container {\n",
       "\t\t\t\t\t\t\t\t\t\t\t\t\t\tdisplay: inline-grid;\n",
       "\t\t\t\t\t\t\t\t\t\t\t\t\t\tgrid-template-columns: auto;\n",
       "\t\t\t\t\t\t\t\t\t\t\t\t\t}\n",
       "\t\t\t\t\t\t\t\t\t\t\t\t</style>\n",
       "\n",
       "\t\t\t\t\t\t\t\t\t\t\t\t<div><div class=\"grid-container\"><div class=\"grid-item\"><img alt=\"Output\" src=\"data:image/png;base64,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\"></div><div class=\"grid-item\"><img alt=\"Output\" src=\"data:image/png;base64,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\"></div><div class=\"grid-item\"><img alt=\"Output\" src=\"data:image/png;base64,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\"></div><div class=\"grid-item\"><img alt=\"Output\" src=\"data:image/png;base64,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\"></div><div class=\"grid-item\"><img alt=\"Output\" src=\"data:image/png;base64,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\"></div><div class=\"grid-item\"><img alt=\"Output\" src=\"data:image/png;base64,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\"></div></div></div>"
      ],
      "text/plain": [
       "{{2, 6, -8}, {14, 2, 12}}\n",
       "{{-6, 2, 4}, {4, 16, 6}}\n",
       "{{-2, 4, -2}, {9, 9, 9}}\n",
       "-4   8    -4\n",
       "\n",
       "18   18   18\n",
       "-4   8    -4\n",
       "\n",
       "18   18   18\n",
       "-4   8    -4\n",
       "\n",
       "18   18   18"
      ]
     },
     "metadata": {},
     "output_type": "display_data"
    }
   ],
   "source": [
    "(*Definiendo matrices*)\n",
    "A = {{1, 3, -4}, {7, 1, 6}};\n",
    "B = {{-3, 1, 2}, {2, 8, 3}};\n",
    "(*Operaciones básicas con matrices*)\n",
    "dosA = 2 A           (*El producto por escalar se indica con un \"espacio\" o utilizando el simbolo \"*\".*)\n",
    "dosB = 2*B       \n",
    "AmasB = A + B       (*Suma o resta de matrices*)\n",
    "dosAmasB = 2 AmasB //MatrixForm\n",
    "dosAmasB = dosA + dosB //MatrixForm\n",
    "2 A + 2 B //MatrixForm"
   ]
  },
  {
   "cell_type": "markdown",
   "id": "255e5ee7",
   "metadata": {
    "slideshow": {
     "slide_type": "subslide"
    }
   },
   "source": [
    "<div style=\"background-color:rgb(0,120,170); opacity:0.7; border:rgb(0,170,120) 5px double; border-radius:17px;\">\n",
    "<div style=\"margin:0.3%; color:white; font-style:italic; font-family:cursive; text-align:justify; text-indent:1em;\">\n",
    "\n",
    "<b>Definición</b>: Definimos otra notación relacionada con un matriz. Sea $A = (a_{ij}) \\in \\mathcal{M}_{m \\times n}(F)$. La matriz $B = (b_{ji}) \\in \\mathcal{M}_{n \\times m}(F)$ tal que $(b_{ji}) = (a_{ij})$ se conoce como <b>transpuesta</b> de $A$, y se denota como $A^T$. El transponer una matriz equivale a intercambiar renglones por columnas y viceversa.\n",
    "\n",
    "\\begin{equation*}\n",
    "\tA = \n",
    "\t\\begin{pmatrix}\n",
    "\t\ta_{11} & \\cdots & a_{1n}\\\\\n",
    "\t\t\\vdots &  & \\vdots\\\\\n",
    "\t\ta_{m1} & \\cdots & a_{mn}\n",
    "\t\\end{pmatrix},\\qquad\\\n",
    "\tA^T =\n",
    "\t\\begin{pmatrix}\n",
    "\t\ta_{11} & \\cdots & a_{m1}\\\\\n",
    "\t\t\\vdots &  & \\vdots\\\\\n",
    "\t\ta_{1n} & \\cdots & a_{mn}\n",
    "\t\\end{pmatrix}.\n",
    "\\end{equation*}\n",
    "\n",
    "Una matriz $A$ que sea igual a su transpuesta, es decir, $A = A^T$ ($a_{ij} = a_{ji}$), se conoce como <b>simétrica</b>. Dicha matriz necesariamente es cuadrada, para dichas matrices, los elementos $(a_{ii})$ se les llama <b>elementos de la diagonal</b>. ¿En qué difieren los elementos de las diagonales de $A$ y $A^T$?\n",
    "\n",
    "na matriz $A$ que sea igual a menos su transpuesta, es decir, $A = -A^T$ ($a_{ij} = - a_{ji}$), se conoce como <b>antisimétrica</b> (dicha matriz también es cuadrada). ¿Como son los elementos de las diagonales de una matriz antisimétrica?\n",
    "    \n",
    "</div>    \n",
    "</div>"
   ]
  },
  {
   "cell_type": "markdown",
   "id": "6aa3b2d6",
   "metadata": {
    "slideshow": {
     "slide_type": "subslide"
    }
   },
   "source": [
    "<div style=\"background-color:rgb(0, 120, 30); opacity:0.7; border:rgb(250,250,100) 5px double; border-radius:17px;\">\n",
    "<div style=\"margin:0.3%; color:white; font-style:italic; font-family:cursive; text-align:justify; text-indent:1em;\">\n",
    "    \n",
    "<b>Propiedades</b>: Sean $A, B \\in \\mathcal{M}_{m \\times n}(F)$ y $\\alpha \\in F$, entonces\n",
    "    \n",
    "<ol>\n",
    "<li>$(A + B)^T = A^T + B^T$</li>\n",
    "\n",
    "<li>$(\\alpha A)^T = \\alpha A^T$</li>\n",
    "\n",
    "<li>$(A^T)^T = A$</li>\n",
    "</ol>\n",
    "    \n",
    "</div>    \n",
    "</div>"
   ]
  },
  {
   "cell_type": "markdown",
   "id": "c09c6270",
   "metadata": {
    "slideshow": {
     "slide_type": "fragment"
    }
   },
   "source": [
    "<div style=\"background-color:rgb(100,0,70); opacity:0.7; border:rgb(0,120,170) 5px double; border-radius:17px;\">\n",
    "<div style=\"margin:0.3%; color:white; font-style:italic; font-family:cursive; text-align:justify; text-indent:1em;\">\n",
    "    \n",
    "<b>Ejercicio</b>: Sea $A \\in \\mathcal{M}_{n \\times n}(F)$, demostrar que\n",
    "\n",
    "\\begin{eqnarray*}\n",
    "\t\\text{a) }&\\quad\\ & A + A^T &\\quad\\text{es simétrica} \\\\\n",
    "\t\\text{b) }&\\quad\\ & A - A^T &\\quad\\text{es antisimétrica} \n",
    "\\end{eqnarray*}\n",
    "    \n",
    "</div>    \n",
    "</div>"
   ]
  },
  {
   "cell_type": "markdown",
   "id": "9aec3fb4",
   "metadata": {
    "slideshow": {
     "slide_type": "fragment"
    }
   },
   "source": [
    "<div style=\"background-color:rgb(250,250,100); opacity:0.7; border:rgb(0,120,170) 5px double; border-radius:17px;;\">\n",
    "<div style=\"margin:0.3%; color:gray; font-style:italic; font-family:cursive; text-align:justify; text-indent:1em;\">\n",
    "    \n",
    "<b>Nota</b>: Si $F = \\mathbb{C}$ (el campo de los números complejos), entonces se define la <b>matriz conjugada</b> $\\bar{A}$, como la matriz formada al realizar el complejo conjugado de todos los elementos de $A$, es decir, $\\bar{A} = (\\bar{a}_{ij})$ donde $\\bar{a}_{ij}$ son los complejos conjugados de $a_{ij}$. Además, si $\\bar{A} = A^T$  se dice que la matriz $A$ es <b>hermítica</b> $A = A^\\dagger$, y si $\\bar{A} = -A^T$ entonces $A$ es <b>antihermítica</b>.\n",
    "    \n",
    "</div>    \n",
    "</div>"
   ]
  },
  {
   "cell_type": "markdown",
   "id": "e9198591",
   "metadata": {
    "slideshow": {
     "slide_type": "subslide"
    }
   },
   "source": [
    "<div style=\"background-color:rgb(0,120,170); opacity:0.7; border:rgb(0,170,120) 5px double; border-radius:17px;\">\n",
    "<div style=\"margin:0.3%; color:white; font-style:italic; font-family:cursive; text-align:justify; text-indent:1em;\">\n",
    "\n",
    "<b>Definición</b>: Definimos el <b>producto de matrices</b> de $A$ y $B$, solo si $A \\in \\mathcal{M}_{m \\times n}(F)$ y $B \\in \\mathcal{M}_{n \\times s}(F)$. Sea $A = (a_{ij})$ una matriz de $m \\times n$ y $B = (b_{jk})$ una matriz de $n \\times s$:\n",
    "\n",
    "\\begin{equation*}\n",
    "\tA = \n",
    "\t\\begin{pmatrix}\n",
    "\t\ta_{11} & \\cdots & a_{1n}\\\\\n",
    "\t\t\\vdots & & \\vdots\\\\\n",
    "\t\ta_{m1} & \\cdots & a_{mn}\n",
    "\t\\end{pmatrix}, \\quad\\\n",
    "\tB = \n",
    "\t\\begin{pmatrix}\n",
    "\t\tb_{11} & \\cdots & a_{bs}\\\\\n",
    "\t\t\\vdots &  & \\vdots\\\\\n",
    "\t\tb_{n1} & \\cdots & b_{ns}\n",
    "\t\\end{pmatrix}\n",
    "\\end{equation*}\n",
    "\n",
    "Definimos el producto $AB$ como la matriz de $m \\times s$ cuyo elemento $ik$ es\n",
    "\n",
    "\\begin{equation*}\n",
    "\t\\sum_{j=1}^{n} a_{ij}b_{jk} = a_{i1}b_{ik} + a_{i2}b_{2k} + \\cdots + a_{in}b_{nk}\n",
    "\\end{equation*}\n",
    "\n",
    "Si $A_1, \\cdots, A_m$ son los vectores renglón de la matriz $A$, y si $B^1, \\dots, B^s$ son los vectores columna de la matriz $B$ (no confundir con las potencias de la matriz $B$), entonces los elementos $ik$ del producto $AB$ es igual a $A_i \\cdot B^k$. Es decir\n",
    "\n",
    "\\begin{equation*}\n",
    "\tAB = \n",
    "\t\\begin{pmatrix}\n",
    "\t\tA_1 \\cdot B^1 & \\cdots & A_1 \\cdot B^s\\\\\n",
    "\t\t\\vdots & & \\vdots\\\\\n",
    "\t\tA_m \\cdot B^1 & \\cdots & A_m \\cdot B^s\n",
    "\t\\end{pmatrix}\n",
    "\\end{equation*}\n",
    "    \n",
    "</div>    \n",
    "</div>"
   ]
  },
  {
   "cell_type": "markdown",
   "id": "48e9c1a4",
   "metadata": {
    "slideshow": {
     "slide_type": "subslide"
    }
   },
   "source": [
    "<div style=\"background-color:rgb(250,250,100); opacity:0.7; border:rgb(0,120,170) 5px double; border-radius:17px;;\">\n",
    "<div style=\"margin:0.3%; color:gray; font-style:italic; font-family:cursive; text-align:justify; text-indent:1em;\">\n",
    "    \n",
    "<b>Nota</b>: Se puede decir que el producto de matrices es, por consiguiente, una generalización del producto interior.\n",
    "    \n",
    "</div>    \n",
    "</div>"
   ]
  },
  {
   "cell_type": "markdown",
   "id": "0d43ee26",
   "metadata": {
    "slideshow": {
     "slide_type": "fragment"
    }
   },
   "source": [
    "<div style=\"background-color:rgb(250,250,100); opacity:0.7; border:rgb(0,120,170) 5px double; border-radius:17px;;\">\n",
    "<div style=\"margin:0.3%; color:gray; font-style:italic; font-family:cursive; text-align:justify; text-indent:1em;\">\n",
    "\n",
    "Ahora ya tiene sentida la expresión $AX = B$, ya que $A \\in \\mathcal{M}_{m \\times n}(F)$, $X \\in \\mathcal{M}_{n \\times 1}(F)$ y $B \\in \\mathcal{M}_{m \\times 1}(F)$, es decir esta operación matricial esta bien definida. Recordando que esta expresión se dio para representar un sistema de ecuaciones lineales, mas adelante veremos que es posible resolver el sistema mediante operaciones matriciales.\n",
    "    \n",
    "</div>    \n",
    "</div>"
   ]
  },
  {
   "cell_type": "markdown",
   "id": "1f6f0d62",
   "metadata": {
    "slideshow": {
     "slide_type": "fragment"
    }
   },
   "source": [
    "<div style=\"background-color:rgb(250,250,100); opacity:0.7; border:rgb(0,120,170) 5px double; border-radius:17px;;\">\n",
    "<div style=\"margin:0.3%; color:gray; font-style:italic; font-family:cursive; text-align:justify; text-indent:1em;\">\n",
    "\n",
    "Si $A$ es una matriz cuadrada, entonces podemos formar el producto $AA$, que será una matriz cuadrada de la misma dimensión que $A$, y se denota por $A^2$. En forma análoga, podemos formar $A^3, A^4$ y en general $A^n$ para cualquier entero positivo $n$.\n",
    "    \n",
    "</div>    \n",
    "</div>"
   ]
  },
  {
   "cell_type": "markdown",
   "id": "2b19621a",
   "metadata": {
    "slideshow": {
     "slide_type": "subslide"
    }
   },
   "source": [
    "<div style=\"background-color:rgb(0,120,170); opacity:0.7; border:rgb(0,170,120) 5px double; border-radius:17px;\">\n",
    "<div style=\"margin:0.3%; color:white; font-style:italic; font-family:cursive; text-align:justify; text-indent:1em;\">\n",
    "\n",
    "<b>Definición</b>: Definimos la <b>matriz unitaria</b> $I \\in \\mathcal{M}_{n \\times n}(F)$ como la matriz que tiene toas las componentes de la diagonal igual a $1$ y todas las demás iguala $0$. Así la matriz unitaria de dimensión $n \\times n$ tiene la forma\n",
    "\n",
    "\\begin{equation*}\n",
    "\tI = \n",
    "\t\\begin{pmatrix}\n",
    "\t\t1 & \\cdots & 0 \\\\\n",
    "\t\t\\vdots & \\ddots & \\vdots \\\\\n",
    "\t\t0 & \\cdots & 1\n",
    "\t\\end{pmatrix}.\n",
    "\\end{equation*}\n",
    "\n",
    "De forma alternativa la podemos representar mediante la función <b>delta de Kronecker</b> ($\\delta_{ij}$)\n",
    "\n",
    "\\begin{equation*}\n",
    "\tI = (\\delta_{ij}) = \\left\\{\n",
    "\t\\begin{array}{l}\n",
    "\t\t1, \\quad\\text{ si }\\quad\\ i = j \\\\\n",
    "\t\t0, \\quad\\text{ si }\\quad\\ i \\neq j\n",
    "\t\\end{array}\\right.\n",
    "\\end{equation*}\n",
    "    \n",
    "</div>    \n",
    "</div>"
   ]
  },
  {
   "cell_type": "markdown",
   "id": "832cf5c7",
   "metadata": {
    "slideshow": {
     "slide_type": "fragment"
    }
   },
   "source": [
    "<div style=\"background-color:rgb(250,250,100); opacity:0.7; border:rgb(0,120,170) 5px double; border-radius:17px;;\">\n",
    "<div style=\"margin:0.3%; color:gray; font-style:italic; font-family:cursive; text-align:justify; text-indent:1em;\">\n",
    "    \n",
    "Entonces para una matriz $A \\in \\mathcal{M}_{n \\times n}(F)$, podemos definir $A^0 = I$, con $I$ la matriz unitaria de la misma dimensión.\n",
    "    \n",
    "Observe que, para cualesquiera enteros $r, s \\leq 0$, se cumple la relación: $A^r A^s = A^s A^r = A^{r+s}$.\n",
    "    \n",
    "</div>    \n",
    "</div>"
   ]
  },
  {
   "cell_type": "markdown",
   "id": "a9a3d47f",
   "metadata": {
    "slideshow": {
     "slide_type": "subslide"
    }
   },
   "source": [
    "<div style=\"background-color:rgb(250,250,100); opacity:0.7; border:rgb(0,120,170) 5px double; border-radius:17px;;\">\n",
    "<div style=\"margin:0.3%; color:gray; font-style:italic; font-family:cursive; text-align:justify; text-indent:1em;\">\n",
    "    \n",
    "<b>Nota</b>: En general $AB \\neq BA$, decimos entonces que el producto de matrices es <b>no conmutativo</b> (o <b>no abeliano</b>). Por ejemplo sean las matrices.\n",
    "    \n",
    "\\begin{equation*}\n",
    "    A =\n",
    "    \\begin{pmatrix}\n",
    "\t\t3 & 2 \\\\\n",
    "\t\t0 & 1\n",
    "\t\\end{pmatrix}\n",
    "    \\quad\\text{y}\\quad\\  B =\n",
    "    \\begin{pmatrix}\n",
    "\t\t2 & -1 \\\\\n",
    "\t\t0 & 5\n",
    "\t\\end{pmatrix},\n",
    "\\end{equation*}\n",
    "obtenga los productos $AB$ y $BA$.\n",
    "    \n",
    "</div>    \n",
    "</div>"
   ]
  },
  {
   "cell_type": "markdown",
   "id": "25958266",
   "metadata": {
    "slideshow": {
     "slide_type": "fragment"
    }
   },
   "source": [
    "<div style=\"background-color:rgb(0, 120, 30); opacity:0.7; border:rgb(250,250,100) 5px double; border-radius:17px;\">\n",
    "<div style=\"margin:0.3%; color:white; font-style:italic; font-family:cursive; text-align:justify; text-indent:1em;\">\n",
    "    \n",
    "<b>Propiedades</b>: Sea $\\alpha \\in F$ y sean $A, B \\text{ y } C$ matrices sobre el campo $F$, tales que los productos esten bien definidos. Entonces\n",
    "\n",
    "<ol>\n",
    "<li>$A(B + C) = AB + AC$</li>\n",
    "\n",
    "<li>$(AB)C = A(BC)$</li>\n",
    "\n",
    "<li>$A(\\alpha B) = \\alpha(AB)$</li>\n",
    "\n",
    "<li>$AI = IA = A$, además $AO = O \\text{ y } OA=O$</li>\n",
    "\n",
    "<li>$(AB)^T = B^T A^T$</li>\n",
    "</ol>\n",
    "    \n",
    "</div>    \n",
    "</div>"
   ]
  },
  {
   "cell_type": "markdown",
   "id": "c40ae979",
   "metadata": {
    "slideshow": {
     "slide_type": "subslide"
    }
   },
   "source": [
    "<div style=\"background-color:rgb(100,0,70); opacity:0.7; border:rgb(0,120,170) 5px double; border-radius:17px;\">\n",
    "<div style=\"margin:0.3%; color:white; font-style:italic; font-family:cursive; text-align:justify; text-indent:1em;\">\n",
    "    \n",
    "<b>Ejemplo</b>: Sean las matrices\n",
    "    \n",
    "\\begin{equation*}\n",
    "    A =\n",
    "    \\begin{pmatrix}\n",
    "\t\t1 & 3 & -4\\\\\n",
    "\t\t7 & 1 & 6\n",
    "\t\\end{pmatrix}\n",
    "    \\quad\\text{y}\\quad\\ B =\n",
    "    \\begin{pmatrix}\n",
    "\t\t-3 & 1 & 2\\\\\\\n",
    "\t\t2 & 8 & 3\n",
    "\t\\end{pmatrix}.\n",
    "\\end{equation*}\n",
    "    \n",
    "btener: a) $AB^T$, b) $BA^T$, c) $AA^T$, d) $BB^T$ y e) $A^T A$.\n",
    "    \n",
    "<b>Solución a)</b>: Aplicando las definiciones y propiedades antes mencionadas, tenemos\n",
    "    \n",
    "Primero obtenemos $B^T$\n",
    "    \n",
    "\\begin{eqnarray*}\n",
    "    B^T =\n",
    "    \\begin{pmatrix}\n",
    "\t\t-3 & 2 \\\\\n",
    "\t\t1 & 8 \\\\\n",
    "\t\t2 & 3\n",
    "\t\\end{pmatrix},\n",
    "\\end{eqnarray*}\n",
    "    \n",
    "Ahora vemos que el producto $AB^T$ esta bien definido\n",
    "    \n",
    "\\begin{eqnarray*}\n",
    "    AB^T &=&\n",
    "    \\begin{pmatrix}\n",
    "\t\t1 & 3 & -4 \\\\\n",
    "\t\t7 & 1 & 6\n",
    "\t\\end{pmatrix}\n",
    "    \\begin{pmatrix}\n",
    "\t\t-3 & 2 \\\\\n",
    "\t\t1 & 8 \\\\\n",
    "\t\t2 & 3\n",
    "\t\\end{pmatrix} \\\\\n",
    "    &=&\n",
    "    \\begin{pmatrix}\n",
    "\t\t(1)(-3) + (3)(1) + (-4)(2) & (1)(2) + (3)(8) + (-4)(3) \\\\\n",
    "\t\t(7)(-3) + (1)(1) + (6)(2) & (7)(2) + (1)(8) + (6)(3)\n",
    "\t\\end{pmatrix} \\\\\n",
    "    &=&\n",
    "    \\begin{pmatrix}\n",
    "\t\t-8 & 14 \\\\\n",
    "\t\t-8 & 40\n",
    "\t\\end{pmatrix}\n",
    "\\end{eqnarray*}\n",
    "    \n",
    "Los incisos b), c), d) y e) se dejan de ejercicio\n",
    "    \n",
    "</div>    \n",
    "</div>"
   ]
  },
  {
   "cell_type": "markdown",
   "id": "b7a53acb",
   "metadata": {
    "slideshow": {
     "slide_type": "subslide"
    }
   },
   "source": [
    ">Veamos los comandos para realizar estas operaciones en Wolfram. Haremos igualmente el inciso a), los demás se dejan como ejercicios."
   ]
  },
  {
   "cell_type": "code",
   "execution_count": null,
   "id": "9831846f",
   "metadata": {
    "slideshow": {
     "slide_type": "fragment"
    },
    "vscode": {
     "languageId": "wolfram language"
    }
   },
   "outputs": [
    {
     "data": {
      "text/html": [
       "<style>\n",
       "\t\t\t\t\t\t\t\t\t\t\t\t\t.grid-container {\n",
       "\t\t\t\t\t\t\t\t\t\t\t\t\t\tdisplay: inline-grid;\n",
       "\t\t\t\t\t\t\t\t\t\t\t\t\t\tgrid-template-columns: auto;\n",
       "\t\t\t\t\t\t\t\t\t\t\t\t\t}\n",
       "\t\t\t\t\t\t\t\t\t\t\t\t</style>\n",
       "\n",
       "\t\t\t\t\t\t\t\t\t\t\t\t<div><div class=\"grid-container\"><div class=\"grid-item\"><img alt=\"Output\" src=\"data:image/png;base64,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\"></div><div class=\"grid-item\"><img alt=\"Output\" src=\"data:image/png;base64,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\"></div><div class=\"grid-item\"><img alt=\"Output\" src=\"data:image/png;base64,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\"></div></div></div>"
      ],
      "text/plain": [
       "{{-3, 2}, {1, 8}, {2, 3}}\n",
       "-3   2\n",
       "\n",
       "1    8\n",
       "\n",
       "2    3\n",
       "-8   14\n",
       "\n",
       "-8   40"
      ]
     },
     "metadata": {},
     "output_type": "display_data"
    }
   ],
   "source": [
    "(*Definiendo matrices*)\n",
    "(* A := {{1, 3, -4}, {7, 1, 6}}\n",
    "B := {{-3, 1, 2}, {2, 8, 3}} *)\n",
    "(*Producots de matrices*)\n",
    "tranB = Transpose[B]              (*transpuesta de una matriz*)\n",
    "MatrixForm[%]                    (*Nos muestra la forma matricial del resultado anterior*)\n",
    "AtranB = A.tranB //MatrixForm   (*Producto de matrices*)"
   ]
  },
  {
   "cell_type": "markdown",
   "id": "4ab7c9f7",
   "metadata": {
    "slideshow": {
     "slide_type": "subslide"
    }
   },
   "source": [
    "<div style=\"background-color:rgb(0,120,170); opacity:0.7; border:rgb(0,170,120) 5px double; border-radius:17px;\">\n",
    "<div style=\"margin:0.3%; color:white; font-style:italic; font-family:cursive; text-align:justify; text-indent:1em;\">\n",
    "    \n",
    "<b>Definición</b>: Sea $A \\in \\mathcal{M}_{n \\times n}(F)$. Una matriz $B \\in \\mathcal{M}_{n \\times n}(F)$; tal que $BA = I$ se llama <b>inversa por la izquierda</b> de $A$, una matriz $B \\in \\mathcal{M}_{n \\times n}(F)$, tal que $AB = I$ se llama <b>inversa por la derecha</b> de $A$. Si $AB = BA = I$, entonces $B$ se llama <b>inversa bilateral</b> (o simplemente <b>inversa</b>) de $A$, y se dice que $A$ es <b>invertible</b>.\n",
    "    \n",
    "</div>\n",
    "</div>"
   ]
  },
  {
   "cell_type": "markdown",
   "id": "7ff4fe6d",
   "metadata": {
    "slideshow": {
     "slide_type": "fragment"
    }
   },
   "source": [
    "<div style=\"background-color:rgb(0, 120, 30); opacity:0.7; border:rgb(250,250,100) 5px double; border-radius:17px;\">\n",
    "<div style=\"margin:0.3%; color:white; font-style:italic; font-family:cursive; text-align:justify; text-indent:1em;\">\n",
    "    \n",
    "<b>Lema</b>: Si $A$ tiene una inversa por la izquierda, $B$,  y una inversa por la derecha, $C$, entonces $B = C$\n",
    "    \n",
    "Así, si $A$ tiene inversa por la izquierda y por la derecha, entonces $A$ es invertible y su inversa se representa por $A^{-1}$.\n",
    "    \n",
    "</div>\n",
    "</div>"
   ]
  },
  {
   "cell_type": "markdown",
   "id": "a2d19dbc",
   "metadata": {
    "slideshow": {
     "slide_type": "fragment"
    }
   },
   "source": [
    "<div style=\"background-color:rgb(250,250,100); opacity:0.7; border:rgb(0,120,170) 5px double; border-radius:17px;;\">\n",
    "<div style=\"margin:0.3%; color:gray; font-style:italic; font-family:cursive; text-align:justify; text-indent:1em;\">\n",
    "    \n",
    "<b>Nota</b>: Se puede probar que, si $A, B \\in \\mathcal{M}_{n \\times n}(F)$ tal que $AB = I$, entonces se cumple que $BA = I$. Es decir, si $B$ es una inversa por la derecha de $A$, entonces también es una inversa por la izquierda ($B = A^{-1}$).\n",
    "    \n",
    "</div>\n",
    "</div>"
   ]
  },
  {
   "cell_type": "markdown",
   "id": "a08072ff",
   "metadata": {
    "slideshow": {
     "slide_type": "subslide"
    }
   },
   "source": [
    "<div style=\"background-color:rgb(0, 120, 30); opacity:0.7; border:rgb(250,250,100) 5px double; border-radius:17px;\">\n",
    "<div style=\"margin:0.3%; color:white; font-style:italic; font-family:cursive; text-align:justify; text-indent:1em;\">\n",
    "    \n",
    "<b>Propiedades</b>: Sean $A, B \\in \\mathcal{M}_{n \\times n}(F)$ invertibles.\n",
    "\n",
    "<ol>\n",
    "<li>$(A^{-1})^{-1} = A$</li>\n",
    "\n",
    "<li>$(AB)^{-1} = A^{-1}B^{-1}$</li>\n",
    "\n",
    "<li>$(A^{-1})^T = (A^T)^{-1}$</li>\n",
    "</ol>\n",
    "    \n",
    "</div>\n",
    "</div>"
   ]
  },
  {
   "cell_type": "markdown",
   "id": "a5f80e41",
   "metadata": {
    "slideshow": {
     "slide_type": "fragment"
    }
   },
   "source": [
    "<div style=\"background-color:rgb(250,250,100); opacity:0.7; border:rgb(0,120,170) 5px double; border-radius:17px;;\">\n",
    "<div style=\"margin:0.3%; color:gray; font-style:italic; font-family:cursive; text-align:justify; text-indent:1em;\">\n",
    "    \n",
    "<b>Nota</b>: Más adelante mostraremos como calcular la inversa, cuando exista, de una matriz.\n",
    "    \n",
    "</div>\n",
    "</div>"
   ]
  },
  {
   "cell_type": "markdown",
   "id": "bf4dbe77",
   "metadata": {
    "slideshow": {
     "slide_type": "fragment"
    }
   },
   "source": [
    "<div style=\"background-color:rgb(0, 120, 30); opacity:0.7; border:rgb(250,250,100) 5px double; border-radius:17px;\">\n",
    "<div style=\"margin:0.3%; color:white; font-style:italic; font-family:cursive; text-align:justify; text-indent:1em;\">\n",
    "    \n",
    "<b>Teorema</b>: Si existe una matriz inversa de $A \\in \\mathcal{M}_{n \\times n}$, entonces es única.\n",
    "    \n",
    "</div>\n",
    "</div>"
   ]
  },
  {
   "cell_type": "markdown",
   "id": "ed1c14f6",
   "metadata": {
    "slideshow": {
     "slide_type": "fragment"
    }
   },
   "source": [
    "<div style=\"background-color:rgb(250,250,100); opacity:0.7; border:rgb(0,120,170) 5px double; border-radius:17px;;\">\n",
    "<div style=\"margin:0.3%; color:gray; font-style:italic; font-family:cursive; text-align:justify; text-indent:1em;\">\n",
    "    \n",
    "Antes de continuar, se han preguntado, además de los sistemas de ecuaciones lineales, <b>¿qué otras aplicaciones tienen las matrices?</b>\n",
    "    \n",
    "</div>\n",
    "</div>"
   ]
  },
  {
   "cell_type": "markdown",
   "id": "1c286f9a",
   "metadata": {
    "slideshow": {
     "slide_type": "subslide"
    }
   },
   "source": [
    "<div style=\"background-color:rgb(100,0,70); opacity:0.7; border:rgb(0,120,170) 5px double; border-radius:17px;\">\n",
    "<div style=\"margin:0.3%; color:white; font-style:italic; font-family:cursive; text-align:justify; text-indent:1em;\">\n",
    "    \n",
    "<b>Ejemplo (Rotaciones)</b>: Un conjunto especial de matrices de dimensión $2 \\times 2$ representa rotaciones. Para cada $\\theta$, sea $R(\\theta)$ la matriz\n",
    "\n",
    "\\begin{equation*}\n",
    "\tR(\\theta) =\n",
    "\t\\begin{pmatrix}\n",
    "\t\t\\cos(\\theta) & -\\sin(\\theta) \\\\\n",
    "\t\t\\sin(\\theta) & \\cos(\\theta)\n",
    "\t\\end{pmatrix}.\n",
    "\\end{equation*}\n",
    "\n",
    "Y sea $X^T = (x, y)$ un punto (vector) sobre el circulo unitario. Podemos escribir sus coordenadas $x, y$ en la forma\n",
    "\n",
    "\\begin{equation*}\n",
    "\tx = \\cos(\\varphi), \\quad\\ y = \\sin(\\varphi),\n",
    "\\end{equation*}\n",
    "\n",
    "para algún número $\\phi$. Entonces obtenemos, mediante la multiplicación de matrices,\n",
    "\n",
    "\\begin{eqnarray*}\n",
    "\tR(\\theta) X &=&\n",
    "\t\\begin{pmatrix}\n",
    "\t\t\\cos(\\theta) & -\\sin(\\theta) \\\\\n",
    "\t\t\\sin(\\theta) & \\cos(\\theta)\n",
    "\t\\end{pmatrix}\n",
    "\t\\begin{pmatrix}\n",
    "\t\t\\cos(\\varphi) \\\\\n",
    "\t\t\\sin(\\varphi)\n",
    "\t\\end{pmatrix} \\\\\n",
    "\t&=&\n",
    "\t\\begin{pmatrix}\n",
    "\t\t\\cos(\\theta + \\varphi) \\\\\n",
    "\t\t\\sin(\\theta + \\varphi)\n",
    "\t\\end{pmatrix}.\n",
    "\\end{eqnarray*}\n",
    "\n",
    "Para llegar a este resultado se aplicaron las siguientes identidades\n",
    "\n",
    "\\begin{equation*}\n",
    "\t\\cos(\\theta + \\phi) = \\cos(\\theta)\\cos(\\varphi) - \\sin(\\theta)\\sin(\\varphi) \\\\\n",
    "\t\\sin(\\theta + \\phi) = \\sin(\\theta)\\cos(\\varphi) + \\cos(\\theta)\\sin(\\varphi).\n",
    "\\end{equation*}\n",
    "\n",
    "Un punto arbitrario de $\\mathbb{R}^2$ se puede escribir como $rX^T = \\big(r\\cos(\\varphi), r\\sin(\\varphi)\\big)$.\n",
    "    \n",
    "</div>\n",
    "</div>"
   ]
  },
  {
   "cell_type": "markdown",
   "id": "14f6293c",
   "metadata": {
    "slideshow": {
     "slide_type": "subslide"
    }
   },
   "source": [
    ">Utilicemos Wolfram para visualizar este ejemplo."
   ]
  },
  {
   "cell_type": "code",
   "execution_count": null,
   "id": "ebfc5061",
   "metadata": {
    "slideshow": {
     "slide_type": "fragment"
    },
    "vscode": {
     "languageId": "wolfram language"
    }
   },
   "outputs": [
    {
     "data": {
      "text/html": [
       "<style>\n",
       "\t\t\t\t\t\t\t\t\t\t\t\t\t.grid-container {\n",
       "\t\t\t\t\t\t\t\t\t\t\t\t\t\tdisplay: inline-grid;\n",
       "\t\t\t\t\t\t\t\t\t\t\t\t\t\tgrid-template-columns: auto;\n",
       "\t\t\t\t\t\t\t\t\t\t\t\t\t}\n",
       "\t\t\t\t\t\t\t\t\t\t\t\t</style>\n",
       "\n",
       "\t\t\t\t\t\t\t\t\t\t\t\t<div><div class=\"grid-container\"><div class=\"grid-item\"><img alt=\"Output\" src=\"data:image/png;base64,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\"></div><div class=\"grid-item\"><img alt=\"Output\" src=\"data:image/png;base64,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\"></div><div class=\"grid-item\"><img alt=\"Output\" src=\"data:image/png;base64,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\"></div></div></div>"
      ],
      "text/plain": [
       "Cos[t]    -Sin[t]\n",
       "\n",
       "Sin[t]    Cos[t]\n",
       "Sqrt[3]\n",
       "-------\n",
       "   2\n",
       "\n",
       "1\n",
       "-\n",
       "2\n",
       "Sqrt[3]\n",
       "-------\n",
       "   2\n",
       "\n",
       "1\n",
       "-\n",
       "2"
      ]
     },
     "metadata": {},
     "output_type": "display_data"
    }
   ],
   "source": [
    "(*Primero definimos la función de rotación, es decir, la matriz de rotación*)\n",
    "R[t_] := {{Cos[t], -Sin[t]}, {Sin[t], Cos[t]}}\n",
    "MatrixForm[R[t]]\n",
    "(*Apliquemos esta matriz de rotación al vector X = (1,3)*)\n",
    "vecX = {1, 0};\n",
    "tranvecX = Transpose[vecX];\n",
    "R[Pi/6].vecX //MatrixForm\n",
    "R[Pi/6].tranvecX //MatrixForm\n",
    "vecrot = R[n Pi/180].vecX;\n",
    "(* Manipulate[ListPlot[{vecX, Evaluate[vecrot]/.n->i}, PlotRange -> {-0.1, 1.1}, AxesOrigin -> {0, 0}], {i, 0, 90, 10}] *)"
   ]
  },
  {
   "cell_type": "markdown",
   "id": "684224a8",
   "metadata": {
    "slideshow": {
     "slide_type": "subslide"
    }
   },
   "source": [
    "<div style=\"background-color:rgb(100,0,70); opacity:0.7; border:rgb(0,120,170) 5px double; border-radius:17px;\">\n",
    "<div style=\"margin:0.3%; color:white; font-style:italic; font-family:cursive; text-align:justify; text-indent:1em;\">\n",
    "    \n",
    "<b>Ejercicio</b>: Sea $A \\in \\mathcal{M}_{n \\times n}$ una matriz de la forma\n",
    "\n",
    "\\begin{equation*}\n",
    "\tA =\n",
    "\t\\begin{pmatrix}\n",
    "\t\ta_{11} & a_{12} & \\cdots & a_{1n} \\\\\n",
    "\t\t\\color{blue}{0} & a_{22} & \\cdots & a_{2n} \\\\\n",
    "\t\t\\color{blue}{\\vdots} & \\color{blue}{\\ddots} & \\ddots & \\vdots \\\\\n",
    "\t\t\\color{blue}{0} & \\color{blue}{\\cdots} & \\color{blue}{0} & a_{nn}\n",
    "\t\\end{pmatrix}\n",
    "\\end{equation*}\n",
    "\n",
    "Es decir, que todos los elementos que se encuentren debajo de la diagonal son iguales a $0$ y que los elementos que se encuentran arriba de la diagonal son arbitrarios. Una matriz así se conoce como <b>matriz triangular superior</b>.\n",
    "\n",
    "Si $A$ y $B$ son matrices triangulares superiores (del mismo tamaño), ¿qué puede decirse de los elementos de la diagonal de $AB$?\n",
    "    \n",
    "</div>\n",
    "</div>"
   ]
  },
  {
   "cell_type": "markdown",
   "id": "3f6e43f8",
   "metadata": {
    "slideshow": {
     "slide_type": "fragment"
    }
   },
   "source": [
    "<div style=\"background-color:rgb(100,0,70); opacity:0.7; border:rgb(0,120,170) 5px double; border-radius:17px;\">\n",
    "<div style=\"margin:0.3%; color:white; font-style:italic; font-family:cursive; text-align:justify; text-indent:1em;\">\n",
    "    \n",
    "<b>Ejercicio</b>: Sean $A, B \\in \\mathcal{M}_{n \\times n}$. Decimos que $A$ es <b>semejante</b> a $B$ si existe una matriz invertible $T$ tal que $B = TAT^{-1}$. Suponga que éste es el caso. Pruebe que:\n",
    "\n",
    "<ol>\n",
    "<li>$B$ es semejante a $A$</li>\n",
    "\n",
    "<li>$A$ es invertible si, y solo si, $B$ es invertible</li>\n",
    "\n",
    "<li>$A^T$ es semejante a $B^T$</li>\n",
    "\n",
    "<li>Suponga que $A^n = O$ y que $B$ es una matriz invertible del mismo tamaño que $A$. Demuestre que $(BAB^{-1})^n = O$.</li>\n",
    "</ol>\n",
    "    \n",
    "</div>\n",
    "</div>"
   ]
  },
  {
   "cell_type": "markdown",
   "id": "c23ec477",
   "metadata": {
    "slideshow": {
     "slide_type": "slide"
    }
   },
   "source": [
    "## <font color=\"green\"><b>Método de Gauss Jordan</b></font>"
   ]
  },
  {
   "cell_type": "markdown",
   "id": "069d976f",
   "metadata": {
    "slideshow": {
     "slide_type": "fragment"
    }
   },
   "source": [
    "<div style=\"background-color:rgb(250,250,100); opacity:0.7; border:rgb(0,120,170) 5px double; border-radius:17px;;\">\n",
    "<div style=\"margin:0.3%; color:gray; font-style:italic; font-family:cursive; text-align:justify; text-indent:1em;\">\n",
    "    \n",
    "Anteriormente estudiamos sistemas de ecuaciones lineales, mediante el método de eliminación (o reducción) de incógnitas. Recordemos el sistema de ecuaciones lineales (\\ref{eq:sit_ecu_lin})\n",
    "   \n",
    "\\begin{equation}\n",
    "\t\\begin{matrix}\n",
    "\t\ta_{11}x_1 &+\\,\\cdots\\,+& a_{1n}x_n & = & b_1 \\nonumber \\\\\n",
    "\t\t\\vdots & & \\vdots & = & \\vdots \\nonumber \\\\\n",
    "\t\ta_{m1}x_1 &+\\,\\cdots\\,+& a_{mn}x_n & = & b_m \\nonumber\n",
    "\t\\end{matrix}\n",
    "\\end{equation}\n",
    "   \n",
    "Mostraremos nuevamente como resolver este sistema pero aplicando matrices y vectores. Recuerde que, si $b_1 = b_2 = \\cdots = b_m = 0$ se dice que el sistema es <b>homogéneo</b>.\n",
    "   \n",
    "\\begin{equation}\\label{eq:sit_ecu_lin_hom}\n",
    "\t\\begin{matrix}\n",
    "\t\ta_{11}x_1 &+\\,\\cdots\\,+& a_{1n}x_n & = & 0 \\\\\n",
    "\t\t\\vdots & & \\vdots & = & \\vdots \\\\\n",
    "\t\ta_{m1}x_1 &+\\,\\cdots\\,+& a_{mn}x_n & = & 0\n",
    "\t\\end{matrix}\n",
    "\\end{equation}\n",
    "   \n",
    "Este sistema siempre tiene una solución, a saber, la solución <b>trivial</b> (la solución obtenida al hacer todo $x_i = 0$). Una solución $(x_1, \\dots, x_n)$ tal que algún $x_i \\neq 0$ se conoce como <b>no trivial</b>.\n",
    "    \n",
    "</div>\n",
    "</div>"
   ]
  },
  {
   "cell_type": "markdown",
   "id": "7d848f0e",
   "metadata": {
    "slideshow": {
     "slide_type": "subslide"
    }
   },
   "source": [
    "### <font color=\"cyan\"><b>Ecuaciones lineales homogeneas y eliminación</b></font>"
   ]
  },
  {
   "cell_type": "markdown",
   "id": "72b8c85e",
   "metadata": {
    "slideshow": {
     "slide_type": "fragment"
    }
   },
   "source": [
    "<div style=\"background-color:rgb(250,250,100); opacity:0.7; border:rgb(0,120,170) 5px double; border-radius:17px;;\">\n",
    "<div style=\"margin:0.3%; color:gray; font-style:italic; font-family:cursive; text-align:justify; text-indent:1em;\">\n",
    "    \n",
    "Consideremos el sistema homogéneo (\\ref{eq:sit_ecu_lin_hom}). Sean $A_1, \\dots, A_n$ los vectores renglón de una matriz $A = (a_{ij})$ y $X = (x_1, \\dots, x_n)^T$. Entonces, podemos escribir la ecuación (\\ref{eq:sit_ecu_lin_hom}) como:\n",
    "\n",
    "\\begin{equation}\\label{eq:sit_ecu_lin_hom1}\n",
    "\tA_1 \\cdot X = 0, \\,\\dots,\\,\\ A_m \\cdot X = 0.\n",
    "\\end{equation}\n",
    "\n",
    "Geométricamente, encontrar una solución de (\\ref{eq:sit_ecu_lin_hom1}) equivale a encontrar un vector que es perpendicular a $A_1, \\dots, A_m$.\n",
    "    \n",
    "</div>\n",
    "</div>"
   ]
  },
  {
   "cell_type": "markdown",
   "id": "53280f43",
   "metadata": {
    "slideshow": {
     "slide_type": "fragment"
    }
   },
   "source": [
    "<div style=\"background-color:rgb(0, 120, 30); opacity:0.7; border:rgb(250,250,100) 5px double; border-radius:17px;\">\n",
    "<div style=\"margin:0.3%; color:white; font-style:italic; font-family:cursive; text-align:justify; text-indent:1em;\">\n",
    "    \n",
    "<b>Teorema</b>: Sea\n",
    "   \n",
    "\\begin{equation*}\n",
    "\t\\begin{matrix}\n",
    "\t\ta_{11}x_1 &+\\,\\cdots\\,+& a_{1n}x_n & = & 0 \\\\\n",
    "\t\t\\vdots & & \\vdots & = & \\vdots \\\\\n",
    "\t\ta_{m1}x_1 &+\\,\\cdots\\,+& a_{mn}x_n & = & 0\n",
    "\t\\end{matrix}\n",
    "\\end{equation*}\n",
    "   \n",
    "un sistema de $m$ ecuaciones lineales con $n$ incógnitas y supongamos que $n > m$. Entonces el sistema tiene una solución no trivial.\n",
    "    \n",
    "</div>\n",
    "</div>"
   ]
  },
  {
   "cell_type": "markdown",
   "id": "988ce279",
   "metadata": {
    "slideshow": {
     "slide_type": "subslide"
    }
   },
   "source": [
    "### <font color=\"cyan\"><b>Operaciones por renglón y eliminación de Gauss</b></font>"
   ]
  },
  {
   "cell_type": "markdown",
   "id": "a4767200",
   "metadata": {
    "slideshow": {
     "slide_type": "fragment"
    }
   },
   "source": [
    "<div style=\"background-color:rgb(0,120,170); opacity:0.7; border:rgb(0,170,120) 5px double; border-radius:17px;\">\n",
    "<div style=\"margin:0.3%; color:white; font-style:italic; font-family:cursive; text-align:justify; text-indent:1em;\">\n",
    "    \n",
    "Sea $AX = B$, un sistema de $m$ ecuaciones lineales con $n$ incógnitas, que se puede escribir como (\\ref{eq:sit_ecu_lin})\n",
    "   \n",
    "\\begin{equation*}\n",
    "\t\\begin{matrix}\n",
    "\t\ta_{11}x_1 &+\\,\\cdots\\,+& a_{1n}x_n & = & b_1 \\nonumber \\\\\n",
    "\t\t\\vdots & & \\vdots & = & \\vdots \\nonumber \\\\\n",
    "\t\ta_{m1}x_1 &+\\,\\cdots\\,+& a_{mn}x_n & = & b_m \\nonumber\n",
    "\t\\end{matrix}\n",
    "\\end{equation*}\n",
    "   \n",
    "Donde $A$ es la <b>matriz de coeficientes $a_{ij}$</b>, $X = (x_1, \\dots, x_n)^T$ y $B = (b_1, \\dots, b_m)^T$. Entonces definimos la <b>matriz aumentada</b> como la matriz de $m$ por $n+1$:\n",
    "   \n",
    "\\begin{equation*}\n",
    "\t\\begin{pmatrix}\n",
    "\t\ta_{11} & a_{12} & \\cdots & a_{1n} & b_1 \\\\\n",
    "\t\ta_{21} & a_{22} & \\cdots & a_{2n} & b_2 \\\\\n",
    "\t\t\\vdots & \\vdots &  & \\vdots & \\vdots \\\\\n",
    "\t\ta_{m1} & a_{m2} & \\cdots & a_{mn} & b_m\n",
    "\t\\end{pmatrix}\n",
    "\\end{equation*}\n",
    "   \n",
    "Es decir, aumentamos una columna a la matriz $A$, a saber, la columna dada por el vector $B$.\n",
    "    \n",
    "</div>\n",
    "</div>"
   ]
  },
  {
   "cell_type": "markdown",
   "id": "f6baab0e",
   "metadata": {
    "slideshow": {
     "slide_type": "subslide"
    }
   },
   "source": [
    "<div style=\"background-color:rgb(100,0,70); opacity:0.7; border:rgb(0,120,170) 5px double; border-radius:17px;\">\n",
    "<div style=\"margin:0.3%; color:white; font-style:italic; font-family:cursive; text-align:justify; text-indent:1em;\">\n",
    "    \n",
    "<b>Ejemplo</b>: Considere el sistema de ecuaciones lineales\n",
    "   \n",
    "\\begin{equation*}\n",
    "\t\\begin{matrix}\n",
    "\t\t3x & - 2y & + z & + 2w & = & 1 \\\\\n",
    "\t\tx & + y & - z & - w & = & - 2 \\\\\n",
    "\t\t2x & - y & + 3z & & = & 4.\n",
    "\t\\end{matrix}\n",
    "\\end{equation*}\n",
    "    \n",
    "La matriz de coeficientes es\n",
    "   \n",
    "\\begin{equation*}\n",
    "    A =\n",
    "\t\\begin{pmatrix}\n",
    "\t\t3 & -2 & 1 & 2  \\\\\n",
    "\t\t1 & 1 & -1 & -1 \\\\\n",
    "\t\t2 & -1 & 3 & 0\n",
    "\t\\end{pmatrix},\n",
    "\\end{equation*}\n",
    "    \n",
    "dado que $B = (1, -2, 4)^T$, entonces, la matriz aumentada es\n",
    "   \n",
    "\\begin{equation*}\n",
    "\t\\begin{pmatrix}\n",
    "\t\t3 & -2 & 1 & 2 & 1 \\\\\n",
    "\t\t1 & 1 & -1 & -1 & -2\\\\\n",
    "\t\t2 & -1 & 3 & 0 & 4\n",
    "\t\\end{pmatrix}\n",
    "\\end{equation*}\n",
    "    \n",
    "</div>\n",
    "</div>"
   ]
  },
  {
   "cell_type": "markdown",
   "id": "490ce19b",
   "metadata": {
    "slideshow": {
     "slide_type": "subslide"
    }
   },
   "source": [
    "<div style=\"background-color:rgb(250,250,100); opacity:0.7; border:rgb(0,120,170) 5px double; border-radius:17px;;\">\n",
    "<div style=\"margin:0.3%; color:gray; font-style:italic; font-family:cursive; text-align:justify; text-indent:1em;\">\n",
    "    \n",
    "<b>Nota</b>: Observe que, en la solución de sistemas de ecuaciones lineales por el método de eliminación se realizaban, básicamente, tres operaciones\n",
    "\n",
    "<ol>\n",
    "<li>Multiplicar una ecuación por un número no nulo.></li>\n",
    "\n",
    "<li>Sumar una ecuación a otra.</li>\n",
    "\n",
    "<li>Intercambiar dos ecuaciones.</li>\n",
    "</ol>\n",
    "\n",
    "Estas operaciones se reflejan en operaciones sobre la matriz de coeficientes aumentada.\n",
    "    \n",
    "</div>\n",
    "</div>"
   ]
  },
  {
   "cell_type": "markdown",
   "id": "99aac12a",
   "metadata": {
    "slideshow": {
     "slide_type": "fragment"
    }
   },
   "source": [
    "<div style=\"background-color:rgb(0, 120, 30); opacity:0.7; border:rgb(250,250,100) 5px double; border-radius:17px;\">\n",
    "<div style=\"margin:0.3%; color:white; font-style:italic; font-family:cursive; text-align:justify; text-indent:1em;\">\n",
    "    \n",
    "<b>Operaciones elementales por renglones</b>: Las operaciones que podemos realizar sobre la matriz aumentada son:\n",
    "\n",
    "<ol>\n",
    "<li>Multiplicar un renglón por un número no nulo.</li>\n",
    "\n",
    "<li>Sumar un renglón a otro.</li>\n",
    "\n",
    "<li>Intercambiar dos renglones (permutación de renglones).</li>\n",
    "</ol>\n",
    "    \n",
    "</div>\n",
    "</div>"
   ]
  },
  {
   "cell_type": "markdown",
   "id": "15506e01",
   "metadata": {
    "slideshow": {
     "slide_type": "fragment"
    }
   },
   "source": [
    "<div style=\"background-color:rgb(0,120,170); opacity:0.7; border:rgb(0,170,120) 5px double; border-radius:17px;\">\n",
    "<div style=\"margin:0.3%; color:white; font-style:italic; font-family:cursive; text-align:justify; text-indent:1em;\">\n",
    "    \n",
    "<b>Definición</b>: Decimos que dos matrices son <b>equivalentes por renglones</b> si una de ellas se puede obtener de la otra mediante una sucesión de operaciones elementales por renglones.\n",
    "    \n",
    "</div>\n",
    "</div>"
   ]
  },
  {
   "cell_type": "markdown",
   "id": "f274230d",
   "metadata": {
    "slideshow": {
     "slide_type": "subslide"
    }
   },
   "source": [
    "<div style=\"background-color:rgb(250,250,100); opacity:0.7; border:rgb(0,120,170) 5px double; border-radius:17px;;\">\n",
    "<div style=\"margin:0.3%; color:gray; font-style:italic; font-family:cursive; text-align:justify; text-indent:1em;\">\n",
    "    \n",
    "Si $A$ es la matriz de coeficientes de un sistema de un sistema de ecuaciones lineales y $B$ es el vector columna, de manera que\n",
    "    \n",
    "\\begin{equation*}\n",
    "    (A, B)\n",
    "\\end{equation*}\n",
    "es la matriz aumentada, y si $(A', B')$ es equivalente por renglones a $(A, B)$, entonces las soluciones del sistema\n",
    "    \n",
    "\\begin{equation*}\n",
    "    AX = B\n",
    "\\end{equation*}\n",
    "son las mismas que las soluciones del sistema\n",
    "    \n",
    "\\begin{equation*}\n",
    "    A'X = B'.\n",
    "\\end{equation*}\n",
    "    \n",
    "<b>Observación</b>: El objetivo es obtener un sistema equivalente $(A', B')$ lo más sencillo posible.\n",
    "    \n",
    "</div>\n",
    "</div>"
   ]
  },
  {
   "cell_type": "markdown",
   "id": "ba60305d",
   "metadata": {
    "slideshow": {
     "slide_type": "subslide"
    }
   },
   "source": [
    "<div style=\"background-color:rgb(100,0,70); opacity:0.7; border:rgb(0,120,170) 5px double; border-radius:17px;\">\n",
    "<div style=\"margin:0.3%; color:white; font-style:italic; font-family:cursive; text-align:justify; text-indent:1em;\">\n",
    "    \n",
    "<b>Ejemplo</b>: Continuando con el ejemplo anterior. si denotamos con $R_i$, con $i = 1,2,3$, cada renlgon de la matriz aumentada, tenemos las siguientes equivalencias por renglones:\n",
    "   \n",
    "\\begin{eqnarray*}\n",
    "\t\\begin{pmatrix}\n",
    "\t\t3 & -2 & 1 & 2 & 1 \\\\\n",
    "\t\t1 & 1 & -1 & -1 & -2 \\\\\n",
    "\t\t2 & -1 & 3 & 0 & 4\n",
    "\t\\end{pmatrix}\n",
    "    & \\widetilde{R_1: R_1 - 3R_2} &\n",
    "    \\begin{pmatrix}\n",
    "\t\t0 & -5 & 4 & 5 & 7 \\\\\n",
    "\t\t1 & 1 & -1 & -1 & -2 \\\\\n",
    "\t\t2 & -1 & 3 & 0 & 4\n",
    "\t\\end{pmatrix} \\\\\n",
    "    & \\widetilde{R_3: R_3 - 2R_2} &\n",
    "    \\begin{pmatrix}\n",
    "\t\t0 & -5 & 4 & 5 & 7 \\\\\n",
    "\t\t1 & 1 & -1 & -1 & -2 \\\\\n",
    "\t\t0 & -3 & 5 & 2 & 8\n",
    "\t\\end{pmatrix} \\\\\n",
    "    & \\widetilde{(R_1:-R_1) \\leftrightarrow R_2} &\n",
    "    \\begin{pmatrix}\n",
    "\t\t1 & 1 & -1 & -1 & -2 \\\\\n",
    "\t\t0 & 5 & -4 & -5 & -7 \\\\\n",
    "\t\t0 & -3 & 5 & 2 & 8\n",
    "\t\\end{pmatrix} \\\\\n",
    "    & \\widetilde{R_3: 5R_3 + 3R_2} &\n",
    "    \\begin{pmatrix}\n",
    "\t\t1 & 1 & -1 & -1 & -2 \\\\\n",
    "\t\t0 & 5 & -4 & -5 & -7 \\\\\n",
    "\t\t0 & 0 & 13 & -5 & 19\n",
    "\t\\end{pmatrix}\n",
    "\\end{eqnarray*}\n",
    "    \n",
    "</div>\n",
    "</div>"
   ]
  },
  {
   "cell_type": "markdown",
   "id": "a1298dae",
   "metadata": {
    "slideshow": {
     "slide_type": "subslide"
    }
   },
   "source": [
    "<div style=\"background-color:rgb(100,0,70); opacity:0.7; border:rgb(0,120,170) 5px double; border-radius:17px;\">\n",
    "<div style=\"margin:0.3%; color:white; font-style:italic; font-family:cursive; text-align:justify; text-indent:1em;\">\n",
    "    \n",
    "El nuevo sistema, cuya matriz aumentada es la última que obtuvimos, se puede escribir de la forma:\n",
    "\n",
    "\\begin{equation*}\n",
    "\t\\begin{matrix}\n",
    "\t\tx & + y & - z & - w & = & - 2 \\\\\n",
    "\t\t& 5y & - 4z & - 5w & = & - 7 \\\\\n",
    "\t\t& & 13z & - 5w & = & 19.\n",
    "\t\\end{matrix}\n",
    "\\end{equation*}\n",
    "\n",
    "Éste se encuentra ahora en una forma tal que se puede resolver dando un valor arbitrario a $w$ en la tercera ecuación, ya que podemos despejar $z, y, x$ de la tercera, segunda y primera ecuación, respectivamente, a saber\n",
    "\n",
    "\\begin{eqnarray*}\n",
    "\tz &=& \\frac{19 + 5w}{13} \\\\\n",
    "\ty &=& \\frac{-7 + 4z + 5w}{5} \\\\\n",
    "\tx &=& -2 - y + z + w.\n",
    "\\end{eqnarray*}\n",
    "\n",
    "Puede observar que, para resolver el sistema anterior comenzamos dando un valor arbitrario a $w$ y después se determinan los valores de $z, y, x$.\n",
    "    \n",
    "</div>\n",
    "</div>"
   ]
  },
  {
   "cell_type": "markdown",
   "id": "80a38054",
   "metadata": {
    "slideshow": {
     "slide_type": "subslide"
    }
   },
   "source": [
    "<div style=\"background-color:rgb(250,250,100); opacity:0.7; border:rgb(0,120,170) 5px double; border-radius:17px;;\">\n",
    "<div style=\"margin:0.3%; color:gray; font-style:italic; font-family:cursive; text-align:justify; text-indent:1em;\">\n",
    "    \n",
    "Por lo tanto vemos que, para el ejemplo anterior,las soluciones dependen de un parámetro libre. Mas adelante expresaremos esta propiedad diciendo que el conjunto de soluciones tiene dimensión $1$.\n",
    "\n",
    "<b>Nota</b>: Este proceso se le conoce como <b>método de Gauss</b>.\n",
    "    \n",
    "</div>\n",
    "</div>"
   ]
  },
  {
   "cell_type": "markdown",
   "id": "0af31a25",
   "metadata": {
    "slideshow": {
     "slide_type": "fragment"
    }
   },
   "source": [
    "<div style=\"background-color:rgb(0,120,170); opacity:0.7; border:rgb(0,170,120) 5px double; border-radius:17px;\">\n",
    "<div style=\"margin:0.3%; color:white; font-style:italic; font-family:cursive; text-align:justify; text-indent:1em;\">\n",
    "    \n",
    "<b>Definición</b>: Sea $M$ una matriz. Decimos que $M$ está en <b>forma escalonada por renglones</b> si tiene la siguiente propiedad:\n",
    "\n",
    "> Siempre que dos renglones sucesivos no contengan solo ceros, entonces el segundo renglón comienza con una componente no nula al menos en un lugar posterior con respecto al primer renglón. Todos los renglones que solo contengan ceros se encuentran en la parte inferior de la matriz.\n",
    "\n",
    "Los primeros coeficientes no nulos que aparecen a la izquierda en cada renglón se conocen como <b>coeficientes principales</b>.\n",
    "    \n",
    "</div>\n",
    "</div>"
   ]
  },
  {
   "cell_type": "markdown",
   "id": "6af03605",
   "metadata": {
    "slideshow": {
     "slide_type": "subslide"
    }
   },
   "source": [
    "<div style=\"background-color:rgb(100,0,70); opacity:0.7; border:rgb(0,120,170) 5px double; border-radius:17px;\">\n",
    "<div style=\"margin:0.3%; color:white; font-style:italic; font-family:cursive; text-align:justify; text-indent:1em;\">\n",
    "    \n",
    "Los coeficientes principales del ejemplo anterior son $1, 5$ y $13$. Se puede efectuar un cambio adicional dividiendo cada renglón entre su coeficiente principal, al hacer eso el coeficiente principal de cada renglón seria $1$.\n",
    "   \n",
    "\\begin{eqnarray*}\n",
    "\t\\begin{pmatrix}\n",
    "\t\t1 & 1 & -1 & -1 & -2 \\\\\n",
    "\t\t0 & 5 & -4 & -5 & -7 \\\\\n",
    "\t\t0 & 0 & 13 & -5 & 19\n",
    "\t\\end{pmatrix}\n",
    "    & \\widetilde{R_2: R_2/5} &\n",
    "    \\begin{pmatrix}\n",
    "\t\t1 & 1 & -1 & -1 & -2 \\\\\n",
    "\t\t0 & 1 & -\\frac{4}{5} & -1 & -\\frac{7}{5} \\\\\n",
    "\t\t0 & 0 & 13 & -5 & 19\n",
    "\t\\end{pmatrix} \\\\\n",
    "    & \\widetilde{R_3: R_3/13} &\n",
    "    \\begin{pmatrix}\n",
    "\t\t1 & 1 & -1 & -1 & -2 \\\\\n",
    "\t\t0 & 1 & -\\frac{4}{5} & -1 & -\\frac{7}{5} \\\\\n",
    "\t\t0 & 0 & 1 & -\\frac{5}{13} & \\frac{19}{13}\n",
    "\t\\end{pmatrix}\n",
    "\\end{eqnarray*}\n",
    "    \n",
    "</div>\n",
    "</div>"
   ]
  },
  {
   "cell_type": "markdown",
   "id": "efaf8c19",
   "metadata": {
    "slideshow": {
     "slide_type": "fragment"
    }
   },
   "source": [
    "<div style=\"background-color:rgb(250,250,100); opacity:0.7; border:rgb(0,120,170) 5px double; border-radius:17px;;\">\n",
    "<div style=\"margin:0.3%; color:gray; font-style:italic; font-family:cursive; text-align:justify; text-indent:1em;\">\n",
    "    \n",
    "<b>Nota</b>: Este proceso se le conoce como <b>pivotear</b>.\n",
    "    \n",
    "</div>\n",
    "</div>"
   ]
  },
  {
   "cell_type": "markdown",
   "id": "30ff5256",
   "metadata": {
    "slideshow": {
     "slide_type": "subslide"
    }
   },
   "source": [
    "<div style=\"background-color:rgb(100,0,70); opacity:0.7; border:rgb(0,120,170) 5px double; border-radius:17px;\">\n",
    "<div style=\"margin:0.3%; color:white; font-style:italic; font-family:cursive; text-align:justify; text-indent:1em;\">\n",
    "    \n",
    "Podemos continuar, es decir, se podría seguir con las operaciones para hacer mas ceros.\n",
    "   \n",
    "\\begin{eqnarray*}\n",
    "    \\begin{pmatrix}\n",
    "\t\t1 & 1 & -1 & -1 & -2 \\\\\n",
    "\t\t0 & 1 & -\\frac{4}{5} & -1 & -\\frac{7}{5} \\\\\n",
    "\t\t0 & 0 & 1 & -\\frac{5}{13} & \\frac{19}{13}\n",
    "\t\\end{pmatrix}\n",
    "    & \\widetilde{R_1: R_1 - R_2} &\n",
    "    \\begin{pmatrix}\n",
    "\t\t1 & 0 & -\\frac{1}{5} & 0 & -\\frac{3}{5} \\\\\n",
    "\t\t0 & 1 & -\\frac{4}{5} & -1 & -\\frac{7}{5} \\\\\n",
    "\t\t0 & 0 & 1 & -\\frac{5}{13} & \\frac{19}{13}\n",
    "\t\\end{pmatrix} \\\\\n",
    "    & \\widetilde{R_2: R_2 + 4R_3/5} &\n",
    "    \\begin{pmatrix}\n",
    "\t\t1 & 0 & -\\frac{1}{5} & 0 & -\\frac{3}{5} \\\\\n",
    "\t\t0 & 1 & 0 & -\\frac{17}{13} & -\\frac{3}{13} \\\\\n",
    "\t\t0 & 0 & 1 & -\\frac{5}{13} & \\frac{19}{13}\n",
    "\t\\end{pmatrix} \\\\\n",
    "    & \\widetilde{R_1: R_1 + R_3/5} &\n",
    "    \\begin{pmatrix}\n",
    "\t\t1 & 0 & 0 & -\\frac{1}{13} & -\\frac{4}{13} \\\\\n",
    "\t\t0 & 1 & 0 & -\\frac{17}{13} & -\\frac{3}{13} \\\\\n",
    "\t\t0 & 0 & 1 & -\\frac{5}{13} & \\frac{19}{13}\n",
    "\t\\end{pmatrix}\n",
    "\\end{eqnarray*}\n",
    "    \n",
    "</div>\n",
    "</div>"
   ]
  },
  {
   "cell_type": "markdown",
   "id": "2dde4eea",
   "metadata": {
    "slideshow": {
     "slide_type": "fragment"
    }
   },
   "source": [
    "<div style=\"background-color:rgb(250,250,100); opacity:0.7; border:rgb(0,120,170) 5px double; border-radius:17px;;\">\n",
    "<div style=\"margin:0.3%; color:gray; font-style:italic; font-family:cursive; text-align:justify; text-indent:1em;\">\n",
    "    \n",
    "<b>Nota</b>: Obserbe que tanto arriba como abajao de cada $1$ (pivote), tenemos solamente ceros.\n",
    "    \n",
    "</div>\n",
    "</div>"
   ]
  },
  {
   "cell_type": "markdown",
   "id": "0874c6c4",
   "metadata": {
    "slideshow": {
     "slide_type": "subslide"
    }
   },
   "source": [
    "<div style=\"background-color:rgb(100,0,70); opacity:0.7; border:rgb(0,120,170) 5px double; border-radius:17px;\">\n",
    "<div style=\"margin:0.3%; color:white; font-style:italic; font-family:cursive; text-align:justify; text-indent:1em;\">\n",
    "    \n",
    "El nuevo sistema, cuya matriz aumentada es la última que obtuvimos, se puede escribir de la forma:\n",
    "\n",
    "\\begin{eqnarray*}\n",
    "\t\tx - \\frac{1}{13}w & = & - \\frac{4}{13} \\\\\n",
    "\t\ty - \\frac{17}{13}w & = & - \\frac{3}{13} \\\\\n",
    "\t\tz - \\frac{5}{13}w & = & \\frac{19}{13}\n",
    "\\end{eqnarray*}\n",
    "\n",
    "Observe que este sistema se resuelve de forma directa al dar un valor arbitrario para $w$. Por ejemplo si $w = 0$ entonces\n",
    "\n",
    "\\begin{eqnarray*}\n",
    "\t\tx & = & - 4/13 \\\\\n",
    "\t\ty & = & - 3/13 \\\\\n",
    "\t\tz & = & 19/13.\n",
    "\\end{eqnarray*}\n",
    "    \n",
    "</div>\n",
    "</div>"
   ]
  },
  {
   "cell_type": "markdown",
   "id": "cfb015b1",
   "metadata": {
    "slideshow": {
     "slide_type": "fragment"
    }
   },
   "source": [
    "<div style=\"background-color:rgb(250,250,100); opacity:0.7; border:rgb(0,120,170) 5px double; border-radius:17px;;\">\n",
    "<div style=\"margin:0.3%; color:gray; font-style:italic; font-family:cursive; text-align:justify; text-indent:1em;\">\n",
    "\n",
    "<b>Nota</b>: Este proceso se le conoce como <b>método de Gauss-Jordan</b>.\n",
    "    \n",
    "</div>\n",
    "</div>"
   ]
  },
  {
   "cell_type": "markdown",
   "id": "23a9a7d2",
   "metadata": {
    "slideshow": {
     "slide_type": "subslide"
    }
   },
   "source": [
    ">Ahora realicemos las mismas operaciones con Wolfram (desde el sistema de ecuaciones lineales original)."
   ]
  },
  {
   "cell_type": "code",
   "execution_count": null,
   "id": "715d14db",
   "metadata": {
    "slideshow": {
     "slide_type": "fragment"
    },
    "vscode": {
     "languageId": "wolfram language"
    }
   },
   "outputs": [
    {
     "data": {
      "text/html": [
       "<style>\n",
       "\t\t\t\t\t\t\t\t\t\t\t\t\t.grid-container {\n",
       "\t\t\t\t\t\t\t\t\t\t\t\t\t\tdisplay: inline-grid;\n",
       "\t\t\t\t\t\t\t\t\t\t\t\t\t\tgrid-template-columns: auto;\n",
       "\t\t\t\t\t\t\t\t\t\t\t\t\t}\n",
       "\t\t\t\t\t\t\t\t\t\t\t\t</style>\n",
       "\n",
       "\t\t\t\t\t\t\t\t\t\t\t\t<div><div class=\"grid-container\"><div class=\"grid-item\"><img alt=\"Output\" src=\"data:image/png;base64,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\"></div><div class=\"grid-item\"><img alt=\"Output\" src=\"data:image/png;base64,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\"></div><div class=\"grid-item\"><img alt=\"Output\" src=\"data:image/png;base64,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\"></div></div></div>"
      ],
      "text/plain": [
       "3    -2   1    2    1\n",
       "\n",
       "1    1    -1   -1   -2\n",
       "\n",
       "2    -1   3    0    4\n",
       "                          1       4\n",
       "                        -(--)   -(--)\n",
       "1       0       0         13      13\n",
       "\n",
       "                          17      3\n",
       "                        -(--)   -(--)\n",
       "0       1       0         13      13\n",
       "\n",
       "                          5     19\n",
       "                        -(--)   --\n",
       "0       0       1         13    13\n",
       "   4      3    19\n",
       "{-(--), -(--), --, 0}\n",
       "   13     13   13"
      ]
     },
     "metadata": {},
     "output_type": "display_data"
    }
   ],
   "source": [
    "A = {{3, -2, 1, 2}, {1, 1, -1, -1}, {2, -1, 3, 0}};    (*Escribimos la matriz de coeficientes A*)\n",
    "B = {1, -2, 4};                                        (*Escribimos el vector B*)\n",
    "(*--- Insertar un renglón a la matriz A. Hacemos esto ya que Wolfram trabaja con renglones ---*)\n",
    "Transpose[Insert[Transpose[A], B, 5]];                 (*Forma alternativa*)\n",
    "matrizAB = Table[Insert[A[[i]], B[[i]], 5], {i, 3}];   (*Esta es la matriz aumentada*)\n",
    "MatrixForm[matrizAB]                                   (*Mostramos su forma matricial*)\n",
    "RowReduce[matrizAB]//MatrixForm                        (*Matriz escalonada o reducida por renglón*)\n",
    "LinearSolve[A, B]                                      (*Una solución del sistema*)\n",
    "(*--- Por defecto Wolfram asigna un valor de \"0\" a las incógnitas (o parámetros) libres ---*)"
   ]
  },
  {
   "cell_type": "markdown",
   "id": "3acbd3c9",
   "metadata": {
    "slideshow": {
     "slide_type": "subslide"
    }
   },
   "source": [
    "<div style=\"background-color:rgb(0, 120, 30); opacity:0.7; border:rgb(250,250,100) 5px double; border-radius:17px;\">\n",
    "<div style=\"margin:0.3%; color:white; font-style:italic; font-family:cursive; text-align:justify; text-indent:1em;\">\n",
    "    \n",
    "<b>Teorema</b>: Toda matriz es equivalente por renglones a una matriz escalonada por renglones.\n",
    "\n",
    "<b>Demostración</b>: Seleccionamos la primera componente no nula que aparezca a la izquierda en la matiz. Si esta componente no está en la primera columna, significa que la matriz solo contiene ceros a la izquierda de esta componente y nos podemos olvidar de ellos. Por lo tanto, supongamos que esta componente no nula se encuentra en la primera columna. Después de un intercambio de renglones podemos encontrar una matriz tal que la esquina superior izquierda no sea $0$. Digamos que la matriz es\n",
    "   \n",
    "\\begin{equation*}\n",
    "\t\\begin{pmatrix}\n",
    "\t\ta_{11} & a_{12} & \\cdots & a_{1n} \\\\\n",
    "\t\ta_{21} & a_{22} & \\cdots & a_{2n}\\\\\n",
    "\t\t\\vdots & \\vdots &  & \\vdots \\\\\n",
    "\t\ta_{m1} & a_{m2} & \\cdots & a_{mn}\n",
    "\t\\end{pmatrix}\n",
    "\\end{equation*}\n",
    "   \n",
    "con $a_{11} \\neq 0$. Multiplicamos el primer renglon por $\\frac{a_{21}}{a_{11}}$ y restemoslo del segundo. En forma analoga, multiplicamos el primer renglon por $\\frac{a_{i1}}{a_{11}}$ y restemoslo del $i-$ésimo renglón. Entonces tenemos una matriz que tiene ceros en la primer columna excepto en $a_{11}$.\n",
    "    \n",
    "</div>\n",
    "</div>"
   ]
  },
  {
   "cell_type": "markdown",
   "id": "a75db08f",
   "metadata": {
    "slideshow": {
     "slide_type": "subslide"
    }
   },
   "source": [
    "<div style=\"background-color:rgb(0, 120, 30); opacity:0.7; border:rgb(250,250,100) 5px double; border-radius:17px;\">\n",
    "<div style=\"margin:0.3%; color:white; font-style:italic; font-family:cursive; text-align:justify; text-indent:1em;\">\n",
    "    \n",
    "Por lo tanto, la matriz original es equivalente por renglones a una matriz de la forma\n",
    "\n",
    "\\begin{equation*}\n",
    "\t\\begin{pmatrix}\n",
    "\t\ta_{11} & a_{12} & \\cdots & a_{1n} \\\\\n",
    "\t\t0 & a'_{22} & \\cdots & a'_{2n}\\\\\n",
    "\t\t\\vdots & \\vdots &  & \\vdots \\\\\n",
    "\t\t0 & a'_{m2} & \\cdots & a'_{mn}\n",
    "\t\\end{pmatrix}\n",
    "\\end{equation*}\n",
    "\n",
    "Después repetimos el mismo procedimiento con la siguiente matriz de menor tamaño\n",
    "\n",
    "\\begin{equation*}\n",
    "\t\\begin{pmatrix}\n",
    "\t\ta'_{22} & \\cdots & a'_{2n}\\\\\n",
    "\t\t\\vdots &  & \\vdots \\\\\n",
    "\t\ta'_{m2} & \\cdots & a'_{mn}\n",
    "\t\\end{pmatrix}\n",
    "\\end{equation*}\n",
    "\n",
    "Podemos continuar así hasta que la matriz quede en forma escalonada por renglones (formalmente se demuestra por inducción).\n",
    "    \n",
    "</div>\n",
    "</div>"
   ]
  },
  {
   "cell_type": "markdown",
   "id": "c442d981",
   "metadata": {
    "slideshow": {
     "slide_type": "subslide"
    }
   },
   "source": [
    "<div style=\"background-color:rgb(100,0,70); opacity:0.7; border:rgb(0,120,170) 5px double; border-radius:17px;\">\n",
    "<div style=\"margin:0.3%; color:white; font-style:italic; font-family:cursive; text-align:justify; text-indent:1em;\">\n",
    "    \n",
    "<b>Ejercicios</b>: Resuelva los siguientes sistemas de ecuaciones por el método de Gauss-Jordan.\n",
    "    \n",
    "\\begin{equation*}\n",
    "    a)\\left\\{\n",
    "    \\begin{array}{r}\n",
    "        2x + y + 4z + w = 0 \\\\\n",
    "        - 3x + 2y - 3z + w = 0 \\\\\n",
    "        x + y + z = 0\n",
    "    \\end{array},\n",
    "    \\right.\\quad\\ b)\\left\\{\n",
    "    \\begin{array}{r}\n",
    "        x - 2y + z + 2w = 1 \\\\\n",
    "        x + y - z + w = 2 \\\\\n",
    "        x + 7y - 5z - w = 3\n",
    "    \\end{array}\n",
    "    \\right.\n",
    "\\end{equation*}\n",
    "\n",
    "Compruebe sus resultados con Wolfran Language, utilizando los comandos:\n",
    "    \n",
    "><b>Solve[{$ecuación_1, \\dots, ecuación_m$}, {$x_1, \\dots, x_n$}]</b>\n",
    "    \n",
    "><b>LinearSolve[$matrizA$, $vector B$]</b>\n",
    "    \n",
    "><b>RowReduce[$matriz$ $aumentada$]//MatrixForm</b>\n",
    "    \n",
    "</div>\n",
    "</div>"
   ]
  },
  {
   "cell_type": "markdown",
   "id": "1a2c38c4",
   "metadata": {
    "slideshow": {
     "slide_type": "subslide"
    }
   },
   "source": [
    "### <font color=\"cyan\"><b>Operaciones por renglones y matrices elementales</b></font>"
   ]
  },
  {
   "cell_type": "markdown",
   "id": "0e56a6f3",
   "metadata": {
    "slideshow": {
     "slide_type": "fragment"
    }
   },
   "source": [
    "<div style=\"background-color:rgb(0,120,170); opacity:0.7; border:rgb(0,170,120) 5px double; border-radius:17px;\">\n",
    "<div style=\"margin:0.3%; color:white; font-style:italic; font-family:cursive; text-align:justify; text-indent:1em;\">\n",
    "    \n",
    "Sea $I_{rs} \\in \\mathcal{M}_{m\\times m}$, con $1 \\leq r \\leq m$ y $1 \\leq s \\leq m$, la matriz que tiene por componente$a_{rs} = 1$ y el resto igual a $0$:\n",
    "    \n",
    "\\begin{equation*}\n",
    "    \\begin{pmatrix}\n",
    "        0 & \\cdots\\cdots\\cdots & 0 \\\\\n",
    "        \\vdots & & \\vdots \\\\\n",
    "        0 & \\cdots1_{rs}\\cdots & 0 \\\\\n",
    "        \\vdots & & \\vdots \\\\\n",
    "        0 & \\cdots\\cdots\\cdots & 0 \n",
    "    \\end{pmatrix}\n",
    "\\end{equation*}\n",
    "    \n",
    "Sea $A = (a_ij) \\in \\mathcal{M}_{m\\times n}$. ¿Cuál es el efecto de la multiplicación $I_{rs}A$?\n",
    "    \n",
    "</div>\n",
    "</div>"
   ]
  },
  {
   "cell_type": "markdown",
   "id": "fb8303aa",
   "metadata": {
    "slideshow": {
     "slide_type": "subslide"
    }
   },
   "source": [
    "<div style=\"background-color:rgb(0,120,170); opacity:0.7; border:rgb(0,170,120) 5px double; border-radius:17px;\">\n",
    "<div style=\"margin:0.3%; color:white; font-style:italic; font-family:cursive; text-align:justify; text-indent:1em;\">\n",
    "    \n",
    "La definición de multiplicación de matrices muestra que $I_{rs}A$ es la matriz obtenida al poner en el renglon $s$ de $A$ el renglon $r$ y ceros en los demás lugares.\n",
    "    \n",
    "\\begin{equation*}\n",
    "    \\begin{pmatrix}\n",
    "        0 & \\cdots & \\color{green}{0_{1,s}} & \\cdots & 0 \\\\\n",
    "        \\vdots & & \\color{green}{\\vdots} & & \\vdots \\\\\n",
    "        \\color{red}{0_{s,1}} & \\color{red}{\\cdots} & \\color{purple}{1_{rs}} & \\color{red}{\\cdots} & \\color{red}{0_{s,m}} \\\\\n",
    "        \\vdots & & \\color{green}{\\vdots} & & \\vdots \\\\\n",
    "        0 & \\cdots & \\color{green}{0_{m,s}} & \\cdots & 0 \n",
    "    \\end{pmatrix}\n",
    "    \\begin{pmatrix}\n",
    "        a_{11} & \\cdots & a_{1n} \\\\\n",
    "        \\vdots & &  \\vdots \\\\\n",
    "        \\color{red}{a_{r1}} &  \\color{red}{\\cdots} & \\color{red}{a_{rn}} \\\\\n",
    "        \\vdots & &  \\vdots \\\\\n",
    "        \\color{green}{a_{s1}} & \\color{green}{\\cdots} &  \\color{green}{a_{sn}} \\\\\n",
    "        \\vdots & &  \\vdots \\\\\n",
    "        a_{m1} & \\cdots & a_{mn} \n",
    "    \\end{pmatrix}\n",
    "    =\n",
    "    \\begin{pmatrix}\n",
    "        0 & \\cdots & 0 \\\\\n",
    "        \\vdots & &  \\vdots \\\\\n",
    "        \\color{purple}{a_{s1}} & \\color{purple}{\\cdots} & \\color{purple}{a_{sn}} \\\\\n",
    "        \\vdots & &  \\vdots \\\\\n",
    "        \\vdots & &  \\vdots \\\\\n",
    "        \\vdots & &  \\vdots \\\\\n",
    "        0 & \\cdots & 0 \n",
    "    \\end{pmatrix}\n",
    "\\end{equation*}\n",
    "    \n",
    "Para este esquema, por simplicidad supusimos que $r < s$.\n",
    "    \n",
    "<b>Observe</b>: Si $r = s$, entonces $I_{rr}$ tiene una componente $a_{rr} = 1$ sobre el el lugar de la diagonal y ceros en los demás lugares. La multiplicación por $I_{rr}$ deja fijo entonces el renglon $r$ y reemplaza todos los demás renglones por ceros.\n",
    "    \n",
    "</div>\n",
    "</div>"
   ]
  },
  {
   "cell_type": "markdown",
   "id": "9cb0c0d8",
   "metadata": {
    "slideshow": {
     "slide_type": "subslide"
    }
   },
   "source": [
    "<div style=\"background-color:rgb(0,120,170); opacity:0.7; border:rgb(0,170,120) 5px double; border-radius:17px;\">\n",
    "<div style=\"margin:0.3%; color:white; font-style:italic; font-family:cursive; text-align:justify; text-indent:1em;\">\n",
    "    \n",
    "Sea $J_{rs} = I_{rs} + I_{sr}$ con $r \\neq s$. Entonces\n",
    "    \n",
    "\\begin{equation*}\n",
    "    J_{rs}A = I_{rs}A + I_{sr}A =\n",
    "\\end{equation*}\n",
    "    \n",
    "\\begin{equation*}\n",
    "    \\begin{pmatrix}\n",
    "        0 & \\cdots & 0 & \\cdots & 0 & \\cdots & 0 \\\\\n",
    "        \\vdots & \\ddots & \\vdots & & \\vdots & & \\vdots \\\\\n",
    "        0 & \\cdots & 0 & \\cdots & \\color{green}{1_{sr}} & \\cdots & 0 \\\\\n",
    "        \\vdots & & \\vdots & \\ddots & \\vdots & & \\vdots \\\\\n",
    "        0 & \\cdots & \\color{red}{1_{rs}} & \\cdots & 0 & \\cdots & 0 \\\\\n",
    "        \\vdots & & \\vdots & & \\vdots & \\ddots & \\vdots \\\\\n",
    "        0 & \\cdots & 0 & \\cdots & 0 & \\cdots & 0 \\\\\n",
    "    \\end{pmatrix}\n",
    "    \\begin{pmatrix}\n",
    "        a_{11} & \\cdots & a_{1n} \\\\\n",
    "        \\vdots & &  \\vdots \\\\\n",
    "        \\color{red}{a_{r1}} &  \\color{red}{\\cdots} & \\color{red}{a_{rn}} \\\\\n",
    "        \\vdots & &  \\vdots \\\\\n",
    "        \\color{green}{a_{s1}} & \\color{green}{\\cdots} &  \\color{green}{a_{sn}} \\\\\n",
    "        \\vdots & &  \\vdots \\\\\n",
    "        a_{m1} & \\cdots & a_{mn} \n",
    "    \\end{pmatrix}\n",
    "    =\n",
    "    \\begin{pmatrix}\n",
    "        0 & \\cdots & 0 \\\\\n",
    "        \\vdots & &  \\vdots \\\\\n",
    "        \\color{green}{a_{s1}} & \\color{green}{\\cdots} &  \\color{green}{a_{sn}} \\\\\n",
    "        \\vdots & &  \\vdots \\\\\n",
    "        \\color{red}{a_{r1}} &  \\color{red}{\\cdots} & \\color{red}{a_{rn}} \\\\\n",
    "        \\vdots & &  \\vdots \\\\\n",
    "        0 & \\cdots & 0 \n",
    "    \\end{pmatrix}\n",
    "\\end{equation*}\n",
    "    \n",
    "Esta operación intercambia los renglones $r \\leftrightarrow s$ y el resto de los renglones los remplaza por ceros.\n",
    "    \n",
    "</div>\n",
    "</div>"
   ]
  },
  {
   "cell_type": "markdown",
   "id": "8ee96d08",
   "metadata": {
    "slideshow": {
     "slide_type": "subslide"
    }
   },
   "source": [
    "<div style=\"background-color:rgb(100,0,70); opacity:0.7; border:rgb(0,120,170) 5px double; border-radius:17px;\">\n",
    "<div style=\"margin:0.3%; color:white; font-style:italic; font-family:cursive; text-align:justify; text-indent:1em;\">\n",
    "    \n",
    "<b>Ejercicio</b>: Sean las matrices $I_{21}, I_{12} \\text{ y } J_{12} \\in \\mathcal{M}_{3 \\times 3}$ y se la matriz:\n",
    "\n",
    "\\begin{equation*}\n",
    "    A = \n",
    "\t\\begin{pmatrix}\n",
    "\t\t3 & 1 & 4 \\\\\n",
    "\t\t-2 & 1 & 3 \\\\\n",
    "\t\t2 & 5 & 1\n",
    "\t\\end{pmatrix}\n",
    "\\end{equation*}\n",
    "obtener: a) $I_{21}A$, b) $I_{12}A$ y c) $J_{21}A$.\n",
    "    \n",
    "</div>\n",
    "</div>"
   ]
  },
  {
   "cell_type": "markdown",
   "id": "134c0c32",
   "metadata": {
    "slideshow": {
     "slide_type": "fragment"
    }
   },
   "source": [
    "<div style=\"background-color:rgb(100,0,70); opacity:0.7; border:rgb(0,120,170) 5px double; border-radius:17px;\">\n",
    "<div style=\"margin:0.3%; color:white; font-style:italic; font-family:cursive; text-align:justify; text-indent:1em;\">\n",
    "    \n",
    "<b>Ejemplo</b>: Sea la matriz\n",
    "\n",
    "\\begin{equation*}\n",
    "    E = \n",
    "\t\\begin{pmatrix}\n",
    "\t\t0 & 1 & 0 \\\\\n",
    "\t\t1 & 0 & 0 \\\\\n",
    "\t\t0 & 0 & 1\n",
    "\t\\end{pmatrix}\n",
    "\\end{equation*}\n",
    "y sea $A$ la matriz del ejercicio anterior. Obtener $EA$.\n",
    "    \n",
    "</div>\n",
    "</div>"
   ]
  },
  {
   "cell_type": "markdown",
   "id": "ad9448d2",
   "metadata": {
    "slideshow": {
     "slide_type": "subslide"
    }
   },
   "source": [
    "<div style=\"background-color:rgb(100,0,70); opacity:0.7; border:rgb(0,120,170) 5px double; border-radius:17px;\">\n",
    "<div style=\"margin:0.3%; color:white; font-style:italic; font-family:cursive; text-align:justify; text-indent:1em;\">\n",
    "    \n",
    "<b>Solución</b>: Antes de hacer la multiplicación debe notar que podemos expresar a $E$ como\n",
    "\n",
    "\\begin{equation*}\n",
    "    E = I_{12} + I_{21} + I_{33}.\n",
    "\\end{equation*}\n",
    "    \n",
    "Además, observe que $E$ se obtiene de la matriz unitaria intercambiando los dos primeros renglones y dejando fijo el tercero.\n",
    "    \n",
    "Ahora si, $EA$ está dado por\n",
    "\n",
    "\\begin{equation*}\n",
    "    EA =\n",
    "    \\begin{pmatrix}\n",
    "\t\t0 & 1 & 0 \\\\\n",
    "\t\t1 & 0 & 0 \\\\\n",
    "\t\t0 & 0 & 1\n",
    "\t\\end{pmatrix}\n",
    "    \\begin{pmatrix}\n",
    "\t\t3 & 1 & 4 \\\\\n",
    "\t\t-2 & 1 & 3 \\\\\n",
    "\t\t2 & 5 & 1\n",
    "\t\\end{pmatrix}\n",
    "    =\n",
    "    \\begin{pmatrix}\n",
    "\t\t-2 & 1 & 3 \\\\\n",
    "\t\t3 & 1 & 4 \\\\\n",
    "\t\t2 & 5 & 1\n",
    "\t\\end{pmatrix}\n",
    "\\end{equation*}\n",
    "    \n",
    "</div>\n",
    "</div>"
   ]
  },
  {
   "cell_type": "markdown",
   "id": "377cad3c",
   "metadata": {
    "slideshow": {
     "slide_type": "fragment"
    }
   },
   "source": [
    ">Comprobemos el resultado con Wolfram"
   ]
  },
  {
   "cell_type": "code",
   "execution_count": null,
   "id": "b04415b0",
   "metadata": {
    "slideshow": {
     "slide_type": "fragment"
    },
    "vscode": {
     "languageId": "wolfram language"
    }
   },
   "outputs": [
    {
     "data": {
      "text/html": [
       "<div><img alt=\"Output\" src=\"data:image/png;base64,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\"></div>"
      ],
      "text/plain": [
       "-2   1    3\n",
       "\n",
       "3    1    4\n",
       "\n",
       "2    5    1"
      ]
     },
     "metadata": {},
     "output_type": "display_data"
    }
   ],
   "source": [
    "e = {{0, 1, 0}, {1, 0, 0}, {0, 0, 1}};    (*No ocupamos la letra E, ya que en Wolfran la reconoce como una variable interna*)\n",
    "A = {{3, 1, 4}, {-2, 1, 3}, {2, 5, 1}};\n",
    "e.A//MatrixForm"
   ]
  },
  {
   "cell_type": "markdown",
   "id": "021eb191",
   "metadata": {
    "slideshow": {
     "slide_type": "subslide"
    }
   },
   "source": [
    "<div style=\"background-color:rgb(0, 120, 30); opacity:0.7; border:rgb(250,250,100) 5px double; border-radius:17px;\">\n",
    "<div style=\"margin:0.3%; color:white; font-style:italic; font-family:cursive; text-align:justify; text-indent:1em;\">\n",
    "    \n",
    "<b>Teorema</b>: Sea $E$ la matriz obtenida a partir de la matriz unitaria $I \\in \\mathcal{M}_{n \\times n}$ al intercambiar dos renglones (por ejemplo los renglones $r$ y $s$, $r \\neq s$). Sea $A \\in \\mathcal{M}_{n \\times n}$. Entonces $EA$ es la matriz obtenida a partir de $A$ al intercambiar estos dos renglones ($r \\leftrightarrow s$).\n",
    "    \n",
    "</div>\n",
    "</div>"
   ]
  },
  {
   "cell_type": "markdown",
   "id": "c6d09f1f",
   "metadata": {
    "slideshow": {
     "slide_type": "fragment"
    }
   },
   "source": [
    "<div style=\"background-color:rgb(0, 120, 30); opacity:0.7; border:rgb(250,250,100) 5px double; border-radius:17px;\">\n",
    "<div style=\"margin:0.3%; color:white; font-style:italic; font-family:cursive; text-align:justify; text-indent:1em;\">\n",
    "    \n",
    "<b>Teorema</b>: Sea $E$ la matriz obtenida a partir de la matriz unitaria $I \\in \\mathcal{M}_{n \\times n}$ al multiplicar el renglón $r$ por un número $\\delta$ y sumarlo al renglón $s$, $r \\neq s$. Sea $A \\in \\mathcal{M}_{n \\times n}$. Entonces $EA$ es la matriz obtenida a partir de $A$ al multiplicar el renglón $r$ de $A$ por un número $\\delta$ y sumarlo al renglón $s$ de $A$.\n",
    "    \n",
    "</div>\n",
    "</div>"
   ]
  },
  {
   "cell_type": "markdown",
   "id": "23569cb4",
   "metadata": {
    "slideshow": {
     "slide_type": "subslide"
    }
   },
   "source": [
    "<div style=\"background-color:rgb(0,120,170); opacity:0.7; border:rgb(0,170,120) 5px double; border-radius:17px;\">\n",
    "<div style=\"margin:0.3%; color:white; font-style:italic; font-family:cursive; text-align:justify; text-indent:1em;\">\n",
    "    \n",
    "<b>Definición</b>: Una <b>matriz elemental</b> ($E$), será cualquiera de los siguientes tres tipos:\n",
    "\n",
    "<ul>\n",
    "<li>Una matriz que se obtiene de la matriz unitaria al multiplicar la $r-$ésima componente de la diagonal por un número $\\delta$.</li>\n",
    "    \n",
    "\\begin{equation*}\n",
    "    E_{r}(\\alpha) = \\delta I_{rr} + \\sum_{i \\neq r} I_{ii}.\n",
    "\\end{equation*}\n",
    "    \n",
    "<li>Una matriz que se obtiene de la matriz unitaria al intercambiar dos renglones (por ejemplo los renglones $r$ y $s$, $r \\neq s$).</li>\n",
    "    \n",
    "\\begin{equation*}\n",
    "    E_{rs} = I_{rs} + I_{sr} + \\sum_{i \\neq r}\\sum_{j \\neq s} I_{ij}.\n",
    "\\end{equation*}\n",
    "    \n",
    "<li>Una matriz $E_{rs}(\\delta) = I + \\delta I_{rs}$, con $r \\neq s$.</li>\n",
    "</ul>\n",
    "    \n",
    "</div>\n",
    "</div>"
   ]
  },
  {
   "cell_type": "markdown",
   "id": "6e2b7769",
   "metadata": {
    "slideshow": {
     "slide_type": "fragment"
    }
   },
   "source": [
    "<div style=\"background-color:rgb(0, 120, 30); opacity:0.7; border:rgb(250,250,100) 5px double; border-radius:17px;\">\n",
    "<div style=\"margin:0.3%; color:white; font-style:italic; font-family:cursive; text-align:justify; text-indent:1em;\">\n",
    "    \n",
    "<b>Proposición</b>: Una matriz elemental es invertible.\n",
    "    \n",
    "</div>\n",
    "</div>"
   ]
  },
  {
   "cell_type": "markdown",
   "id": "3211faa8",
   "metadata": {
    "slideshow": {
     "slide_type": "subslide"
    }
   },
   "source": [
    "<div style=\"background-color:rgb(0, 120, 30); opacity:0.7; border:rgb(250,250,100) 5px double; border-radius:17px;\">\n",
    "<div style=\"margin:0.3%; color:white; font-style:italic; font-family:cursive; text-align:justify; text-indent:1em;\">\n",
    "    \n",
    "<b>Proposición</b>: Si $A_1, \\dots, A_k \\in \\mathcal{M}_{n \\times n}$ son matrices invertibles, entonces su producto tienen una inversa\n",
    "    \n",
    "\\begin{equation*}\n",
    "    (A_1 \\cdots A_k)^{-1} = A_k^{-1} \\cdots A_1^{-1}.\n",
    "\\end{equation*}\n",
    "    \n",
    "</div>\n",
    "</div>"
   ]
  },
  {
   "cell_type": "markdown",
   "id": "d689828a",
   "metadata": {
    "slideshow": {
     "slide_type": "fragment"
    }
   },
   "source": [
    "<div style=\"background-color:rgb(0, 120, 30); opacity:0.7; border:rgb(250,250,100) 5px double; border-radius:17px;\">\n",
    "<div style=\"margin:0.3%; color:white; font-style:italic; font-family:cursive; text-align:justify; text-indent:1em;\">\n",
    "    \n",
    "<b>Proposición</b>: Sean $A, A' \\in \\mathcal{M}_{n \\times n}$ tales que $A'$ es equivalente por renglones a $A$. Entonces $A$ tiene inversa si, y solo si, $A'$ tienen una inversa.\n",
    "    \n",
    "</div>\n",
    "</div>"
   ]
  },
  {
   "cell_type": "markdown",
   "id": "3d79cc48",
   "metadata": {
    "slideshow": {
     "slide_type": "fragment"
    }
   },
   "source": [
    "<div style=\"background-color:rgb(0, 120, 30); opacity:0.7; border:rgb(250,250,100) 5px double; border-radius:17px;\">\n",
    "<div style=\"margin:0.3%; color:white; font-style:italic; font-family:cursive; text-align:justify; text-indent:1em;\">\n",
    "    \n",
    "<b>Teorema</b>: Sea $A \\in \\mathcal{M}_{n \\times n}$, decimos que $A$ es invertible si, y solo si, $A$ es equivalente por renglones a la matriz unitaria. Cualquier matriz triangular superiro cuyos elementos no son nulos es invertible.\n",
    "    \n",
    "</div>\n",
    "</div>"
   ]
  },
  {
   "cell_type": "markdown",
   "id": "f4969223",
   "metadata": {
    "slideshow": {
     "slide_type": "fragment"
    }
   },
   "source": [
    "<div style=\"background-color:rgb(0, 120, 30); opacity:0.7; border:rgb(250,250,100) 5px double; border-radius:17px;\">\n",
    "<div style=\"margin:0.3%; color:white; font-style:italic; font-family:cursive; text-align:justify; text-indent:1em;\">\n",
    "    \n",
    "<b>Corolario</b>: Sea $A \\in \\mathcal{M}_{n \\times n}$ una matriz invertible. Entonces $A$ se puede expresar como producto de matrices elementales.\n",
    "    \n",
    "</div>\n",
    "</div>"
   ]
  },
  {
   "cell_type": "markdown",
   "id": "e14c7842",
   "metadata": {
    "slideshow": {
     "slide_type": "subslide"
    }
   },
   "source": [
    "<div style=\"background-color:rgb(100,0,70); opacity:0.7; border:rgb(0,120,170) 5px double; border-radius:17px;\">\n",
    "<div style=\"margin:0.3%; color:white; font-style:italic; font-family:cursive; text-align:justify; text-indent:1em;\">\n",
    "    \n",
    "<b>Ejemplo</b>: Obtener la inversa de las siguientes matrices\n",
    "\n",
    "\\begin{equation*}\n",
    "    a) \\quad\\ A = \n",
    "\t\\begin{pmatrix}\n",
    "\t\t2 & 1 & 2 \\\\\n",
    "\t\t0 & 3 & -1 \\\\\n",
    "\t\t4 & 1 & 1\n",
    "\t\\end{pmatrix},\n",
    "    \\quad\\ b) \\quad\\ B = \n",
    "\t\\begin{pmatrix}\n",
    "\t\t2 & 4 & 3 \\\\\n",
    "\t\t-1 & 3 & 0 \\\\\n",
    "\t\t0 & 2 & 1\n",
    "\t\\end{pmatrix}\n",
    "    \\quad\\ c) \\quad\\ C = \n",
    "\t\\begin{pmatrix}\n",
    "\t\t-1 & 5 & 3 \\\\\n",
    "\t\t4 & 0 & 0 \\\\\n",
    "\t\t2 & 7 & 8\n",
    "\t\\end{pmatrix}\n",
    "\\end{equation*}\n",
    "    \n",
    "Los incisos b) y c) se dejan como ejercicios.\n",
    "    \n",
    "<b>Solución a)</b>: Para obtener la inversa de $A$ procedemos de forma similar a la solución de sitemas de ecuaciones lineales, la diferencia básica es que, en este caso, la matriz aumentada es $(A,I)$\n",
    "   \n",
    "\\begin{eqnarray*}\n",
    "\t\\begin{pmatrix}\n",
    "\t\t2 & 1 & 2 & 1 & 0 & 0 \\\\\n",
    "\t\t0 & 3 & -1 & 0 & 1 & 0 \\\\\n",
    "\t\t4 & 1 & 1 & 0 & 0 & 1\n",
    "\t\\end{pmatrix}\n",
    "    & \\widetilde{R_3: R_3 - 2R_1} &\n",
    "    \\begin{pmatrix}\n",
    "\t\t2 & 1 & 2 & 1 & 0 & 0 \\\\\n",
    "\t\t0 & 3 & -1 & 0 & 1 & 0 \\\\\n",
    "\t\t0 & -1 & -3 & -2 & 0 & 1\n",
    "\t\\end{pmatrix} \\\\\n",
    "    & \\widetilde{R_2: R_2 + 3R_3} &\n",
    "    \\begin{pmatrix}\n",
    "\t\t2 & 1 & 2 & 1 & 0 & 0 \\\\\n",
    "\t\t0 & 0 & -10 & -6 & 1 & 3 \\\\\n",
    "\t\t0 & -1 & -3 & -2 & 0 & 1\n",
    "\t\\end{pmatrix} \\\\\n",
    "    & \\widetilde{R_3 \\leftrightarrow R_2} &\n",
    "    \\begin{pmatrix}\n",
    "\t\t2 & 1 & 2 & 1 & 0 & 0 \\\\\n",
    "\t\t0 & -1 & -3 & -2 & 0 & 1 \\\\\n",
    "\t\t0 & 0 & -10 & -6 & 1 & 3\n",
    "\t\\end{pmatrix} \\\\\n",
    "       & \\widetilde{R_1: R_1 + R_2} &\n",
    "    \\begin{pmatrix}\n",
    "\t\t2 & 0 & -1 & -1 & 0 & 1 \\\\\n",
    "\t\t0 & -1 & -3 & -2 & 0 & 1 \\\\\n",
    "\t\t0 & 0 & -10 & -6 & 1 & 3\n",
    "\t\\end{pmatrix} \\\\\n",
    "    & \\widetilde{R_2: -R_2, R_3: -R_3/10} &\n",
    "    \\begin{pmatrix}\n",
    "\t\t2 & 0 & -1 & -1 & 0 & 1 \\\\\n",
    "\t\t0 & 1 & 3 & 2 & 0 & -1 \\\\\n",
    "\t\t0 & 0 & 1 & \\frac{3}{5} & -\\frac{1}{10} & -\\frac{3}{10}\n",
    "\t\\end{pmatrix} \\\\\n",
    "    & \\widetilde{R_1: R_1 + R_3} &\n",
    "    \\begin{pmatrix}\n",
    "\t\t2 & 0 & 0 & -\\frac{2}{5} & -\\frac{1}{10} & \\frac{7}{10} \\\\\n",
    "\t\t0 & 1 & 3 & 2 & 0 & -1 \\\\\n",
    "\t\t0 & 0 & 1 & \\frac{3}{5} & -\\frac{1}{10} & -\\frac{3}{10}\n",
    "\t\\end{pmatrix} \\\\\n",
    "    & \\widetilde{R_2: R_2 - 3R_3} &\n",
    "    \\begin{pmatrix}\n",
    "\t\t2 & 0 & 0 & -\\frac{2}{5} & -\\frac{1}{10} & \\frac{7}{10} \\\\\n",
    "\t\t0 & 1 & 0 & \\frac{1}{5} & \\frac{3}{10} & -\\frac{1}{10} \\\\\n",
    "\t\t0 & 0 & 1 & \\frac{3}{5} & -\\frac{1}{10} & -\\frac{3}{10}\n",
    "\t\\end{pmatrix} \\\\\n",
    "    & \\widetilde{R_1: R_1/2} &\n",
    "    \\begin{pmatrix}\n",
    "\t\t1 & 0 & 0 & -\\frac{1}{5} & -\\frac{1}{20} & \\frac{7}{20} \\\\\n",
    "\t\t0 & 1 & 0 & \\frac{1}{5} & \\frac{3}{10} & -\\frac{1}{10} \\\\\n",
    "\t\t0 & 0 & 1 & \\frac{3}{5} & -\\frac{1}{10} & -\\frac{3}{10}\n",
    "\t\\end{pmatrix}\n",
    "\\end{eqnarray*}\n",
    "    \n",
    "</div>\n",
    "</div>"
   ]
  },
  {
   "cell_type": "markdown",
   "id": "f988e198",
   "metadata": {
    "slideshow": {
     "slide_type": "subslide"
    }
   },
   "source": [
    ">Comprobemos el resultado con Wolfram"
   ]
  },
  {
   "cell_type": "code",
   "execution_count": null,
   "id": "62f548ea",
   "metadata": {
    "slideshow": {
     "slide_type": "fragment"
    },
    "vscode": {
     "languageId": "wolfram language"
    }
   },
   "outputs": [
    {
     "data": {
      "text/html": [
       "<style>\n",
       "\t\t\t\t\t\t\t\t\t\t\t\t\t.grid-container {\n",
       "\t\t\t\t\t\t\t\t\t\t\t\t\t\tdisplay: inline-grid;\n",
       "\t\t\t\t\t\t\t\t\t\t\t\t\t\tgrid-template-columns: auto;\n",
       "\t\t\t\t\t\t\t\t\t\t\t\t\t}\n",
       "\t\t\t\t\t\t\t\t\t\t\t\t</style>\n",
       "\n",
       "\t\t\t\t\t\t\t\t\t\t\t\t<div><div class=\"grid-container\"><div class=\"grid-item\"><img alt=\"Output\" src=\"data:image/png;base64,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\"></div><div class=\"grid-item\"><img alt=\"Output\" src=\"data:image/png;base64,iVBORw0KGgoAAAANSUhEUgAAATQAAACRCAIAAADCRdMhAAAA0XpUWHRSYXcgcHJvZmlsZSB0eXBlIGV4aWYAAHjabU/bDQMhDPtnio4QQnBgHK4HUjfo+A0QqaKqJWJj8iChv18jPCY4UpCsBRUgg1Sp3EwU2tgcqa64kMRVPP1QXcRmVv4+oLt/nb5iM5efRsQ+aU7gNXEXeKPE249t3y/P51bK0WhcY8GXWW/+9b93ScrIiCoWhUkV1XQJJo2QmbJi4AlYYsTNJE/jDlUrg86M1GbhBHc9s3tAMuOeK6R5ODXjapFtNJmOS6cVmW9z8sqZ63wAaIZcN5/eKHcAAAAJcEhZcwAAFiUAABYlAUlSJPAAAAA8dEVYdFNvZnR3YXJlAENyZWF0ZWQgd2l0aCB0aGUgV29sZnJhbSBMYW5ndWFnZSA6IHd3dy53b2xmcmFtLmNvbVyipoUAAAAhdEVYdENyZWF0aW9uIFRpbWUAMjAyMjowOToyNyAwMToyMzoyMs2gUyIAABN2SURBVHic7Z1PaBvH28dHLy/UB4Ms5EJrjFG0PqQ01IEssXGt4IjAmjqHHAySkkNlUpLuHkoPJYobQ1Kapqx6jeP0FEFKVwEfYzeLwTWRkyaOoHJwDgVrY1JDApXYCAcScEC/w9BFkXZX/2Z3Z9Xnc1rvrGee2ZmvZuffM55yuYwAAKCP/3PaAAAA9AFxAgClgDgBgFJAnC5DEASPxzMxMeG0IU1Auc3JZNKjRzqddtawhsT54MGDnZ0dq00BzEmn0x6P58iRI04b0gSusPncuXPldxFFESF0+PBhK5J7+/bt7du3G3q0XI/Xr18fPHjw9evXdZ8ErCOTyWiFhRDiOM5ZexrBjTZjEEI8z1sXfzwe//PPP+s+Vr/lvHr16unTp7u6utr4sQDaZWxsrOy2SS832owQSiaTCKFvvvnGuiQuXLgwMzNT97H/Nw9++fLlrVu3/vjjj8YTLhaLCwsLpVJpdHR0bGys8X9sEEVR1tfXnz17hhCyIgmr4wcoJ5FI8DwfDAatS2JwcDAQCKyuro6Pj5s9Z96wXrp06ebNm42315IkMQyDYxZFsfF/bBDcGaiEZdlcLueW+ImAXPWJiHGLzbgC5PN5qxN6/vz5yMiI+TNm4tzb2wsEAg32NjOZDMdxuDZbJM5vv/0Wx8xxnCiKPM/7fD6EkM/nI/I2rY6fFG6p6JW4xWZkcW+zkhMnTmQyGTNjTMKWl5ej0WgjyWgNDs/zhULBCnHi0QWEkCRJ2s1cLof10/4LtTp+grilolfiCptxNTYXDEFu3rz59ddfmzxgJs4vvviiwW9aSZJ8Pp9Wra0QZyQS0S1g7XehUCjQHD9BXFHRq3CFzTYb+c8//wQCATN7jAL29vY++OADVVUbTKmyY2aFOHGci4uLVfe1Fq82iKr4CeKKil4F/Tbb3Gxijh07ZpKi4VTKgwcPBgcHe3p6jB6oYmhoqMEnW2BjYwNfDA8PV95PJpOhUAhfb25uUhs/EbSVKwghWZbx9dramrNWmeMWmxVFSSQSHMfZPDjPcdzi4qJRqOFUSi6X04Z2HGd3dxdf+P1+fKEoiiAIsizjPqGqqtvb29TGT4SyC+cM3WJzMBh0xNT9+/fPzc0ZhRq2nE+ePPn444+tMalFtB+LpaUllmVlWWZZNpvNnj9/HiGkKArl8QNAFfv3789ms0ahhuLc2toKBAKWWNQqfr+/WCwKgjA5OamqqiiKjx49IjhZbHX8AFBFf39/oVB48+aNbqjhZ+3W1lZvb69lVrXC+vr68PBwPp9nGCaVSmndA/zBeejQIcrjB4Aqurq6uru7d3Z2BgcHa0MNxbm9vd34aJA9qKqqqmokEpmbm9M6h+jfD06v10t5/Agh821T8Xg8Go3W3v/xxx9NeibHjx+/fv16+7ZhWrMQIdTf399yotevXz9+/HjL/944z549Gx0dbfnfl5aWPvnkE4L2IIR6e3ubE+fLly/xv5G1o2W0RkwUxXPnzlWFyrKMEGrnpVsdv8bs7KxJaF9fn+79mZkZQRDaT70RWrMQIfTkyRMLzCHMwMAAbXb29vZiuemgO8Hy9OlTo6BGwDGTnefEawNr58okSUII+Xw+yuMHAF3Gx8dv3LihG6Q/IPTq1Svavmnj8ThCSJblyv3pGxsbuEnBA6o0xw8AuvT09Lx69Uo3SP+ztlAoNCVORVEWFhaqbq6srGjXU1NTbQ57RqPRVColy3IsFkulUuFweHt7O51Oq6rKsuzp06fbidyG+AFAl56enmKxqB+m257+/vvv5qv+qtDWuBlBZFVUoVDAK2Ar4TiO1KpXq+MHgFri8filS5d0g+pstm6Qvr6+2p2QVQ+0n4rf70+n01euXFleXi6VSl6vd2RkhOCyQavjB4CmICPOYDBYO8hpEcFg8OzZs+6NHwAaBFxjAgClgDgBgFJAnABAKSBO1zAxMVHlkhw7caSNSgtrt25iN9MYZ33A028niNNNVC1gsm0QrnE8Ho/mrUYUxVAoVFnvk8lkLBbT5tVkWXaq3rvDTt0JlmbnOQEb4DiOck8ftaB3faOhdxd14unxSo9qTuGgnSbznNByAtaibVLH6yKnpqa0oMuXLyOE7t6964hhVVBoJ4jTTWhueKjtcFaCPxS1ZZvYib72p8fjCYfDHMc57mKCWjtBnK7hzp072gePJEmJRMK2fWStgfcSaIeOaE6YFEXBXT5K+szU2gnidCXRaJTn+fn5ecebHSMmJiby+bwkSVoThL3epNNphmHy+bzRpm2bodlOECdAnomJCVmWRVGsrNkDAwMIodnZ2XK5rClBlmUHvTRRbieI060oisIwDIX+x7QaX/U1iM+iPXPmjHYHd/ZOnjxps4UYF9ipO4YLUymUg/022OyevBF4nkfGsw44VDsVCjnnBp4eO02mUkCcrqHyJ5XOCU+jbb2VGqjcWujU8VBU2WkiTk9Zz9H16urq9PQ09iQEAIB1TE9PBwKBixcv1gZBnxMAKAXECQCUAuIEAEoBcQIApYA4AYBSQJwAQCkgTgCgFBAnAFAKiBMAKAXECQCUAuIEAEoBcQIApYA4KUUQBMc9uzZIlUPdWh+wHYAjxQHipA7szvjIkSNOG9Iolc6Nan3Auh0HiwPESRdra2uxWKxcLlPiYqdZsFeB+/fvO20IGZwtDhAnXYyNjenusAUcwdniAHECJBEEgWEYSnxeuh0yh+dqKIqyvr6O3fKOjo6OjY2RjR9TLBYXFhZKpZIVSdiThQ4DO8vC10ZOQICm0XVe0poPodqT51mWzeVyzcZjjiRJDMPg+CsPtCCCPVloEESrryAT8vm8G81uBIvyZcdZKRcuXEgkEjgDoijyPO/z+bLZ7NGjR0k5Pl5bW5uYmIjFYj6fj0iEVdiQhY4nGAyKoijLMrwxAuhKttmWU/uSqfRflsvlsIqIOC/T2jSe5wuFAr4m2HLakIVmQe5sgnBJOW0FeSwqDstbzqtXr2LTK0ech4aGzp8/jxCan58vFottJjEwMODz+SRJunbtmt/vbzO2WmzIwn+BdDqdSCRqewdAK+hKttmWE0e1uLhYdV9rjmqDWqCy74ejJdhy2pOFxi2pgkL/0Rjcyaxbo9yL1cVhbcu5sbGBL4aHhyvvJ5PJUCiErzc3N9tPaGhoqP1IdLEtC42gW07UDhoHg8FGarN7cbA4CEyl7O7u4gvta1NRFEEQZFnGHTZVVbVj1eikA7IAdB7ERmtZlsUXS0tLLMvKssyybDabxX02V4zddUAWgE6CmDj9fn+xWBQEYXJyUlVVURQfPXpE4RlYJnRAFoBOgtgKofX19eHh4Xw+zzBMKpXSPsrx1+ChQ4dIJWQdzmbh8ePHv/76q1Go1+udmZmx1IBGuHbtGl471QKTk5NaB55CzN9/XWZmZrxeL0F7EEFxqqqqqmokEpmbm6uc6sBfg8TttgJns9DT04OPbdWFkhfo9XpNjDSnVCqRNcYI812X8Xhcd4uJ+fuvixUFRECcWgtTew4pQggvuRwdHW0/IeugIQsDAwOCIFiaRPucOnXKaRPqMzs7axLa19ene5/C90+m5eQ4TpbllZWVqpqdTqcRQj6fj9qZAI0OyAKA6ZiSIjMgFI/HEUKyLOOqjNnY2MA/RXi0k3I6IAtAh0Gm5YxGo6lUSpblWCyWSqXC4fD29nY6nVZVlWXZ06dPt5+EoigLCwtVN1dWVrTrqampdkZWbcgCADSH7gKIFraMFQqFSCRSFTnHcYVCoal4jKi7S7D9FVVWZwEAajFZvkdstNbv96fT6StXriwvL5dKJa/XOzIyQnDBXV9fn/lyaqOOfuNYnQUAaArCnhCCweDZs2fJxqnFbI/zC+uyAABNAT6EAIBSQJwAQCkgTgCgFBAndVSdbuDxeJLJpNNG6WByQgH2ko5xxYkStdCQOxAnjVT5qqHNDaz5CQXJZDIWi2kzW7Isu0uf9OQOxAk0R90TCrAPIW0NXSaTqVp3RTNU5Q7ECTSH+QkFuJpOTU1pdy5fvowQunv3rg22tQ9VuQNx0ogsy5R3OI3Auz21dZQejyccDnMc1xl+JGzOHYiTOipP1JMkKZFI0LaVyQTN05KiKB6PR5Ik2jrM7WBz7kCcVBONRnmen5+fd0vLEwgEEELpdJphmHw+79KDDI2wOXcgToAk2JnA7OxsuVzWPv9kWe4MV0w25w7ESTuKojAM45bKffjwYYTQmTNntDv4lOuTJ086ZhM5bM4diJNq8NF6qVTKaUMaJRgM8jyfSCS07/BQKMRxXGd4J7A5dyBO6qhcG4QQKtPn7r3SPG1gGbchCKFr166JosgwDL7P8/ydO3cctbc56MmdR3dWZ3V1dXp6+unTpxalCgAAZnp6OhAIXLx4sTYIWk4AoBQQJwBQCogTACgFxAkAlALiBABKAXECAKWAOAGAUkCcAEApIE4AoBQQJwBQCogTACgFxEkdVa4xtSXX7sXEzST9OFgcIE7qqHRTIopiKBRyrz7N3Uy6AgeLA8RJNdhFzf379502pBXqupl0HTYXB4gTsApzN5NAXUCcVCMIAsMwneTAztXYXByEz+dUFGV9fR279xwdHbViC78NSRSLxYWFhVKpZFH8dcHeSfB13SO9AatxrDh0z7tu4dh53F2uipxl2Vwu12w8ziYhSRLDMDhyURQJxtwC+Xwe1Ryd4kY6IxdWFIfJsfPEPmsvXLiQSCSw6aIo8jzv8/my2ezRo0dJ+Vy1Oom1tbWJiYlYLObz+dqPjQjBYFAURVmW3eK3trOxuzh0Jdtsy6m19ZIkaTdzuRyu5TzPN/Vb4kgSWpvM83yhUMDXjrecmmFOW9EuqCNazrIFxWHScpIRZyQS0X37Wo0vFAqNx+ZIEpIk+Xw+TfmUiFOSJBrMaJ/OEKcVxWEiTjIDQrdu3UIIffXVV1X3R0dH8cXDhw8/++wzmpOIRqMfffTR0NBQyzEQAbuQrrxTdvNsBHYwicFuJhFCmUyGNmefRjhbHAT6nBsbG/hieHi48n4ymQyFQvh6c3OT8iQQQo4rEyEUDAarfj6dtqgtdBsEtygTOV0cBFrO3d1dfOH3+/GFoiiCIMiyjDuEqqpqxzNRmwQA0Aax0VqWZfHF0tISy7KyLLMsm81mz58/jxAiMrplQxIAQA/ExOn3+4vFoiAIk5OTqqqKovjo0SOyx+/YkAQA0AOxFULr6+vDw8P5fJ5hmFQqpfUr8NfmoUOHXJGEg5RKpVKpZBTq9Xq9Xq+d9jQLXrPVGvhoPWcxf/91sSILxMSpqqqqqpFIZG5uTusZon+/NolULBuScJDHjx/zPG8U6vV67927Z4MZ5rsu4/G40RaTdobKZ2ZmTp061fK/V9FaFszff13u3btHvAYSEKfWgomiWLsmGC9K1CY8qE3CcUKhUPsDzu0zOztrEtrX12cURIPxmNayQMn7r4RMy8lxnCzLKysrVcpJp9MIIZ/P1/7ouQ1JAKjid9C9dEAWMPoDQl1dXW/fvm08lng8jhCSZRlLBbOxsSEIAkIIj6a2iQ1JAID9vHnz5r333tMN0j+fc3t7e9++fU1NuWrbajiOC4fD29vb6XRaVVWWZe/cuVPZRWwZS5NQFGVhYUH7U1thHw6H8Z2pqSkYGQaIc/To0c8//xy3PdXoruH4+++/jYKMKBQKePlrJRzHtb+q1p4k6u7Ty2Qy7acCAFWMj4/fvHlTN0i/5UQIeTyep0+fBgKBhuT/L4qiLC8vl0olr9c7MjJixYI4i5KoajlrgZYTsIJ9+/bduHFjfHy8NshQnO+//34mk9m/f7+1pgHAf5sPP/zwt99+O3jwYG2Q4QqhwcHBFy9eWGkVAADoxYsX/f39ukGG4gwEAjs7O5aZBAAA2tnZ6e7u7u3t1Q01FOfQ0NBff/1lmVUAAKCtrS2TnqOhOA8cOJDL5awxCTCjyv+/x+NJJpNOG9UcJucvYB/wGJoPaLAnC5ubm9peq1oMxTkyMpLNZptaigCQosqjh4v81pqfv5BMJmOxmDYpJcsyhfq0MwsPHz789NNPDYNNZmCOHTu2vLzc/kwO0BQcx7nU3Q6eK8bXSM9pEHrXAQ9+vtJjm+PYmYW9vb3+/v7d3V2jB8z2c0YikcXFxZZ/FYD/GubnL+B1l1NTU9qdy5cvI4Tu3r1rg20NYmcWVldXx8bGuru7jR4wE+eJEydu377dQqpAm2BfWC7tcBqBN3xqCzk8Hk84HOY4zkUuLMhmYXFxsXbFWyVm4uzt7T1w4EA2m20hYaBlKs+ckyQpkUjgxf1uR3PypCiKx+ORJMlFfWkMwSy8ffsWOzE3eaaOm5KLFy9+9913rSUPtE80GuV5fn5+3kXNixF4KWg6nWYYJp/Pu/FcQIJZ+OWXX06dOtXV1WXyTB1xHjx4sLu7e3V1tWUjAACDHXnMzs6Wy2Xty1CWZRetWCaVhTdv3vz8889ffvml+WP1HXx9//33P/zwQ1NpAwTBfo1dVIONOHz4MELozJkz2h18RPTJkycds6lJSGXh+vXrZ8+eNW82EWpsX9hPP/30/PnzFgaLgTbhOA65c7ca0puHwE568vm8yTP0YF0WLl26tLe3V9+AZuMFrKbyp5PmuquLbgNQ+eNSeYgjkROuiENPFgy3jAEA4Cxw7DwAUAqIEwAo5X8GJK+yJBDt2gAAAABJRU5ErkJggg==\"></div><div class=\"grid-item\"><img alt=\"Output\" src=\"data:image/png;base64,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\"></div></div></div>"
      ],
      "text/plain": [
       "2    1    2    1    0    0\n",
       "\n",
       "0    3    -1   0    1    0\n",
       "\n",
       "4    1    1    0    0    1\n",
       "                          1       1     7\n",
       "                        -(-)    -(--)   --\n",
       "1       0       0         5       20    20\n",
       "\n",
       "                        1       3         1\n",
       "                        -       --      -(--)\n",
       "0       1       0       5       10        10\n",
       "\n",
       "                        3         1       3\n",
       "                        -       -(--)   -(--)\n",
       "0       0       1       5         10      10\n",
       "  1       1     7\n",
       "-(-)    -(--)   --\n",
       "  5       20    20\n",
       "\n",
       "1       3         1\n",
       "-       --      -(--)\n",
       "5       10        10\n",
       "\n",
       "3         1       3\n",
       "-       -(--)   -(--)\n",
       "5         10      10"
      ]
     },
     "metadata": {},
     "output_type": "display_data"
    }
   ],
   "source": [
    "A = {{2, 1, 2}, {0, 3, -1}, {4, 1, 1}};   (*Escribimos la matriz de coeficientes A*)\n",
    "B = IdentityMatrix[3];                    (*Matriz unitaria de dimención 3*)\n",
    "matrizAI = Join[A, B,2];                  (*Matriz aumentada*)\n",
    "MatrixForm[matrizAI]                      (*Mostramos su forma matricial*)\n",
    "RowReduce[matrizAI]//MatrixForm           (*Matriz escalonada o reducida por renglón*)\n",
    "Inverse[A]//MatrixForm                    (*Utilizamos el comando Inverse para obtener la matriz inversa*)"
   ]
  },
  {
   "cell_type": "markdown",
   "id": "5abd15c5",
   "metadata": {
    "slideshow": {
     "slide_type": "subslide"
    }
   },
   "source": [
    "<div style=\"background-color:rgb(0, 120, 30); opacity:0.7; border:rgb(250,250,100) 5px double; border-radius:17px;\">\n",
    "<div style=\"margin:0.3%; color:white; font-style:italic; font-family:cursive; text-align:justify; text-indent:1em;\">\n",
    "    \n",
    "<b>Proposición</b>: Sea $AX = B$ un sistema de $n$ ecuaciones lineales con $n$ incógnita. Suponga que la matriz de coeficientes $A$ es invertible. Entonces existte una única $X$ del sistema\n",
    "    \n",
    "\\begin{equation*}\n",
    "    X = A^{-1}B\n",
    "\\end{equation*}\n",
    "    \n",
    "</div>\n",
    "</div>"
   ]
  },
  {
   "cell_type": "markdown",
   "id": "5741b50c",
   "metadata": {
    "slideshow": {
     "slide_type": "fragment"
    }
   },
   "source": [
    "<div style=\"background-color:rgb(100,0,70); opacity:0.7; border:rgb(0,120,170) 5px double; border-radius:17px;\">\n",
    "<div style=\"margin:0.3%; color:white; font-style:italic; font-family:cursive; text-align:justify; text-indent:1em;\">\n",
    "    \n",
    "<b>Ejemplo</b>: Resuelva el siguiente sistema de ecuaciones lineales mediante la inversa de la matriz de coeficientes\n",
    "\n",
    "\\begin{equation*}\n",
    "\t\\begin{array}{r}\n",
    "\t\tx - y + 2z = 1 \\\\\n",
    "\t\t2x + 2z = 1 \\\\\n",
    "\t\tx - 3y + 4z = 2\n",
    "\t\\end{array}\n",
    "\\end{equation*}\n",
    "    \n",
    "<b>Solución a)</b>: Primero escribimos la ecuación en forma matricial, $AX = B$:\n",
    "   \n",
    "\\begin{eqnarray*}\n",
    "\t\\begin{pmatrix}\n",
    "\t\t1 & -1 & 2  \\\\\n",
    "\t\t2 & 0 & 2 \\\\\n",
    "\t\t1 & -3 & 4\n",
    "\t\\end{pmatrix}\n",
    "    \\begin{pmatrix}\n",
    "\t\tx \\\\\n",
    "\t\ty \\\\\n",
    "\t\tz\n",
    "\t\\end{pmatrix} \n",
    "    =\n",
    "    \\begin{pmatrix}\n",
    "\t\t1 \\\\\n",
    "\t\t1 \\\\\n",
    "\t\t2\n",
    "\t\\end{pmatrix}\n",
    "\\end{eqnarray*}\n",
    "    \n",
    "Anteriormente obtuvimos la inversa de esta matriz así que la solución seria:\n",
    "   \n",
    "\\begin{eqnarray*}\n",
    "\tX =\n",
    "    \\begin{pmatrix}\n",
    "\t\t-\\frac{1}{5} & -\\frac{1}{20} & \\frac{7}{20} \\\\\n",
    "\t\t\\frac{1}{5} & \\frac{3}{10} & -\\frac{1}{10} \\\\\n",
    "\t\t\\frac{3}{5} & -\\frac{1}{10} & -\\frac{3}{10}\n",
    "\t\\end{pmatrix}\n",
    "    \\begin{pmatrix}\n",
    "\t\t1 \\\\\n",
    "\t\t1 \\\\\n",
    "\t\t2\n",
    "\t\\end{pmatrix}\n",
    "    =\n",
    "    \\begin{pmatrix}\n",
    "\t\t\\frac{9}{20} \\\\\n",
    "\t\t\\frac{3}{10} \\\\\n",
    "\t\t-\\frac{1}{10}\n",
    "\t\\end{pmatrix}.\n",
    "\\end{eqnarray*}\n",
    "    \n",
    "</div>\n",
    "</div>"
   ]
  },
  {
   "cell_type": "markdown",
   "id": "965d687e",
   "metadata": {
    "slideshow": {
     "slide_type": "subslide"
    }
   },
   "source": [
    ">Comprobemos el resultado con Wolfram"
   ]
  },
  {
   "cell_type": "code",
   "execution_count": null,
   "id": "537894b4",
   "metadata": {
    "slideshow": {
     "slide_type": "fragment"
    },
    "vscode": {
     "languageId": "wolfram language"
    }
   },
   "outputs": [
    {
     "data": {
      "text/html": [
       "<style>\n",
       "\t\t\t\t\t\t\t\t\t\t\t\t\t.grid-container {\n",
       "\t\t\t\t\t\t\t\t\t\t\t\t\t\tdisplay: inline-grid;\n",
       "\t\t\t\t\t\t\t\t\t\t\t\t\t\tgrid-template-columns: auto;\n",
       "\t\t\t\t\t\t\t\t\t\t\t\t\t}\n",
       "\t\t\t\t\t\t\t\t\t\t\t\t</style>\n",
       "\n",
       "\t\t\t\t\t\t\t\t\t\t\t\t<div><div class=\"grid-container\"><div class=\"grid-item\"><img alt=\"Output\" src=\"data:image/png;base64,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\"></div><div class=\"grid-item\"><img alt=\"Output\" src=\"data:image/png;base64,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\"></div></div></div>"
      ],
      "text/plain": [
       " 9   3     1\n",
       "{--, --, -(--)}\n",
       " 20  10    10\n",
       "9\n",
       "--\n",
       "20\n",
       "\n",
       "3\n",
       "--\n",
       "10\n",
       "\n",
       "  1\n",
       "-(--)\n",
       "  10"
      ]
     },
     "metadata": {},
     "output_type": "display_data"
    }
   ],
   "source": [
    "A = {{2, 1, 2}, {0, 3, -1}, {4, 1, 1}};   (*Escribimos la matriz de coeficientes A*)\n",
    "B = {1, 1, 2};                            (*Escribimos el vector B*)\n",
    "invA = Inverse[A];                        (*Utilizamos el comando Inverse para obtener la matriz inversa*)\n",
    "(*--- Realizamos el producto de la matriz inversa de A porel vector B ---*)\n",
    "X = invA.B                                (*Vector solución*)\n",
    "MatrixForm[%]                             (*Escribimos el resultado en su forma matricial*)"
   ]
  },
  {
   "cell_type": "code",
   "execution_count": null,
   "id": "86c37675",
   "metadata": {
    "slideshow": {
     "slide_type": "fragment"
    },
    "vscode": {
     "languageId": "wolfram language"
    }
   },
   "outputs": [
    {
     "data": {
      "text/html": [
       "<style>\n",
       "\t\t\t\t\t\t\t\t\t\t\t\t\t.grid-container {\n",
       "\t\t\t\t\t\t\t\t\t\t\t\t\t\tdisplay: inline-grid;\n",
       "\t\t\t\t\t\t\t\t\t\t\t\t\t\tgrid-template-columns: auto;\n",
       "\t\t\t\t\t\t\t\t\t\t\t\t\t}\n",
       "\t\t\t\t\t\t\t\t\t\t\t\t</style>\n",
       "\n",
       "\t\t\t\t\t\t\t\t\t\t\t\t<div><div class=\"grid-container\"><div class=\"grid-item\"><img alt=\"Output\" src=\"data:image/png;base64,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\"></div><div class=\"grid-item\"><img alt=\"Output\" src=\"data:image/png;base64,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\"></div><div class=\"grid-item\"><img alt=\"Output\" src=\"data:image/png;base64,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\"></div></div></div>"
      ],
      "text/plain": [
       "2    1    2    1\n",
       "\n",
       "0    3    -1   1\n",
       "\n",
       "4    1    1    2\n",
       "                        9\n",
       "                        --\n",
       "1       0       0       20\n",
       "\n",
       "                        3\n",
       "                        --\n",
       "0       1       0       10\n",
       "\n",
       "                          1\n",
       "                        -(--)\n",
       "0       0       1         10\n",
       " 9   3     1\n",
       "{--, --, -(--)}\n",
       " 20  10    10"
      ]
     },
     "metadata": {},
     "output_type": "display_data"
    }
   ],
   "source": [
    "matrizAB = Table[Insert[A[[i]], B[[i]], 4], {i, 3}];   (*Esta es la matriz aumentada*)\n",
    "MatrixForm[matrizAB]                                   (*Mostramos su forma matricial*)\n",
    "RowReduce[matrizAB]//MatrixForm                        (*Matriz escalonada o reducida por renglón*)\n",
    "(* --- Aplicamos el comando LinearSolve para obtener una solución del sistema ---*)\n",
    "LinearSolve[A, B]"
   ]
  },
  {
   "cell_type": "code",
   "execution_count": null,
   "id": "214461c8",
   "metadata": {
    "slideshow": {
     "slide_type": "fragment"
    },
    "vscode": {
     "languageId": "wolfram language"
    }
   },
   "outputs": [
    {
     "data": {
      "text/html": [
       "<div><img alt=\"Output\" src=\"data:image/png;base64,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\"></div>"
      ],
      "text/plain": [
       "       9        3          1\n",
       "{{x -> --, y -> --, z -> -(--)}}\n",
       "       20       10         10"
      ]
     },
     "metadata": {},
     "output_type": "display_data"
    }
   ],
   "source": [
    "(*--- Con el comando Solve podemos resolver sistemas de ecuaciones ---*)\n",
    "(*--- Primero escribimos nuestras ecuaciones ---*)\n",
    "eq1 = 2 x + y + 2 z == 1;\n",
    "eq2 = 3 y - z == 1;\n",
    "eq3 = 4 x + y + z == 2;\n",
    "(*--- Ahora aplicamos el comando Solve para obtener una solución del sistema ---*)\n",
    "Solve[{eq1, eq2, eq3}, {x, y, z}]"
   ]
  },
  {
   "cell_type": "markdown",
   "id": "ca697893",
   "metadata": {
    "slideshow": {
     "slide_type": "subslide"
    }
   },
   "source": [
    "### <font color=\"cyan\"><b>Combinaciones lineales</b></font>"
   ]
  },
  {
   "cell_type": "markdown",
   "id": "bdc565a8",
   "metadata": {
    "slideshow": {
     "slide_type": "fragment"
    }
   },
   "source": [
    "<div style=\"background-color:rgb(0,120,170); opacity:0.7; border:rgb(0,170,120) 5px double; border-radius:17px;\">\n",
    "<div style=\"margin:0.3%; color:white; font-style:italic; font-family:cursive; text-align:justify; text-indent:1em;\">\n",
    "    \n",
    "Sean $A^1, \\dots, A^n$ $m-$tuplas de $\\mathbb{R}^m$. Sean $x_1, \\dots, x_n$ números. Entonces decimos que\n",
    "    \n",
    "\\begin{equation*}\n",
    "    x_1 A^1 + \\cdots + x_n A^n\n",
    "\\end{equation*}\n",
    "es una <b>combinación lineal</b> de $A^1, \\dots, A^n$; $x_1, \\dots, x_n$ se denominan <b>coeficientes</b> de la combinación lineal.\n",
    "    \n",
    "Se dice que la combinación lineal es <b>no trivial</b> si no todos los coeficientes $x_a, \\dots, x_n$ son iguales a $0$.\n",
    "    \n",
    "</div>\n",
    "</div>"
   ]
  },
  {
   "cell_type": "markdown",
   "id": "aef1b472",
   "metadata": {
    "slideshow": {
     "slide_type": "fragment"
    }
   },
   "source": [
    "<div style=\"background-color:rgb(250,250,100); opacity:0.7; border:rgb(0,120,170) 5px double; border-radius:17px;;\">\n",
    "<div style=\"margin:0.3%; color:gray; font-style:italic; font-family:cursive; text-align:justify; text-indent:1em;\">\n",
    "    \n",
    "Una vez más, consideremos un sistema de ecuaciones lineales homogéneas\n",
    "   \n",
    "\\begin{equation*}\n",
    "\t\\begin{matrix}\n",
    "\t\ta_{11}x_1 &+\\,\\cdots\\,+& a_{1n}x_n & = & 0 \\\\\n",
    "\t\t\\vdots & & \\vdots & = & \\vdots \\\\\n",
    "\t\ta_{m1}x_1 &+\\,\\cdots\\,+& a_{mn}x_n & = & 0.\n",
    "\t\\end{matrix}\n",
    "\\end{equation*}\n",
    "    \n",
    "</div>\n",
    "</div>"
   ]
  },
  {
   "cell_type": "markdown",
   "id": "76d6ea4b",
   "metadata": {
    "slideshow": {
     "slide_type": "subslide"
    }
   },
   "source": [
    "<div style=\"background-color:rgb(250,250,100); opacity:0.7; border:rgb(0,120,170) 5px double; border-radius:17px;;\">\n",
    "<div style=\"margin:0.3%; color:gray; font-style:italic; font-family:cursive; text-align:justify; text-indent:1em;\">\n",
    "   \n",
    "Nuestro sistema de ecuaciones homogéneas también se puede escribir de la siguiente manera\n",
    "\n",
    "\\begin{equation*}\n",
    "\tx_1\n",
    "\t\\begin{pmatrix}\n",
    "\t\ta_{11} \\\\\n",
    "\t\ta_{21} \\\\\n",
    "\t\t\\vdots \\\\\n",
    "\t\ta_{m1}\n",
    "\t\\end{pmatrix}\n",
    "\t+ x_2\n",
    "\t\\begin{pmatrix}\n",
    "\t\ta_{12} \\\\\n",
    "\t\ta_{22} \\\\\n",
    "\t\t\\vdots \\\\\n",
    "\t\ta_{m2}\n",
    "\t\\end{pmatrix}\n",
    "\t+ \\cdots + x_n\n",
    "\t\\begin{pmatrix}\n",
    "\t\ta_{1n} \\\\\n",
    "\t\ta_{2n} \\\\\n",
    "\t\t\\vdots \\\\\n",
    "\t\ta_{mn}\n",
    "\t\\end{pmatrix}\n",
    "\t=\n",
    "\t\\begin{pmatrix}\n",
    "\t\t0 \\\\\n",
    "\t\t0 \\\\\n",
    "\t\t\\vdots \\\\\n",
    "\t\t0\n",
    "\t\\end{pmatrix}\n",
    "\\end{equation*}\n",
    "o, en forma más concisa:\n",
    "\n",
    "\\begin{equation*}\n",
    "\tx_1 A^1 + \\cdots + x_n A^n = O.\n",
    "\\end{equation*}\n",
    "\n",
    "Donde $A^1, \\dots, A^n$ son los vectores columna de la matriz de coeficientes $A = (a_{ij})$. Así, el problema de hallar una solución no trivial del sistema de ecuaciones lineales homogéneas es equivalente a hallar una combinación lineal no trivial de $A^1, \\dots, A^n$ que sea igual a $O$.\n",
    "    \n",
    "</div>\n",
    "</div>"
   ]
  },
  {
   "cell_type": "markdown",
   "id": "0cd0ce95",
   "metadata": {
    "slideshow": {
     "slide_type": "subslide"
    }
   },
   "source": [
    "<div style=\"background-color:rgb(0,120,170); opacity:0.7; border:rgb(0,170,120) 5px double; border-radius:17px;\">\n",
    "<div style=\"margin:0.3%; color:white; font-style:italic; font-family:cursive; text-align:justify; text-indent:1em;\">\n",
    "    \n",
    "Se dice que los vectores $A^1, \\dots, A^n$ son <b>linealmente dependientes</b> si existen números $x_1, \\dots, x_n$ no todos iguales a $0$, tales que.\n",
    "\n",
    "\\begin{equation*}\n",
    "\tx_1 A^1 + \\cdots + x_n A^n = O.\n",
    "\\end{equation*}\n",
    "    \n",
    "</div>\n",
    "</div>"
   ]
  },
  {
   "cell_type": "markdown",
   "id": "b59e9fb9",
   "metadata": {
    "slideshow": {
     "slide_type": "fragment"
    }
   },
   "source": [
    "<div style=\"background-color:rgb(0,120,170); opacity:0.7; border:rgb(0,170,120) 5px double; border-radius:17px;\">\n",
    "<div style=\"margin:0.3%; color:white; font-style:italic; font-family:cursive; text-align:justify; text-indent:1em;\">\n",
    "    \n",
    "Se dice que los vectores $A^1, \\dots, A^n$ son <b>linealmente independientes</b> si dada cualquier combinación lineal de ellos que sea iguala $O$, esto es,\n",
    "\n",
    "\\begin{equation*}\n",
    "\tx_1 A^1 + \\cdots + x_n A^n = O.\n",
    "\\end{equation*}\n",
    "entonces necesariamente debemos tener que $x_i = 0$ para todo $i = 1, \\dots, n$. Esto significa que no hay relaciones no triviales de dependencia lineal entre los vectores $A^1, \\dots, A^n$.\n",
    "    \n",
    "</div>\n",
    "</div>"
   ]
  },
  {
   "cell_type": "markdown",
   "id": "5b38f662",
   "metadata": {
    "slideshow": {
     "slide_type": "subslide"
    }
   },
   "source": [
    "<div style=\"background-color:rgb(0, 120, 30); opacity:0.7; border:rgb(250,250,100) 5px double; border-radius:17px;\">\n",
    "<div style=\"margin:0.3%; color:white; font-style:italic; font-family:cursive; text-align:justify; text-indent:1em;\">\n",
    "   \n",
    "Podemos resumir la descripción del conjunto de soluciones del sistema de ecuaciones lineales homogéneas de la siguiente manera\n",
    "\n",
    "> Consiste en aquellos vectores $X$ que dan relaciones lineales\n",
    "\\begin{equation*}\n",
    "\tx_1 A^1 + \\cdots + x_n A^n = O,\n",
    "\\end{equation*}\n",
    "entre las columnas de $A$.\n",
    "\n",
    "> Consiste en aquellos vectores $X$ que son perpendiculares a los renglones de la matriz $A$, esto es\n",
    "\\begin{equation*}\n",
    "\tX \\cdot A_i = 0,\\quad\\text{para todo } i. \n",
    "\\end{equation*}\n",
    "entre las columnas de $A$.\n",
    "\n",
    ">Consiste en aquellos vectores $X$ tales que\n",
    "\\begin{equation*}\n",
    "\tAX = O. \n",
    "\\end{equation*}\n",
    "    \n",
    "</div>\n",
    "</div>"
   ]
  },
  {
   "cell_type": "markdown",
   "id": "d23ba3b5",
   "metadata": {
    "slideshow": {
     "slide_type": "slide"
    }
   },
   "source": [
    "## <font color=\"green\"><b>Método de Cramer</b></font>"
   ]
  },
  {
   "cell_type": "markdown",
   "id": "9045e942",
   "metadata": {
    "slideshow": {
     "slide_type": "fragment"
    }
   },
   "source": [
    "### <font color=\"cyan\"><b>Determinantes</b></font>"
   ]
  },
  {
   "cell_type": "markdown",
   "id": "28a40373",
   "metadata": {
    "slideshow": {
     "slide_type": "fragment"
    }
   },
   "source": [
    "<div style=\"background-color:rgb(250,250,100); opacity:0.7; border:rgb(0,120,170) 5px double; border-radius:17px;;\">\n",
    "<div style=\"margin:0.3%; color:gray; font-style:italic; font-family:cursive; text-align:justify; text-indent:1em;\">\n",
    "    \n",
    "Antes de establecer la definición y propiedades de los determinantes, para matrices de dimensión $n \\times n$, consideremos un caso especial.\n",
    "    \n",
    "</div>\n",
    "</div>"
   ]
  },
  {
   "cell_type": "markdown",
   "id": "229c6bd9",
   "metadata": {
    "slideshow": {
     "slide_type": "fragment"
    }
   },
   "source": [
    "<div style=\"background-color:rgb(0,120,170); opacity:0.7; border:rgb(0,170,120) 5px double; border-radius:17px;\">\n",
    "<div style=\"margin:0.3%; color:white; font-style:italic; font-family:cursive; text-align:justify; text-indent:1em;\">\n",
    "    \n",
    "<b>Definición</b>: Sea $A \\in \\mathcal{M}_{2 \\times 2}$\n",
    "    \n",
    "\\begin{equation*}\n",
    "    A =\n",
    "    \\begin{pmatrix}\n",
    "        a & b \\\\\n",
    "        c & d\n",
    "    \\end{pmatrix}\n",
    "\\end{equation*}\n",
    "    \n",
    "Definimos su <b>determinante</b> como\n",
    "    \n",
    "\\begin{equation*}\n",
    "    det(A) =\n",
    "    \\begin{vmatrix}\n",
    "        a & b \\\\\n",
    "        c & d\n",
    "    \\end{vmatrix}\n",
    "    = ad - bc\n",
    "\\end{equation*}\n",
    "    \n",
    "</div>\n",
    "</div>"
   ]
  },
  {
   "cell_type": "markdown",
   "id": "23a3334b",
   "metadata": {
    "slideshow": {
     "slide_type": "subslide"
    }
   },
   "source": [
    "<div style=\"background-color:rgb(0, 120, 30); opacity:0.7; border:rgb(250,250,100) 5px double; border-radius:17px;\">\n",
    "<div style=\"margin:0.3%; color:white; font-style:italic; font-family:cursive; text-align:justify; text-indent:1em;\">\n",
    "    \n",
    "Se puede considerar al determinante como una función de la matriz $A$, o también como una función de sus columnas (o renglones). Sean los vectores $A^1$ y $A^2$ las columnas $1$ y $2$, respectivamente, de la matriz $A$. Entonces podemos escribir el determinante de la matriz $A$ como\n",
    "\n",
    "\\begin{equation*}\n",
    "\tdet(A), \\quad\\text{o}\\quad\\ det(A^1, A^2)\n",
    "\\end{equation*}\n",
    "\n",
    "<b>Propiedades</b>:\n",
    "\n",
    "<ol>\n",
    "<li>Como función de los vectores columna, el determinante es lineal, es decir</li>\n",
    "\\begin{eqnarray*}\n",
    "\t&\\text{Si } A^1 = C^1 + C^2: & \\quad\\ det(C^1 + C^2, A^2) = det(C^1, A^2) + det(C^2, A^2) \\\\\n",
    "\t&\\text{Sea } \\lambda \\text{ un escalar}: & \\quad\\ det(\\lambda A^1, A^2) = \\lambda\\,\\ det(A^1, A^2)\n",
    "\\end{eqnarray*}\n",
    "\n",
    "<li>Si las dos columnas son iguales entones el determinante es igual a cero.</li>\n",
    "\\begin{equation*}\n",
    "\t\\text{Si } A^2 = A^1: \\quad\\ det(A) = 0\n",
    "\\end{equation*}\n",
    "\n",
    "<li>El determinante de una matriz es iguala al determinante de su transpuesta.</li>\n",
    "\\begin{equation*}\n",
    "\tdet(A) = det(A^T)\n",
    "\\end{equation*}\n",
    "\n",
    "<li>El determinante de la matriz identidad es igual a $1$.</li>\n",
    "\\begin{equation*}\n",
    "\tdet(I) = 1\n",
    "\\end{equation*}\n",
    "</ol>\n",
    "    \n",
    "</div>\n",
    "</div>"
   ]
  },
  {
   "cell_type": "markdown",
   "id": "1299e352",
   "metadata": {
    "slideshow": {
     "slide_type": "subslide"
    }
   },
   "source": [
    "<div style=\"background-color:rgb(0, 120, 30); opacity:0.7; border:rgb(250,250,100) 5px double; border-radius:17px;\">\n",
    "<div style=\"margin:0.3%; color:white; font-style:italic; font-family:cursive; text-align:justify; text-indent:1em;\">\n",
    "    \n",
    "Se deja como ejercicio demostrar las siguientes propiedades\n",
    "\n",
    "<ol>\n",
    "<li>Si se suma un múltiplo escalar de una columna a la otra, entonces el determinante no cambia.</li>\n",
    "\\begin{equation*}\n",
    "\tdet(A^1 + \\lambda A^2, A^2) = det(A^1, A^2)\n",
    "\\end{equation*}\n",
    "\n",
    "<li>Si se intercambian las columnas, entonces el determinante cambia de signo.</li>\n",
    "\\begin{equation*}\n",
    "\tdet(A^2, A^1) = -det(A^1, A^2)\n",
    "\\end{equation*}\n",
    "</ol>\n",
    "\n",
    "Para la demostración solo debe utilizar las propiedades anteriores.\n",
    "    \n",
    "</div>\n",
    "</div>"
   ]
  },
  {
   "cell_type": "markdown",
   "id": "61b6a9a0",
   "metadata": {
    "slideshow": {
     "slide_type": "fragment"
    }
   },
   "source": [
    "<div style=\"background-color:rgb(250,250,100); opacity:0.7; border:rgb(0,120,170) 5px double; border-radius:17px;;\">\n",
    "<div style=\"margin:0.3%; color:gray; font-style:italic; font-family:cursive; text-align:justify; text-indent:1em;\">\n",
    "    \n",
    "<b>Nota</b>: Todas las propiedades antes mencionadas son validas para matrices de $n \\times n$, mas adelante se enunciaran sus generalizaciones. La demostración no se realizara aquí.\n",
    "    \n",
    "</div>\n",
    "</div>"
   ]
  },
  {
   "cell_type": "markdown",
   "id": "9510cd2c",
   "metadata": {
    "slideshow": {
     "slide_type": "subslide"
    }
   },
   "source": [
    "<div style=\"background-color:rgb(100,0,70); opacity:0.7; border:rgb(0,120,170) 5px double; border-radius:17px;\">\n",
    "<div style=\"margin:0.3%; color:white; font-style:italic; font-family:cursive; text-align:justify; text-indent:1em;\">\n",
    "    \n",
    "<b>Ejemplo</b>: Sea la matriz\n",
    "\n",
    "\\begin{equation*}\n",
    "\tA =\n",
    "\t\\begin{pmatrix}\n",
    "\t\t2 & -3 \\\\\n",
    "\t\t5 & 7\n",
    "\t\\end{pmatrix}\n",
    "\\end{equation*}    \n",
    "\n",
    "Aplicando solo la definición (no utilizar las propiedades) obtenga: a) $det(A)$, b) $det(5A^1, A^2)$, c) $det(A^2, A^1)$, d) $det(A^1 + 4A^2, A^2)$ y e) $det(A^1, A^2 - 3A^1)$\n",
    "\n",
    "<b>Solución a) y b)</b>: Aplicando la definición tenemos\n",
    "\n",
    "\\begin{eqnarray*}\n",
    "\t& a) & \\quad\\ det(A) =\n",
    "\t\\begin{vmatrix}\n",
    "\t\t2 & -3 \\\\\n",
    "\t\t5 & 7\n",
    "\t\\end{vmatrix}\n",
    "\t= (2)(7)- (-3)(5) = 14 + 15 = 29 \\\\\n",
    "\t& b) & \\quad\\ det(5A^1, A^2) =\n",
    "\t\\begin{vmatrix}\n",
    "\t\t5(2) & -3 \\\\\n",
    "\t\t5(5) & 7\n",
    "\t\\end{vmatrix} =\n",
    "\t\\begin{vmatrix}\n",
    "\t\t10 & -3 \\\\\n",
    "\t\t25 & 7\n",
    "\t\\end{vmatrix}\n",
    "\t= 145\n",
    "\\end{eqnarray*}\n",
    "\n",
    "Los incisos c), d) y e) se dejan como ejercicios.\n",
    "    \n",
    "</div>\n",
    "</div>"
   ]
  },
  {
   "cell_type": "markdown",
   "id": "db9dbfcf",
   "metadata": {
    "slideshow": {
     "slide_type": "subslide"
    }
   },
   "source": [
    ">Realicemos las mismas operaciones con Wolfram."
   ]
  },
  {
   "cell_type": "code",
   "execution_count": null,
   "id": "2ac3a810",
   "metadata": {
    "slideshow": {
     "slide_type": "fragment"
    },
    "vscode": {
     "languageId": "wolfram language"
    }
   },
   "outputs": [
    {
     "data": {
      "text/html": [
       "<style>\n",
       "\t\t\t\t\t\t\t\t\t\t\t\t\t.grid-container {\n",
       "\t\t\t\t\t\t\t\t\t\t\t\t\t\tdisplay: inline-grid;\n",
       "\t\t\t\t\t\t\t\t\t\t\t\t\t\tgrid-template-columns: auto;\n",
       "\t\t\t\t\t\t\t\t\t\t\t\t\t}\n",
       "\t\t\t\t\t\t\t\t\t\t\t\t</style>\n",
       "\n",
       "\t\t\t\t\t\t\t\t\t\t\t\t<div><div class=\"grid-container\"><div class=\"grid-item\"><img alt=\"Output\" src=\"data:image/png;base64,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\"></div><div class=\"grid-item\"><img alt=\"Output\" src=\"data:image/png;base64,iVBORw0KGgoAAAANSUhEUgAAAG4AAAA/CAIAAACO62r+AAAA0HpUWHRSYXcgcHJvZmlsZSB0eXBlIGV4aWYAAHjabU/bjQQhDPunii0hJOBAOcwOSNvBlX/m8TN7Z4nYGCdA6D+fEV4TGiWk7AUVECLVVLVRFNnYHKWuuoB+zuLTDzaO32jlvw3xevqOzVq+BoluYfMGakun4Qwy3X5se3+dvLZSHoPGNRbOg9fZefq/+2SuyIieWJOKOyp1CZQkZJXsGHgDDEbcKulN7nBnG3wmrM3GCe3+TPcAo3HPL9hcao1cWZVXC3Vc2ljNoDedvDLzO7/0klyeQPGExwAAAAlwSFlzAAAWJQAAFiUBSVIk8AAAADx0RVh0U29mdHdhcmUAQ3JlYXRlZCB3aXRoIHRoZSBXb2xmcmFtIExhbmd1YWdlIDogd3d3LndvbGZyYW0uY29tXKKmhQAAACF0RVh0Q3JlYXRpb24gVGltZQAyMDIyOjA5OjI3IDAxOjIzOjM209amegAABh1JREFUeJztnL9PGz0Yxx9evSs/TmViQFVuQkWqVB0/FLIQKbkOHSsdI1KH9lipOgRmxPEHQDogMXEZkNqFSgkSQ30wRKG6SI3agUSoMyHNX5B3sN7TCeLH9sU5Cr3PBLHznPn6Ofux/ZiRXq8HCSr4574b8HhIpFTGvyKV1tbWdnd3RWrW6/VyuQwA4+PjuVwulUoN1DoVtFqtarX669cvAJienp6fn5dqled5jUbj7du3/Ko9Hq7rOo7Dreb7vmmat4wXCgXuF4fK3SYBgG3b19fX4kYMwxCpxpfSsqxms4nX8X1f0zQA0HW9UCg4jhP8DferJm2SbduO4ziOYxhGoKa4kUKh4Lou/1l48fX1ta7rXCtUylu9bds2bTe3J4YHIeTWJ0GrxB2TEGJZFrcaR0rXdQXd6m6jm80mbfTx8bGIhXgghNBW3W0wgqZp3DqcGfzz589LS0v8ERcgk8nc+iQY3b9//y5iIWZmZmbEK+fz+S9fvuB1OFJWKpWFhQXxR4Zpt9v0h3Q6Hc3CMDg8PAQA0zSfPHki/q3l5eWzszNOJcRjfd8XnLz64roufYTUdKmcZrNJCCGEHB8fW5YFAIZhyDZJRApMymKxGHn+pfMVSM6Vw8BxnLDr6LouNUoGcH0Ck9KyLJEgoC80GNI07X5dstfrEUKc/wmCIZEZ+RamaeJ9gEkZuQNpwKFpmu/7Eb4+VAghNAQWWXeEocEpUmGkx9gZarfbk5OTrFKEtbW1vb09ACCE3J3WB+Hly5dI6erq6srKioidjx8/vnv3TtO0m5sb8afv7OxcXV0hC2jmGvzHjx90sJMi0NF1XbU6AsDm5iZSOjU1JWjn2bNnANDpdKSenk6nT09PsRosdy0Wi6Zpyr4C1GbkETYeCoUCAMgGJ77vI3L1kLHScRyp6ftPHh/DBGNlhP7GpWS+4Kenp9lsVtD5NzY26Hudz+fL5TLdZwvz+vXr+DfcPM87Pz8Pfu12u5VKpVarAYBt24IDaxhN0zzPYw5cLI1N0xRfO/fdywoTLRIYkFsRJUXX9WKxGM0gHg8xvfLy8nJsbEywu1ZXV3EXFp8TFJJOp8Nqjo+PLy4uPn/+fBCbjUaD5ZVMKYN9HREivCwxkMlk1EYRqVSq2+2ySrHtDKm9k7+Bp0+fIqWYlFJ7J38J3759YxX1l9LzvKE15mHz+/dvVlFyeCvB7OwsUppIKQEe0jClpEuCBHGYUs7Pz8fZjkdA8oIrI5FSGYmUykikVAZTysvLyzjb8QhgSim1nZEAyQuukP5Sjo6OxtyOB0Gj0UBK++9XRtgf3dnZYRV9+PBB1pqS51IUnoUgm5UAwDwHHxlhFrHqs4qk7MiCPJei8DiedhvLM7BcdOxIiIFt2/j+qHL6HuAAQLfb3dragjgHK9ahj2EYUmdb1Nq9HIf1hUose5SPY5omkuvCnMEf9BZ6u93e3t4GXkJHBJBcUaaUqVQqfIj8sNjf3+90OoZhqD0mC5Jv+8KUMuYhTyGBS66vr6u1XKvVkKND5rQzPT19cHAgG8ccHh5SX45w2UgV1CV1XVd7pExdEhv3WIMoIUQqQamvcdM0408hipwShEMIwScxplfOzMzQ9BpBwkFJkJ1TLper1WqtVovNPUulUqfT0TQtl8uptdxoNDh/BSKzruuD3F4KcsbiTEenOaGyGb0i0FtySAVsO8MwjJ8/f0buxkwmQ0erVqsV2YgUpVKp2WxqmvbmzRvlxi8uLvBbM5iUL168GPD2UsxhAI0iV1ZWhhEUV6tVPPMHk5KfMsyDfn1iYmIQI4JQlwSA9+/fKzder9d1Xef0ED5AcCsgBPnU8awmh3pNSOSuJ+dqvWVZIpsarVbr6Ogo+PXq6qpSqVAfGUZ+/12G6pIA8PXr11evXnEq4UoXi0WR2TC4zhqGe2dIITTtWO3mRRiRu1wcr8zlcpZlcdc8U1NT4bgy5qVOu93OZrPZbJabxx2Ner2ez+f5Uxm3QwzDuMe78X8Cgv+lgH9Mtr6+fnJyoqZ/HyaVSkVk7cSXMpfLffr0SUWTHiSe583NzYkEqnIHOAkIyTm4MhIplZFIqYxESmX8B8qbXgI7F8dKAAAAAElFTkSuQmCC\"></div><div class=\"grid-item\"><img alt=\"Output\" src=\"data:image/png;base64,iVBORw0KGgoAAAANSUhEUgAAAB0AAAAfCAIAAACUOVFTAAAA03pUWHRSYXcgcHJvZmlsZSB0eXBlIGV4aWYAAHjabU/bjQQhDPunii0hJOBAOcwOSNvBlX/mIa3mdJGIHccJEPrPZ4TXDI0SUvaCCggj1VS1kRTZsTFKXXkX9+nFpx7iOHqjlL8N9KNfT92xUcufRaKb2LyB3NIZOItMtx7brq/j11bKY9G4xorz4NU7T/+3TuaKjOiJOam4o5KXQEpAVsmOgTdAY8Stkt7EDneOwafD2hycod2f7h5gFO75BZtHrRErs/JqIY+LG7MZ9KaSl2d+5xfo9VyWV3I09QAAAAlwSFlzAAAWJQAAFiUBSVIk8AAAADx0RVh0U29mdHdhcmUAQ3JlYXRlZCB3aXRoIHRoZSBXb2xmcmFtIExhbmd1YWdlIDogd3d3LndvbGZyYW0uY29tXKKmhQAAACF0RVh0Q3JlYXRpb24gVGltZQAyMDIyOjA5OjI3IDAxOjIzOjM209amegAAAfRJREFUSIntVb2q6kAQnlxObQh2FhZJlSogKSRYCeILCGlt10eIvbC+gL7BPsGKYplOLVawXRGxXJ9hTzHn7F03mguXa3HhfNVkfr5MZr7deFpreAN+vYP0h/ftvB/O8/F43Gw2AOD7/mAwCMPwVeX5fN7tdtfrFQCyLOv1eg9h/Q0hxHA4dIqLotDPUBSFkxlFkRDCJIAhDYIAw0VRUErNO6rUhBAACIJguVyWZck5x+QgCJRST3gJISZg6gFASmmcnHOksLvTWqdpCgCEkAderXVZlk5fUkrk5ZwbZ57ndr0BYwzf5/I+BfJSSh0PY8zJVEphCPur09n9fkcjyzIn1Gg0HE+z2UTjdrtBvX632y0acRzbeweA0+lUzcftofJezkEphRTOKHGZURTZG8ZlYD4O7SVvVTqmHhWZpiljDHVmlPMHXqNQR0wII3YbURRhv7g3T1fu9clkslgsMMM9nRZWqxVO2ff9brebJInneQAgpQzD0O3XfFFVSfUQQmDX+PjA+9ek+nsfpvA3b/1MayClRNI0TY3za77T6XQ2mwFAnuedTqc6zdFoZO7M+XyOxuVy2e/3h8MBSdfrtTkdYH9FDezbo6oE+6Ajvu718Xjc7/dreFutlrEppWi02+04jpMkqeY/0dk/wf/23/zhfS/vJ75FEQ1Hrd8xAAAAAElFTkSuQmCC\"></div><div class=\"grid-item\"><img alt=\"Output\" src=\"data:image/png;base64,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\"></div><div class=\"grid-item\"><img alt=\"Output\" src=\"data:image/png;base64,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\"></div><div class=\"grid-item\"><img alt=\"Output\" src=\"data:image/png;base64,iVBORw0KGgoAAAANSUhEUgAAACsAAAAfCAIAAADx1KMsAAAA03pUWHRSYXcgcHJvZmlsZSB0eXBlIGV4aWYAAHjabU9RjkQhCPv3FHMEBS16HN88TeYGe/ytSjJ5m20i1FJAw/j5zPBakBRDLlbRgEjklpt0khoPTk6x7bghl9fSUw9put4plW8Bw/XrqRt8YP0zKMohujaQa/YGH6Ry9NTP/XK/9Fofg+Y1N/zBu+ZP//ee1QQFyTJjlmiGRl4DKROKxGKYeAM0JtwS85t5wIxtsOXQvhoXZNjTPQKUwr2+oOuIdubGKFwdydPmyqgKuamU7Vnf+QXnfVyVWKhjkwAAAAlwSFlzAAAWJQAAFiUBSVIk8AAAADx0RVh0U29mdHdhcmUAQ3JlYXRlZCB3aXRoIHRoZSBXb2xmcmFtIExhbmd1YWdlIDogd3d3LndvbGZyYW0uY29tXKKmhQAAACF0RVh0Q3JlYXRpb24gVGltZQAyMDIyOjA5OjI3IDAxOjIzOjM209amegAAAkJJREFUSIntVz2PqkAUvfvyWosJVhYWYmNlQ0WsbPgDFpYURoO1EXq/AjGWGO0NFvwBLGwgVsZgDxQWVhDCL+AVQ9BdRHC32Fd4qsmdM8yZM/feCR9hGMKv4s/vbv9W8FYQ4W8y5HmeqqpBENA03Wg0Mj+x3W4vlwsAJPmGYRwOh4erbuTwMxRFIUkSk0RRDLOg63r80SRfFMU03TH55oFhGOPxWNM0iqIyz43heR7Lspk0kiS73W7SAzyIFEiSxPM8AHAcNxqNisViHgWLxcK2bYZhAEDTtDRatVodDodps1EmlstlhJCiKLIsEwSRZ/vz+TydThFCsizn4ach8qDdbtdqtXq9nn9lp9MBgNlsVqlUfqLgVo0vbS9J0vF4ZBim1+v9ZHt4WI2ZcByH5/n8/luWJUkSHicr9jsK+v0+AAiCkNN/27ZxmmMghARBiHPzZQWr1QpX7JP0jkHT9H1LOJ1Ou93O932e54MgmEwmAImOhIEXJDuMbdsIIQAwTfM+jgsyTwdzXZfjuNibTx0pD+bzue/7FEVpmnbfACzLAoD9fh8fPa2dEwQxGAyWyyUAXK/XSqXymgf4rJnINAPTdF1/2QOWZZvNZjK+Xq9xc8Szccd9CMMw8KBQKAC8mAdpyJ8HpmniTGIYBkciDxzHUVX1i9j4XgGg1Wp9o/fFD3f8QZw9FEVtNpsoioXcP7IPge/sVQ+SeYMQEkXRdd2YE3lQKpWevOWY8GQW50fy+r/kzcMa+Qjf/wtvBW8F/4eCf7twYxry7JlsAAAAAElFTkSuQmCC\"></div></div></div>"
      ],
      "text/plain": [
       "{{2, -3}, {5, 7}}\n",
       "2    -3\n",
       "\n",
       "5    7\n",
       "29\n",
       "{{2, 5}, {-3, 7}}\n",
       "10   -3\n",
       "\n",
       "25   7\n",
       "145"
      ]
     },
     "metadata": {},
     "output_type": "display_data"
    }
   ],
   "source": [
    "A = {{2, -3}, {5, 7}}        (*Primero escribimos la matriz*)\n",
    "MatrixForm[A]                (*Forma matricial de la matriz*)\n",
    "Det[A]                       (*Función determinante*)\n",
    "AT = Transpose[A]            (*Función transpuesta*)\n",
    "BT = {AT[[1]]*5, AT[[2]]};   (*Multiplicamos por 5 el renglón 1*)\n",
    "B = Transpose[BT];           (*Función transpuesta*)\n",
    "MatrixForm[B]                (*Forma matricial de la matriz*)\n",
    "Det[B]                       (*Función determinante*)"
   ]
  },
  {
   "cell_type": "markdown",
   "id": "b1642ffa",
   "metadata": {
    "slideshow": {
     "slide_type": "subslide"
    }
   },
   "source": [
    "<div style=\"background-color:rgb(250,250,100); opacity:0.7; border:rgb(0,120,170) 5px double; border-radius:17px;;\">\n",
    "<div style=\"margin:0.3%; color:gray; font-style:italic; font-family:cursive; text-align:justify; text-indent:1em;\">\n",
    "    \n",
    "Ahora consideremos los determinantes de dimensión $3 \\times 3$ y $n \\times n$. Las definiciones y propiedades se pueden dar (u obtener) mediante inducción matemática.\n",
    "    \n",
    "</div>\n",
    "</div>"
   ]
  },
  {
   "cell_type": "markdown",
   "id": "9c09e582",
   "metadata": {
    "slideshow": {
     "slide_type": "fragment"
    }
   },
   "source": [
    "<div style=\"background-color:rgb(0,120,170); opacity:0.7; border:rgb(0,170,120) 5px double; border-radius:17px;\">\n",
    "<div style=\"margin:0.3%; color:white; font-style:italic; font-family:cursive; text-align:justify; text-indent:1em;\">\n",
    "    \n",
    "<b>Definición</b>: Sea $A \\in \\mathcal{M}_{3 \\times 3}$\n",
    "    \n",
    "\\begin{equation*}\n",
    "    A =\n",
    "    \\begin{pmatrix}\n",
    "        a_{11} & a_{12} & a_{13} \\\\\n",
    "        a_{21} & a_{22} & a_{23} \\\\\n",
    "        a_{31} & a_{32} & a_{33}\n",
    "    \\end{pmatrix}\n",
    "\\end{equation*}\n",
    "    \n",
    "Definimos su determinante conforme la formula conocida como <b>desarrollo por menores</b> (o <b>desarrollo por cofactores</b>), digamos del primer renglón. Esto es\n",
    "    \n",
    "<small>    \n",
    "\\begin{equation}\\label{eq:Det_3x3_1}\n",
    "    det(A) =\n",
    "    \\begin{vmatrix}\n",
    "        a_{11} & a_{12} & a_{13} \\\\\n",
    "        a_{21} & a_{22} & a_{23} \\\\\n",
    "        a_{31} & a_{32} & a_{33}\n",
    "    \\end{vmatrix}\n",
    "    = a_{11} \n",
    "    \\begin{vmatrix}\n",
    "        a_{22} & a_{23} \\\\\n",
    "        a_{32} & a_{33}\n",
    "    \\end{vmatrix}\n",
    "    - a_{12} \n",
    "    \\begin{vmatrix}\n",
    "        a_{21} & a_{23} \\\\\n",
    "        a_{31} & a_{33}\n",
    "    \\end{vmatrix}\n",
    "    + a_{13} \n",
    "    \\begin{vmatrix}\n",
    "        a_{21} & a_{22} \\\\\n",
    "        a_{31} & a_{32}\n",
    "    \\end{vmatrix}.\n",
    "\\end{equation}\n",
    "</small>\n",
    "    \n",
    "</div>\n",
    "</div>"
   ]
  },
  {
   "cell_type": "markdown",
   "id": "0f307ee6",
   "metadata": {
    "slideshow": {
     "slide_type": "subslide"
    }
   },
   "source": [
    "<div style=\"background-color:rgb(0,120,170); opacity:0.7; border:rgb(0,170,120) 5px double; border-radius:17px;\">\n",
    "<div style=\"margin:0.3%; color:white; font-style:italic; font-family:cursive; text-align:justify; text-indent:1em;\">\n",
    "    \n",
    "Sea $A_{ij}$ (el <b>menor</b> del elemento $a_{ij}$) la matriz obtenida a partir de $A$ al suprimir el renglón $i$ y la columna $j$. Entonces el determinante de $A$ se puede escribir como\n",
    "    \n",
    "\\begin{equation*}\n",
    "    det(A)= a_{11} det(A_{11}) - a_{12} det(A_{12}) + a_{13} det(A_{13})\n",
    "\\end{equation*}\n",
    "    \n",
    "</div>\n",
    "</div>"
   ]
  },
  {
   "cell_type": "markdown",
   "id": "d05ccdb7",
   "metadata": {
    "slideshow": {
     "slide_type": "fragment"
    }
   },
   "source": [
    "<div style=\"background-color:rgb(100,0,70); opacity:0.7; border:rgb(0,120,170) 5px double; border-radius:17px;\">\n",
    "<div style=\"margin:0.3%; color:white; font-style:italic; font-family:cursive; text-align:justify; text-indent:1em;\">\n",
    "    \n",
    "<b>Ejemplo</b>: Sea\n",
    "    \n",
    "\\begin{equation*}\n",
    "    A =\n",
    "    \\begin{pmatrix}\n",
    "        2 & 4 & 0 \\\\\n",
    "        1 & 3 & 7 \\\\\n",
    "        2 & 5 & 3\n",
    "    \\end{pmatrix}.\n",
    "\\end{equation*}\n",
    "    \n",
    "Entonces su determinante esta dado por\n",
    "    \n",
    "\\begin{equation*}\n",
    "    det(A) =\n",
    "    2 \n",
    "    \\begin{vmatrix}\n",
    "        3 & 7 \\\\\n",
    "        5 & 3\n",
    "    \\end{vmatrix}\n",
    "    - 4 \n",
    "    \\begin{vmatrix}\n",
    "        1 & 7 \\\\\n",
    "        2 & 3\n",
    "    \\end{vmatrix}\n",
    "    + 0 \n",
    "    \\begin{vmatrix}\n",
    "        1 & 3 \\\\\n",
    "        2 & 5\n",
    "    \\end{vmatrix}\n",
    "    = 2(9-35) - 4(3-14) + 0 = -8\n",
    "\\end{equation*}\n",
    "    \n",
    "</div>\n",
    "</div>"
   ]
  },
  {
   "cell_type": "markdown",
   "id": "b88363ef",
   "metadata": {
    "slideshow": {
     "slide_type": "subslide"
    }
   },
   "source": [
    ">Comprobamos el resultado con Wolfram."
   ]
  },
  {
   "cell_type": "code",
   "execution_count": null,
   "id": "bbf1a37a",
   "metadata": {
    "slideshow": {
     "slide_type": "fragment"
    },
    "vscode": {
     "languageId": "wolfram language"
    }
   },
   "outputs": [
    {
     "data": {
      "text/html": [
       "<style>\n",
       "\t\t\t\t\t\t\t\t\t\t\t\t\t.grid-container {\n",
       "\t\t\t\t\t\t\t\t\t\t\t\t\t\tdisplay: inline-grid;\n",
       "\t\t\t\t\t\t\t\t\t\t\t\t\t\tgrid-template-columns: auto;\n",
       "\t\t\t\t\t\t\t\t\t\t\t\t\t}\n",
       "\t\t\t\t\t\t\t\t\t\t\t\t</style>\n",
       "\n",
       "\t\t\t\t\t\t\t\t\t\t\t\t<div><div class=\"grid-container\"><div class=\"grid-item\"><img alt=\"Output\" src=\"data:image/png;base64,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\"></div><div class=\"grid-item\"><img alt=\"Output\" src=\"data:image/png;base64,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\"></div><div class=\"grid-item\"><img alt=\"Output\" src=\"data:image/png;base64,iVBORw0KGgoAAAANSUhEUgAAACAAAAAfCAIAAAAJNFjbAAAA03pUWHRSYXcgcHJvZmlsZSB0eXBlIGV4aWYAAHjabU/BjQQhDPtTxZUASXCgHGYHpO1gyz/DMFrN6SyROMZJIPTPe4SfCUkxWPaCCkTCqlVpJCVeuHKKdcUF2VesH3pIY+uNUv5eoG/9eOqOPbD8GXSv0LmBXG037EEql57aVR/bL62Ux6BxjIX7xfX79H9rUxdkJDdGk+iOSl4CKROyxOwYeAE0JpwS7cXc4c42+HRom40T0v3p7gFK4Zxf0HlEG3NlFK6O5GlxZTQ1Oank5Znf+QWdzVxisMNq9gAAAAlwSFlzAAAWJQAAFiUBSVIk8AAAADx0RVh0U29mdHdhcmUAQ3JlYXRlZCB3aXRoIHRoZSBXb2xmcmFtIExhbmd1YWdlIDogd3d3LndvbGZyYW0uY29tXKKmhQAAACF0RVh0Q3JlYXRpb24gVGltZQAyMDIyOjA5OjI3IDAxOjIzOjQ0cplRkQAAAZZJREFUSIntlTGOwjAQRYfVXsCko8QVEhWyhIRC7dwAStpwAApuMCcgN8gJKKgxCLrQ4xtYijiBtxit4w2rFDFoWYmpkh9rnuz/M+5Ya+GZ9fHU7m/ASwA+w1tcLpfT6XS73QBgOByOx+MoiqrPNqCKopBS3iPX67Vb0x5gjGGMAQBjLE1TREREzjkxEDEUkGUZAHDOjTG+PpvNAEAIEQqgRlLKmr7dbv3Db5+i0WgEANfrtaYfDgcAIHyQyVpr8kBKqbUmkc4NAPb7PSmhKSIGAKRpSolijOV57tYEAay1xhiXHCq/eyigKAohhEuq243LaBDAeSCEIA+01u6/c4yO/b5wkiRpyMxisZjP576yXC43mw3n/Hw++7MhSZLdbgcAxpgoiiqAUqoB0Ov1+v2+r3S73bIsEXG1Wvm6Umo6nVKQ4jiuhl0cxw2A+yrL8ld9MBj8eG/tAdkrhKiNCkSkzqS3B7iR4A87osJDhp21Ns9zF01XjLEsy9yayuTWpZQ6Ho/0PJlMal4+ANBc///SfwP+HvAF1aXeYtvJifgAAAAASUVORK5CYII=\"></div></div></div>"
      ],
      "text/plain": [
       "{{2, 4, 0}, {1, 3, 7}, {2, 5, 3}}\n",
       "2   4   0\n",
       "\n",
       "1   3   7\n",
       "\n",
       "2   5   3\n",
       "-8"
      ]
     },
     "metadata": {},
     "output_type": "display_data"
    }
   ],
   "source": [
    "A = {{2, 4, 0}, {1, 3, 7}, {2, 5, 3}}   (*Primero escribimos la matriz*)\n",
    "A//MatrixForm                           (*Escribimos la matriz en forma matricial*)\n",
    "Det[A]                                  (*Ahora obtenemos su determinante*)"
   ]
  },
  {
   "cell_type": "markdown",
   "id": "bb854f6c",
   "metadata": {
    "slideshow": {
     "slide_type": "subslide"
    }
   },
   "source": [
    "<div style=\"background-color:rgb(250,250,100); opacity:0.7; border:rgb(0,120,170) 5px double; border-radius:17px;;\">\n",
    "<div style=\"margin:0.3%; color:gray; font-style:italic; font-family:cursive; text-align:justify; text-indent:1em;\">\n",
    "    \n",
    "<b>Nota</b>: El determinante de una matriz $A \\in \\mathcal{M}_{3 \\times 3}$ se puede escribir como $det(A) = det(A^1, A^2, A^3)$ si se desea considerar el determinante como una función de las columnas de $A$.\n",
    "\n",
    "Además, no hay ninguna razón particular para seleccionar el desarrollo con forme al primer renglón. Se puede ocupar el segundo o tercero e incluso se puede seleccionar cualquier columna. Solo queda por aclara el signo, para esto se sigue el siguiente patrón\n",
    "\n",
    "\\begin{equation*}\n",
    "\t\\begin{pmatrix}\n",
    "\t\t+ & - & + \\\\\n",
    "\t\t- & + & - \\\\\n",
    "\t\t+ & - & +\n",
    "\t\\end{pmatrix}.\n",
    "\\end{equation*}\n",
    "\n",
    "Por ejemplo el determinante de una matriz $A \\in \\mathcal{M}_{3 \\times 3}$, utilizando el segundo renglón, sería\n",
    "    \n",
    "<small>\n",
    "\\begin{equation*}\n",
    "    det(A) =\n",
    "    \\begin{vmatrix}\n",
    "        a_{11} & a_{12} & a_{13} \\\\\n",
    "        a_{21} & a_{22} & a_{23} \\\\\n",
    "        a_{31} & a_{32} & a_{33}\n",
    "    \\end{vmatrix}\n",
    "    = -a_{21} \n",
    "    \\begin{vmatrix}\n",
    "        a_{12} & a_{13} \\\\\n",
    "        a_{32} & a_{33}\n",
    "    \\end{vmatrix}\n",
    "    + a_{22} \n",
    "    \\begin{vmatrix}\n",
    "        a_{11} & a_{13} \\\\\n",
    "        a_{31} & a_{33}\n",
    "    \\end{vmatrix}\n",
    "    - a_{23} \n",
    "    \\begin{vmatrix}\n",
    "        a_{11} & a_{12} \\\\\n",
    "        a_{31} & a_{32}\n",
    "    \\end{vmatrix}.\n",
    "\\end{equation*}\n",
    "</small>\n",
    "    \n",
    "Puede verificar de forma directa que el resultado es el mismo, sin importar con forme a que renglón o columna se haga el desarrollo, al desarrollar los determinantes $2 \\times 2$.\n",
    "    \n",
    "</div>\n",
    "</div>"
   ]
  },
  {
   "cell_type": "markdown",
   "id": "a149327c",
   "metadata": {
    "slideshow": {
     "slide_type": "subslide"
    }
   },
   "source": [
    "<div style=\"background-color:rgb(0,120,170); opacity:0.7; border:rgb(0,170,120) 5px double; border-radius:17px;\">\n",
    "<div style=\"margin:0.3%; color:white; font-style:italic; font-family:cursive; text-align:justify; text-indent:1em;\">\n",
    "    \n",
    "<b>Definición</b>: Sea $A \\in \\mathcal{M}_{n \\times n}$, es decir, una matriz de $n \\times n$. Sea $A_{ij}$ la matriz de $(n-1) \\times (n-1)$ obtenida al eliminar el renglón $i$ y la columna $j$ de la matriz $A$.\n",
    "    \n",
    "\\begin{equation*}\n",
    "    A_{ij} =\n",
    "    \\begin{pmatrix}\n",
    "        a_{11} & a_{12} & \\cdots & \\color{red}{a_{1j}} & \\cdots & a_{1n} \\\\\n",
    "        \\vdots & \\vdots & & \\color{red}{\\vdots} & & \\vdots \\\\\n",
    "        \\color{red}{a_{i1}} & \\color{red}{a_{i2}} & \\color{red}{\\cdots} & \\color{green}{a_{ij}} & \\color{red}{\\cdots} & \\color{red}{a_{in}} \\\\\n",
    "        \\vdots & \\vdots & & \\color{red}{\\vdots} & & \\vdots \\\\\n",
    "        a_{n1} & a_{n2} & \\cdots & \\color{red}{a_{nj}} & \\cdots & a_{nn}\n",
    "    \\end{pmatrix}\n",
    "\\end{equation*}\n",
    "    \n",
    "Daremos una expresión para el determinante de una matriz de $n \\times n$ en términos de determinantes de matrices de $(n-1) \\times (n-1)$. Se $i$ un entero, $1 \\leq i \\leq n$. Definimos\n",
    "    \n",
    "\\begin{equation*}\n",
    "    det(A) = (-1)^{i+1}a_{i1}det(A_{i1}) + \\cdots + (-1)^{i+n}a_{in}det(A_{in})\n",
    "\\end{equation*}\n",
    "o\n",
    "\\begin{equation*}\n",
    "    det(A) = (-1)^{1+j}a_{1j}det(A_{1j}) + \\cdots + (-1)^{n+j}a_{nj}det(A_{nj})\n",
    "\\end{equation*}\n",
    "    \n",
    "Esto se conoce como <b>desarrollo del determinante por menores</b> (o <b>por cofactores</b>) conforme al $i-$ésimo renglón (o $j-$ésima columna). El término $(-1)^{i+j}det(A_{ij})$ se denomina <b>cofactor</b> del elemento $a_{ij}$.\n",
    "    \n",
    "</div>\n",
    "</div>"
   ]
  },
  {
   "cell_type": "markdown",
   "id": "db59aa8d",
   "metadata": {
    "slideshow": {
     "slide_type": "subslide"
    }
   },
   "source": [
    "<div style=\"background-color:rgb(250,250,100); opacity:0.7; border:rgb(0,120,170) 5px double; border-radius:17px;;\">\n",
    "<div style=\"margin:0.3%; color:gray; font-style:italic; font-family:cursive; text-align:justify; text-indent:1em;\">\n",
    "    \n",
    "<b>Nota</b>: Para matrices de $n \\times n$ también se puede utilizar la notación $det(A) = det(A^1, \\dots, A^n)$, la cual es conveniente para denotar el determinante como una función de las columnas.\n",
    "    \n",
    "</div>\n",
    "</div>"
   ]
  },
  {
   "cell_type": "markdown",
   "id": "e3ce207b",
   "metadata": {
    "slideshow": {
     "slide_type": "fragment"
    }
   },
   "source": [
    "<div style=\"background-color:rgb(0, 120, 30); opacity:0.7; border:rgb(250,250,100) 5px double; border-radius:17px;\">\n",
    "<div style=\"margin:0.3%; color:white; font-style:italic; font-family:cursive; text-align:justify; text-indent:1em;\">\n",
    "\n",
    "<b>Propiedades</b>:\n",
    "\n",
    "<ol>\n",
    "<li>Como función de los vectores columna, el determinante es lineal, es decir</li>\n",
    "<ul>\n",
    "<li>Si la $j-$ésima columna $A^j$ es igual a la suma de dos vectores columna, digamos $A^j = C + C'$, entonces</li>\n",
    "\n",
    "\\begin{eqnarray*}\n",
    "\tdet(A^1, \\dots, C + C', \\dots, A^n) = & & det(A^1, \\dots, C, \\dots, A^n) \\\\\n",
    "    &+& det(A^1, \\dots, C', \\dots, A^n)\n",
    "\\end{eqnarray*}\n",
    "    \n",
    "<li>Si $x$ es un escalar, entonces</li>\n",
    "    \n",
    "\\begin{equation*}\n",
    "\tdet(A^1, \\dots, x A^j, \\dots, A^n) = x det(A^1, \\dots, A^j, \\dots, A^n)\n",
    "\\end{equation*}\n",
    "    \n",
    "</ul>\n",
    "<li>Si dos columnas son iguales, esto es, si $A^j = A^j$, donde $j \\neq k$, entones el determinante es igual a cero, $det(A) = 0$.</li>\n",
    "\n",
    "<li>El determinante de una matriz es iguala al determinante de su transpuesta, $det(A) = det(A^T)$.</li>\n",
    "\n",
    "<li>El determinante de la matriz identidad es igual a $1$, $det(I) = 1$.</li>\n",
    "</ol>\n",
    "\n",
    "</div>\n",
    "</div>"
   ]
  },
  {
   "cell_type": "markdown",
   "id": "16eeee90",
   "metadata": {
    "slideshow": {
     "slide_type": "subslide"
    }
   },
   "source": [
    "<div style=\"background-color:rgb(100,0,70); opacity:0.7; border:rgb(0,120,170) 5px double; border-radius:17px;\">\n",
    "<div style=\"margin:0.3%; color:white; font-style:italic; font-family:cursive; text-align:justify; text-indent:1em;\">\n",
    "    \n",
    "<b>Ejercicios</b>: Calcule los siguientes determinantes\n",
    "    \n",
    "\\begin{eqnarray*}\n",
    "    & a) & \\quad\\\n",
    "    \\begin{vmatrix}\n",
    "        2 & 1 & 2 \\\\\n",
    "        0 & 3 & -1 \\\\\n",
    "        4 & 1 & 1\n",
    "    \\end{vmatrix}\n",
    "    \\qquad\\ & b) & \\quad\\\n",
    "    \\begin{vmatrix}\n",
    "        3 & 1- & 5 \\\\\n",
    "        -1 & 2 & 1 \\\\\n",
    "        -2 & 4 & 3\n",
    "    \\end{vmatrix} \\\\\n",
    "    & & & & \\\\\n",
    "    & c) & \\quad\\\n",
    "    \\begin{vmatrix}\n",
    "        1 & 2 & -1 \\\\\n",
    "        0 & 2 & -1 \\\\\n",
    "        0 & 2 & 7\n",
    "    \\end{vmatrix}\n",
    "    \\qquad\\ & d) & \\quad\\\n",
    "    \\begin{vmatrix}\n",
    "        -1 & 2 & 1 \\\\\n",
    "        3 & 1- & 5 \\\\\n",
    "        -2 & 4 & 3\n",
    "    \\end{vmatrix} \\\\\n",
    "    & & & & \\\\\n",
    "    & e) & \\quad\\\n",
    "    \\begin{vmatrix}\n",
    "        \\cos(\\theta) & -\\sin(\\theta) \\\\\n",
    "        \\sin(\\theta) & \\cos(\\theta)\n",
    "    \\end{vmatrix}\n",
    "    \\qquad\\ & f) & \\quad\\\n",
    "    \\begin{vmatrix}\n",
    "        a_{11} & 0 & 0 & \\cdots & 0 \\\\\n",
    "        0 & a_{22} & 0 & \\cdots & 0 \\\\\n",
    "        \\vdots & \\vdots & \\ddots &  & \\vdots \\\\\n",
    "        0 & 0 &  & \\ddots & 0 \\\\\n",
    "        0 & 0 & 0 & \\cdots & a_{nn}\n",
    "    \\end{vmatrix}\n",
    "\\end{eqnarray*}\n",
    "    \n",
    "</div>\n",
    "</div>"
   ]
  },
  {
   "cell_type": "markdown",
   "id": "bba32e8a",
   "metadata": {
    "slideshow": {
     "slide_type": "subslide"
    }
   },
   "source": [
    "### <font color=\"cyan\"><b>Regla de Cramer</b></font>"
   ]
  },
  {
   "cell_type": "markdown",
   "id": "3d335eb0",
   "metadata": {
    "slideshow": {
     "slide_type": "fragment"
    }
   },
   "source": [
    "<div style=\"background-color:rgb(250,250,100); opacity:0.7; border:rgb(0,120,170) 5px double; border-radius:17px;;\">\n",
    "<div style=\"margin:0.3%; color:gray; font-style:italic; font-family:cursive; text-align:justify; text-indent:1em;\">\n",
    "    \n",
    "<b>Nota</b>: Se puede usar las propiedades de los determinantes para resolver un sitema de ecuaciones.\n",
    "\n",
    "\\begin{equation*}\n",
    "\tAX = B\n",
    "\\end{equation*}\n",
    "\n",
    "<i>donde</i>\n",
    "\n",
    "\\begin{equation*}\n",
    "\tA = \n",
    "\t\\begin{pmatrix}\n",
    "\t\ta_{11} & \\cdots & a_{1n}\\\\\n",
    "\t\t\\vdots &  & \\vdots\\\\\n",
    "\t\ta_{n1} & \\cdots & a_{nn}\n",
    "\t\\end{pmatrix},\\qquad\\\n",
    "\tX =\n",
    "\t\\begin{pmatrix}\n",
    "\t\tx_1\\\\\n",
    "\t\t\\vdots\\\\\n",
    "\t\tx_{n}\n",
    "\t\\end{pmatrix}\\qquad\\text{y}\\qquad\\\n",
    "\tB = \n",
    "\t\\begin{pmatrix}\n",
    "\t\tb_1\\\\\n",
    "\t\t\\vdots\\\\\n",
    "\t\tb_{n}\n",
    "\t\\end{pmatrix}.\n",
    "\\end{equation*}\n",
    "\n",
    "Observe que aquí $X$ y $B$ son de la misma dimensión, en otras palabras, se tiene el mismo número de ecuaciones que de incógnitas. En otra forma, representa el sistema\n",
    "\n",
    "\\begin{equation*}\n",
    "\t\\begin{matrix}\n",
    "\t\tx_1 a_{11} & + & \\cdots & + & x_n a_{1n} & = & b_1 \\\\\n",
    "\t\t\\vdots & & & & \\vdots & & \\vdots \\\\\n",
    "\t\tx_1 a_{n1} & + & \\cdots & + & x_n a_{nn} & = & b_n\n",
    "\t\\end{matrix}\n",
    "\\end{equation*}\n",
    "    \n",
    "</div>\n",
    "</div>"
   ]
  },
  {
   "cell_type": "markdown",
   "id": "9801a0b8",
   "metadata": {
    "slideshow": {
     "slide_type": "subslide"
    }
   },
   "source": [
    "<div style=\"background-color:rgb(0, 120, 30); opacity:0.7; border:rgb(250,250,100) 5px double; border-radius:17px;\">\n",
    "<div style=\"margin:0.3%; color:white; font-style:italic; font-family:cursive; text-align:justify; text-indent:1em;\">\n",
    "    \n",
    "<b>Teorema (Regla de Cramer)</b>: Sean $A^1, \\dots, A^n$ vectores columna tales que\n",
    "\n",
    "\\begin{equation*}\n",
    "\tdet(A) = det(A^1, \\dots, A^n) \\neq 0.\n",
    "\\end{equation*}\n",
    "\n",
    "Entonces, para cada $j = 1, \\dots, n$, tenemos que\n",
    "\n",
    "\\begin{equation*}\n",
    "\tx_i = \\frac{det(A^1, \\dots, B, \\dots, A^n)}{det(A^1, \\dots, A^n)},\n",
    "\\end{equation*}\n",
    "donde $B$ aparece en la $i-$ésima columna en lugar de $A^j$. Expresadi en otra forma,\n",
    "\n",
    "\\begin{equation*}\n",
    "\tx_i = \\frac{\n",
    "    \\begin{vmatrix}\n",
    "\t\ta_{11} & \\cdots & b_1 & \\cdots & a_{1n} \\\\\n",
    "\t\ta_{21} & \\cdots & b_2 & \\cdots & a_{2n} \\\\\n",
    "\t\t\\vdots &  & \\vdots & & \\vdots \\\\\n",
    "\t\ta_{n1} & \\cdots & b_n & \\cdots & a_{nn}\n",
    "\t\\end{vmatrix}}{\n",
    "    \\begin{vmatrix}\n",
    "\t\ta_{11} & \\cdots & a_{1j} & \\cdots & a_{1n} \\\\\n",
    "\t\ta_{21} & \\cdots & a_{2j} & \\cdots & a_{2n} \\\\\n",
    "\t\t\\vdots &  & \\vdots & & \\vdots \\\\\n",
    "\t\ta_{n1} & \\cdots & a_{nj} & \\cdots & a_{nn}\n",
    "\t\\end{vmatrix}}.\n",
    "\\end{equation*}\n",
    "    \n",
    "</div>\n",
    "</div>"
   ]
  },
  {
   "cell_type": "markdown",
   "id": "bce9241e",
   "metadata": {
    "slideshow": {
     "slide_type": "subslide"
    }
   },
   "source": [
    "<div style=\"background-color:rgb(100,0,70); opacity:0.7; border:rgb(0,120,170) 5px double; border-radius:17px;\">\n",
    "<div style=\"margin:0.3%; color:white; font-style:italic; font-family:cursive; text-align:justify; text-indent:1em;\">\n",
    "    \n",
    "<b>Ejemplo</b>: Resuelva el sistema de ecuaciones lineales\n",
    "\n",
    "\\begin{eqnarray*}\n",
    "\t3x &+& 2y &+& 4z &=& 1, \\\\\n",
    "\t2x &-& \\,\\ y &+& \\,\\ z &=& 0, \\\\\n",
    "\tx &+& 2y &+& 3z &=& 1.\n",
    "\\end{eqnarray*}\n",
    "    \n",
    "<b>Solución</b>: Aplicando la regla de Cramer, tenemos\n",
    "\n",
    "\\begin{equation*}\n",
    "\tx = \\frac{\n",
    "    \\begin{vmatrix}\n",
    "\t\t1 & 2 & 4 \\\\\n",
    "\t\t0 & -1 & 1 \\\\\n",
    "\t\t1 & 2 & 3\n",
    "\t\\end{vmatrix}}{\n",
    "    \\begin{vmatrix}\n",
    "\t\t3 & 2 & 4 \\\\\n",
    "\t\t2 & -1 & 1 \\\\\n",
    "\t\t1 & 2 & 3\n",
    "\t\\end{vmatrix}}\n",
    "    = -\\frac{1}{5}, \\,\\,\\\n",
    "\ty = \\frac{\n",
    "    \\begin{vmatrix}\n",
    "\t\t3 & 1 & 4 \\\\\n",
    "\t\t2 & 0 & 1 \\\\\n",
    "\t\t1 & 1 & 3\n",
    "\t\\end{vmatrix}}{\n",
    "    \\begin{vmatrix}\n",
    "\t\t3 & 2 & 4 \\\\\n",
    "\t\t2 & -1 & 1 \\\\\n",
    "\t\t1 & 2 & 3\n",
    "\t\\end{vmatrix}}\n",
    "    = 0, \\,\\,\\\n",
    "\tz = \\frac{\n",
    "    \\begin{vmatrix}\n",
    "\t\t3 & 2 & 1 \\\\\n",
    "\t\t2 & -1 & 0 \\\\\n",
    "\t\t1 & 2 & 1\n",
    "\t\\end{vmatrix}}{\n",
    "    \\begin{vmatrix}\n",
    "\t\t3 & 2 & 4 \\\\\n",
    "\t\t2 & -1 & 1 \\\\\n",
    "\t\t1 & 2 & 3\n",
    "\t\\end{vmatrix}}\n",
    "    = \\frac{2}{5}.\n",
    "\\end{equation*}\n",
    "    \n",
    "Se deja como ejercicio comprobar estos resultados.\n",
    "    \n",
    "</div>\n",
    "</div>"
   ]
  },
  {
   "cell_type": "markdown",
   "id": "8953a853",
   "metadata": {
    "slideshow": {
     "slide_type": "subslide"
    }
   },
   "source": [
    ">Resolvemos ahora con Wolfram"
   ]
  },
  {
   "cell_type": "code",
   "execution_count": null,
   "id": "5be82360",
   "metadata": {
    "slideshow": {
     "slide_type": "fragment"
    },
    "vscode": {
     "languageId": "wolfram language"
    }
   },
   "outputs": [
    {
     "data": {
      "text/html": [
       "<style>\n",
       "\t\t\t\t\t\t\t\t\t\t\t\t\t.grid-container {\n",
       "\t\t\t\t\t\t\t\t\t\t\t\t\t\tdisplay: inline-grid;\n",
       "\t\t\t\t\t\t\t\t\t\t\t\t\t\tgrid-template-columns: auto;\n",
       "\t\t\t\t\t\t\t\t\t\t\t\t\t}\n",
       "\t\t\t\t\t\t\t\t\t\t\t\t</style>\n",
       "\n",
       "\t\t\t\t\t\t\t\t\t\t\t\t<div><div class=\"grid-container\"><div class=\"grid-item\"><img alt=\"Output\" src=\"data:image/png;base64,iVBORw0KGgoAAAANSUhEUgAAACAAAAAfCAIAAAAJNFjbAAAA03pUWHRSYXcgcHJvZmlsZSB0eXBlIGV4aWYAAHjabU/BjQQhDPtTxZUASXCgHGYHpO1gyz/DMFrN6SyROMZJIPTPe4SfCUkxWPaCCkTCqlVpJCVeuHKKdcUF2VesH3pIY+uNUv5eoG/9eOqOPbD8GXSv0LmBXG037EEql57aVR/bL62Ux6BxjIX7xfX79H9rUxdkJDdGk+iOSl4CKROyxOwYeAE0JpwS7cXc4c42+HRom40T0v3p7gFK4Zxf0HlEG3NlFK6O5GlxZTQtclLJyzO/8wueDVxmb6Pq1wAAAAlwSFlzAAAWJQAAFiUBSVIk8AAAADx0RVh0U29mdHdhcmUAQ3JlYXRlZCB3aXRoIHRoZSBXb2xmcmFtIExhbmd1YWdlIDogd3d3LndvbGZyYW0uY29tXKKmhQAAACF0RVh0Q3JlYXRpb24gVGltZQAyMDIyOjA5OjI3IDAxOjIzOjQ4ey8dugAAAR1JREFUSIntVLuNhDAQHZ+uAJwSIEQRRM5NCQ5J3QARFdAAJZBQgQOSSR3QABYtUAEXeGXu2IVd4UV7K+2LbM/4PY/nQ+Z5hjPxdSr7R+BfCHz7XK6qastUFIVdEJ8yJYRsmRytVwQWUso4jjfNswcsAyLu+Lx/FZ0u8IQqckmOoihN0yRJ/jj5J3kFznnf987HK4LfjTZNk1JKaw0AlFKt9SUUnwiugYiUUvtv9mRptCzLdh6b57kQ4m5MjDEhRF3Xxhh7sgiUZblzMwzDu+wWq65eBBhjD1Lso+s6AAiC4LJ/bg6klJbWzY/jw84Y07at247jqJQahgEAmqZZ/uPwYxHxWpVzvpp9x/tgFcHtNvYcFY/g/afpR+D1Aj+KzOWBFB89ewAAAABJRU5ErkJggg==\"></div><div class=\"grid-item\"><img alt=\"Output\" src=\"data:image/png;base64,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\"></div><div class=\"grid-item\"><img alt=\"Output\" src=\"data:image/png;base64,iVBORw0KGgoAAAANSUhEUgAAAA8AAAAfCAIAAAC3YgCGAAAA0npUWHRSYXcgcHJvZmlsZSB0eXBlIGV4aWYAAHjabU/ZjUQhDPuniikhFwmUw5sH0nSw5a85pNFbrSVi41yQ+s9npNeEMCXLUby6E2DVqjSIQhubmeqKG+MwP/3EJ8ENVv4mvB//evrhm6X8GUSyhc4N0Gqn4QxS2T63fb9OvbRSHoPGNRbOg1fuPP3fu2mIZ+cwRBOK8ApdEiTIs1AOH/52RyH7LWRvcPcItHnMCm2zcUJ6PKt7coVxzy/oPKINXBEFqwmal1ZE0yI3nLxq5nd+AeqfXJomTlj5AAAACXBIWXMAABYlAAAWJQFJUiTwAAAAPHRFWHRTb2Z0d2FyZQBDcmVhdGVkIHdpdGggdGhlIFdvbGZyYW0gTGFuZ3VhZ2UgOiB3d3cud29sZnJhbS5jb21coqaFAAAAIXRFWHRDcmVhdGlvbiBUaW1lADIwMjI6MDk6MjcgMDE6MjM6NDh7Lx26AAAAu0lEQVQ4jWP8//8/A9GAiXilQ1g1C6bQ27dv16xZ8/HjRysrKxsbGxS5/6hg+fLlysrKEKnOzk40WYRLjhw54uHhERkZKSgoiNMpEE2dnZ0QbmZm5ps3b3CZDXW3nJycoKDgtGnTIiIiCPsyIiJCU1NTX18fX4gghyBBpQyDKS5HhmpoXN67d2/NmjVocvv27YOzQ0JClJSUoKnq8OHD+E09fPgwIlVJSUnBkyFWICUlxcDAwDhanlCoGgCe32+G6jdE8QAAAABJRU5ErkJggg==\"></div><div class=\"grid-item\"><img alt=\"Output\" src=\"data:image/png;base64,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\"></div><div class=\"grid-item\"><img alt=\"Output\" src=\"data:image/png;base64,iVBORw0KGgoAAAANSUhEUgAAAA8AAAAfCAIAAAC3YgCGAAAA0npUWHRSYXcgcHJvZmlsZSB0eXBlIGV4aWYAAHjabU/ZjUQhDPuniikhFwmUw5sH0nSw5a85pNFbrSVi41yQ+s9npNeEMCXLUby6E2DVqjSIQhubmeqKG+MwP/3EJ8ENVv4mvB//evrhm6X8GUSyhc4N0Gqn4QxS2T63fb9OvbRSHoPGNRbOg1fuPP3fu2mIZ+cwRBOK8ApdEiTIs1AOH/52RyH7LWRvcPcItHnMCm2zcUJ6PKt7coVxzy/oPKINXBEFqwmal1ZE0yI3nLxq5nd+AeqfXJomTlj5AAAACXBIWXMAABYlAAAWJQFJUiTwAAAAPHRFWHRTb2Z0d2FyZQBDcmVhdGVkIHdpdGggdGhlIFdvbGZyYW0gTGFuZ3VhZ2UgOiB3d3cud29sZnJhbS5jb21coqaFAAAAIXRFWHRDcmVhdGlvbiBUaW1lADIwMjI6MDk6MjcgMDE6MjM6NDh7Lx26AAABW0lEQVQ4jdWUvY2DMBTHX07pEWIDMkCKWAIhehcZgBlghGzgAdKnYwIXiNKdaVjAKErtyIoygFO8k4057pQy9zr7/fy+/g821lp4277eR/8xvV2cp2mSUt5uNwAoiqIsy8BtZ8YYWzwmhIzj6ABPn04nJCiljLG6ruM4BoA4jpVSAS2EQLRtW/d+HEd8UNd1QFdVhVFtaK42rbWn8YpzvqBdTnQBZpwHWG2aMWat3QLA8/nEqyRJ3Bybpum6Dus2xlyv1+8JYjpCCIbknCNECFFKYQZsyWuZJMn9fm+a5ng8GmMYY8MwpGm6rqWUMssypdRut7tcLk5FrOFwOAS0McYYU1XV+Xx2DWAPABBFkVd+3vjC0CWE8POmlK6q07Ytih9oibe/Ke9y+q3C8D+3ihDiVPO01hq3ZW6U0rnAGxv+IaZp6vv+8XhEUZTn+X6/n3uX9N/2Od/859AvNQWToOinr20AAAAASUVORK5CYII=\"></div><div class=\"grid-item\"><img alt=\"Output\" src=\"data:image/png;base64,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\"></div><div class=\"grid-item\"><img alt=\"Output\" src=\"data:image/png;base64,iVBORw0KGgoAAAANSUhEUgAAACAAAAAfCAIAAAAJNFjbAAAA03pUWHRSYXcgcHJvZmlsZSB0eXBlIGV4aWYAAHjabU/BjQQhDPtTxZUASXCgHGYHpO1gyz/DMFrN6SyROMZJIPTPe4SfCUkxWPaCCkTCqlVpJCVeuHKKdcUF2VesH3pIY+uNUv5eoG/9eOqOPbD8GXSv0LmBXG037EEql57aVR/bL62Ux6BxjIX7xfX79H9rUxdkJDdGk+iOSl4CKROyxOwYeAE0JpwS7cXc4c42+HRom40T0v3p7gFK4Zxf0HlEG3NlFK6O5GlxZTQtclLJyzO/8wueDVxmb6Pq1wAAAAlwSFlzAAAWJQAAFiUBSVIk8AAAADx0RVh0U29mdHdhcmUAQ3JlYXRlZCB3aXRoIHRoZSBXb2xmcmFtIExhbmd1YWdlIDogd3d3LndvbGZyYW0uY29tXKKmhQAAACF0RVh0Q3JlYXRpb24gVGltZQAyMDIyOjA5OjI3IDAxOjIzOjQ4ey8dugAAAUhJREFUSIntlTGKhDAUht8s20taS61sLcVKED2AoKVtPIL2gifwCJ7AQizjASLYegM9Q7bIruPGGWGNsrswfxX+PN6nLz/JjTEGV+rt0u4vwJ8AvMu36Pu+aRoAUBTFdV1N075tMwlRSj3PE3hpmq5rjgMopQghANB1PU3ToigW2JohC8AYT9O0mBhjzhjHURbAGCOECM44jhxQ1zV3pFJk27bgLCc8DANfnBzTeZ75wrKsSwBt2/KFYRiflswZCJqmSdd1AMAYL+aZAB5ThNA6V6cBeEARQpTStX9jXw+O7/s7w43jOIqiZ7tJkpRlCQCEECFad0DXdTsAVVXFS2bTvaqqBx9xymR494cFUoBnc1/rPqKfKsuyPM8BIAxD0zS3BUEQaJp2/A+2F7UgflMdf3DiOHYcZ6dAVVVYp+gi/f9H/wX4fcAHohFt7IpWOCwAAAAASUVORK5CYII=\"></div></div></div>"
      ],
      "text/plain": [
       "-5\n",
       "1    2    4\n",
       "\n",
       "0    -1   1\n",
       "\n",
       "1    2    3\n",
       "1\n",
       "3   1   4\n",
       "\n",
       "2   0   1\n",
       "\n",
       "1   1   3\n",
       "0\n",
       "3    2    1\n",
       "\n",
       "2    -1   0\n",
       "\n",
       "1    2    1\n",
       "-2"
      ]
     },
     "metadata": {},
     "output_type": "display_data"
    }
   ],
   "source": [
    "A = {{3, 2, 4}, {2, -1, 1}, {1, 2, 3}};             (*Escribimos la matriz de coeficientes*)\n",
    "B = {1, 0, 1};                                      (*Escribimos el vector B*)\n",
    "detA = Det[A]                                       (*Obtenemos el determinante de A*)\n",
    "(*--- Ahora obtendremos los determinantes asociados a cada variable ---*)\n",
    "mat[xi_] := Transpose[ A]/.Transpose[ A][[xi]]->B   (*Definimos una función que remplace la i-ésima columna por el vector B*)\n",
    "Transpose[mat[1]]//MatrixForm                       (*Mostramos la matriz obtenida al remplazar la columna 1*)\n",
    "detX = Det[mat[1]]                                  (*Determinante Dx*)\n",
    "Transpose[mat[2]]//MatrixForm                       (*Mostramos la matriz obtenida al remplazar la columna 2*)\n",
    "detY = Det[mat[2]]                                  (*Determinante Dy*)\n",
    "Transpose[mat[3]]//MatrixForm                       (*Mostramos la matriz obtenida al remplazar la columna 3*)\n",
    "detZ = Det[mat[3]]                                  (*Determinante Dz*)"
   ]
  },
  {
   "cell_type": "code",
   "execution_count": null,
   "id": "b92812a2",
   "metadata": {
    "slideshow": {
     "slide_type": "fragment"
    },
    "vscode": {
     "languageId": "wolfram language"
    }
   },
   "outputs": [
    {
     "data": {
      "text/html": [
       "<div><img alt=\"Output\" src=\"data:image/png;base64,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\"></div>"
      ],
      "text/plain": [
       "   1      2\n",
       "{-(-), 0, -}\n",
       "   5      5"
      ]
     },
     "metadata": {},
     "output_type": "display_data"
    }
   ],
   "source": [
    "(*--- Finalmente obtenemos los volores de las incógnitas ---*)\n",
    "{x = detX/detA, x = detY/detA, x = detZ/detA}"
   ]
  },
  {
   "cell_type": "markdown",
   "id": "e74cd281",
   "metadata": {
    "slideshow": {
     "slide_type": "subslide"
    }
   },
   "source": [
    "### <font color=\"cyan\"><b>Matriz Inversa</b></font>"
   ]
  },
  {
   "cell_type": "markdown",
   "id": "eb13872b",
   "metadata": {
    "slideshow": {
     "slide_type": "fragment"
    }
   },
   "source": [
    "<div style=\"background-color:rgb(250,250,100); opacity:0.7; border:rgb(0,120,170) 5px double; border-radius:17px;;\">\n",
    "<div style=\"margin:0.3%; color:gray; font-style:italic; font-family:cursive; text-align:justify; text-indent:1em;\">\n",
    "    \n",
    "Consideremos primero un caso especial. Sea $A \\in \\mathcal{M}_{2 \\times 2}$, a saber\n",
    "    \n",
    "\\begin{equation*}\n",
    "    A =\n",
    "    \\begin{pmatrix}\n",
    "        a & b \\\\\n",
    "        c & d\n",
    "    \\end{pmatrix}\n",
    "\\end{equation*}\n",
    "    \n",
    "Suponga que su determinante es diferente de cero, $det(A) = ad - bc \\neq 0$. Deseamos hallar una matriz inversa para $A$, es decir $A^{-1} \\in \\mathcal{M}_{2 \\times 2}$ tal que $AA^{-1} = A^{-1}A = I$, donde\n",
    "    \n",
    "\\begin{equation*}\n",
    "    A^{-1} =\n",
    "    \\begin{pmatrix}\n",
    "        x & y \\\\\n",
    "        z & w\n",
    "    \\end{pmatrix}.\n",
    "\\end{equation*}\n",
    "    \n",
    "Entonces, $AA^{-1} = I$ implica que\n",
    "    \n",
    "\\begin{equation*}\n",
    "    AA^{-1} =\n",
    "    \\begin{pmatrix}\n",
    "        a & b \\\\\n",
    "        c & d\n",
    "    \\end{pmatrix}\n",
    "    \\begin{pmatrix}\n",
    "        x & y \\\\\n",
    "        z & w\n",
    "    \\end{pmatrix}\n",
    "    =\n",
    "    \\begin{pmatrix}\n",
    "        ax + bz & ay + bw \\\\\n",
    "        cx + dz & cy + dw\n",
    "    \\end{pmatrix}\n",
    "    =\n",
    "    \\begin{pmatrix}\n",
    "        1 & 0 \\\\\n",
    "        0 & 1\n",
    "    \\end{pmatrix}\n",
    "\\end{equation*}\n",
    "    \n",
    "</div>\n",
    "</div>"
   ]
  },
  {
   "cell_type": "markdown",
   "id": "63f9c322",
   "metadata": {
    "slideshow": {
     "slide_type": "subslide"
    }
   },
   "source": [
    "<div style=\"background-color:rgb(250,250,100); opacity:0.7; border:rgb(0,120,170) 5px double; border-radius:17px;;\">\n",
    "<div style=\"margin:0.3%; color:gray; font-style:italic; font-family:cursive; text-align:justify; text-indent:1em;\">\n",
    "    \n",
    "<b>Nota</b>: Sean $A = (a_{ij}), B = (b_{ij}) \\in \\mathcal{M}_{n \\times m}$. Se dice que $A = B$, sí y solo sí son iguales componente a componente, es decir $a_{ij} = b_{ij}$ para todo $1 \\leq i \\leq n$ $1 \\leq j \\leq m$\n",
    "\n",
    "Entonces de la ecuación anterior se tienen dos sistemas de ecuaciones lineales, si comparamos columna a columna, a saber\n",
    "\n",
    "\\begin{equation*}\n",
    "\t\\left\\{\n",
    "\t\\begin{array}{l}\n",
    "\t\tax + bz = 1 \\\\\n",
    "\t\tcx + dz = 0 \n",
    "\t\\end{array}\\right. \\\\\n",
    "\t\\left\\{\n",
    "\t\\begin{array}{l}\n",
    "\t\tay + bw = 0 \\\\\n",
    "\t\tcy + dw = 1 \n",
    "\t\\end{array}\\right.\n",
    "\\end{equation*}\n",
    "\n",
    "Al resolver estos sistemas de ecuaciones se tiene los valores de las componentes de la matriz inversa $A^{-1}$. Los cuales tienen la forma\n",
    "\n",
    "\\begin{equation*}\n",
    "\tx = \\frac{d}{det(A)}, \\quad\\ z = \\frac{-c}{det(A)}, \\\\\n",
    "\ty = \\frac{-b}{det(A)}, \\quad\\ w = \\frac{a}{det(A)}. \\\\\n",
    "\\end{equation*}\n",
    "\n",
    "Observe que, para que los sistemas tengan solución, es necesario que $det(A) \\neq 0$, entonces para que una matriz tenga inversa es necesario que su determinante sea diferente de cero. De esta forma, la matriz inversa se puede escribir como\n",
    "\n",
    "\\begin{equation*}\n",
    "\tA^{-1} = \\frac{1}{det(A)}\n",
    "\t\\begin{pmatrix}\n",
    "\t\td & -b \\\\\n",
    "\t\t-c & a\n",
    "\t\\end{pmatrix}.\n",
    "\\end{equation*}\n",
    "    \n",
    "</div>\n",
    "</div>"
   ]
  },
  {
   "cell_type": "markdown",
   "id": "c1dc598e",
   "metadata": {
    "slideshow": {
     "slide_type": "subslide"
    }
   },
   "source": [
    "<div style=\"background-color:rgb(100,0,70); opacity:0.7; border:rgb(0,120,170) 5px double; border-radius:17px;\">\n",
    "<div style=\"margin:0.3%; color:white; font-style:italic; font-family:cursive; text-align:justify; text-indent:1em;\">\n",
    "    \n",
    "<b>Ejemplo</b>: Obtenga la matriz inversa de\n",
    "    \n",
    "\\begin{equation*}\n",
    "    A =\n",
    "    \\begin{pmatrix}\n",
    "        3 & 5 \\\\\n",
    "        -1 & 2\n",
    "    \\end{pmatrix}.\n",
    "\\end{equation*}\n",
    "    \n",
    "<b>Solución</b>: Primero calculamos su determinate\n",
    "    \n",
    "\\begin{equation*}\n",
    "    det(A) =\n",
    "    \\begin{vmatrix}\n",
    "        3 & 5 \\\\\n",
    "        -1 & 2\n",
    "    \\end{vmatrix}\n",
    "    = (3)(2) - (-1)(5) = 11,\n",
    "\\end{equation*}\n",
    "entonces su matriz inversa es\n",
    "    \n",
    "\\begin{equation*}\n",
    "    A^{-1} = \\frac{1}{11}\n",
    "    \\begin{pmatrix}\n",
    "        2 & 5 \\\\\n",
    "        -1 & 3\n",
    "    \\end{pmatrix}\n",
    "    =\n",
    "    \\begin{pmatrix}\n",
    "        \\frac{2}{11} & -\\frac{5}{11} \\\\\n",
    "        \\frac{1}{11} & \\frac{3}{11}\n",
    "    \\end{pmatrix}.\n",
    "\\end{equation*}\n",
    "    \n",
    "Puede comprobar que $AA^{-1} = A^{-1}A = I$.\n",
    "    \n",
    "</div>\n",
    "</div>"
   ]
  },
  {
   "cell_type": "markdown",
   "id": "9e4368f1",
   "metadata": {
    "slideshow": {
     "slide_type": "subslide"
    }
   },
   "source": [
    ">Podemos calcular la matriz inversa con Wolfram."
   ]
  },
  {
   "cell_type": "code",
   "execution_count": null,
   "id": "e5f93132",
   "metadata": {
    "scrolled": true,
    "slideshow": {
     "slide_type": "fragment"
    },
    "vscode": {
     "languageId": "wolfram language"
    }
   },
   "outputs": [
    {
     "data": {
      "text/html": [
       "<style>\n",
       "\t\t\t\t\t\t\t\t\t\t\t\t\t.grid-container {\n",
       "\t\t\t\t\t\t\t\t\t\t\t\t\t\tdisplay: inline-grid;\n",
       "\t\t\t\t\t\t\t\t\t\t\t\t\t\tgrid-template-columns: auto;\n",
       "\t\t\t\t\t\t\t\t\t\t\t\t\t}\n",
       "\t\t\t\t\t\t\t\t\t\t\t\t</style>\n",
       "\n",
       "\t\t\t\t\t\t\t\t\t\t\t\t<div><div class=\"grid-container\"><div class=\"grid-item\"><img alt=\"Output\" src=\"data:image/png;base64,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\"></div><div class=\"grid-item\"><img alt=\"Output\" src=\"data:image/png;base64,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\"></div><div class=\"grid-item\"><img alt=\"Output\" src=\"data:image/png;base64,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\"></div></div></div>"
      ],
      "text/plain": [
       "2         5\n",
       "--      -(--)\n",
       "11        11\n",
       "\n",
       "1       3\n",
       "--      --\n",
       "11      11\n",
       "1   0\n",
       "\n",
       "0   1\n",
       "1   0\n",
       "\n",
       "0   1"
      ]
     },
     "metadata": {},
     "output_type": "display_data"
    }
   ],
   "source": [
    "A = {{3, 5}, {-1, 2}};   (*Definimos la matriz*)\n",
    "B = Inverse[A];          (*Con el comando Inverse se obtiene la matriz inversa*)\n",
    "MatrixForm[B]            (*Pedimos que muestre la salida en forma matricial*)\n",
    "A.B//MatrixForm          (*Realizamos el producto y pedimos que muestre la salida en forma matricial*)\n",
    "B.A//MatrixForm          (*Realizamos el producto y pedimos que muestre la salida en forma matricial*)"
   ]
  },
  {
   "cell_type": "markdown",
   "id": "ffbfb538",
   "metadata": {
    "slideshow": {
     "slide_type": "subslide"
    }
   },
   "source": [
    "<div style=\"background-color:rgb(0,120,170); opacity:0.7; border:rgb(0,170,120) 5px double; border-radius:17px;\">\n",
    "<div style=\"margin:0.3%; color:white; font-style:italic; font-family:cursive; text-align:justify; text-indent:1em;\">\n",
    "    \n",
    "<b>Definición</b>: Sean $A = (a_{ij}) \\in \\mathcal{M}_{n \\times n}$. Definimos la <b>matriz de cofactores</b> de $A$ como\n",
    "    \n",
    "\\begin{equation*}\n",
    "    cof(A) =\n",
    "    \\begin{pmatrix}\n",
    "        det(A_{11}) & \\cdots & (-1)^{1+j}det(A_{1j}) & \\cdots & (-1)^{i+n}det(A_{1n}) \\\\\n",
    "        \\vdots & & \\vdots & & \\vdots \\\\\n",
    "        (-1)^{i+1}det(A_{i1}) & \\cdots & (-1)^{i+j}det(A_{ij}) & \\cdots & (-1)^{i+n}det(A_{in}) \\\\\n",
    "        \\vdots & & \\vdots & & \\vdots \\\\\n",
    "        (-1)^{n+1}det(A_{n1}) & \\cdots & (-1)^{n+j}det(A_{nj}) & \\cdots & det(A_{nn})\n",
    "    \\end{pmatrix}\n",
    "\\end{equation*}\n",
    "donde el término $(-1)^{i+j}det(A_{ij})$ es el cofactor del elemento $a_{ij}$.\n",
    "    \n",
    "Si ahora tomamos la transpuesta de esta matriz tenemos a la <b>matriz adjunta</b> de $A$, $adj(A) = cof(A)^T$\n",
    "\n",
    "</div>\n",
    "</div>"
   ]
  },
  {
   "cell_type": "markdown",
   "id": "46e3d96b",
   "metadata": {
    "slideshow": {
     "slide_type": "subslide"
    }
   },
   "source": [
    "<div style=\"background-color:rgb(0, 120, 30); opacity:0.7; border:rgb(250,250,100) 5px double; border-radius:17px;\">\n",
    "<div style=\"margin:0.3%; color:white; font-style:italic; font-family:cursive; text-align:justify; text-indent:1em;\">\n",
    "    \n",
    "<b>Propiedades</b>: Sean $A, B \\in \\mathcal{M}_{n \\times n}$, entonces\n",
    "     \n",
    "<ol>\n",
    "<li>$adj(A^T) = adj(A)^T$</li>\n",
    "\n",
    "<li>$adj(A B) = adj(A) adj(B)$</li>\n",
    "\n",
    "<li>$adj(I) = I$</li>\n",
    "\n",
    "<li>$A (adj(A^T)) = (adj(A)) A^T = det(A) I$</li>\n",
    "\n",
    "<li>$adj(\\lambda A) = \\lambda^{n-1} adj(A)$</li>\n",
    "\n",
    "<li>$adj(adj(A)) = det(A)^{n-2} A$</li>\n",
    "\n",
    "<li>$det(adj(A)) = det(A)^{n-1}$</li>\n",
    "</ol>\n",
    "    \n",
    "</div>\n",
    "</div>"
   ]
  },
  {
   "cell_type": "markdown",
   "id": "c71f0477",
   "metadata": {
    "slideshow": {
     "slide_type": "fragment"
    }
   },
   "source": [
    "<div style=\"background-color:rgb(0, 120, 30); opacity:0.7; border:rgb(250,250,100) 5px double; border-radius:17px;\">\n",
    "<div style=\"margin:0.3%; color:white; font-style:italic; font-family:cursive; text-align:justify; text-indent:1em;\">\n",
    "    \n",
    "<b>Teorema</b>: Sea $A = (a_{ij}) \\in \\mathcal{M}_{n \\times n}$ y suponga que $det(A) \\neq 0$; entonces la matriz $A$ es invertible. La matriz inversa de $A$ esta dada por\n",
    "    \n",
    "\\begin{equation*}\n",
    "    A^{-1}= \\frac{adj(A)}{det(A)}.\n",
    "\\end{equation*}\n",
    "    \n",
    "</div>\n",
    "</div>"
   ]
  },
  {
   "cell_type": "markdown",
   "id": "c267ed29",
   "metadata": {
    "slideshow": {
     "slide_type": "subslide"
    }
   },
   "source": [
    "<div style=\"background-color:rgb(100,0,70); opacity:0.7; border:rgb(0,120,170) 5px double; border-radius:17px;\">\n",
    "<div style=\"margin:0.3%; color:white; font-style:italic; font-family:cursive; text-align:justify; text-indent:1em;\">\n",
    "    \n",
    "<b>Ejemplo</b>: Sean las matrices\n",
    "\n",
    "\\begin{eqnarray*}\n",
    "\t& a) & \\quad\\ A=\n",
    "\t\\begin{pmatrix}\n",
    "\t\t1 & 2 & -1 \\\\\n",
    "\t\t0 & 2 & -1 \\\\\n",
    "\t\t0 & 2 & 7\n",
    "\t\\end{pmatrix}\n",
    "\t\\qquad\\ & b) & \\quad\\ B=\n",
    "\t\\begin{pmatrix}\n",
    "\t\t3 & 1- & 5 \\\\\n",
    "\t\t-1 & 2 & 1 \\\\\n",
    "\t\t-2 & 4 & 3\n",
    "\t\\end{pmatrix} \\\\\n",
    "\t& & & & \\\\\n",
    "\t& c) & \\quad\\ C=\n",
    "\t\\begin{pmatrix}\n",
    "\t\t-1 & 2 & 1 \\\\\n",
    "\t\t3 & 1- & 5 \\\\\n",
    "\t\t-2 & 4 & 3\n",
    "\t\\end{pmatrix}\n",
    "\t\\qquad\\ & d) & \\quad\\ D=\n",
    "\t\\begin{pmatrix}\n",
    "\t\t\\cos(\\theta) & -\\sin(\\theta) \\\\\n",
    "\t\t\\sin(\\theta) & \\cos(\\theta)\n",
    "\t\\end{pmatrix}\n",
    "\\end{eqnarray*}\n",
    "\n",
    "obtener su matriz inversa a través de la matriz adjunta.\n",
    "\n",
    "<b>Solución a)</b>: Primero calculamos su determinante\n",
    "\n",
    "\\begin{equation*}\n",
    "\tdet(A)=\n",
    "\t\\begin{vmatrix}\n",
    "\t\t1 & 2 & -1 \\\\\n",
    "\t\t0 & 2 & -1 \\\\\n",
    "\t\t0 & 2 & 7\n",
    "\t\\end{vmatrix}\n",
    "\t=\n",
    "\t\\begin{vmatrix}\n",
    "\t\t2 & -1 \\\\\n",
    "\t\t2 & 7\n",
    "\t\\end{vmatrix}\n",
    "\t= (2)(7) - (2)(-1) = 14 + 2 = 16.\n",
    "\\end{equation*}\n",
    "\n",
    "Continuamos con la matriz de cofactores\n",
    "\n",
    "\\begin{equation*}\n",
    "\tcof(A)=\n",
    "\t\\begin{pmatrix}\n",
    "\t\tdet(A_{11}) & -det(A_{12}) & det(A_{13}) \\\\\n",
    "\t\t-det(A_{21}) & det(A_{22}) & -det(A_{23}) \\\\\n",
    "\t\tdet(A_{31}) & -det(A_{32}) & det(A_{33})\n",
    "\t\\end{pmatrix}\n",
    "\t=\n",
    "\t\\begin{pmatrix}\n",
    "\t\t16 & 0 & 0 \\\\\n",
    "\t\t-16 & 7 & -2 \\\\\n",
    "\t\t0 & 1 & 2\n",
    "\t\\end{pmatrix},\n",
    "\\end{equation*}\n",
    "entonces la matriz adjunta es\n",
    "\n",
    "\\begin{equation*}\n",
    "\tadj(A)= cof(A)^T =\n",
    "\t\\begin{pmatrix}\n",
    "\t\t16 & 0 & 0 \\\\\n",
    "\t\t-16 & 7 & -2 \\\\\n",
    "\t\t0 & 1 & 2\n",
    "\t\\end{pmatrix}^T\n",
    "\t=\n",
    "\t\\begin{pmatrix}\n",
    "\t\t16 & -16 & 0 \\\\\n",
    "\t\t0 & 7 & 1 \\\\\n",
    "\t\t0 & -2 & 2\n",
    "\t\\end{pmatrix}.\n",
    "\\end{equation*}\n",
    "\n",
    "Por lo tanto, la matriz inversa es\n",
    "\n",
    "\\begin{equation*}\n",
    "\tA^{-1}= \\frac{adj(A)}{det(A)} =\n",
    "\t\\frac{1}{16}\n",
    "\t\\begin{pmatrix}\n",
    "\t\t16 & -16 & 0 \\\\\n",
    "\t\t0 & 7 & 1 \\\\\n",
    "\t\t0 & -2 & 2\n",
    "\t\\end{pmatrix}\n",
    "\t=\n",
    "\t\\begin{pmatrix}\n",
    "\t\t1 & -1 & 0 \\\\\n",
    "\t\t0 & \\frac{7}{16} & \\frac{1}{16} \\\\\n",
    "\t\t0 & -\\frac{1}{8} & \\frac{1}{8}\n",
    "\t\\end{pmatrix}.\n",
    "\\end{equation*}\n",
    "\n",
    "Los incisos b), c) y d) se dejan como ejercicios.\n",
    "    \n",
    "</div>\n",
    "</div>"
   ]
  },
  {
   "cell_type": "markdown",
   "id": "78e25b13",
   "metadata": {
    "slideshow": {
     "slide_type": "subslide"
    }
   },
   "source": [
    ">Comprobemos nuestros resultados con Wolfram."
   ]
  },
  {
   "cell_type": "code",
   "execution_count": null,
   "id": "ee529af3",
   "metadata": {
    "slideshow": {
     "slide_type": "fragment"
    },
    "vscode": {
     "languageId": "wolfram language"
    }
   },
   "outputs": [
    {
     "data": {
      "text/html": [
       "<style>\n",
       "\t\t\t\t\t\t\t\t\t\t\t\t\t.grid-container {\n",
       "\t\t\t\t\t\t\t\t\t\t\t\t\t\tdisplay: inline-grid;\n",
       "\t\t\t\t\t\t\t\t\t\t\t\t\t\tgrid-template-columns: auto;\n",
       "\t\t\t\t\t\t\t\t\t\t\t\t\t}\n",
       "\t\t\t\t\t\t\t\t\t\t\t\t</style>\n",
       "\n",
       "\t\t\t\t\t\t\t\t\t\t\t\t<div><div class=\"grid-container\"><div class=\"grid-item\"><img alt=\"Output\" src=\"data:image/png;base64,iVBORw0KGgoAAAANSUhEUgAAAB0AAAAfCAIAAACUOVFTAAAA0XpUWHRSYXcgcHJvZmlsZSB0eXBlIGV4aWYAAHjabU/bDQMhDPtnio6QhJDAOFwBqRt0/JqHVF1VS8SO8wBCf79GeEwIU9Dk2YoZAVq0SIXItLGZqay4k3ZqfPcDj+NXWOlbsH786+67bZb8s4hkizhvgI56Bs6iKNvnuvPr9EvN+bZoXGPhPHjVztP/5hpdLBm7IqqQuxXoHCBBloSS27CnGRrZmpA+wd3cMWY+O2KdgxPS/d7dg0UYbX4hziOxggui4GqC5qV1+SwNMS09v/MB6IVcjzlKWv0AAAAJcEhZcwAAFiUAABYlAUlSJPAAAAA8dEVYdFNvZnR3YXJlAENyZWF0ZWQgd2l0aCB0aGUgV29sZnJhbSBMYW5ndWFnZSA6IHd3dy53b2xmcmFtLmNvbVyipoUAAAAhdEVYdENyZWF0aW9uIFRpbWUAMjAyMjowOToyNyAwMToyNDowMftIWKMAAAHpSURBVEiJ7VY9qvJAFD0+vg0k2YCYNmATEMQmNsFeiO7AbMHawmxAsoM0ESsLEWwSAopIBMVqgqTOIFlBXjHvjfEvfj6w81SZO/eeuefeO0NKWZbhDfh6B+mH9+28/25NlFLXddM0rdfrjUajOJ5SejgcgiBgy3NIdgnHcWRZZk6WZWWPQQgxTfPqGB5yztf3/cFgMJvNVFV9KnO73WqadjqdAOi63mw2eb4/Hozesiy2NE0zSZLifAkhgiAAMAyDEHLXB1y+IAiO4/xYC3mZfMMwCqp0rm8YhmfrY16u5lGmDOc5q1arT8sKYLlcAlBVtVKpFLjdmbNi7HY7AGxmfN/f7/dpmiI/YX/jPR6PAAghoiiyeeCQZXk8HjPdL9+3KIoArNdrAP1+fzqdep5n27Ysy4QQTdMopcDNvXjaN13XARiGkSTJVT/Z8Nm2fdG3/wRrlyiKkiTl7ZIkdTodAJPJ5C91KJfLvBp3txhe5lUUBcBqtbrd2mw2+BX0cn2zLMvXkSMMQxbleV7G350oilzXvTp/sVjw73a7zS/CaDTqdru9Xi+O41arBSAIguFwCMA0zYt30vO8YvksCw72nuQdBEHI6ysx1XfzzSOfLwOldD6fx3EMQFGUWq2Wn5BS9vl/+PC+n/cbIFAx9R+6tzAAAAAASUVORK5CYII=\"></div><div class=\"grid-item\"><img alt=\"Output\" src=\"data:image/png;base64,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\"></div><div class=\"grid-item\"><img alt=\"Output\" src=\"data:image/png;base64,iVBORw0KGgoAAAANSUhEUgAAACAAAAAfCAIAAAAJNFjbAAAA0HpUWHRSYXcgcHJvZmlsZSB0eXBlIGV4aWYAAHjabU9bDsMgDPvnFDsChODAcWgL0m6w489QqqrTLJE4zhPXPu/uXgMSvNNkGQXwhBYtUkmyP3H64Mu0E7JSjB+6C33plVK6E2hL3566YQ3MP4OuFXFsII+6GtagKKce6hlvq15qzo9BfesT18XlPv1vrNEECcGUVsWboZBnR0qHJD4ZOnaAhQGHeN3pG8zYBhsVsY7GAWn2rG4OkcIxvhDHk1jpC61wtScPk+vUgxy0afLxnS+da1xclLoW2wAAAAlwSFlzAAAWJQAAFiUBSVIk8AAAADx0RVh0U29mdHdhcmUAQ3JlYXRlZCB3aXRoIHRoZSBXb2xmcmFtIExhbmd1YWdlIDogd3d3LndvbGZyYW0uY29tXKKmhQAAACF0RVh0Q3JlYXRpb24gVGltZQAyMDIyOjA5OjI3IDAxOjI0OjAx+0hYowAAAUhJREFUSIntlTGKhDAUht8s20taS61sLcVKED2AoKVtPIL2gifwCJ7AQizjASLYegM9Q7bIruPGGWGNsrswfxX+PN6nLz/JjTEGV+rt0u4vwJ8AvMu36Pu+aRoAUBTFdV1N075tMwlRSj3PE3hpmq5rjgMopQghANB1PU3ToigW2JohC8AYT9O0mBhjzhjHURbAGCOECM44jhxQ1zV3pFJk27bgLCc8DANfnBzTeZ75wrKsSwBt2/KFYRiflswZCJqmSdd1AMAYL+aZAB5ThNA6V6cBeEARQpTStX9jXw+O7/s7w43jOIqiZ7tJkpRlCQCEECFad0DXdTsAVVXFS2bTvaqqBx9xymR494cFUoBnc1/rPqKfKsuyPM8BIAxD0zS3BUEQaJp2/A+2F7UgflMdf3DiOHYcZ6dAVVVYp+gi/f9H/wX4fcAHohFt7IpWOCwAAAAASUVORK5CYII=\"></div><div class=\"grid-item\"><img alt=\"Output\" src=\"data:image/png;base64,iVBORw0KGgoAAAANSUhEUgAAAK4AAABhCAIAAADA0A3YAAAA0HpUWHRSYXcgcHJvZmlsZSB0eXBlIGV4aWYAAHjabU/bDQMhDPtnio6QhODAOFwPpG7Q8RseUkVVS8TGeUFo71cPjwFhCposowDk0KJFqotMC4uZyowTte0cn37AFlzdSt8EdgNfp29YLPlnEMkScWxwHXU37EFRls913a9dLzXnY1C/+sR+8Mztp/+9azRBApt6VCEzFNc5uHRCEkqGjifghYxbSJ/ODWbeBhsVsY7GAWl2VreA6MY9vhDHkVidi0fx1eSap9bps9we09TjOx/u41yQ+Bz+aAAAAAlwSFlzAAAWJQAAFiUBSVIk8AAAADx0RVh0U29mdHdhcmUAQ3JlYXRlZCB3aXRoIHRoZSBXb2xmcmFtIExhbmd1YWdlIDogd3d3LndvbGZyYW0uY29tXKKmhQAAACF0RVh0Q3JlYXRpb24gVGltZQAyMDIyOjA5OjI3IDAxOjI0OjAx+0hYowAAC81JREFUeJztnV9IU+8fx5/vjy66MObRLoZ4MdsCI0GhhcvsQtG28qZA2KygRRd5vAihINEiIStnN0H07yIYdLEFhpEsGoMUJpY2aoISUWeKBQntcBwKCgr7XTynh9N2ztncnufZ9v0+r6t5nsfzeXb2fj7P/8/5J5lMAgYDgP8VugCMYoFJgSGzi6YxURRHR0cTiURTU1Nzc3PGzF++fJmenoZ/ZvMv+ROLxWZnZ5eXl6lZLB7rIEkLn89nNpuhUY/Ho5NTEASe51PKqf8vWPB4PClGrVZrNBolbbcYrCeTyayk8P79+x8/fuRsIxwO2+12+N0y/q7RaJTjOJjNbrd7/hAOh3MuQDb09/crjfI8D4vBcZwgCERNE7W+tbU1Pj6eTc7MUtjY2GhoaNjY2MitKEjsPM/H43F9KQiCAB+B0+mk8AMgwuEwLJjP50MXkSh5ni9p6263+/PnzxmzZZbCvXv3Hjx4kHM5fD4fx3HoS+pLAbYLTqczZ3O54XQ6YY1MuY50HI/HS9f6t2/fHA5HxmwZpCBJktVq3drayqcoygZPRwrIZ9D0B8pSBQKBlOuovqYnlZb17u7uiYmJDMXQTx4cHHz+/Hme5fjLnrYUAoEA7E9gNJcN0WhUtfIp+3HkOq10rP/69ctms+nn0RtMbm9ve73eL1++6OTByPz8PAAAjjKmpqYWFhYSiQQgP6xaW1uDHyorK+GHWCzW09MTDAZhay1J0tLSUklbNxqNRqNxampK70nqyCQUCrlcrjz1mAI0qipz2FGwWq1oBIEwm83khlXQDyNvFAgEYAGsVqsgCLB2pjfkJWf9+fPnvb29Ohn0ZhtfvHjR0dGRuxR3SCwWAwBEIhEAQH9/fyAQCIfDT548MZvNgiC0tLSIokjOemVlpSiKPT09HR0dkiR5PJ6PHz/u27ePnEXK1h0Ox6tXr/RyaGlka2vLaDRKkpS/HpVAo6peAc49OJ3OlFYzHo/DivLkyRO8hYHAeslxHGybzGazcg4D+qr+/n4Spilbb2tr05me0fQKHz58sFgs5eXleDSZBbASVFRUoFYTUllZ6XK5AABjY2PkrEuSJAiC0+mcmZlRNqjQVxkMBnKmqVm32+2wb66KphSi0SiaHKSDyWQCf768ahIh0KP3eDx+vz9FiMFgEADQ1NT0L7BeW1uLBizpaEphYWHh4MGDWEqQJXV1dQCA2dnZ9KRPnz6BP26DBLBtevfuXcp1v98PAOA4jugQhpr12tpa2BVTR6ddCYVCWJooJdCo1kBZtU+AhExuGcLn80ETqlO/pFfCqFnf2NgAAGitIfyT1NjFVFNTMzY21tDQkKcSY7HY6Ogo+vPatWsAALvd3traCq90dnai6u73+7u6ugAA/f39J06cAABMT08PDw9LksTz/KNHj/IsjA4OhwN6Y1i2paUlv98PJ1vfvn2b4rdL1/qePXs+f/5ssVhU0rQUBABYXFzMX4lo9lSLlLoO1yyUGTiOo7BCHY/H4VqAErvdTnT1gb51k8mkNQOt7hVWV1c5jltbWysrK8ukswykeIV0lF4BIopiKBSCOzjq6uoaGxtJV0pELBYLhUKJRMJgMNhstvr6ejp2qVk/fPjwwMDAqVOn0pPUpbC0tFRTU6OaxChpWlpazp8/73a705PURxDr6+s0ZxQY1CgvL19fX1dNUpdCPB5nUvhXUl5erjV/z3Y8M2SYFBgyTAoMGSYFhgyTAkOGSYEhw6TAkGFSYMgwKTBkmBQYMkwKDBkmBYYMkwJDhmrUFR0KG5BlZGREP0P6/hrKzM3NwR1vBoOhvb2dSGFU9zZNTEyYTCa8W6l0KHhAloxPiXSgDx2i0SjcEq0k50Mybrd7cHBQNanAXmFqampoaCgYDGZz5mJubq6lpUWSJPD3Rtn8jwmkB7+BJBKJO3fuAAD27NmTp4ncQF/ZbDY7nU6DwfDu3btgMAhLdfv2bZzGVAVCxysUf0AW0mdnMwK3wMPngy4iv5jDc9DxCoWUQpEHZEFnNQvYOiSTyXTrgiDAZ5VDCA4dKRRyBOFyuSYmJuB5SH1EUXz8+DEAADpGOjx79gyeRKAdNO9v0q2jPiOMSIGLAg8ms9zfPTMzAwCwWq3UuvGiKA4PDwMArly5Qsdi9qDNiXhPchbLYFIf+gFZoEswm83ZOC3KhEIh+OHAgQMYb1saUoARaARBqKiogCMIhNlsfvnyJfbTI9AlDA0N4b1t/oiieP36dQAAz/N4TwqVxmwj5YAs8Lwix3Ht7e0Yb4uFs2fPwsHUrVu38N65NLwCxOl0Pnz4EFWF5ubmzs7O/fv3S5I0Ojp66dIlXIZgtevr66N2QC9LULiuiYkJ7GXDJgWHw6GT6na782l09QOyPH78eGxsDJcU/H4/rHYXL17EckNEno+op6cHDqNev35N4jglNinAmqRFVVVVPjenGZAFfhGXy4W92uXziJAOfD4foZ4yNikQHXxTC8gCXQIA4OrVq1huqCTnR6TUAbkRTWl0G0+ePMlxnCRJT58+VV6fm5t78eIFAODMmTNYDKHOeWHXIZVAHXAcF41GiY5sC9ltVA29oAxJpFwafvToUVdXV3d39/LysjIgCwCA53ksPomoS8iNgYEB6A+OHz8eDAbhOrUSnKvnqtPRdNYgii0gC1wLLuDiUzrpy9P6jygjRbpIXVVVpbU6jDIo/3S5XO3t7YQCsoii2Nra2tramvHp08TtdqO1eFXy7I8rUY+6Mjk5eeHChcXFRVxmGEXChQsXTCbTzZs305NKo9vIoACTAkOGSYEhw6TAkGFSYMgwKTBkmBQYMkwKDBkmBYYMkwJDhkmBIcOkwJBhUmDIMCkwZJgUGDIFPgcRi8VmZ2fhVhTSryHPkh3Ff8ELjdAqOqjubaIcXwFhtVrJvYY8G7KP/4IXvKFVdCjGDW0DAwPwhLzydXqRSKSlpSUSidDfcLyj+C94oRpaRQdVgZD2CmiDq+pLNnmeJ2dalR3Ff8EO9tAqOuw46sr79++rq6sxliAF+E7F9L3F6Ceh83ZHxI7iv5AAb2gVHVwu1927d1WT1EcQRqPx58+f2D0QAp5juXz5csp1FDsCxtagRvbxXwhBLbTKysqK0WhUTVKXwq5dBPsQc3Nz8ENjY6Py+sjIyLFjx+BnvN8/Gyi/XTQjhEKrAO0fV10K1dXV4E+AC+ysra3BD+gIQywWczgc165d4zgOdhcImS4hCIVWWVpagj9uOppTTHv37t3c3MRYiBRQR/3NmzdWqxV23SORSF9fH9A4NP3fgVxolc3NTa03iGpKwWKxrKysYCxECpWVlaIo9vT0dHR0SJLk8Xg+fvxYPIdWCwu50CorKytaXkGzT2AymYj2HGdnZxsbGwVBMJvNXq8X9Ztg03Do0CFyposccqFVfv78WVZWtnfvXtVUTSnU19d//foVYzlSkCRJkqSUmDrgT9NgMBjImS5miIZW+f79e21trVaqZgNRV1cXjUbxFgWCHIDH4/H7/SnCh5Pw2LvNJQHp0Crz8/M6c6maUrDZbJFIZHt7G3uBAABwvl0ZSgHi9/sBABzHFcO6FGUohFaZmZk5evSoZrLOzFRbW1soFMI41YXw+XzQuurEM81pPlVg2WgWA04zw9AqhExsbW1VV1evra1pZdCbSnI6nYFAoK2tDZcqES6Xy+v1BoPBrq4ur9eLlqNgTGXsodEysqP4L9ihE1plcnKyubm5rKxMM4eOjn7//m2xWAgINJlMJuPxOFyJUGK32ymvPkB2Gv8FL9hDq6jS29s7Njamk0E91Abi9OnTAwMD5NZtY7FYKBRKJBIGg8FmsxVq9lfVKygh6hX8fj/cvEPO+vb29pEjR8Lh8O7du7XyZJBCNBq9cePG+Ph4PuVgFByv17u6utrb26uTJ8PexoaGhrKyssnJSZzlYtBlc3Pz6dOn3d3d+tkyeAUAwPfv33meR6sjjJLj/v375eXlbrdbP1vmHc8Wi8VutxNdj2AQJZFInDt3LmO2zF6B8R+BnYNgyDApMGSYFBgy/wc5/e1GR6joHAAAAABJRU5ErkJggg==\"></div></div></div>"
      ],
      "text/plain": [
       "16\n",
       "\n",
       "\n",
       "1      -1     0\n",
       "\n",
       "       7      1\n",
       "       --     --\n",
       "0      16     16\n",
       "\n",
       "         1    1\n",
       "       -(-)   -\n",
       "0        8    8\n",
       "-2\n",
       "16    0     0\n",
       "\n",
       "-16   7     -2\n",
       "\n",
       "0     1     2"
      ]
     },
     "metadata": {},
     "output_type": "display_data"
    }
   ],
   "source": [
    "A = {{1, 2, -1}, {0, 2, -1}, {0, 2, 7}};   (*Definimos nuestra matriz*)\n",
    "Det[A]                                     (*Determinante de la matriz*)\n",
    "Inverse[A]//MatrixForm                     (*Inversa  de la matriz*)\n",
    "(*Definimos una función para calcular el cofactor de un elemento a_{ij} de una matriz*)\n",
    "cofactor[A_, {i_Integer, j_Integer}] := (-1)^(i + j) Det[Drop[A, {i}, {j}]]\n",
    "cofactor[A,{2, 3}]                         (*Cofactor del elemento a_{23} de la matriz A*)\n",
    "(*Con esto podemos construir la matriz de cofactores*)\n",
    "cofA = {{cofactor[A,{1, 1}], cofactor[A,{1, 2}], cofactor[A,{1, 3}]},\n",
    "    {cofactor[A,{2, 1}], cofactor[A,{2, 2}], cofactor[A,{2, 3}]},\n",
    "    {cofactor[A,{3, 1}], cofactor[A,{3, 2}], cofactor[A,{3, 3}]}}//MatrixForm"
   ]
  },
  {
   "cell_type": "markdown",
   "id": "7c0a1fd9",
   "metadata": {
    "slideshow": {
     "slide_type": "subslide"
    }
   },
   "source": [
    "<div style=\"background-color:rgb(250,250,100); opacity:0.7; border:rgb(0,120,170) 5px double; border-radius:17px;;\">\n",
    "<div style=\"margin:0.3%; color:gray; font-style:italic; font-family:cursive; text-align:justify; text-indent:1em;\">\n",
    "\n",
    "<b>Definición (Producto Vectorial)</b>: Sean $X, Y \\in\\mathbb{R}^3$ dos vectores cualesquiera. Definimos su <b>producto vectorial</b> (o <b>producto cruzo</b>) $X \\times Y$ como sigue\n",
    "\n",
    "\\begin{equation*}\n",
    "    X \\times Y =\n",
    "    \\begin{vmatrix}\n",
    "        \\hat{\\imath} & \\hat{\\jmath} & \\hat{k} \\\\\n",
    "        x_1, & x_2, & x_3 \\\\\n",
    "        y_1, & y_2, & y_3\n",
    "    \\end{vmatrix}\n",
    "    = (x_2 y_3 - y_2 x_3) \\hat{\\imath} - (x_1 y_3 - y_1 x_3) \\hat{\\jmath} + (x_1 y_2 - y_1 x_2) \\hat{k}\n",
    "\\end{equation*}\n",
    "    \n",
    "<b>Nota</b>: El vector resultante es perpendicular a los vectores $X$ y $Y$.\n",
    "    \n",
    "</div>\n",
    "</div>"
   ]
  }
 ],
 "metadata": {
  "language_info": {
   "name": "python"
  },
  "orig_nbformat": 4
 },
 "nbformat": 4,
 "nbformat_minor": 2
}
