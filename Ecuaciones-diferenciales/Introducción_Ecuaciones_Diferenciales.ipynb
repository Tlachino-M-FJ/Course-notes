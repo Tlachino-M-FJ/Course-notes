{
 "cells": [
  {
   "cell_type": "markdown",
   "id": "b24c8554",
   "metadata": {
    "slideshow": {
     "slide_type": "slide"
    }
   },
   "source": [
    "## <font color=\"orange\"><b>Introducción a las ecuaciones diferenciales</font>"
   ]
  },
  {
   "cell_type": "markdown",
   "id": "5a20dd00",
   "metadata": {
    "slideshow": {
     "slide_type": "fragment"
    }
   },
   "source": [
    "<div class=\"alert alert-block alert-warning\">\n",
    "<font color=\"grey\" face=\"Ginebra\">\n",
    "\n",
    "<b>Nota</b>: <i>El estudio de las ecuaciones diferenciales es una parte de la Matemática que, quizá más que cualquier otra, ha sido directamente inspirada por la Mecánica, la Astronomía y la Física matemática. Su historia empezó en el siglo XVII cuando Newton, Leibniz y los Bernoulli resolvieron algunas ecuaciones diferenciales sencillas que se presentaron en problemas de Geometría y Mecánica.</i>\n",
    "\n",
    "</font>\n",
    "</div>"
   ]
  },
  {
   "cell_type": "markdown",
   "id": "0979b020",
   "metadata": {
    "slideshow": {
     "slide_type": "fragment"
    }
   },
   "source": [
    "*    <font color=\"gren\"><b>¿Qué es una ecuación diferencial?</b></font>\n",
    "\n",
    "*    <font color=\"gren\"><b>Tipos de ecuaciones diferenciales</b></font>\n",
    "\n",
    "*    <font color=\"gren\"><b>Sistemas de ecuaciones diferenciales</b></font>\n",
    "\n",
    "*    <font color=\"gren\"><b>Solucion de ecuaciones diferenciales</b></font>\n",
    "\n",
    "*    <font color=\"gren\"><b>Condiciones iniciales y valores en la frontera</b></font>"
   ]
  },
  {
   "cell_type": "markdown",
   "id": "a5ab70e9",
   "metadata": {
    "slideshow": {
     "slide_type": "subslide"
    }
   },
   "source": [
    "### <font color=\"gren\"><b>¿Qué es una ecuación diferencial?</b></font>"
   ]
  },
  {
   "cell_type": "markdown",
   "id": "1ac617be",
   "metadata": {
    "slideshow": {
     "slide_type": "notes"
    }
   },
   "source": [
    "Para una gran variedad de problemas se desea determinar un elemento variable a partir de su coeficiente de variación."
   ]
  },
  {
   "cell_type": "markdown",
   "id": "8ccb669e",
   "metadata": {
    "slideshow": {
     "slide_type": "fragment"
    }
   },
   "source": [
    "<div class=\"alert alert-block alert-danger\">\n",
    "<font color=\"purple\" face=\"Ginebra\">\n",
    "\n",
    "<b>Ejemplo</b>: <i>Siendo $P = P(t)$ el tamaño de la población en el instante $t$, el modelo exponencial presupone que la tasa de aumento de la población es proporcional a la población en ese instante:</i>\n",
    "\n",
    "\\begin{equation*}\n",
    "    \\frac{dP}{dt} = k P \\quad\\ \\text{Ecuación malthusiana}\n",
    "\\end{equation*} \n",
    "\n",
    "<i>La ecuación malthusiana puede resultar adecuada cuando el tamaño de la población es pequeño en relación a las dimensiones del ecosistema y, en ese caso, $k$ representaría la tasa de aumento de la población que iguala a la tasa de natalidad menos la tasa de mortalidad.</i>\n",
    "\n",
    "</font>\n",
    "</div>"
   ]
  },
  {
   "cell_type": "markdown",
   "id": "9838a791",
   "metadata": {
    "slideshow": {
     "slide_type": "fragment"
    }
   },
   "source": [
    "<div class=\"alert alert-block alert-info\">\n",
    "<font color=\"blue\" face=\"Ginebra\">\n",
    "\n",
    "<b>Definición</b>: <i>Una <b>ecuación diferencial (ED)</b> es una ecuación que contiene la derivada o diferenciales de una o más variables dependientes con respecto a una o más variables independientes.</i>\n",
    "\n",
    "</font>\n",
    "</div>"
   ]
  },
  {
   "cell_type": "markdown",
   "id": "fa2fd8ae",
   "metadata": {
    "slideshow": {
     "slide_type": "subslide"
    }
   },
   "source": [
    "### <font color=\"gren\"><b>Tipos de ecuaciones diferenciales</b></font>"
   ]
  },
  {
   "cell_type": "markdown",
   "id": "8012e0e8",
   "metadata": {
    "slideshow": {
     "slide_type": "fragment"
    }
   },
   "source": [
    "<div class=\"alert alert-block alert-warning\">\n",
    "<font color=\"grey\" face=\"Ginebra\">\n",
    " \n",
    "* <b>Tipo</b>\n",
    "    * <i>Ordinaria</i>\n",
    "    * <i>Parcial</i>\n",
    "* <b>Orden</b>\n",
    "* <b>Linealidad</b>\n",
    "    \n",
    "</font>\n",
    "</div>"
   ]
  },
  {
   "cell_type": "markdown",
   "id": "396c18f7",
   "metadata": {
    "slideshow": {
     "slide_type": "fragment"
    }
   },
   "source": [
    "\\begin{equation*}\n",
    "    \\color{purple}{\\text{ED}} \\left\\{\\begin{array}{ll}\n",
    "        \\color{orange}{\\text{Ordinarias}}& \\left\\{\\begin{array}{ll}\n",
    "            \\color{cyan}{\\text{Lineales}} & \\left\\{\\begin{array}{l}\n",
    "                \\color{purple}{\\text{Homogéneas}} & \\left\\{\\begin{array}{l}\n",
    "                    \\color{orange}{\\text{Coeficientes Constantes}}\n",
    "                \\end{array}\n",
    "                \\right. \\\\\n",
    "                \\color{purple}{\\text{No Homogéneas}}\n",
    "            \\end{array}\n",
    "            \\right. \\\\\n",
    "            &\\\\\n",
    "            \\color{cyan}{\\text{No Lineales}}\n",
    "        \\end{array}\n",
    "        \\right. \\\\\n",
    "        & \\\\\n",
    "        \\color{orange}{\\text{Parciales}}\n",
    "    \\end{array}\n",
    "    \\right.\n",
    "\\end{equation*}\n"
   ]
  },
  {
   "cell_type": "markdown",
   "id": "aa22cddd",
   "metadata": {
    "slideshow": {
     "slide_type": "subslide"
    }
   },
   "source": [
    "<div class=\"alert alert-block alert-info\">\n",
    "<font color=\"blue\" face=\"Ginebra\">\n",
    "\n",
    "<b>Definición</b>: <i>Si la ecuación contiene sólo derivadas (de una o más variables dependientes) con respecto a una sola variable independiente, la ecuación se llama <b>ecuación diferencial ordinaria (EDO)</b>.</i>\n",
    "\n",
    "</font>\n",
    "</div>"
   ]
  },
  {
   "cell_type": "markdown",
   "id": "c598d94b",
   "metadata": {
    "slideshow": {
     "slide_type": "fragment"
    }
   },
   "source": [
    "<div class=\"alert alert-block alert-danger\">\n",
    "<font color=\"purple\" face=\"Ginebra\">\n",
    "\n",
    "<b>Ejemplos</b>:\n",
    "\n",
    "\\begin{equation*}\n",
    "    \\ddot{\\theta} + \\frac{g}{L}\\theta = 0, \\quad\\ P' = rP\\left(1-\\frac{P}{k}\\right), \\quad\\ \\frac{dx}{dt} + \\frac{dy}{dt} = 2x + y, \\quad\\dots\n",
    "\\end{equation*}\n",
    "\n",
    "</font>\n",
    "</div>"
   ]
  },
  {
   "cell_type": "markdown",
   "id": "533fb234",
   "metadata": {
    "slideshow": {
     "slide_type": "subslide"
    }
   },
   "source": [
    "<div class=\"alert alert-block alert-info\">\n",
    "<font color=\"blue\" face=\"Ginebra\">\n",
    "\n",
    "<b>Definición</b>: <i>Si la ecuación contiene derivadas parciales de una o más variables dependientes,\n",
    "entonces la ecuación se llama <b>ecuación diferencial parcial (EDP)</b>.</i>\n",
    "    \n",
    "</font>\n",
    "</div>"
   ]
  },
  {
   "cell_type": "markdown",
   "id": "71ed96e1",
   "metadata": {
    "slideshow": {
     "slide_type": "fragment"
    }
   },
   "source": [
    "<div class=\"alert alert-block alert-danger\">\n",
    "<font color=\"purple\" face=\"Ginebra\">\n",
    "    \n",
    "<b>Ejemplos</b>:\n",
    "\n",
    "\\begin{equation*}\n",
    "    \\nabla^2 f=\\frac{\\partial^2 f}{\\partial x^2} + \\frac{\\partial^2 f}{\\partial y^2} + \\frac{\\partial^2 f}{\\partial z^2} = 0, \\quad\\ \\nabla\\cdot\\vec{J} = - \\frac{\\partial \\rho}{\\partial t}, \\quad\\dots\n",
    "\\end{equation*}\n",
    "    \n",
    "</font>\n",
    "</div>"
   ]
  },
  {
   "cell_type": "markdown",
   "id": "75911be0",
   "metadata": {
    "slideshow": {
     "slide_type": "subslide"
    }
   },
   "source": [
    "<div class=\"alert alert-block alert-info\">\n",
    "<font color=\"blue\" face=\"Ginebra\">\n",
    "    \n",
    "<b>Definición</b> <i>El <b>orden</b> de una ecuación diferencial (ya sea EDO o EDP) es el orden de la mayor derivada en la ecuación.</i>\n",
    "        \n",
    "</font>\n",
    "</div>"
   ]
  },
  {
   "cell_type": "markdown",
   "id": "7737c636",
   "metadata": {
    "slideshow": {
     "slide_type": "fragment"
    }
   },
   "source": [
    "<div class=\"alert alert-block alert-danger\">\n",
    "<font color=\"purple\" face=\"Ginebra\">\n",
    "        \n",
    "<b>Ejemplos</b>:\n",
    "    \n",
    "\\begin{equation*}\n",
    "    T(t) = \\frac{1}{2}m\\dot{x}^2, \\quad\\ \\ddot{\\theta} + \\frac{g}{L}\\theta = 0, \\quad\\ \\frac{d^2y}{dx^2} + 5 \\left(\\frac{dy}{dx}\\right)^3 - 4 y= e^x, \\quad\\dots\n",
    "\\end{equation*}\n",
    "    \n",
    "</font>\n",
    "</div>"
   ]
  },
  {
   "cell_type": "markdown",
   "id": "80808fb9",
   "metadata": {
    "slideshow": {
     "slide_type": "fragment"
    }
   },
   "source": [
    "<div class=\"alert alert-block alert-info\">\n",
    "<font color=\"blue\" face=\"Ginebra\">\n",
    "    \n",
    "<i>Simbólicamente podemos expresar una ecuación diferencial ordinaria de orden $n$ con una variable dependiente por la <b>forma general</b>.</i>\n",
    "    \n",
    "\\begin{equation}\\label{eq:eqd_fg}\n",
    "    F(x, y, y' , . . . , y^{(n)}) = 0,\n",
    "\\end{equation}\n",
    "    \n",
    "<i>o por su <b>forma normal</b>.</i>\n",
    "    \n",
    "\\begin{equation}\\label{eq:eqd_fn}\n",
    "    \\frac{d^n y}{dx^n} = f(x, y, y' , . . . , y^{(n-1)})\n",
    "\\end{equation}\n",
    "    \n",
    "</font>\n",
    "</div>"
   ]
  },
  {
   "cell_type": "markdown",
   "id": "ba829f8a",
   "metadata": {
    "slideshow": {
     "slide_type": "subslide"
    }
   },
   "source": [
    "<div class=\"alert alert-block alert-info\">\n",
    "<font color=\"blue\" face=\"Ginebra\">\n",
    "    \n",
    "<b>Definición</b>: <i>Una ecuación diferencial ordinaria (de orden $n$) es <b>lineal</b> si es de la forma:</i>\n",
    "    \n",
    "\\begin{equation}\\label{eq:eqd_l}\n",
    "    a_n(x)y^{(n)} + a_{n-1}(x)y^{(n-1)} + \\cdots + a_1(x)y' + a_0(x)y + f(x) = 0 \n",
    "\\end{equation}\n",
    "    \n",
    "<i>donde las funciones $a_i(x),\\, i = 0, 1, \\dots, n$, y $f(x)$ están dados y $a_n(x)$ no es identicamente cero.</i>\n",
    "    \n",
    "</font>\n",
    "</div>"
   ]
  },
  {
   "cell_type": "markdown",
   "id": "a29fd89f",
   "metadata": {
    "slideshow": {
     "slide_type": "fragment"
    }
   },
   "source": [
    "<div class=\"alert alert-block alert-danger\">\n",
    "<font color=\"purple\" face=\"Ginebra\">\n",
    "    \n",
    "<i>Dos casos especiales importantes de la ecuación (\\ref{eq:eqd_l}) son las ED lineales de primer orden ($n = 1$) y de segundo orden ($n = 2$):</i>\n",
    "    \n",
    "\\begin{equation*}\n",
    "    a_1(x)\\frac{dy}{dx} + a_0(x)y = f(x) \\quad\\text{y}\\quad\\ a_2(x)\\frac{d^2y}{dx^2} + a_1(x)\\frac{dy}{dx} + a_0(x)y = f(x)\n",
    "\\end{equation*}\n",
    "    \n",
    "</font>\n",
    "</div>"
   ]
  },
  {
   "cell_type": "markdown",
   "id": "45f7d1f7",
   "metadata": {
    "slideshow": {
     "slide_type": "fragment"
    }
   },
   "source": [
    "<div class=\"alert alert-block alert-warning\">\n",
    "<font color=\"grey\" face=\"Ginebra\">\n",
    "    \n",
    "<b>Nota</b>: <i>Las dos propiedades características de una EDO lineal son las siguientes:</i>\n",
    "\n",
    "    \n",
    "* <small><i>La variable dependiente $y$ y todas sus derivadas $y', y'', \\dots , y^{(n)}$ son de primer grado, es decir, la potencia de cada término que contiene $y$ es igual a $1$.</i></small>\n",
    "    \n",
    "    \n",
    "* <small><i>Los coeficientes de $a_0, a_1, \\dots , a_n$ de $y, y', \\dots , y^{(n)}$ dependen a lo más de la variable independiente $x$.</i></small>\n",
    "    \n",
    "</font>\n",
    "</div>"
   ]
  },
  {
   "cell_type": "markdown",
   "id": "172bfc4d",
   "metadata": {
    "slideshow": {
     "slide_type": "subslide"
    }
   },
   "source": [
    "<div class=\"alert alert-block alert-info\">\n",
    "<font color=\"blue\" face=\"Ginebra\">\n",
    "    \n",
    "<b>Definición</b>: <i>Una ecuación diferencial ordinaria <b>no lineal</b> es simplemente no lineal, es decir, funciones no lineales de la variable dependiente o de sus derivadas.</i>\n",
    "    \n",
    "</font>\n",
    "</div>"
   ]
  },
  {
   "cell_type": "markdown",
   "id": "728dd4c2",
   "metadata": {
    "slideshow": {
     "slide_type": "fragment"
    }
   },
   "source": [
    "<div class=\"alert alert-block alert-danger\">\n",
    "<font color=\"purple\" face=\"Ginebra\">\n",
    "        \n",
    "<b>Ejemplos</b>:\n",
    "        \n",
    "\\begin{equation*}\n",
    "    \\color{blue}{(1-y)y'} + y = e^x, \\quad\\ \\frac{d^2y}{dx^2} + \\color{blue}{\\sin(y)} = 0, \\quad\\ \\frac{d^3y}{dx^3} + \\color{blue}{y^2} = 0,\\quad\\dots\n",
    "\\end{equation*}\n",
    "        \n",
    "</font>\n",
    "</div>"
   ]
  },
  {
   "cell_type": "markdown",
   "id": "fe6fca4d",
   "metadata": {
    "slideshow": {
     "slide_type": "fragment"
    }
   },
   "source": [
    "<div class=\"alert alert-block alert-info\">\n",
    "<font color=\"blue\" face=\"Ginebra\">\n",
    "    \n",
    "<b>Definición</b>: <i>Si $f(x) = 0$, se dice que la ecuación (\\ref{eq:eqd_l}) es una <b>ecuación diferencial lineal homogénea</b>.</i>\n",
    "    \n",
    "\\begin{equation}\\label{eq:eqd_h}\n",
    "    a_n(x)y^{(n)} + a_{n-1}(x)y^{(n-1)} + \\cdots + a_1(x)y' + a_0(x)y = 0 \n",
    "\\end{equation}\n",
    "    \n",
    "</font>\n",
    "</div>"
   ]
  },
  {
   "cell_type": "markdown",
   "id": "f0134160",
   "metadata": {
    "slideshow": {
     "slide_type": "subslide"
    }
   },
   "source": [
    "<i>Wolfram Language nos permite identificar que tipo de ED tenemos, esto mediante el comando <b>WolframAlpha</b>, de la siguiente manera:</i>\n",
    "\n",
    "> WolframAlpha[\"ecuación diferencial\",{{\"ODEClassification\",1},\"Plaintext\"}]\n",
    "\n",
    "Para mostrar como funciona este comando, lo aplicaremos a la ED: $y''(t) = \\big(y(t) t\\big)^2$"
   ]
  },
  {
   "cell_type": "code",
   "execution_count": 1,
   "id": "f16fd7fa",
   "metadata": {
    "scrolled": true,
    "slideshow": {
     "slide_type": "fragment"
    },
    "vscode": {
     "languageId": "wolfram language"
    }
   },
   "outputs": [
    {
     "data": {
      "text/html": [
       "<div><pre style=\"&#102;&#111;&#110;&#116;&#45;&#102;&#97;&#109;&#105;&#108;&#121;&#58;&#32;&#34;&#67;&#111;&#117;&#114;&#105;&#101;&#114;&#32;&#78;&#101;&#119;&#34;&#44;&#67;&#111;&#117;&#114;&#105;&#101;&#114;&#44;&#109;&#111;&#110;&#111;&#115;&#112;&#97;&#99;&#101;&#59;\">&#115;&#101;&#99;&#111;&#110;&#100;&#45;&#111;&#114;&#100;&#101;&#114;&#32;&#108;&#105;&#110;&#101;&#97;&#114;&#32;&#111;&#114;&#100;&#105;&#110;&#97;&#114;&#121;&#32;&#100;&#105;&#102;&#102;&#101;&#114;&#101;&#110;&#116;&#105;&#97;&#108;&#32;&#101;&#113;&#117;&#97;&#116;&#105;&#111;&#110;</pre></div>"
      ],
      "text/plain": [
       "second-order linear ordinary differential equation"
      ]
     },
     "execution_count": 1,
     "metadata": {
      "text/html": [],
      "text/plain": []
     },
     "output_type": "execute_result"
    }
   ],
   "source": [
    "WolframAlpha[\"y''[t]*Cos[t] == y[t]*t^2\", {{\"ODEClassification\", 1}, \"Plaintext\"}]"
   ]
  },
  {
   "cell_type": "markdown",
   "id": "4c2595c1",
   "metadata": {
    "slideshow": {
     "slide_type": "subslide"
    }
   },
   "source": [
    "### <font color=\"gren\"><b>Sistemas de ecuaciones diferenciales</b></font>"
   ]
  },
  {
   "cell_type": "markdown",
   "id": "2f88b9b5",
   "metadata": {
    "slideshow": {
     "slide_type": "fragment"
    }
   },
   "source": [
    "<div class=\"alert alert-block alert-info\">\n",
    "<font color=\"blue\" face=\"Ginebra\">\n",
    "    \n",
    "<b>Definición</b>: <i>Un <b>sistema de ecuaciones diferenciales ordinarias</b> tiene dos o más ecuaciones que implican derivadas de dos o más funciones incógnitas de una sola variable independiente.</i>\n",
    "    \n",
    "</font>\n",
    "</div>"
   ]
  },
  {
   "cell_type": "markdown",
   "id": "4a110ee1",
   "metadata": {
    "slideshow": {
     "slide_type": "fragment"
    }
   },
   "source": [
    "<div class=\"alert alert-block alert-danger\">\n",
    "<font color=\"purple\" face=\"Ginebra\">\n",
    "    \n",
    "<b>Ejemplo</b>: <i>Modelo depredador-presa de Lotka-Volterra</i>\n",
    "    \n",
    "\\begin{equation*}\n",
    "    \\left\\{\n",
    "        \\frac{dP}{dt} = r_1 P - a_1 PD \\atop\n",
    "        \\frac{dD}{dt} = a_2 PD - r_2 D\n",
    "    \\right.\n",
    "\\end{equation*}\n",
    "    \n",
    "</font>\n",
    "</div>"
   ]
  },
  {
   "cell_type": "markdown",
   "id": "abd0acaa",
   "metadata": {
    "slideshow": {
     "slide_type": "subslide"
    }
   },
   "source": [
    "### <font color=\"gren\"><b>Solucion de ecuaciones diferenciales</b></font>"
   ]
  },
  {
   "cell_type": "markdown",
   "id": "80aa1569",
   "metadata": {
    "slideshow": {
     "slide_type": "fragment"
    }
   },
   "source": [
    "<div class=\"alert alert-block alert-info\">\n",
    "<font color=\"blue\" face=\"Ginebra\">\n",
    "    \n",
    "<b>Definición</b>: <i>Una <b>solución</b> a la ecuación diferencial ordinaria de orden $n$</i>\n",
    "    \n",
    "\\begin{equation*}\n",
    "    F(x, y, y', y'', \\dots, y^{(n)}) = 0\n",
    "\\end{equation*}\n",
    "    \n",
    "<i>en el intervalo $a < x < b$ es una función $\\phi(x)$ que es continua en el intervalo $a < x < b$ y tiene todas las derivadas presentes en la ecuación diferencial tales que</i>\n",
    "    \n",
    "\\begin{equation*}\n",
    "    F(x, \\phi(x), \\phi'(x), \\phi''(x), \\dots, \\phi^{(n)}(x)) = 0\n",
    "\\end{equation*}\n",
    "    \n",
    "<i>en $a < x < b$.</i>\n",
    "    \n",
    "</font>\n",
    "</div>"
   ]
  },
  {
   "cell_type": "markdown",
   "id": "a0ae9a8c",
   "metadata": {
    "slideshow": {
     "slide_type": "fragment"
    }
   },
   "source": [
    "<div class=\"alert alert-block alert-danger\">\n",
    "<font color=\"purple\" face=\"Ginebra\">\n",
    "    \n",
    "<b>Ejemplo</b>: <i>La ecuación diferencial $y' - y = 0$, tiene como solución $\\phi(x) = C e^x$. Veamos que $\\phi$ si es solución:</i>\n",
    "    \n",
    "\\begin{equation*}\n",
    "    \\text{Como } \\phi(x) = C e^x \\quad\\Rightarrow\\quad\\ \\phi'(x) = C e^x \\atop\n",
    "    \\text{Por lo tanto si } y = \\phi(x)  \\quad\\Rightarrow\\quad\\ y' - y = 0\n",
    "\\end{equation*}\n",
    "    \n",
    "</font>\n",
    "</div>"
   ]
  },
  {
   "cell_type": "markdown",
   "id": "2cd2495e",
   "metadata": {
    "slideshow": {
     "slide_type": "subslide"
    }
   },
   "source": [
    "<i>El lenguaje de programación de Wolfram Language nos permite comprobar si una función es solución de una ecuación diferencial. En este caso aplicaremos la función <b>Simplify</b>, la estructura de esta función es de la forma:</i>\n",
    "\n",
    "> Simplify[ecuacion] $\\quad\\text{ o }\\quad$ ecuacion//Simplify"
   ]
  },
  {
   "cell_type": "code",
   "execution_count": 2,
   "id": "4f86089d",
   "metadata": {
    "slideshow": {
     "slide_type": "fragment"
    },
    "vscode": {
     "languageId": "wolfram language"
    }
   },
   "outputs": [
    {
     "data": {
      "text/html": [
       "<div><img alt=\"Output\" src=\"data:image/png;base64,iVBORw0KGgoAAAANSUhEUgAAADoAAAAfCAIAAAA5uEn6AAAA0HpUWHRSYXcgcHJvZmlsZSB0eXBlIGV4aWYAAHjabU/tDUMhCPzvFB1BQA8dx9enSTfo+EUlaWx6iRwe36G/XyM8JphiSFkLKhANqabKzZwSNzZTrMsuSPMYnXqg4XozKX8D6K5fp67YzOWnUWSfNCeYL8kLvJHw1sk3uTyfWylHo3GNBV94xXz1v/8kysggTWYTR1VU80sw1wiZY1YMPAFLJNwc09O4Q9XKoDND2iyc4K5ndg8QE+55gszH0oyxrF0ltBQSNZul8G16XtF5zgfm9FyV6glgcwAAAAlwSFlzAAAWJQAAFiUBSVIk8AAAADx0RVh0U29mdHdhcmUAQ3JlYXRlZCB3aXRoIHRoZSBXb2xmcmFtIExhbmd1YWdlIDogd3d3LndvbGZyYW0uY29tXKKmhQAAACF0RVh0Q3JlYXRpb24gVGltZQAyMDIyOjA2OjAzIDEyOjE3OjU4IUMX8QAAAnNJREFUWIXtl7GK4lAUhv9Z7OWClYWIWgo2KUREsFHRxkJJfAFJekHBJ0heINpZiQ+gQhS0iFiIRQTbWFhYGQRfIFPcJZuNozNmNrMKfpUefw//Odyce/Jmmiaeh1//28B9vOx6ycuul/gALBaL5XJ5WxcKhTiO+xFLNzFNUxTFT2X5fN58AHwAUqmU3fFsNlMUJRqN1ut1KxgKhbxo1t1cVkCtP0g7HfhcVDgYDPb7faVSiUQiAMbj8Xa7pRUmEgm7UpIkAJby0zgAwzCm0+l+vwcQj8eLxeJ3u5vP5wGoqqppWjQatWcTBMGupEFVVR0ZrsVFUSSE2BMSQkajkSVwP8j6/X42m9V1nWVZURRpDbIsLxYLdwnb7Xaz2QTQ6XRUVR2NRizLnk6nUqn0J6fr7tLS7R1iGAZ/N5jKvtJdTdNoQk3T7EpBEAAwDPPd7hJC5vN5Op22ItVqFcBut3ORrdvt0lIdp7/RaABYr9c0rZtHjdJqtRyp6UB0N/ImkwkAv99/7SwdDodIJOLe7iXpdNre7LvQdR0APbs3+Jd2v48gCOFw+MOfgsEgHscuIeR0OmUymdubyU9sZOfz2f6VPlUOcrkcgF6vdzuVt3bpaBsOh1ZkMBjwPH+pLJfLABRFuSzGMIzNZkM/e2uXjjZZlguFgiRJhUKhVqsRQhx3IQCO42htPM/HYrF2uy1JEv1LIBBQFOW3zvU1IYriNYHF8Xi07hQKwzCaplnXuENMLwUHDMNYyjfz4sWdbus39nG64qRSqS+OLWsHslYWx5JkZ7fbrVYruuL4/f5kMmmf7h/YfWSe7F3tZddLXna95MnsvgO+NE25QZXRnwAAAABJRU5ErkJggg==\"></div>"
      ],
      "text/plain": [
       "True"
      ]
     },
     "execution_count": 4,
     "metadata": {
      "text/html": [],
      "text/plain": []
     },
     "output_type": "execute_result"
    }
   ],
   "source": [
    "eqd = y'[t] + 20*y[t] == 24;  (*de esta manera defino mi ecuación*)\n",
    "y[t_]:= 6/5 - (6/5)*Exp[-20*t] (*de esta manera defino mi función solución*)\n",
    "Simplify[eqd] (*Pedimos a wolfran que simplifique la ecuacion eqd con la función solución dada*)"
   ]
  },
  {
   "cell_type": "code",
   "execution_count": 5,
   "id": "fee99049",
   "metadata": {
    "slideshow": {
     "slide_type": "fragment"
    },
    "vscode": {
     "languageId": "wolfram language"
    }
   },
   "outputs": [
    {
     "data": {
      "text/html": [
       "<style>\n",
       "\t\t\t\t\t\t\t\t\t\t\t\t\t.grid-container {\n",
       "\t\t\t\t\t\t\t\t\t\t\t\t\t\tdisplay: inline-grid;\n",
       "\t\t\t\t\t\t\t\t\t\t\t\t\t\tgrid-template-columns: auto;\n",
       "\t\t\t\t\t\t\t\t\t\t\t\t\t}\n",
       "\t\t\t\t\t\t\t\t\t\t\t\t</style>\n",
       "\n",
       "\t\t\t\t\t\t\t\t\t\t\t\t<div><div class=\"grid-container\"><div class=\"grid-item\"><img alt=\"Output\" src=\"data:image/png;base64,iVBORw0KGgoAAAANSUhEUgAAAGIAAAAfCAIAAACTe49GAAAA0HpUWHRSYXcgcHJvZmlsZSB0eXBlIGV4aWYAAHjabU/JjQQhDPwTxYTgA8oQDj0N0mSw4a8BP6ZXWxIuU77T+PnM9FoQppSLVTSAHLnlJt2dSgeHmdq2G5CI8VNPPEPvLpWvghH69dQNh6X+aUQxQdcE9zVHQTRSOTr3878iX3qtj0bzmhux8I7F6v/+s5qggC27zUJmaO7X5K4TilAxTLwBT2TcQvntPGDmZbCVoX0VLsiwZ/ZIUBfudYKuJ9qdsa1fpbwV1rotye162dF1zi+leVxe1fG1vQAAAAlwSFlzAAAWJQAAFiUBSVIk8AAAADx0RVh0U29mdHdhcmUAQ3JlYXRlZCB3aXRoIHRoZSBXb2xmcmFtIExhbmd1YWdlIDogd3d3LndvbGZyYW0uY29tXKKmhQAAACF0RVh0Q3JlYXRpb24gVGltZQAyMDIyOjA2OjAzIDEyOjE4OjEwE5dKkQAAA+1JREFUaIHtmD1LI0EYx589rlbG7UVcewsXi6CFgm4KsQokdgGryTdw0oqwwcpCQ9B6t5SAwiIouBYSCGx6Zwux3CB+grni8eb29i2beJp45Nftztsz//nPqyKEgCmD+DHuACaIRqOhKIrv+/Gkby+TEuLh4SGSatu2TC0WiyO38r1lUhTFsiwhhBDCNM319fWwUo1GY29vz3VdzOA4zuhKif8IAKCUhj9N05SfrusCgJQ1UjARzjlm+N5uiiNXFtu2AaBUKsmkw8NDALi/v4+XQi1M04SQNEKIxcVFzPAzUqDX6zmOAwCzs7NbW1syXwa2bT8/PwNAoVBYW1sbvmv/BpxuMmAMSX4qioIqJK7Qg5HKeZ5nGEYklTGW7XN0MhJ2+NejaRqEvEApxd5xzuH3XDMMwzCMtBribpK8T7per7exseE4jqZpjDHTNFGyo6Ojer2eJnG/369Wq6MMTj6KxaISo9FoJObknFuWJe2zsLAAALZta5rGOa9UKh8KBdXyPI8QQikNgkBKiAMCKQILIRhjAIBDBONzU2LrlmUBgKZp4Z/w9xofIcNNfyad3DglaFcAuLq6ipf0PA8ACCGc8zHKlNY0Bh/f6eLdlKCyA2RKBGVK7L+u6wDQbDYzYh1IRtB5QL8n7vEyVXYbjZ9RGyqbaLcsmYIgQJninUF/ylaHlcmyLFQZ0TRtNIkTl5GwahgnkjHd0ur8I3F2ZzB3eMESv1XH6YZ/hpKJUqrrOmOMEIJm5JyXy2Vd1yMNTQ6pMgVBgFtsfBDiouSXiTFmGEYQBISQiEkppeVyecj4v4hUmbDnhJDICDebTQDQdT2eeaBMnHOskDGWOAUIIZ7nDRP/F5F8WanVao7jEELu7u5UVZX/fd8/ODgAgPPz88SC2dzc3FQqFVVVu93uzs5OPMPq6urj4+MINX820csKANRqtbOzMwBot9vLy8vhpOPj49fXV13XHcfBOw3y9PQEALe3t/iZdmt5e3vDU5/jOP1+/+TkJJKh0+lsbm5+pD+fRcRd8kiZuMvGbzOJpM0+0zQxCTLPLxPIX26SPrIsK/F0X61WE0e71WrhIRNTC4VConzz8/OXl5cAYBjGy8tLHsUnBSkY+mi0RTTnEi43OLwzDj2m4+PdTfV6HX20vb0dWXeQUqmU51ElG1VVT09Pd3d32+12q9WybTvi2evr65mZmTG+xqSCag1cdLKXkqGOl3hqxSKUUtd1XddljGmaZhjGZB4IFCEEhJ7W0sh2ExbP/yzn+/7FxUW32+10OnNzc0tLSysrK/v7+x837CfxLtOUbP63t/BPYipTLqYy5WIqUy6mMuViKlMufgGmrZZE984e0AAAAABJRU5ErkJggg==\"></div><div class=\"grid-item\"><img alt=\"Output\" src=\"data:image/png;base64,iVBORw0KGgoAAAANSUhEUgAAAGIAAAAfCAIAAACTe49GAAAA0HpUWHRSYXcgcHJvZmlsZSB0eXBlIGV4aWYAAHjabU/JjQQhDPwTxYTgA8oQDj0N0mSw4a8BP6ZXWxIuU77T+PnM9FoQppSLVTSAHLnlJt2dSgeHmdq2G5CI8VNPPEPvLpWvghH69dQNh6X+aUQxQdcE9zVHQTRSOTr3878iX3qtj0bzmhux8I7F6v/+s5qggC27zUJmaO7X5K4TilAxTLwBT2TcQvntPGDmZbCVoX0VLsiwZ/ZIUBfudYKuJ9qdsa1fpbwV1rotye162dF1zi+leVxe1fG1vQAAAAlwSFlzAAAWJQAAFiUBSVIk8AAAADx0RVh0U29mdHdhcmUAQ3JlYXRlZCB3aXRoIHRoZSBXb2xmcmFtIExhbmd1YWdlIDogd3d3LndvbGZyYW0uY29tXKKmhQAAACF0RVh0Q3JlYXRpb24gVGltZQAyMDIyOjA2OjAzIDEyOjE4OjEwE5dKkQAAA+1JREFUaIHtmD1LI0EYx589rlbG7UVcewsXi6CFgm4KsQokdgGryTdw0oqwwcpCQ9B6t5SAwiIouBYSCGx6Zwux3CB+grni8eb29i2beJp45Nftztsz//nPqyKEgCmD+DHuACaIRqOhKIrv+/Gkby+TEuLh4SGSatu2TC0WiyO38r1lUhTFsiwhhBDCNM319fWwUo1GY29vz3VdzOA4zuhKif8IAKCUhj9N05SfrusCgJQ1UjARzjlm+N5uiiNXFtu2AaBUKsmkw8NDALi/v4+XQi1M04SQNEKIxcVFzPAzUqDX6zmOAwCzs7NbW1syXwa2bT8/PwNAoVBYW1sbvmv/BpxuMmAMSX4qioIqJK7Qg5HKeZ5nGEYklTGW7XN0MhJ2+NejaRqEvEApxd5xzuH3XDMMwzCMtBribpK8T7per7exseE4jqZpjDHTNFGyo6Ojer2eJnG/369Wq6MMTj6KxaISo9FoJObknFuWJe2zsLAAALZta5rGOa9UKh8KBdXyPI8QQikNgkBKiAMCKQILIRhjAIBDBONzU2LrlmUBgKZp4Z/w9xofIcNNfyad3DglaFcAuLq6ipf0PA8ACCGc8zHKlNY0Bh/f6eLdlKCyA2RKBGVK7L+u6wDQbDYzYh1IRtB5QL8n7vEyVXYbjZ9RGyqbaLcsmYIgQJninUF/ylaHlcmyLFQZ0TRtNIkTl5GwahgnkjHd0ur8I3F2ZzB3eMESv1XH6YZ/hpKJUqrrOmOMEIJm5JyXy2Vd1yMNTQ6pMgVBgFtsfBDiouSXiTFmGEYQBISQiEkppeVyecj4v4hUmbDnhJDICDebTQDQdT2eeaBMnHOskDGWOAUIIZ7nDRP/F5F8WanVao7jEELu7u5UVZX/fd8/ODgAgPPz88SC2dzc3FQqFVVVu93uzs5OPMPq6urj4+MINX820csKANRqtbOzMwBot9vLy8vhpOPj49fXV13XHcfBOw3y9PQEALe3t/iZdmt5e3vDU5/jOP1+/+TkJJKh0+lsbm5+pD+fRcRd8kiZuMvGbzOJpM0+0zQxCTLPLxPIX26SPrIsK/F0X61WE0e71WrhIRNTC4VConzz8/OXl5cAYBjGy8tLHsUnBSkY+mi0RTTnEi43OLwzDj2m4+PdTfV6HX20vb0dWXeQUqmU51ElG1VVT09Pd3d32+12q9WybTvi2evr65mZmTG+xqSCag1cdLKXkqGOl3hqxSKUUtd1XddljGmaZhjGZB4IFCEEhJ7W0sh2ExbP/yzn+/7FxUW32+10OnNzc0tLSysrK/v7+x837CfxLtOUbP63t/BPYipTLqYy5WIqUy6mMuViKlMufgGmrZZE984e0AAAAABJRU5ErkJggg==\"></div></div></div>"
      ],
      "text/plain": [
       " 24\n",
       "-----\n",
       " 20 t\n",
       "E\n",
       " 24\n",
       "-----\n",
       " 20 t\n",
       "E"
      ]
     },
     "execution_count": 5,
     "metadata": {
      "text/html": [],
      "text/plain": []
     },
     "output_type": "execute_result"
    }
   ],
   "source": [
    "y'[t]\n",
    "D[y[t], t]"
   ]
  },
  {
   "cell_type": "markdown",
   "id": "e739ff84",
   "metadata": {
    "slideshow": {
     "slide_type": "subslide"
    }
   },
   "source": [
    "<div class=\"alert alert-block alert-info\">\n",
    "<font color=\"blue\" face=\"Ginebra\">\n",
    "    \n",
    "<b>Definición</b>: <i>Una solución en la cual la variable dependiente se expresa sólo en términos de la variable independiente y las constantes, $y=\\phi(x)$, se dice que es una <b>solución explícita</b>.</i>\n",
    "    \n",
    "</font>\n",
    "</div>"
   ]
  },
  {
   "cell_type": "markdown",
   "id": "662a8bcd",
   "metadata": {
    "slideshow": {
     "slide_type": "fragment"
    }
   },
   "source": [
    "<div class=\"alert alert-block alert-info\">\n",
    "<font color=\"blue\" face=\"Ginebra\">\n",
    "    \n",
    "<b>Definición</b>: <i>Se dice que una relación $G(x, y) = 0$ es una <b>solución implícita</b> de una ecuación diferencial ordinaria (\\ref{eq:eqd_fg}) en un intervalo $I$, suponiendo que existe al menos una función $\\phi$ que satisface la relación así como la ecuación diferencial en el intervalo $I$.</i>\n",
    "    \n",
    "</font>\n",
    "</div>"
   ]
  },
  {
   "cell_type": "markdown",
   "id": "edb8bc6c",
   "metadata": {
    "slideshow": {
     "slide_type": "fragment"
    }
   },
   "source": [
    "<div class=\"alert alert-block alert-info\">\n",
    "<font color=\"blue\" face=\"Ginebra\">\n",
    "    \n",
    "<b>Definición</b>: <i>Cuando resolvemos una ecuación diferencial de orden $n$ (\\ref{eq:eqd_fg}), normalmente obtenemos una solución que contiene $n$ parámetros $(C_1, C_2, \\dots, C_n)$. La solución que contiene estas constantes arbitrarias representa un conjunto, $G(x, y, C_1, C_2, \\dots , C_n) = 0$, de soluciones llamado <b>familia de soluciones n-paramétrica</b>. Una solución de una ecuación diferencial que está libre de la elección de parámetros se llama <b>solución particular</b>.</i>\n",
    "    \n",
    "</font>\n",
    "</div>"
   ]
  },
  {
   "cell_type": "markdown",
   "id": "089c87fc",
   "metadata": {
    "slideshow": {
     "slide_type": "subslide"
    }
   },
   "source": [
    "<div class=\"alert alert-block alert-danger\">\n",
    "<font color=\"purple\" face=\"Ginebra\">\n",
    "    \n",
    "<b>Ejemplo</b>: <i>La ecuación diferencial $y' - y = 0$, tiene como solución $\\phi(x) = C e^x$.</i>\n",
    "    \n",
    "<i>Para ver la familia de soluciones podemos graficar la función $\\phi(x) = C e^x$ con alunos valores para $C$.</i>\n",
    "    \n",
    "<i>Para graficar usamos la función <b>Plot</b>. de la siguiente manera:</i>\n",
    "> Plot[f[x], {x, xmin, xmax}]\n",
    "    \n",
    "</font>\n",
    "</div>"
   ]
  },
  {
   "cell_type": "code",
   "execution_count": 7,
   "id": "470b766f",
   "metadata": {
    "slideshow": {
     "slide_type": "fragment"
    },
    "vscode": {
     "languageId": "wolfram language"
    }
   },
   "outputs": [
    {
     "data": {
      "text/html": [
       "<div><img alt=\"Output\" src=\"data:image/png;base64,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\"></div>"
      ],
      "text/plain": [
       "Legended[-Graphics-, Placed[LineLegend[{Directive[Opacity[1.], \n",
       " \n",
       ">       RGBColor[0.368417, 0.506779, 0.709798], AbsoluteThickness[1.6]], \n",
       " \n",
       ">      Directive[Opacity[1.], RGBColor[0.880722, 0.611041, 0.142051], \n",
       " \n",
       ">       AbsoluteThickness[1.6]], Directive[Opacity[1.], \n",
       " \n",
       ">       RGBColor[0.560181, 0.691569, 0.194885], AbsoluteThickness[1.6]], \n",
       " \n",
       ">      Directive[Opacity[1.], RGBColor[0.922526, 0.385626, 0.209179], \n",
       " \n",
       ">       AbsoluteThickness[1.6]], Directive[Opacity[1.], \n",
       " \n",
       ">       RGBColor[0.528488, 0.470624, 0.701351], AbsoluteThickness[1.6]], \n",
       " \n",
       ">      Directive[Opacity[1.], RGBColor[0.772079, 0.431554, 0.102387], \n",
       " \n",
       ">       AbsoluteThickness[1.6]], Directive[Opacity[1.], \n",
       " \n",
       ">       RGBColor[0.363898, 0.618501, 0.782349], AbsoluteThickness[1.6]]}, \n",
       " \n",
       "           x      x    x      x     x     x\n",
       ">     {-3 E , -2 E , -E , 0, E , 2 E , 3 E }, LegendMarkers -> None, LabelStyle -> {}, \n",
       " \n",
       ">     LegendLayout -> Column], After, Identity]]"
      ]
     },
     "execution_count": 7,
     "metadata": {
      "text/html": [],
      "text/plain": []
     },
     "output_type": "execute_result"
    }
   ],
   "source": [
    "Plot[Evaluate[C*Exp[x]/.C->Range[-3, 3]], {x, 0, 5}, PlotLegends->\"Expressions\"]"
   ]
  },
  {
   "cell_type": "markdown",
   "id": "f0a8ce08",
   "metadata": {
    "slideshow": {
     "slide_type": "subslide"
    }
   },
   "source": [
    "<div class=\"alert alert-block alert-warning\">\n",
    "<font color=\"grey\" face=\"Ginebra\">\n",
    "    \n",
    "<b>Nota</b>: <i>Algunas veces una ecuación diferencial tiene una solución que no es miembro de una familia de soluciones de la ecuación, esto es, una solución que no se puede obtener usando un parámetro específico de la familia de soluciones. Esa solución extra se llama <b>solución singular</b>.</i>\n",
    "    \n",
    "<i>Una solución de una ecuación diferencial que es igual a cero en un intervalo $I$ se dice que es la <b>solución trivial</b>.</i>\n",
    "    \n",
    "</font>\n",
    "</div>"
   ]
  },
  {
   "cell_type": "markdown",
   "id": "22d793e9",
   "metadata": {
    "slideshow": {
     "slide_type": "fragment"
    }
   },
   "source": [
    "<div class=\"alert alert-block alert-danger\">\n",
    "<font color=\"purple\" face=\"Ginebra\">\n",
    "        \n",
    "<b>Ejemplo</b>: <i>La ecuación diferencial $y' = x\\sqrt{y}$, tiene como soluciones $y = \\frac{1}{16}(x^2 + C)^2$ y $y = 0$.</i>\n",
    "            \n",
    "</font>\n",
    "</div>"
   ]
  },
  {
   "cell_type": "markdown",
   "id": "1408f95d",
   "metadata": {
    "slideshow": {
     "slide_type": "fragment"
    }
   },
   "source": [
    "<small><i>En Wolfram Language el comando <b>DSolve</b> se utiliza para resolver ED: su estructura es la siguiente</i></small>\n",
    "> DSolve[ecuación diferencial, función incógnita, variable]"
   ]
  },
  {
   "cell_type": "code",
   "execution_count": 8,
   "id": "52bb828d",
   "metadata": {
    "slideshow": {
     "slide_type": "fragment"
    },
    "vscode": {
     "languageId": "wolfram language"
    }
   },
   "outputs": [
    {
     "data": {
      "text/html": [
       "<div><img alt=\"Output\" src=\"data:image/png;base64,iVBORw0KGgoAAAANSUhEUgAAAVgAAABACAIAAADQ/PhVAAAA0XpUWHRSYXcgcHJvZmlsZSB0eXBlIGV4aWYAAHjabU/bDQMhDPtnio5AEnBgHK4HUjfo+E0AqaKqJWLjPCChv18jPBxMMaSsBRWIhlRT5WaixIXFFOuME7lsRacf0u6hZlb+JtC3f52+YjGXn0GRlxB/wbTsyboHCS+f2rpfu55bKcegcY2J/bGZ21//e0+ijAzSZDFxVEU1XYJJI2SOWTHwBKyQcHNMT+MOVWuDeoU0b3Rw17O6B4gZt68gfliaMWa0rYSmQ1ItihDf5ueZ9XU+aHlcNdsBF1UAAAAJcEhZcwAAFiUAABYlAUlSJPAAAAA8dEVYdFNvZnR3YXJlAENyZWF0ZWQgd2l0aCB0aGUgV29sZnJhbSBMYW5ndWFnZSA6IHd3dy53b2xmcmFtLmNvbVyipoUAAAAhdEVYdENyZWF0aW9uIFRpbWUAMjAyMjowNjowMyAxMjoxOTozMe4af+AAAA0OSURBVHic7Z3fa9tWG8dPXt7bLSjqVSlh2BuskE6wmhiCN/AgkdvdrGypkrYXgYSm8kVhbMTM2a7SpnX2426OAwn0op0UyNgIcxclkF7IC0uaDIsmrLBIBDN6ZTVL+wfkvTjMr2tL8pEsW7LzfC6CI3999PhYenTOc55zTsfx8TECAOBk8x+vDQAAwHvAEQAAgP7rtQGADXRdX1paOjo66uvri0QiXpsDtA/QImgZRFEMh8M3btxIJBIbGxtemwO0FeAIWoBcLheLxYaHhymK8toWoD0BR+B3ZmZm3nvvPUmSeJ5fWVnx2hygPYEYgd/p7u6mKCqdTg8NDXltC9C2gCPwO0NDQ2fPnmUYxmtDgHYGugYtAHgBoNGAIwAAoFbXQFEUSZIODg7Gx8drPpdsiQEAsMvk5CRC6Ny5c/39/TRNu6g3bRHouh6Pxz/++OPOzs4rV66cOXPGohRbYgAAnHH58uULFy48efIkHA6Louii3rRF8NVXXyGE9vf3SeyzJQYAwBm4oR2JREZHRwcGBs6cOWOdYGpDf2yEqqoURRm+VacYqBP8q6VSKa8NATwmm81yHOeW3rhr8OzZs97eXkIvZUsMAIArhMPh1dVVt/QwagAALQlN04eHh27pwREApkxOTj58+NBrK1qeWCymaZrXVtQAMgv9jqZpS0tLFQfX19dLrz/55JNAINCIU6+urt6+fbueEjo6OkqvZVk+mVOnb968ubCwQFKTXlaXYeRAlmWWZQmDELbEgF1kWbb+BWVZbsR5BUFIJpP1lIAQEgQBv06lUo0z1f8Eg8GaGgfVZXb/OtBDi8DvnD59Gl8WFoJGnPfnn3/+4osv6inhuGw5zImJiUQi8cMPP5zMRgHHcaIoWk8b87a6wBH4nUAgMDEx0eSTapq2vb3tenqo/7vKDeLy5ct37tyxO3+0mdXVJo5A07StrS2YqOsWa2trHMdZCOxWeC6XQwg1KJZRDc52Rwh1dnb29/c37bxmMAyzurqq6zpJXjBqenUh5O8YQUX3uKasZoEVbWxXjW0rWJbNZrNm75JXeIlgMIgQUlXVDeusyOfzLMtWXOR1Bjtcged5iyqtgLC67F7DFnq/Dx+Wu5j6S5uYmHCxtHZF13VJki5evOhWgbFYTFVVQRAa/YhTFCUajUqSFAwGk8lkKpXCTmF6ehpPv/GQ999//5dffiFRNq26yvG7IwCaz+bmZvVD1TGxWEySpFQq1bSOG8/zm5ubt2/fnpiYWFlZ4XkeITQ9Pe1thOLs2bMkiYDNry5Mw2MEuq4vLCwghHp6eioeMhZvkSCKYqFQQAgdHBzgIzMzM+WC7u5uiBo4YHd39/z589XHHVR46bJuTryTYZjl5eWKSPvnn38+OzuLEHr69KmHwQKGYVRVtQ4TNLm6XsGww+BujKAUdsrn8+XHk8kkQoiiKLO+kHXJNZ9a1laZfXeAZdnSgHbFcVsVjh/FhkU1GWyeg5la7iY+sCxrUaCD6rJ7DVvomzFq8P33329vb6uqOjY29vjxY3wwl8tNT08jhO7fv+/MT4+MjHzwwQcIoYODA+zyK2KB3d3d9Zpuk3g83gaLsmxtbX355ZfVx21VeC6Xw5rh4eHh4eHScUEQyJtprgwG6bqOX/T19RF+RBTFb7/9dnt7G/8bDAavX79e/1M6EAhsbGwYpga4Ul11YegeBEEgd58k4nw+j0+HlcViEcdFeZ63+BRhw8RBEPu4MS0CWZYpiqpo+LQcCKFisWghcFbhDnBlQEoQBGyt9ZcqwfN8KBTieZ6iqEwmc3x8rKoqPkhYghmpVMrd8QsXr3njYOGTJ086OzsJXQmJmGEY/PRIJBKKonz33XeqqoZCoampKcKztASRSCSdTkejUUVRvLbFIdhywuFu/6PrOm7d8DxPuLaXpmmLi4uiKC4vL4+PjyOEAoFAOp0eHBy8evVqPcZ0dnbu7OzUU0IFoVDI1pVmpa/2DfhxTej8bIlxJxO3BVBVyKCalmsRYARBaN12Aa5MEk3jKrD8RHW2CPAlR1EUySWKl9gpFovJZNKwrVrnb+p6xk0mk7FuU5PrK2MEiqKMjY3dunWLxH3aEiOEHjx48NZbb6mqihDKZDKt3pc2A3fqotHoo0ePSL5joVD4559/XDfjnXfecfbBUCjkriVeEY/HJUmiKOrRo0ckl+ja2trQ0BBN0zs7OyMjI9UCv12x4+PjsVhsZmZmdHSU5Ata6F9xBG+++ebz58+rB2AMsSXGHB0dlV6Tdz38gyiK9+7dI9dHo9G//vqr5i8ky3I6na7LMiNmZ2ed+QJv+wWxWKz0Wtd1VVXLj4yMjBAGz+LxOA6/LS8vE97AR0dHb7zxBkJIkiTDcKkPWVlZmZubO3XqFGFY0Uz/iiO4d+/er7/++umnn87Pz9esO1tiDMdxh4eHFEUdHh7G4/GW28Cnt7eXcIHmFy9eXLt2LZ1Ok9xUV69erbPz2U6U34F7e3vz8/PlRwinWpa8gCAIDibwkW82i0/EsqxX21KKojg/Py8IAuFygab66t6CLMuhUIiw10EuLs8aKAULakanCftU+LvYSmU3/O6uUCwWQ6GQH8bPHYAHPmrKHFS4M2McdKrxgDyyn8KQyWTw8p5mmRTl4MEI/JfQSNdjBPjuIx/LsNAb3wwcx5FPkCARZ7NZ/NtgJY7KIISsl2G16whsZYw0yBG0tBc4/negt6bMQYU7wMGdg72As2BtsVjEH8xkMtbnLQ+pkjuCbDbrriOwdZ9a640TiqLR6O7uLmHab02xoijXrl3Dtz2WBQKB+/fvf/jhh4uLi++++279qRo8z8/OziYSifX1dZz0grxIMdZ1PRaLffbZZ62b2kzYWfNJhVcwOTmJewQDAwOSJOGZyOVYL+tG0zQe/V1eXv7666/n5ubw8GGJhw8fvv7665FIJBKJHNuft7a7u+tujjMe5nRHb+geZFkmXzLdWoyfkMioI1BqwpnlXZI/EIrFYnUCbPNTjEmalP6H5HHqoMIdYLdFUDMJmiRlOJPJUBSF8+J5npdlWZblZDIZDAZZlq2uGfIvjidEkn+dmti9hi30pinGtga0LMR///334ODg4OAgy7IVkbOpqSkcpN3b26tzSSaapldWVhRF+f3330tjE81PMX7w4EEbpOL09va+fPnSWtOcCo9EIraCcKUkaDNIYo3j4+P9/f0LCwssy4qi+PjxY5qmL126tLq6WufzfGdn5+bNm/WU0DgaPteAYRiz1iZN0+7OsrI4V3NoAy+AEDp//rxZSnwFnld4BW51TAKBQJ3LNxuyv7//9ttvu16sK8B6BEAl586dK000BtxC07Tnz597vmiaGeAIgEp6e3tt7aUFkPD06dOBgQGvrTDF74uX7u/vl1a/qL8fkcvlNjY26jaqzcFPLU3TfPv4akV+++23aDTqtRWm+NoRnD59+vr16w0q3HqzAM/RdX1paeno6Kivr69md13X9T///LPk40g+Yg3HcVtbW+AILCjflUiSJPyvxfZEi4uLvm5nGY4l+GQV4xOLIAilOZrWA054qnzFb1r/GFU+n7e15TZgDZ5073qxZvevA72vWwQnkFwud+vWLUmSSKYA4kV78Ra3LMuWRs7Il+Ixg2GY7e1t8nX4AWvW1tbGxsa8tsIKcAQ+YmZmJpFIIIR4np+amjp16pSFWNM07AU4jpuenna9Gc9xHJ6W626xJ5P5+fnFxUWvrbACRg18RHd3N0VRgiCQTFv85ptvsBcQRbERnfnR0VFbc64BMzRNo2na5wEXaBH4iKGhIcKp2bqu46R6vABsI4CxA7dYWFgwXObEV0CLwF8QJuptbm4ihEKhUEPv0lQq9ezZs8aVf0LwfC4WCdAiaEl2d3fRv6s/5nK5vb09nPBf/8BhOb5KH25dKqYw+hNjR/Daa6+VVoOviS0x4Ao4BVhV1a6uLjxqUCIYDP74449wD7c9iqLY2pnOWm/cNWAY5vDwEO/NXBNbYsAV8DZ+eAeOZDKZzWZlWc5kMsFgUFXVaDQKrrntuXPnzqVLl1zTmyUY5PP5YDCYyWRIFkKyJQYIwT+QYXYQdu0cx1VUOF5jByGEd+YA2hKc7kWexUeiNw0WMgyzublZKBTC4XBXV5f1Pgq2xED94BhhV1dXxSgjTdM4LvXTTz95YxnQSOLxeEdHRyKR+Oijj0hWarChd8NDAQ0B/0CGLQI8UcLQx1u8BQBmwPBhS9LT04MQ2traqn7rjz/+QP82GQCAEHAELcnFixfx9hBzc3PlxxVFwamsV65c8cg0oCWBPAIfoWna0tJSxcH19fXS6/JFeNPp9PDw8I0bNwqFwoULFxBCGxsbd+/eRQjxPO9iNgFwIvC6bwL8n9LmomZULMKLd1stF1AU1ei9BoC2pOPY/vLsQIMwbBGUU70sv67ra2trhUIBIdTT0xMOh2HiMOAAcAQAAECwEAAAhP4HN/AyEU14I/oAAAAASUVORK5CYII=\"></div>"
      ],
      "text/plain": [
       "            2          2\n",
       "          (t  + 2 C[1])\n",
       "{{x[t] -> --------------}}\n",
       "                16"
      ]
     },
     "execution_count": 8,
     "metadata": {
      "text/html": [],
      "text/plain": []
     },
     "output_type": "execute_result"
    }
   ],
   "source": [
    "DSolve[x'[t] == t*Sqrt[x[t]], x[t], t]//Simplify"
   ]
  },
  {
   "cell_type": "markdown",
   "id": "c8c2714a",
   "metadata": {
    "slideshow": {
     "slide_type": "subslide"
    }
   },
   "source": [
    "### <font color=\"gren\"><b>Condiciones iniciales y valores en la frontera</b></font>"
   ]
  },
  {
   "cell_type": "markdown",
   "id": "45035c5b",
   "metadata": {
    "slideshow": {
     "slide_type": "fragment"
    }
   },
   "source": [
    "<i>En muchas aplicaciones, no solo se nos da una ecuación diferencial para resolver, sino que también se dan una o más <b>condiciones auxiliares</b> que tambien deben ser satisfechas por la(s) solución(es).</i>"
   ]
  },
  {
   "cell_type": "markdown",
   "id": "8c219c62",
   "metadata": {
    "slideshow": {
     "slide_type": "fragment"
    }
   },
   "source": [
    "<div class=\"alert alert-block alert-info\">\n",
    "<font color=\"blue\" face=\"Ginebra\">\n",
    "    \n",
    "<b>Definición</b>: <i>Si toda solución de una EDO de orden $n$, $F(x, y, y', \\dots, y^{(n)}) = 0$, en un intervalov$I$ se puede obtener a partir de una familia con n-parámetros, $G(x, y, C_1, C_2, \\dots, C_n) = 0$, eligiendo apropiadamente los parámetros $C_i, i = 1, 2, \\dots, n$, entonces diremos que la familia es la <b>solución general</b> de la ED.</i>\n",
    "    \n",
    "</font>\n",
    "</div>"
   ]
  },
  {
   "cell_type": "markdown",
   "id": "414f713b",
   "metadata": {
    "slideshow": {
     "slide_type": "fragment"
    }
   },
   "source": [
    "<i>Debido a que las ecuaciones de primer orden implican una sola $\\color{cyan}{\\text{condición auxiliar}}$, que es generalmente referida como una <b>condición inicial</b>, usamos los siguientes ejemplos para distinguir entre problemas de <b>valores iniciales</b> y de <b>valores en la frontera</b> que involucran ecuaciones</i>"
   ]
  },
  {
   "cell_type": "markdown",
   "id": "43c85a42",
   "metadata": {
    "slideshow": {
     "slide_type": "subslide"
    }
   },
   "source": [
    "<div class=\"alert alert-block alert-danger\">\n",
    "<font color=\"purple\" face=\"Ginebra\">\n",
    "    \n",
    "<b>Ejemplo</b>: <i>Considere la ecuación diferencial de segundo orden $x'' + x = 0$, que modela el movimiento de una masa, con $m = 1$, unida a la extremo de un resorte con constante de resorte $k = 1$, donde $x(t)$ representa el desplazamiento de la masa desde la posición de equilibrio $x = 0$ en el tiempo $t$. Se encuentra que una solución general de esta ecuación diferencial es $x(t) = A \\cos(t) + B\\sin(t)$, donde $A$ y $B$ son constantes arbitrarias.</i>\n",
    "\n",
    "<i>Debido a que esta es una ecuación de segundo orden, necesitamos dos condiciones auxiliares para determinar las dos constantes desconocidas. Supongamos que la inicial el desplazamiento de la masa es $x(0) = 0$ y la velocidad inicial es $x'(0) = 1$. Este es un <b>problema de valor inicial</b> porque tenemos dos condiciones auxiliares dadas en el mismo valor de $t$, a saber, $t = 0$. Use estas condiciones iniciales para determinar la solución de este problema.</i>\n",
    "    \n",
    "</font>\n",
    "</div>"
   ]
  },
  {
   "cell_type": "markdown",
   "id": "6c460e6e",
   "metadata": {
    "slideshow": {
     "slide_type": "subslide"
    }
   },
   "source": [
    "<div class=\"alert alert-block alert-danger\">\n",
    "<font color=\"purple\" face=\"Ginebra\">\n",
    "    \n",
    "<b>Solución</b>: <i>Aplicando la primer condición auxiliar: posición inicial, tenemos</i>\n",
    "        \n",
    "\\begin{equation*}\n",
    "    x(0) = A \\cos(0) + B \\sin(0) = A =0\n",
    "\\end{equation*}\n",
    "        \n",
    "<i>Necesitamos la primera derivada de la solución general,</i>\n",
    "        \n",
    "\\begin{equation*}\n",
    "    x'(t) =  B \\cos(t) - A \\sin (t)\n",
    "\\end{equation*}\n",
    "        \n",
    "<i>Sustituyendo en la condición auxiliar: velocidad inicial, tenemos</i>\n",
    "        \n",
    "\\begin{equation*}\n",
    "    x'(0) =  B \\cos(0) - A \\sin(0) = B = 1\n",
    "\\end{equation*}\n",
    "        \n",
    "<i>Por lo tanto, la solución es $x(t) = \\sin(t)$</i>\n",
    "        \n",
    "</font>\n",
    "</div>"
   ]
  },
  {
   "cell_type": "markdown",
   "id": "fd60c0c5",
   "metadata": {
    "slideshow": {
     "slide_type": "subslide"
    }
   },
   "source": [
    "<i>El comando <b>Solve</b> de Wolfram Language se utiliza para resolver sistemas de ecuaciones algebraicas, la estructura de la función es:</i>\n",
    "    \n",
    "> Solve[{ecuación$1$, ecuación$2$, $\\dots$, ecuación$n$}, {incognitas}]"
   ]
  },
  {
   "cell_type": "code",
   "execution_count": 9,
   "id": "38c10f57",
   "metadata": {
    "slideshow": {
     "slide_type": "fragment"
    },
    "vscode": {
     "languageId": "wolfram language"
    }
   },
   "outputs": [
    {
     "data": {
      "text/html": [
       "<div><img alt=\"Output\" src=\"data:image/png;base64,iVBORw0KGgoAAAANSUhEUgAAANQAAAAfCAIAAAAQk3Q4AAAA0XpUWHRSYXcgcHJvZmlsZSB0eXBlIGV4aWYAAHjabU/RDUMhCPx3io4goIeO46uadIOOX1CT5jW9RDjvACWM92uGh4MphpS1oALRkGqq3IyUuLEzxbriQk/Ho7seaB69mZS/BsbRr7uu2JnLz6DIm4i/YFzOi3oGCW+d2r5fp55bKbdB85oL58PLO1//e0+ijAzSZDFxVEU1XoJRS8gcs2LiCVghoXNMT8sDqtYG9Qpp3ujgoffqESAmdF9B/LA0y1jRthJaintNslTuxvJyfZ0P7JdclEo9XPEAAAAJcEhZcwAAFiUAABYlAUlSJPAAAAA8dEVYdFNvZnR3YXJlAENyZWF0ZWQgd2l0aCB0aGUgV29sZnJhbSBMYW5ndWFnZSA6IHd3dy53b2xmcmFtLmNvbVyipoUAAAAhdEVYdENyZWF0aW9uIFRpbWUAMjAyMjowNjowMyAxMjoyMDo1OYwzZQ4AAAZuSURBVHic7Zy/a9tsEMevL++c9Im2tGSIpk7OIJpg0sGBoNApQ6ndUrq0NHGGLoGkmHZMQB5DfqjQgocWySWQLm5RAs3gUkiTwYVAh0bCdOhkoTr9A/wOR4WxLeUeS7LrvvpMQv5Kdz6fnue5e5RcajQaEBPTD/7ptwMx/1/i5IvpG3HyxfSNOPli+kacfDF9498e28vn83hw69at8fHxHltvx7Ksz58/f//+HQCSyeT09HToJj5+/Pjp06eWkxHZ6gLbtnd3d+v1eh9canhgmmY2m2WMybLspeEVVyoV124ul7vwtlGjKEpLNCRJqlQqUVtBGGOapoVrixdN00RRRH8URfEXY3yIPlPEnskniqKqqrVajWKJKM7lchh0ABBFkXLn6EBnAECWZUVR8OFB90zTDNEQJp8oispvXFsAUCqVQrRFp1wuy7KMKUJMvkajYZqmJEkUJUXcOfnQM4oBLjF+T1VV8duGPsbQKZfL6EPzo1mpVDAnstlsiLYw+VpCVKvVcMhJp9Mh2uJyCb9prVajJ1+j0TBNkz5w+It7V3BYlnVycgIACwsLmIVv3rzpmfUWNjc3AUCW5Uwm455MJBJPnjwBgJ2dHdu2I3VAEIR0Og0AP3/+jNRQR8bGxnDS397eFgSB69rx8XHTNEMR9y75Dg4OAAAj/vDhQwDY39/vmfUWisUiADx+/LjlfDKZxIOjo6OofXAcBwAuX74ctaF2MpnM4eFh84PXF3qXfC9evACA+fl5AJiamgKAk5MTy7KC33lpaenLly90vSuenJxsPp/P52/cuIHHp6enwR3z90HXdQC4f/9+8LvxRgAAEolEcLsB6VHyuXPu7OwsACQSCVzx4HAYkLt376ZSKXr0f/36hQfujGNZ1tzc3OrqKmMMl33VajW4Y82cnZ3lf5PJZCYmJhzHURTl5s2bwW/OG4E/hY4rwdALDiwymhfXWGxKkkS04o+maYwxYgWD1YZrulQqYcJJkmSaZsf6IAherRZZlsvlclhWuCLQAvpDLDhQz3Vzr486N5nPz8/pHWCKGOfcVCrlnrl9+/b6+jrOvMG7zbh8SaVSh4eHxAlFEATbtp89e7azswMAiqKsrKwEdMMHURQfPXqEx9VqVdd1wzAMw9A0LZS1VxcR6D/t+Vir1SRJIj6UFLFb77T0z3DmVVWVYogC8enHkY8xhg6IotjsfzabhVB74F6tFiz5GWPEZiqF7sY//HXoI18ulwtF3DryPX/+fHFxsVQqUXZaiGJc2DHGdnd32z/d29tbWFjwuVzX9UKhcKEzLqlU6tu3bxd2EBzHcRwnnU5vbW01i7EGGh4eplvsAkEQisWiKIqO4xwdHfmv/CKKQNesra0tLS2NjIxQRlkfcWvyzc7Oapq2sbExOTl5ofdE8d7eHgA4jrO6utr+qWEYtm37XH79+vWrV6/6e4Kcn5/fu3fvwt6V+6h0nGoNw4Cmnkt0uIuN09NT/+QLPQIB0XX9+Pj41atXFK/8xB3HQ1VV6eOqv7i5gd4OrvRD2eLEiYx4K9xZaq8qNE0DAMZYx6vK5bKiKLyTmlcF465Gwio7uCLQjPsDEfVcSwUfceTVLv6cXnss2HMOvsXEG3f0Cjy21zr+DM1vRXBt/nqt+fC7h7XH3XXmNf60ajdE3r59C783NtqZn58vFovFYrFl4cWFbdtzc3PLy8v0sjGTyRQKBcMw7ty5UygUZmZmsAJ1HEeSpAcPHrRf4nYHAeDly5dra2tcTmKfD4+r1er+/j6OfBsbG1z36QhvBCzLal9/f/jwwT3u0QtvHVMyrJHPnXO9ZhZXEGTmlWW5i8vdsacZWZZ9JhScrIGzC+jV56O3FC6ENwLuexVe+DvmlTa84mhHvnq9jqH3KocFQVBVtV6vDw0NdW3l9evXXYyagiDour6+vn5wcFCv14eHh6empvxrt6dPn2I5MjMzQzeUTCZb8m9sbOzatWshduN4IzA6Our1SLiCwE4R8HoyonilatAplUoYtHBf+Bs4vNKGV9zr1+gHEcuyfvz48f79e9wLyeVyf8IfAPwNdExJ0zTpjXIu8SDizlCMsRD3YwYUVVXp3Ql/seeQiG/3p9NpykqWSzxwYHsvxJcABhRFUSRJIv6ZC0V8qeH9v1ps2/769St4lwtdi2MGkXfv3l25coVYJ1HEfskXExMp8R+Nx/SN/wBzTgkRiSUnHgAAAABJRU5ErkJggg==\"></div>"
      ],
      "text/plain": [
       "{{A -> 0, B -> 1}}"
      ]
     },
     "execution_count": 10,
     "metadata": {
      "text/html": [],
      "text/plain": []
     },
     "output_type": "execute_result"
    }
   ],
   "source": [
    "x[t_] := A*Cos[t] + B*Sin[t]\n",
    "Solve[{x[0] == 0, x'[0] == 1}, {A, B}]//Simplify"
   ]
  },
  {
   "cell_type": "markdown",
   "id": "09aaaf63",
   "metadata": {
    "slideshow": {
     "slide_type": "subslide"
    }
   },
   "source": [
    "<div class=\"alert alert-block alert-danger\">\n",
    "<font color=\"purple\" face=\"Ginebra\">\n",
    "    \n",
    "<b>Ejemplo</b>: <i>La forma de una viga flexible de longitud $1\\,unidad$ que es sometido a una fuerza de compresión en un extremo se escribe mediante la gráfica de la solución $y(x)$ de la ecuación diferencial $\\frac{d^2y}{dx^2} + \\frac{\\pi^2}{4}y = 0$, $0 < x <1$. Si la altura de la viga sobre el eje $x$ se conoce en los puntos extremos $x = 0$ y $x = 1$, entonces tenemos un <b>problema de valores en la frontera</b>. Usa las condiciones en los límites $y(0) = 0$ y $y(1) = 2$ para encontrar la forma de la viga.</i>\n",
    "    \n",
    "</font>\n",
    "</div>"
   ]
  },
  {
   "cell_type": "code",
   "execution_count": 11,
   "id": "992d1b81",
   "metadata": {
    "slideshow": {
     "slide_type": "notes"
    },
    "vscode": {
     "languageId": "wolfram language"
    }
   },
   "outputs": [],
   "source": [
    "Clear[y]\n",
    "Sol = DSolveValue[{y''[x] + (Pi/4)*y[x] == 0, y[0] == 0, y[1] == 2}, y[x], x];"
   ]
  },
  {
   "cell_type": "code",
   "execution_count": 13,
   "id": "a959444e",
   "metadata": {
    "scrolled": true,
    "slideshow": {
     "slide_type": "fragment"
    },
    "vscode": {
     "languageId": "wolfram language"
    }
   },
   "outputs": [
    {
     "data": {
      "text/html": [
       "<div><img alt=\"Output\" src=\"data:image/png;base64,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\"></div>"
      ],
      "text/plain": [
       "-Graphics-"
      ]
     },
     "execution_count": 13,
     "metadata": {
      "text/html": [],
      "text/plain": []
     },
     "output_type": "execute_result"
    }
   ],
   "source": [
    "Plot[Sol,{x, 0, 1}]"
   ]
  },
  {
   "cell_type": "markdown",
   "id": "0ebafaf9",
   "metadata": {
    "slideshow": {
     "slide_type": "subslide"
    }
   },
   "source": [
    "<div class=\"alert alert-block alert-danger\">\n",
    "<font color=\"purple\" face=\"Ginebra\">\n",
    "    \n",
    "<b>Solución</b>: <i>Primero, la solución general a esta ecuación es</i>\n",
    "\n",
    "\\begin{equation*}\n",
    "    y(x) = A \\cos\\left(\\frac{\\pi}{2} x\\right) + B \\sin\\left(\\frac{\\pi}{2} x\\right)\n",
    "\\end{equation*}\n",
    "    \n",
    "<i>Aplicando la condición $y(0) = 0$ en la solución general, tenemos</i>\n",
    "    \n",
    "\\begin{equation*}\n",
    "    y(0) = A \\cos(0) + B \\sin(0) = A = 0\n",
    "\\end{equation*}\n",
    "    \n",
    "<i>De igual manera para la condición $y(1) = 2$, tenemos</i>\n",
    "    \n",
    "\\begin{equation*}\n",
    "    y(1) = B \\sin\\left(\\frac{\\pi}{2}\\right) = B = 2\n",
    "\\end{equation*}\n",
    "    \n",
    "<i>Por lo que la solución al problema con valores en la frontera es $y(x) = 2 \\sin\\left(\\frac{\\pi}{2} x\\right)$, $0 < x < 1$.</i>\n",
    "    \n",
    "</font>\n",
    "</div>"
   ]
  },
  {
   "cell_type": "markdown",
   "id": "7dd4d3de",
   "metadata": {
    "slideshow": {
     "slide_type": "subslide"
    }
   },
   "source": [
    "<i>Comprovemos el resultado con Wolfram Language</i>"
   ]
  },
  {
   "cell_type": "code",
   "execution_count": 14,
   "id": "342a44d9",
   "metadata": {
    "slideshow": {
     "slide_type": "fragment"
    },
    "vscode": {
     "languageId": "wolfram language"
    }
   },
   "outputs": [
    {
     "data": {
      "text/html": [
       "<div><img alt=\"Output\" src=\"data:image/png;base64,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\"></div>"
      ],
      "text/plain": [
       "{{A -> 0, B -> 2}}"
      ]
     },
     "execution_count": 15,
     "metadata": {
      "text/html": [],
      "text/plain": []
     },
     "output_type": "execute_result"
    }
   ],
   "source": [
    "y[x_] := A*Cos[(Pi/2)*x] + B*Sin[(Pi/2)*x]\n",
    "Solve[{y[0] == 0, y[1] == 2}, {A, B}]//Simplify"
   ]
  }
 ],
 "metadata": {
  "author": "Titulo",
  "celltoolbar": "Slideshow",
  "gist": {
   "data": {
    "description": "OneDrive/Documentos/Jupyter/Ecuaciones-diferenciales/Ecuaciones_Diferenciales_Wolfram.ipynb",
    "public": true
   },
   "id": ""
  },
  "hide_input": false,
  "kernelspec": {
   "display_name": "Wolfram Language 13",
   "language": "Wolfram Language",
   "name": "wolframlanguage13"
  },
  "language_info": {
   "codemirror_mode": "mathematica",
   "file_extension": ".m",
   "mimetype": "application/vnd.wolfram.m",
   "name": "Wolfram Language",
   "pygments_lexer": "mathematica",
   "version": "12.0"
  },
  "latex_envs": {
   "LaTeX_envs_menu_present": true,
   "autoclose": false,
   "autocomplete": false,
   "bibliofile": "biblio.bib",
   "cite_by": "number",
   "current_citInitial": 1,
   "eqLabelWithNumbers": true,
   "eqNumInitial": 1,
   "hotkeys": {
    "equation": "Ctrl-E",
    "itemize": "Ctrl-I"
   },
   "labels_anchors": true,
   "latex_user_defs": true,
   "report_style_numbering": false,
   "user_envs_cfg": false
  },
  "nbTranslate": {
   "displayLangs": [
    "*"
   ],
   "hotkey": "alt-t",
   "langInMainMenu": true,
   "sourceLang": "en",
   "targetLang": "fr",
   "useGoogleTranslate": true
  },
  "toc": {
   "base_numbering": 1,
   "nav_menu": {},
   "number_sections": true,
   "sideBar": true,
   "skip_h1_title": true,
   "title_cell": "Table of Contents",
   "title_sidebar": "Contents",
   "toc_cell": false,
   "toc_position": {
    "height": "725.926px",
    "left": "1073.99px",
    "top": "111.019px",
    "width": "467.775px"
   },
   "toc_section_display": true,
   "toc_window_display": false
  },
  "varInspector": {
   "cols": {
    "lenName": 16,
    "lenType": 16,
    "lenVar": 40
   },
   "kernels_config": {
    "python": {
     "delete_cmd_postfix": "",
     "delete_cmd_prefix": "del ",
     "library": "var_list.py",
     "varRefreshCmd": "print(var_dic_list())"
    },
    "r": {
     "delete_cmd_postfix": ") ",
     "delete_cmd_prefix": "rm(",
     "library": "var_list.r",
     "varRefreshCmd": "cat(var_dic_list()) "
    }
   },
   "types_to_exclude": [
    "module",
    "function",
    "builtin_function_or_method",
    "instance",
    "_Feature"
   ],
   "window_display": false
  }
 },
 "nbformat": 4,
 "nbformat_minor": 5
}
