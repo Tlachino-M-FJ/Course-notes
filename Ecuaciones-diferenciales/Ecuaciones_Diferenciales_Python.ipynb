{
 "cells": [
  {
   "cell_type": "code",
   "execution_count": 3,
   "id": "04e1c911",
   "metadata": {
    "slideshow": {
     "slide_type": "notes"
    }
   },
   "outputs": [],
   "source": [
    "import numpy as np # Libreria para analisis númerico\n",
    "\n",
    "import pandas as pd  # Libreria para analisis de datos\n",
    "\n",
    "import sympy as sp  # Libreria para analisis simbolico\n",
    "from sympy import *\n",
    "from sympy.interactive import printing\n",
    "from sympy.abc import x, y, t\n",
    "from ipywidgets import interact\n",
    "\n",
    "import matplotlib\n",
    "import matplotlib.pyplot as plt\n",
    "import matplotlib.animation as animation\n",
    "# import seaborn as sns # obcional en vez de matplolib\n",
    "# import glob # para buscar un archivo con un nombre de archivo específico\n",
    "\n",
    "# Librerias para contenido de la presentaAbsción\n",
    "from IPython.display import Image\n",
    "from IPython.display import YouTubeVideo\n",
    "from IPython.display import IFrame\n",
    "from IPython.display import display\n",
    "from IPython.display import Latex\n",
    "# \\textit para texto en cursiva, \\textbf para texto en negrita y \\textsf para tipo de letra sans serif.\n",
    "# \\mathcal{F}\n",
    "# \\mathbb{N}\n",
    "# \\mathfrak{G}\n",
    "# \\mathrm{si}\n",
    "# \\mathit{si}\n",
    "# \\mathsf{si}\n",
    "\n",
    "printing.init_printing(use_latex='mathjax') # imprimir con notación matemática."
   ]
  },
  {
   "cell_type": "markdown",
   "id": "d7111cab",
   "metadata": {
    "slideshow": {
     "slide_type": "slide"
    }
   },
   "source": [
    "# <font color=\"purple\"><big>***Ecuaciones diferenciales***</font>"
   ]
  },
  {
   "cell_type": "markdown",
   "id": "0d12be85",
   "metadata": {
    "slideshow": {
     "slide_type": "fragment"
    }
   },
   "source": [
    "<img src=\"Frase-RF.png\" width=\"900\" align=\"left\">\n",
    "\n",
    "$$\\quad\\nonumber$$\n",
    "$$\\quad\\nonumber$$\n",
    "\n",
    "<font color=\"cyan\">***Dr. Felipe de Jesús Tlachino Macuitl***\n",
    "    \n",
    "*felipe.tlachino459@uppuebla.edu.mx*</font>\n",
    "    \n",
    "$\\quad$**[Classroom](https://classroom.google.com/h)**</font>"
   ]
  },
  {
   "cell_type": "markdown",
   "id": "9efa012b",
   "metadata": {
    "slideshow": {
     "slide_type": "fragment"
    }
   },
   "source": [
    "$\\qquad\\qquad\\\\qquad\\$ <font color='Orange'><big>**[Examen de diagnóstico](https://quizizz.com/admin/quiz/6264bc5d8fa74b001d985cba/ecuaciones-diferenciales)**</font>"
   ]
  },
  {
   "cell_type": "markdown",
   "id": "9717eed7",
   "metadata": {
    "slideshow": {
     "slide_type": "subslide"
    }
   },
   "source": [
    "<small> **Contenido**\n",
    "\n",
    "* <font color=\"orange\">**Introducción a las ecuaciones diferenciales**</font>\n",
    "    \n",
    "* <font color=\"orange\">**Ecuaciones diferenciales ordinarias de primer orden**</font>\n",
    "    \n",
    "* <font color=\"orange\">**Ecuaciones diferenciales ordinarias de orden superior**</font>\n",
    "    \n",
    "* <font color=\"orange\">**Transformada de Laplace**</font>\n",
    "    \n",
    "* <font color=\"orange\">**Sistemas de ecuaciones diferenciales**</font>\n",
    "\n",
    "<small> **Bibliografia:**\n",
    "\n",
    "<small> $ \\quad\\ [1] \\quad\\ $    Zill, D. G., Cullen, M. R., Hernández, A. E. G., & López, E. F. (2002). Ecuaciones diferenciales con problemas de valores en la frontera. Thomson.\n",
    "\n",
    "<small> $ \\quad\\ [2] \\quad\\ $    Abell, M. L., & Braselton, J. P. (2022). Differential equations with Mathematica. Academic Press.\n",
    "\n",
    "<small> $ \\quad\\ [3] \\quad\\ $    Introduction to Differential Equations, https://www.wolfram.com/wolfram-u/introduction-to-differential-equations/"
   ]
  },
  {
   "cell_type": "markdown",
   "id": "b24c8554",
   "metadata": {
    "slideshow": {
     "slide_type": "slide"
    }
   },
   "source": [
    "## <font color=\"orange\">**Introducción a las ecuaciones diferenciales**</font>"
   ]
  },
  {
   "cell_type": "markdown",
   "id": "5a20dd00",
   "metadata": {
    "slideshow": {
     "slide_type": "fragment"
    }
   },
   "source": [
    "<div class=\"alert alert-block alert-warning\">\n",
    "<font color=\"grey\" face=\"Ginebra\">\n",
    "\n",
    "**Nota**: *El estudio de las ecuaciones diferenciales es una parte de la Matemática que, quizá más que cualquier otra, ha sido directamente inspirada por la Mecánica, la Astronomía y la Física matemática. Su historia empezó en el siglo XVII cuando Newton, Leibniz y los Bernoulli resolvieron algunas ecuaciones diferenciales sencillas que se presentaron en problemas de Geometría y Mecánica.*\n",
    "\n",
    "</font>\n",
    "</div>"
   ]
  },
  {
   "cell_type": "markdown",
   "id": "0979b020",
   "metadata": {
    "slideshow": {
     "slide_type": "fragment"
    }
   },
   "source": [
    "*    <font color=\"gren\">**¿Qué es una ecuación diferencial?**</font>\n",
    "\n",
    "*    <font color=\"gren\">**Tipos de ecuaciones diferenciales**</font>\n",
    "\n",
    "*    <font color=\"gren\">**Sistemas de ecuaciones diferenciales**</font>\n",
    "\n",
    "*    <font color=\"gren\">**Solucion de ecuaciones diferenciales**</font>\n",
    "\n",
    "*    <font color=\"gren\">**Condiciones iniciales y valores en la frontera**</font>"
   ]
  },
  {
   "cell_type": "markdown",
   "id": "a5ab70e9",
   "metadata": {
    "slideshow": {
     "slide_type": "subslide"
    }
   },
   "source": [
    "### <font color=\"gren\">**¿Qué es una ecuación diferencial?**</font>"
   ]
  },
  {
   "cell_type": "markdown",
   "id": "1ac617be",
   "metadata": {
    "slideshow": {
     "slide_type": "notes"
    }
   },
   "source": [
    "Para una gran variedad de problemas se desea determinar un elemento variable a partir de su coeficiente de variación."
   ]
  },
  {
   "cell_type": "markdown",
   "id": "8ccb669e",
   "metadata": {
    "slideshow": {
     "slide_type": "fragment"
    }
   },
   "source": [
    "<div class=\"alert alert-block alert-danger\">\n",
    "<font color=\"purple\" face=\"Ginebra\">\n",
    "\n",
    "<small> **Ejemplo**: *Siendo $P=𝑃(𝑡)$ el tamaño de la población en el instante $t$, el modelo exponencial presupone que la tasa de aumento de la población es proporcional a la población en ese instante:*\n",
    "\n",
    "\\begin{equation}\n",
    "    \\frac{dP}{dt} = k P \\quad\\ \\text{Ecuación malthusiana} \\nonumber\n",
    "\\end{equation} \n",
    "\n",
    "<small> *La ecuación malthusiana puede resultar adecuada cuando el tamaño de la población es pequeño en relación a las dimensiones del ecosistema y, en ese caso, $k$ representaría la tasa de aumento de la población que iguala a la tasa de natalidad menos la tasa de mortalidad.*\n",
    "\n",
    "</font>\n",
    "</div>"
   ]
  },
  {
   "cell_type": "markdown",
   "id": "9838a791",
   "metadata": {
    "slideshow": {
     "slide_type": "fragment"
    }
   },
   "source": [
    "<div class=\"alert alert-block alert-info\">\n",
    "<font color=\"blue\" face=\"Ginebra\">\n",
    "\n",
    "**Definición**: *Una **ecuación diferencial (ED)** es una ecuación que contiene la derivada o diferenciales de una o más variables dependientes con respecto a una o más variables independientes.*\n",
    "\n",
    "</font>\n",
    "</div>"
   ]
  },
  {
   "cell_type": "markdown",
   "id": "fa2fd8ae",
   "metadata": {
    "slideshow": {
     "slide_type": "subslide"
    }
   },
   "source": [
    "### <font color=\"gren\">**Tipos de ecuaciones diferenciales**</font>"
   ]
  },
  {
   "cell_type": "markdown",
   "id": "8012e0e8",
   "metadata": {
    "slideshow": {
     "slide_type": "fragment"
    }
   },
   "source": [
    "<div class=\"alert alert-block alert-warning\">\n",
    "    \n",
    "* **Tipo**\n",
    "    * *Ordinaria*\n",
    "    * *Parcial*\n",
    "* **Orden**\n",
    "* **Linealidad**\n",
    "    \n",
    "</font>\n",
    "</div>"
   ]
  },
  {
   "cell_type": "markdown",
   "id": "396c18f7",
   "metadata": {
    "slideshow": {
     "slide_type": "fragment"
    }
   },
   "source": [
    "\\begin{equation*}\n",
    "\\color{purple}{\\text{ED}} \\left\\{ \\begin{array}{ll}\n",
    "    \\color{orange}{\\text{Ordinarias}}& \\left\\{ \\begin{array}{ll}\n",
    "        \\color{cyan}{\\text{Lineales}} & \\left\\{ \\begin{array}{l}\n",
    "            \\color{purple}{\\text{Homogéneas}} & \\left\\{ \\begin{array}{l}\n",
    "            \\color{orange}{\\text{Coeficientes Constantes}}\n",
    "            \\end{array}\n",
    "            \\right. \\\\\n",
    "            \\color{purple}{\\text{No Homogéneas}}\n",
    "            \\end{array}\n",
    "            \\right. \\\\\n",
    "        &\\\\\n",
    "        \\color{cyan}{\\text{No Lineales}}\n",
    "        \\end{array}\n",
    "        \\right. \\\\\n",
    "    & \\\\\n",
    "    \\color{orange}{\\text{Parciales}}\n",
    "    \\end{array}\n",
    "    \\right.\n",
    "\\end{equation*}\n"
   ]
  },
  {
   "cell_type": "markdown",
   "id": "aa22cddd",
   "metadata": {
    "slideshow": {
     "slide_type": "subslide"
    }
   },
   "source": [
    "<div class=\"alert alert-block alert-info\">\n",
    "<font color=\"blue\" face=\"Ginebra\">\n",
    "\n",
    "**Definición**: *Si la ecuación contiene sólo derivadas (de una o más variables dependientes) con respecto a una sola variable independiente, la ecuación se llama **ecuación diferencial ordinaria (EDO)**.*\n",
    "\n",
    "</font>\n",
    "</div>"
   ]
  },
  {
   "cell_type": "markdown",
   "id": "c598d94b",
   "metadata": {
    "slideshow": {
     "slide_type": "fragment"
    }
   },
   "source": [
    "<div class=\"alert alert-block alert-danger\">\n",
    "<font color=\"purple\" face=\"Ginebra\">\n",
    "\n",
    "**Ejemplos**:\n",
    "\n",
    "\\begin{equation}\n",
    "    \\ddot{\\theta} + \\frac{g}{L}\\theta = 0, \\quad\\ P' = rP\\left(1-\\frac{P}{k}\\right), \\quad\\ \\frac{dx}{dt} + \\frac{dy}{dt} = 2x + y, \\quad\\dots \\nonumber\n",
    "\\end{equation}\n",
    "\n",
    "</font>\n",
    "</div>"
   ]
  },
  {
   "cell_type": "markdown",
   "id": "533fb234",
   "metadata": {
    "slideshow": {
     "slide_type": "subslide"
    }
   },
   "source": [
    "<div class=\"alert alert-block alert-info\">\n",
    "<font color=\"blue\" face=\"Ginebra\">\n",
    "\n",
    "**Definición**: *Si la ecuación contiene derivadas parciales de una o más variables dependientes,\n",
    "entonces la ecuación se llama **ecuación diferencial parcial (EDP)**.*\n",
    "    \n",
    "</font>\n",
    "</div>"
   ]
  },
  {
   "cell_type": "markdown",
   "id": "71ed96e1",
   "metadata": {
    "slideshow": {
     "slide_type": "fragment"
    }
   },
   "source": [
    "<div class=\"alert alert-block alert-danger\">\n",
    "<font color=\"purple\" face=\"Ginebra\">\n",
    "    \n",
    "**Ejemplos**:\n",
    "\n",
    "\\begin{equation}\n",
    "    \\nabla^2 f=\\frac{\\partial^2 f}{\\partial x^2} + \\frac{\\partial^2 f}{\\partial y^2} + \\frac{\\partial^2 f}{\\partial z^2} = 0, \\quad\\ \\nabla\\cdot\\vec{J} = - \\frac{\\partial \\rho}{\\partial t}, \\quad\\dots \\nonumber\n",
    "\\end{equation}\n",
    "    \n",
    "</font>\n",
    "</div>"
   ]
  },
  {
   "cell_type": "markdown",
   "id": "75911be0",
   "metadata": {
    "slideshow": {
     "slide_type": "subslide"
    }
   },
   "source": [
    "<div class=\"alert alert-block alert-info\">\n",
    "<font color=\"blue\" face=\"Ginebra\">\n",
    "    \n",
    "**Definición**: *El **orden** de una ecuación diferencial (ya sea EDO o EDP) es el orden de la mayor derivada en la ecuación.*\n",
    "        \n",
    "</font>\n",
    "</div>"
   ]
  },
  {
   "cell_type": "markdown",
   "id": "7737c636",
   "metadata": {
    "slideshow": {
     "slide_type": "fragment"
    }
   },
   "source": [
    "<div class=\"alert alert-block alert-danger\">\n",
    "<font color=\"purple\" face=\"Ginebra\">\n",
    "        \n",
    "**Ejemplos**:\n",
    "    \n",
    "\\begin{equation}\n",
    "    T(t) = \\frac{1}{2}m \\left(\\dot{x}\\right)^2, \\quad\\ \\ddot{\\theta} + \\frac{g}{L}\\theta = 0, \\quad\\ \\frac{d^2y}{x^2} + 5 \\left(\\frac{dy}{x}\\right)^3 - 4 y= e^x, \\quad\\dots\\nonumber\n",
    "\\end{equation}\n",
    "    \n",
    "</font>\n",
    "</div>"
   ]
  },
  {
   "cell_type": "markdown",
   "id": "80808fb9",
   "metadata": {
    "slideshow": {
     "slide_type": "fragment"
    }
   },
   "source": [
    "<div class=\"alert alert-block alert-info\">\n",
    "<font color=\"blue\" face=\"Ginebra\">\n",
    "    \n",
    "*Simbólicamente podemos expresar una ecuación diferencial ordinaria de orden $n$ con una variable dependiente por la **forma general**.*\n",
    "    \n",
    "\\begin{equation}\\label{eq:eqd_fg}\n",
    "    F(x, y, y' , . . . , y^{(n)}) = 0,\n",
    "\\end{equation}\n",
    "    \n",
    "*o por su **forma normal**.*\n",
    "    \n",
    "\\begin{equation}\\label{eq:eqd_fn}\n",
    "    \\frac{d^n y}{dx^n} = f(x, y, y' , . . . , y^{(n-1)})\n",
    "\\end{equation}\n",
    "    \n",
    "</font>\n",
    "</div>"
   ]
  },
  {
   "cell_type": "markdown",
   "id": "ba829f8a",
   "metadata": {
    "slideshow": {
     "slide_type": "subslide"
    }
   },
   "source": [
    "<div class=\"alert alert-block alert-info\">\n",
    "<font color=\"blue\" face=\"Ginebra\">\n",
    "    \n",
    "**Definición**: *Una ecuación diferencial ordinaria (de orden $n$) es **lineal** si es de la forma:*\n",
    "    \n",
    "\\begin{equation}\\label{eq:eqd_l}\n",
    "    a_n(x)y^{(n)} + a_{n-1}(x)y^{(n-1)} + \\cdots + a_1(x)y' + a_0(x)y + f(x) = 0 \n",
    "\\end{equation}\n",
    "    \n",
    "*donde las funciones $a_i(x),\\, i = 0, 1, \\dots, n$, y $f(x)$ están dados y $a_n(x)$ no es identicamente cero.*\n",
    "    \n",
    "</font>\n",
    "</div>"
   ]
  },
  {
   "cell_type": "markdown",
   "id": "a29fd89f",
   "metadata": {
    "slideshow": {
     "slide_type": "fragment"
    }
   },
   "source": [
    "<div class=\"alert alert-block alert-danger\">\n",
    "<font color=\"purple\" face=\"Ginebra\">\n",
    "    \n",
    "<small> *Dos casos especiales importantes de la ecuación (\\ref{eq:eqd_l}) son las ED lineales de primer orden ($n = 1$) y de segundo orden ($n = 2$):*\n",
    "    \n",
    "\\begin{equation}\\nonumber\n",
    "    a_1(x)\\frac{dy}{dx} + a_0(x)y = f(x) \\quad\\text{y}\\quad\\ a_2(x)\\frac{d^2y}{dx^2} + a_1(x)\\frac{dy}{dx} + a_0(x)y = f(x)\n",
    "\\end{equation}\n",
    "    \n",
    "</font>\n",
    "</div>"
   ]
  },
  {
   "cell_type": "markdown",
   "id": "45f7d1f7",
   "metadata": {
    "slideshow": {
     "slide_type": "fragment"
    }
   },
   "source": [
    "<div class=\"alert alert-block alert-warning\">\n",
    "<font color=\"grey\" face=\"Ginebra\">\n",
    "    \n",
    "<small> **Nota**: *Las dos propiedades características de una EDO lineal son las siguientes:*\n",
    "            \n",
    "> <small> *La variable dependiente $y$ y todas sus derivadas $y', y'', \\dots , y^{(n)}$ son de primer grado, es decir, la potencia de cada término que contiene $y$ es igual a $1$.*\n",
    "            \n",
    "> <small> *Los coeficientes de $a_0, a_1, \\dots , a_n$ de $y, y', \\dots , y^{(n)}$ dependen a lo más de la variable independiente $x$.*\n",
    "    \n",
    "</font>\n",
    "</div>"
   ]
  },
  {
   "cell_type": "markdown",
   "id": "172bfc4d",
   "metadata": {
    "slideshow": {
     "slide_type": "subslide"
    }
   },
   "source": [
    "<div class=\"alert alert-block alert-info\">\n",
    "<font color=\"blue\" face=\"Ginebra\">\n",
    "    \n",
    "**Definición**: *Una ecuación diferencial ordinaria **no lineal** es simplemente no lineal, es decir, funciones no lineales de la variable dependiente o de sus derivadas.*\n",
    "    \n",
    "</font>\n",
    "</div>"
   ]
  },
  {
   "cell_type": "markdown",
   "id": "728dd4c2",
   "metadata": {
    "slideshow": {
     "slide_type": "fragment"
    }
   },
   "source": [
    "<div class=\"alert alert-block alert-danger\">\n",
    "    <font color=\"purple\" face=\"Ginebra\">\n",
    "        \n",
    "**Ejemplos**:\n",
    "        \n",
    "\\begin{equation}\n",
    "    \\color{blue}{(1-y)y'} + y = e^x, \\quad\\ \\frac{d^2y}{dx^2} + \\color{blue}{\\sin(y)} = 0, \\quad\\ \\frac{d^3y}{dx^3} + \\color{blue}{y^2} = 0,\\quad\\dots \\nonumber\n",
    "\\end{equation}\n",
    "        \n",
    "</font>\n",
    "</div>"
   ]
  },
  {
   "cell_type": "markdown",
   "id": "fe6fca4d",
   "metadata": {
    "slideshow": {
     "slide_type": "fragment"
    }
   },
   "source": [
    "<div class=\"alert alert-block alert-info\">\n",
    "<font color=\"blue\" face=\"Ginebra\">\n",
    "    \n",
    "**Definición**: *Si $f(x) = 0$, se dice que la ecuación (\\ref{eq:eqd_l}) es una **ecuación diferencial lineal homogénea**.*\n",
    "    \n",
    "\\begin{equation}\\label{eq:eqd_h}\n",
    "    a_n(x)y^{(n)} + a_{n-1}(x)y^{(n-1)} + \\cdots + a_1(x)y' + a_0(x)y = 0 \n",
    "\\end{equation}\n",
    "    \n",
    "</font>\n",
    "</div>"
   ]
  },
  {
   "cell_type": "markdown",
   "id": "f0134160",
   "metadata": {
    "slideshow": {
     "slide_type": "subslide"
    }
   },
   "source": [
    "*Wolfram Language nos permite identificar que tipo de ED tenemos, esto mediante el comando **WolframAlpha**, de la siguiente manera:*\n",
    "\n",
    "> <small>WolframAlpha[\"ecuación diferencial\",{{\"ODEClassification\",1},\"Plaintext\"}]\n",
    "\n",
    "Para mostrar como funciona este comando, lo aplicaremos a la ED: $y''(t) = \\big(y(t) t\\big)^2$"
   ]
  },
  {
   "cell_type": "code",
   "execution_count": 12,
   "id": "f16fd7fa",
   "metadata": {
    "scrolled": true,
    "slideshow": {
     "slide_type": "fragment"
    }
   },
   "outputs": [
    {
     "data": {
      "text/html": [
       "<div><pre style=\"&#102;&#111;&#110;&#116;&#45;&#102;&#97;&#109;&#105;&#108;&#121;&#58;&#32;&#34;&#67;&#111;&#117;&#114;&#105;&#101;&#114;&#32;&#78;&#101;&#119;&#34;&#44;&#67;&#111;&#117;&#114;&#105;&#101;&#114;&#44;&#109;&#111;&#110;&#111;&#115;&#112;&#97;&#99;&#101;&#59;\">&#115;&#101;&#99;&#111;&#110;&#100;&#45;&#111;&#114;&#100;&#101;&#114;&#32;&#110;&#111;&#110;&#108;&#105;&#110;&#101;&#97;&#114;&#32;&#111;&#114;&#100;&#105;&#110;&#97;&#114;&#121;&#32;&#100;&#105;&#102;&#102;&#101;&#114;&#101;&#110;&#116;&#105;&#97;&#108;&#32;&#101;&#113;&#117;&#97;&#116;&#105;&#111;&#110;</pre></div>"
      ],
      "text/plain": [
       "second-order nonlinear ordinary differential equation"
      ]
     },
     "execution_count": 12,
     "metadata": {
      "text/html": [],
      "text/plain": []
     },
     "output_type": "execute_result"
    }
   ],
   "source": [
    "WolframAlpha[\"y''[t] == (y[t]*t)^2\", {{\"ODEClassification\",1},\"Plaintext\"}]"
   ]
  },
  {
   "cell_type": "markdown",
   "id": "4c2595c1",
   "metadata": {
    "slideshow": {
     "slide_type": "subslide"
    }
   },
   "source": [
    "### <font color=\"gren\">**Sistemas de ecuaciones diferenciales**</font>"
   ]
  },
  {
   "cell_type": "markdown",
   "id": "2f88b9b5",
   "metadata": {
    "slideshow": {
     "slide_type": "fragment"
    }
   },
   "source": [
    "<div class=\"alert alert-block alert-info\">\n",
    "<font color=\"blue\" face=\"Ginebra\">\n",
    "    \n",
    "**Definición**: *Un **sistema de ecuaciones diferenciales ordinarias** tiene dos o más ecuaciones que implican derivadas de dos o más funciones incógnitas de una sola variable independiente.*\n",
    "    \n",
    "</font>\n",
    "</div>"
   ]
  },
  {
   "cell_type": "markdown",
   "id": "4a110ee1",
   "metadata": {
    "slideshow": {
     "slide_type": "fragment"
    }
   },
   "source": [
    "<div class=\"alert alert-block alert-danger\">\n",
    "<font color=\"purple\" face=\"Ginebra\">\n",
    "    \n",
    "**Ejemplo**: *Modelo depredador-presa de Lotka-Volterra*\n",
    "    \n",
    "\\begin{equation} \\nonumber\n",
    "    \\left\\{\n",
    "        \\frac{dP}{dt} = r_1 P - a_1 PD \\atop\n",
    "        \\frac{dD}{dt} = a_2 PD - r_2 D\n",
    "    \\right.\n",
    "\\end{equation}\n",
    "    \n",
    "</font>\n",
    "</div>"
   ]
  },
  {
   "cell_type": "markdown",
   "id": "abd0acaa",
   "metadata": {
    "slideshow": {
     "slide_type": "subslide"
    }
   },
   "source": [
    "### <font color=\"gren\">**Solucion de ecuaciones diferenciales**</font>"
   ]
  },
  {
   "cell_type": "markdown",
   "id": "80aa1569",
   "metadata": {
    "slideshow": {
     "slide_type": "fragment"
    }
   },
   "source": [
    "<div class=\"alert alert-block alert-info\">\n",
    "<font color=\"blue\" face=\"Ginebra\">\n",
    "    \n",
    "**Definición**: *Una **solución** a la ecuación diferencial ordinaria de orden $n$*\n",
    "    \n",
    "\\begin{equation}\n",
    "    F(x, y, y', y'', \\dots, y^{(n)}) = 0 \\nonumber\n",
    "\\end{equation}\n",
    "    \n",
    "*en el intervalo $a < x < b$ es una función $\\phi(x)$ que es continua en el intervalo $a < x < b$ y tiene todas las derivadas presentes en la ecuación diferencial tales que*\n",
    "    \n",
    "\\begin{equation}\n",
    "    F(x, \\phi(x), \\phi'(x), \\phi''(x), \\dots, \\phi^{(n)}(x)) = 0 \\nonumber\n",
    "\\end{equation}\n",
    "    \n",
    "*en $a < x < b$.*\n",
    "    \n",
    "</font>\n",
    "</div>"
   ]
  },
  {
   "cell_type": "markdown",
   "id": "a0ae9a8c",
   "metadata": {
    "slideshow": {
     "slide_type": "fragment"
    }
   },
   "source": [
    "<div class=\"alert alert-block alert-danger\">\n",
    "<font color=\"purple\" face=\"Ginebra\">\n",
    "    \n",
    "**Ejemplo**: *La ecuación diferencial $y' - y = 0$, tiene como solución $\\phi(x) = C e^x$. Veamos que $\\phi$ si es solución:*\n",
    "    \n",
    "\\begin{equation} \\nonumber\n",
    "    \\text{Como } \\phi(x) = C e^x \\quad\\Rightarrow\\quad\\ \\phi'(x) = C e^x \\atop\n",
    "    \\text{Por lo tanto si } y = \\phi(x)  \\quad\\Rightarrow\\quad\\ y' - y = 0\n",
    "\\end{equation}\n",
    "    \n",
    "</font>\n",
    "</div>"
   ]
  },
  {
   "cell_type": "markdown",
   "id": "2cd2495e",
   "metadata": {
    "slideshow": {
     "slide_type": "subslide"
    }
   },
   "source": [
    "*El lenguaje de programación de Wolfram Language nos permite comprobar si una función es solución de una ecuación diferencial. En este caso aplicaremos la función **Simplify**, la estructura de esta función es de la forma:*\n",
    "\n",
    "> <small>Simplify[ecuacion] $\\quad\\text{ o }\\quad$ ecuacion//Simplify"
   ]
  },
  {
   "cell_type": "code",
   "execution_count": 1,
   "id": "4f86089d",
   "metadata": {
    "slideshow": {
     "slide_type": "fragment"
    }
   },
   "outputs": [
    {
     "data": {
      "text/html": [
       "<div><img alt=\"Output\" src=\"data:image/png;base64,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\"></div>"
      ],
      "text/plain": [
       "   x\n",
       "C e  (-1 + Log[e]) == 0"
      ]
     },
     "execution_count": 3,
     "metadata": {
      "text/html": [],
      "text/plain": []
     },
     "output_type": "execute_result"
    }
   ],
   "source": [
    "eqd = f'[x] - f[x] == 0;  (*de esta manera defino mi ecuación*)\n",
    "f[x_] := C*e^x  (*de esta manera defino mi función solución*)\n",
    "Simplify[eqd] (*Pedimos a wolfran que simplifique la ecuacion eqd con la función solución dada*)"
   ]
  },
  {
   "cell_type": "code",
   "execution_count": 4,
   "id": "f9dd4496",
   "metadata": {
    "slideshow": {
     "slide_type": "fragment"
    }
   },
   "outputs": [
    {
     "data": {
      "text/html": [
       "<div><img alt=\"Output\" src=\"data:image/png;base64,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\"></div>"
      ],
      "text/plain": [
       "   x\n",
       "C e  (-1 + Log[e]) == 0"
      ]
     },
     "execution_count": 4,
     "metadata": {
      "text/html": [],
      "text/plain": []
     },
     "output_type": "execute_result"
    }
   ],
   "source": [
    "eqd//Simplify"
   ]
  },
  {
   "cell_type": "code",
   "execution_count": 5,
   "id": "fee99049",
   "metadata": {
    "slideshow": {
     "slide_type": "fragment"
    }
   },
   "outputs": [
    {
     "data": {
      "text/html": [
       "<div><img alt=\"Output\" src=\"data:image/png;base64,iVBORw0KGgoAAAANSUhEUgAAADoAAAAfCAIAAAA5uEn6AAAA0XpUWHRSYXcgcHJvZmlsZSB0eXBlIGV4aWYAAHjabU9RjkQhCPv3FHMEBSx6HN88TeYGe/wFJZm8zTaRYimIaf58Vno5qOQkVRs6kA3SpdOwpOWDwyX3HTd4RK089VRW6MOk+i1ghn49dcVhan8GZYqX/AXLWaIhBjEdvcQmV/hptPYYtK61EQvvWqz+711YCRVFxaJQVkW3vCVLjVApV8XCGzBjwU1Z3sYTqtYGdQcPb3TQ1Kd7JrAJt3+B/RAPY7FI7K2uDmYuJ9Jt97o9/p1f5i5ciS0S//sAAAAJcEhZcwAAFiUAABYlAUlSJPAAAAA8dEVYdFNvZnR3YXJlAENyZWF0ZWQgd2l0aCB0aGUgV29sZnJhbSBMYW5ndWFnZSA6IHd3dy53b2xmcmFtLmNvbVyipoUAAAAhdEVYdENyZWF0aW9uIFRpbWUAMjAyMjowNDoyNSAyMDozMTozMX1QbmgAAAJzSURBVFiF7ZexiuJQFIb/WezlgpWFiFoKNilERLBR0cZCSXwBSXpBwSdIXiDaWYkPoEIUtIhYiEUE21hYWBkEXyBT3CWbjaMzZjazCn6VHn8P/zncnHvyZpomnodf/9vAfbzsesnLrpf4ACwWi+VyeVsXCoU4jvsRSzcxTVMUxU9l+XzefAB8AFKplN3xbDZTFCUajdbrdSsYCoW8aNbdXFZArT9IOx34XFQ4GAz2+32lUolEIgDG4/F2u6UVJhIJu1KSJACW8tM4AMMwptPpfr8HEI/Hi8Xid7ubz+cBqKqqaVo0GrVnEwTBrqRBVVUdGa7FRVEkhNgTEkJGo5ElcD/I+v1+NpvVdZ1lWVEUaQ2yLC8WC3cJ2+12s9kE0Ol0VFUdjUYsy55Op1Kp9Cen6+7S0u0dYhgGfzeYyr7SXU3TaEJN0+xKQRAAMAzz3e4SQubzeTqdtiLVahXAbrdzka3b7dJSHae/0WgAWK/XNK2bR43SarUcqelAdDfyJpMJAL/ff+0sHQ6HSCTi3u4l6XTa3uy70HUdAD27N/iXdr+PIAjhcPjDn4LBIB7HLiHkdDplMpnbm8lPbGTn89n+lT5VDnK5HIBer3c7lbd26WgbDodWZDAY8Dx/qSyXywAURbksxjCMzWZDP3trl442WZYLhYIkSYVCoVarEUIcdyEAjuNobTzPx2KxdrstSRL9SyAQUBTlt871NSGK4jWBxfF4tO4UCsMwmqZZ17hDTC8FBwzDWMo38+LFnW7rN/ZxuuKkUqkvji1rB7JWFseSZGe3261WK7ri+P3+ZDJpn+4f2H1knuxd7WXXS152veTJ7L4DvjRNuUGV0Z8AAAAASUVORK5CYII=\"></div>"
      ],
      "text/plain": [
       "True"
      ]
     },
     "execution_count": 5,
     "metadata": {
      "text/html": [],
      "text/plain": []
     },
     "output_type": "execute_result"
    }
   ],
   "source": [
    "Simplify[eqd]/.Log[e] -> 1"
   ]
  },
  {
   "cell_type": "markdown",
   "id": "e739ff84",
   "metadata": {
    "slideshow": {
     "slide_type": "subslide"
    }
   },
   "source": [
    "<div class=\"alert alert-block alert-info\">\n",
    "<font color=\"blue\" face=\"Ginebra\">\n",
    "    \n",
    "**Definición**:*Una solución en la cual la variable dependiente se expresa sólo en términos de la variable\n",
    "independiente y las constantes, $y=\\phi(x)$, se dice que es una **solución explícita**.*\n",
    "    \n",
    "</font>\n",
    "</div>"
   ]
  },
  {
   "cell_type": "markdown",
   "id": "662a8bcd",
   "metadata": {
    "slideshow": {
     "slide_type": "fragment"
    }
   },
   "source": [
    "<div class=\"alert alert-block alert-info\">\n",
    "<font color=\"blue\" face=\"Ginebra\">\n",
    "    \n",
    "**Definición**: *Se dice que una relación $G(x, y) = 0$ es una **solución implícita** de una ecuación\n",
    "diferencial ordinaria (\\ref{eq:eqd_fg}) en un intervalo $I$, suponiendo que existe al menos una función $\\phi$ que satisface la relación así como la ecuación diferencial en el intervalo $I$.*\n",
    "    \n",
    "</font>\n",
    "</div>"
   ]
  },
  {
   "cell_type": "markdown",
   "id": "edb8bc6c",
   "metadata": {
    "slideshow": {
     "slide_type": "fragment"
    }
   },
   "source": [
    "<div class=\"alert alert-block alert-info\">\n",
    "<font color=\"blue\" face=\"Ginebra\">\n",
    "    \n",
    "**Definición**: *Cuando resolvemos una ecuación diferencial de orden $n$ (\\ref{eq:eqd_fg}), normalmente obtenemos una solución que contiene $n$ parámetros $(C_1, C_2, \\dots, C_n)$. La solución que contiene estas constantes arbitrarias representa un conjunto, $G(x, y, C_1, C_2, \\dots , C_n) = 0$, de soluciones llamado **familia de soluciones n-paramétrica**. Una solución de una ecuación diferencial que está libre de la elección de parámetros se llama **solución particular**.*\n",
    "    \n",
    "</font>\n",
    "</div>"
   ]
  },
  {
   "cell_type": "markdown",
   "id": "089c87fc",
   "metadata": {
    "slideshow": {
     "slide_type": "subslide"
    }
   },
   "source": [
    "<div class=\"alert alert-block alert-danger\">\n",
    "<font color=\"purple\" face=\"Ginebra\">\n",
    "    \n",
    "<small> **Ejemplo**: *La ecuación diferencial $y' - y = 0$, tiene como solución $\\phi(x) = C e^x$.*\n",
    "    \n",
    "<small> *Para ver la familia de soluciones podemos graficar la función $\\phi(x) = C e^x$ con alunos valores para $C$.*\n",
    "    \n",
    "    \n",
    "<small> *Para graficar usamos la función **Plot**. de la siguiente manera:*\n",
    "> <small> Plot[f[x], {x, xmin, x,ax}]\n",
    "    \n",
    "</font>\n",
    "</div>"
   ]
  },
  {
   "cell_type": "code",
   "execution_count": 6,
   "id": "470b766f",
   "metadata": {
    "slideshow": {
     "slide_type": "fragment"
    }
   },
   "outputs": [
    {
     "data": {
      "text/html": [
       "<div><img alt=\"Output\" src=\"data:image/png;base64,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\"></div>"
      ],
      "text/plain": [
       "Legended[-Graphics-, Placed[LineLegend[{Directive[Opacity[1.], \n",
       " \n",
       ">       RGBColor[0.368417, 0.506779, 0.709798], AbsoluteThickness[1.6]], \n",
       " \n",
       ">      Directive[Opacity[1.], RGBColor[0.880722, 0.611041, 0.142051], \n",
       " \n",
       ">       AbsoluteThickness[1.6]], Directive[Opacity[1.], \n",
       " \n",
       ">       RGBColor[0.560181, 0.691569, 0.194885], AbsoluteThickness[1.6]], \n",
       " \n",
       ">      Directive[Opacity[1.], RGBColor[0.922526, 0.385626, 0.209179], \n",
       " \n",
       ">       AbsoluteThickness[1.6]], Directive[Opacity[1.], \n",
       " \n",
       ">       RGBColor[0.528488, 0.470624, 0.701351], AbsoluteThickness[1.6]], \n",
       " \n",
       ">      Directive[Opacity[1.], RGBColor[0.772079, 0.431554, 0.102387], \n",
       " \n",
       ">       AbsoluteThickness[1.6]], Directive[Opacity[1.], \n",
       " \n",
       ">       RGBColor[0.363898, 0.618501, 0.782349], AbsoluteThickness[1.6]]}, \n",
       " \n",
       "           x      x    x      x     x     x\n",
       ">     {-3 E , -2 E , -E , 0, E , 2 E , 3 E }, LegendMarkers -> None, LabelStyle -> {}, \n",
       " \n",
       ">     LegendLayout -> Column], After, Identity]]"
      ]
     },
     "execution_count": 6,
     "metadata": {
      "text/html": [],
      "text/plain": []
     },
     "output_type": "execute_result"
    }
   ],
   "source": [
    "Plot[Evaluate[C*Exp[x]/.C->Range[-3, 3]], {x, 0, 5}, PlotLegends->\"Expressions\"]"
   ]
  },
  {
   "cell_type": "markdown",
   "id": "f0a8ce08",
   "metadata": {
    "slideshow": {
     "slide_type": "subslide"
    }
   },
   "source": [
    "<div class=\"alert alert-block alert-warning\">\n",
    "<font color=\"grey\" face=\"Ginebra\">\n",
    "    \n",
    "<small> **Nota**: *Algunas veces una ecuación diferencial tiene una solución que no es miembro de una familia de soluciones de la ecuación, esto es, una solución que no se puede obtener usando un parámetro específico de la familia de soluciones. Esa solución extra se llama **solución singular**.*\n",
    "    \n",
    "</font>\n",
    "</div>"
   ]
  },
  {
   "cell_type": "markdown",
   "id": "1921651c",
   "metadata": {
    "slideshow": {
     "slide_type": "fragment"
    }
   },
   "source": [
    "<div class=\"alert alert-block alert-warning\">\n",
    "<font color=\"grey\" face=\"Ginebra\">\n",
    "    \n",
    "<small> **Nota**: *Una solución de una ecuación diferencial que es igual a cero en un intervalo $I$ se dice que es la **solución trivial**.*\n",
    "    \n",
    "</font>\n",
    "</div>"
   ]
  },
  {
   "cell_type": "markdown",
   "id": "22d793e9",
   "metadata": {
    "slideshow": {
     "slide_type": "fragment"
    }
   },
   "source": [
    "<div class=\"alert alert-block alert-danger\">\n",
    "<font color=\"purple\" face=\"Ginebra\">\n",
    "        \n",
    "<small> **Ejemplo**: *La ecuación diferencial $y' = x\\sqrt{y}$, tiene como soluciones $y = \\frac{1}{16}(x^2 + C)^2$ y $y = 0$.*\n",
    "            \n",
    "</font>\n",
    "</div>"
   ]
  },
  {
   "cell_type": "markdown",
   "id": "1408f95d",
   "metadata": {
    "slideshow": {
     "slide_type": "fragment"
    }
   },
   "source": [
    "<small> *En Wolfram Language el comando **DSolve** se utiliza para resolver ED: su estructura es la siguiente*\n",
    "> <small> DSolve[ecuación diferencial, función incógnita, variable]"
   ]
  },
  {
   "cell_type": "code",
   "execution_count": 8,
   "id": "52bb828d",
   "metadata": {
    "slideshow": {
     "slide_type": "fragment"
    }
   },
   "outputs": [
    {
     "data": {
      "text/html": [
       "<div><img alt=\"Output\" src=\"data:image/png;base64,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\"></div>"
      ],
      "text/plain": [
       "            2          2\n",
       "          (x  + 2 C[1])\n",
       "{{y[x] -> --------------}}\n",
       "                16"
      ]
     },
     "execution_count": 8,
     "metadata": {
      "text/html": [],
      "text/plain": []
     },
     "output_type": "execute_result"
    }
   ],
   "source": [
    "DSolve[y'[x] == x*Sqrt[y[x]], y[x], x]//Simplify"
   ]
  },
  {
   "cell_type": "markdown",
   "id": "c8c2714a",
   "metadata": {
    "slideshow": {
     "slide_type": "subslide"
    }
   },
   "source": [
    "### <font color=\"gren\">**Condiciones iniciales y valores en la frontera**</font>"
   ]
  },
  {
   "cell_type": "markdown",
   "id": "45035c5b",
   "metadata": {
    "slideshow": {
     "slide_type": "fragment"
    }
   },
   "source": [
    "*En muchas aplicaciones, no solo se nos da una ecuación diferencial para resolver, sino que también se dan una o más **condiciones auxiliares** que tambien deben ser satisfechas por la(s) solución(es).*"
   ]
  },
  {
   "cell_type": "markdown",
   "id": "8c219c62",
   "metadata": {
    "slideshow": {
     "slide_type": "fragment"
    }
   },
   "source": [
    "<div class=\"alert alert-block alert-info\">\n",
    "<font color=\"blue\" face=\"Ginebra\">\n",
    "    \n",
    "**Definición**: *Si toda solución de una EDO de orden $n$, $F(x, y, y', \\dots, y^{(n)}) = 0$, en un intervalov$I$ se puede obtener a partir de una familia con n-parámetros, $G(x, y, C_1, C_2, \\dots, C_n) = 0$, eligiendo apropiadamente los parámetros $C_i, i = 1, 2, \\dots, n$, entonces diremos que la familia es la **solución general** de la ED.*\n",
    "    \n",
    "</font>\n",
    "</div>"
   ]
  },
  {
   "cell_type": "markdown",
   "id": "414f713b",
   "metadata": {
    "slideshow": {
     "slide_type": "fragment"
    }
   },
   "source": [
    "*Debido a que las ecuaciones de primer orden implican una sola $\\color{cyan}{\\text{condición auxiliar}}$, que es generalmente referida como una **condición inicial**, usamos los siguientes ejemplos para distinguir entre problemas de **valores iniciales** y de **valores en la frontera** que involucran ecuaciones*"
   ]
  },
  {
   "cell_type": "markdown",
   "id": "43c85a42",
   "metadata": {
    "slideshow": {
     "slide_type": "subslide"
    }
   },
   "source": [
    "<div class=\"alert alert-block alert-danger\">\n",
    "<font color=\"purple\" face=\"Ginebra\">\n",
    "    \n",
    "<small> **Ejemplo**: *Considere la ecuación diferencial de segundo orden $x'' + x = 0$, que modela el movimiento de una masa, con $m = 1$, unida a la extremo de un resorte con constante de resorte $k = 1$, donde $x(t)$ representa el desplazamiento de la masa desde la posición de equilibrio $x = 0$ en el tiempo $t$. Se encuentra que una solución general de esta ecuación diferencial es $x(t) = A \\cos(x) + B\\sin(x)$, donde $A$ y $B$ son constantes arbitrarias.*\n",
    "\n",
    "<small> *Debido a que esta es una ecuación de segundo orden, necesitamos dos condiciones auxiliares para determinar las dos constantes desconocidas. Supongamos que la inicial el desplazamiento de la masa es $x(0) = 0$ y la velocidad inicial es $x'(0) = 1$. Este es un **problema de valor inicial** porque tenemos dos condiciones auxiliares dadas en el mismo valor de $t$, a saber, $t = 0$. Use estas condiciones iniciales para determinar la solución de este problema.*\n",
    "    \n",
    "</font>\n",
    "</div>"
   ]
  },
  {
   "cell_type": "markdown",
   "id": "6c460e6e",
   "metadata": {
    "slideshow": {
     "slide_type": "fragment"
    }
   },
   "source": [
    "<div class=\"alert alert-block alert-danger\">\n",
    "<font color=\"purple\" face=\"Ginebra\">\n",
    "    \n",
    "**Solución**: *Aplicando la primer condición auxiliar: posición inicial, tenemos*\n",
    "        \n",
    "\\begin{equation}\n",
    "    x(0) = A \\cos(0) + B \\sin(0) = A =0 \\nonumber\n",
    "\\end{equation}\n",
    "        \n",
    "*Necesitamos la primera derivada de la solución general,*\n",
    "        \n",
    "\\begin{equation}\n",
    "    x'(t) =  B \\cos(t) - A \\sin (t) \\nonumber\n",
    "\\end{equation}\n",
    "        \n",
    "*Sustituyendo en la condición auxiliar: velocidad inicial, tenemos*\n",
    "        \n",
    "\\begin{equation}\n",
    "    x'(0) =  B \\cos(0) - A \\sin(0) = B = 1 \\nonumber\n",
    "\\end{equation}\n",
    "        \n",
    "*Por lo tanto, la solución es $x(t) = \\sin(x)$*\n",
    "        \n",
    "</font>\n",
    "</div>"
   ]
  },
  {
   "cell_type": "markdown",
   "id": "fd60c0c5",
   "metadata": {
    "slideshow": {
     "slide_type": "subslide"
    }
   },
   "source": [
    "*El comando **Solve** de Wolfram Language se utiliza para resolver sistemas de ecuaciones algebraicas, la estructura de la función es:*\n",
    "    \n",
    "> <small> Solve[{ecuación$1$, ecuación$2$, $\\dots$, ecuación$n$}, [incognitas}]"
   ]
  },
  {
   "cell_type": "code",
   "execution_count": 15,
   "id": "38c10f57",
   "metadata": {
    "slideshow": {
     "slide_type": "fragment"
    }
   },
   "outputs": [
    {
     "data": {
      "text/html": [
       "<div><img alt=\"Output\" src=\"data:image/png;base64,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\"></div>"
      ],
      "text/plain": [
       "{{A -> 0, B -> 1}}"
      ]
     },
     "execution_count": 16,
     "metadata": {
      "text/html": [],
      "text/plain": []
     },
     "output_type": "execute_result"
    }
   ],
   "source": [
    "x[t_] := A*Cos[t] + B*Sin[t]\n",
    "Solve[{x[0] == 0, x'[0] == 1}, {A, B}]//Simplify"
   ]
  },
  {
   "cell_type": "markdown",
   "id": "09aaaf63",
   "metadata": {
    "slideshow": {
     "slide_type": "subslide"
    }
   },
   "source": [
    "<div class=\"alert alert-block alert-danger\">\n",
    "<font color=\"purple\" face=\"Ginebra\">\n",
    "    \n",
    "**Ejemplo**: *La forma de una viga flexible de longitud $1\\,unidad$ que es sometido a una fuerza de compresión en un extremo se escribe mediante la gráfica de la solución $y(x)$ de la ecuación diferencial $\\frac{d^2y}{dx^2} + \\frac{\\pi^2}{4}y = 0$, $0 < x <1$. Si la altura de la viga sobre el eje $x$ se conoce en los puntos extremos $x = 0$ y $x = 1$, entonces tenemos un **problema de valores en la frontera**. Usa las condiciones en los límites $y(0) = 0$ y $y(1) = 2$ para encontrar la forma de la viga.*\n",
    "    \n",
    "</font>\n",
    "</div>"
   ]
  },
  {
   "cell_type": "code",
   "execution_count": 9,
   "id": "992d1b81",
   "metadata": {
    "slideshow": {
     "slide_type": "notes"
    }
   },
   "outputs": [],
   "source": [
    "Sol = DSolveValue[{y''[x] + Pi/4 y[x] == 0, y[0] == 0, y[1] == 2}, y[x], x];"
   ]
  },
  {
   "cell_type": "code",
   "execution_count": 10,
   "id": "a959444e",
   "metadata": {
    "scrolled": true,
    "slideshow": {
     "slide_type": "fragment"
    }
   },
   "outputs": [
    {
     "data": {
      "text/html": [
       "<div><img alt=\"Output\" src=\"data:image/png;base64,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\"></div>"
      ],
      "text/plain": [
       "-Graphics-"
      ]
     },
     "execution_count": 10,
     "metadata": {
      "text/html": [],
      "text/plain": []
     },
     "output_type": "execute_result"
    }
   ],
   "source": [
    "Plot[Sol,{x, 0, 1}]"
   ]
  },
  {
   "cell_type": "markdown",
   "id": "0ebafaf9",
   "metadata": {
    "slideshow": {
     "slide_type": "subslide"
    }
   },
   "source": [
    "<div class=\"alert alert-block alert-danger\">\n",
    "<font color=\"purple\" face=\"Ginebra\">\n",
    "    \n",
    "**Solución**: *Primero, la solución general a esta ecuación es*\n",
    "\n",
    "\\begin{equation}\n",
    "    y(x) = A \\cos\\left(\\frac{\\pi}{2} x\\right) + B \\sin\\left(\\frac{\\pi}{2} x\\right) \\nonumber\n",
    "\\end{equation}\n",
    "    \n",
    "*Aplicando la condición $y(0) = 0$ en la solución general, tenemos*\n",
    "    \n",
    "\\begin{equation}\n",
    "    y(0) = A \\cos(0) + B \\sin(0) = A = 0 \\nonumber\n",
    "\\end{equation}\n",
    "    \n",
    "*De igual manera para la condición $y(1) = 2$, tenemos*\n",
    "    \n",
    "\\begin{equation}\n",
    "    y(1) = B \\sin\\left(\\frac{\\pi}{2}\\right) = B = 2 \\nonumber\n",
    "\\end{equation}\n",
    "    \n",
    "*Por lo que la solución al problema con valores en la frontera es $y(x) = 2 \\sin\\left(\\frac{\\pi}{2} x\\right)$, $0 < x < 1$.*\n",
    "    \n",
    "</font>\n",
    "</div>"
   ]
  },
  {
   "cell_type": "markdown",
   "id": "7dd4d3de",
   "metadata": {
    "slideshow": {
     "slide_type": "subslide"
    }
   },
   "source": [
    "*Comprovemos el resultado con Wolfram Language*"
   ]
  },
  {
   "cell_type": "code",
   "execution_count": 17,
   "id": "342a44d9",
   "metadata": {
    "slideshow": {
     "slide_type": "fragment"
    }
   },
   "outputs": [
    {
     "data": {
      "text/html": [
       "<div><img alt=\"Output\" src=\"data:image/png;base64,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\"></div>"
      ],
      "text/plain": [
       "{{A -> 0, B -> 2}}"
      ]
     },
     "execution_count": 18,
     "metadata": {
      "text/html": [],
      "text/plain": []
     },
     "output_type": "execute_result"
    }
   ],
   "source": [
    "y[x_] := A*Cos[(Pi/2)*x] + B*Sin[(Pi/2)*x]\n",
    "Solve[{y[0] == 0, y[1] == 2}, {A, B}]//Simplify"
   ]
  },
  {
   "cell_type": "markdown",
   "id": "a2dffd8a",
   "metadata": {
    "slideshow": {
     "slide_type": "subslide"
    }
   },
   "source": [
    "*Wolfram Language nos permite identificar que tipo de ED tenemos, esto mediante el comando **WolframAlpha**, de la siguiente manera:*\n",
    "\n",
    "> <small>WolframAlpha[\"ecuación diferencial\",{{\"ODEClassification\",1},\"Plaintext\"}]\n",
    "\n",
    "Para mostrar como funciona este comando, lo aplicaremos a la ED: $y''(t) = \\big(y(t) t\\big)^2$"
   ]
  },
  {
   "cell_type": "code",
   "execution_count": 12,
   "id": "78406921",
   "metadata": {
    "scrolled": true,
    "slideshow": {
     "slide_type": "fragment"
    }
   },
   "outputs": [
    {
     "data": {
      "text/html": [
       "<div><pre style=\"&#102;&#111;&#110;&#116;&#45;&#102;&#97;&#109;&#105;&#108;&#121;&#58;&#32;&#34;&#67;&#111;&#117;&#114;&#105;&#101;&#114;&#32;&#78;&#101;&#119;&#34;&#44;&#67;&#111;&#117;&#114;&#105;&#101;&#114;&#44;&#109;&#111;&#110;&#111;&#115;&#112;&#97;&#99;&#101;&#59;\">&#115;&#101;&#99;&#111;&#110;&#100;&#45;&#111;&#114;&#100;&#101;&#114;&#32;&#110;&#111;&#110;&#108;&#105;&#110;&#101;&#97;&#114;&#32;&#111;&#114;&#100;&#105;&#110;&#97;&#114;&#121;&#32;&#100;&#105;&#102;&#102;&#101;&#114;&#101;&#110;&#116;&#105;&#97;&#108;&#32;&#101;&#113;&#117;&#97;&#116;&#105;&#111;&#110;</pre></div>"
      ],
      "text/plain": [
       "second-order nonlinear ordinary differential equation"
      ]
     },
     "execution_count": 12,
     "metadata": {
      "text/html": [],
      "text/plain": []
     },
     "output_type": "execute_result"
    }
   ],
   "source": [
    "WolframAlpha[\"y''[t] == (y[t]*t)^2\", {{\"ODEClassification\",1},\"Plaintext\"}]"
   ]
  },
  {
   "cell_type": "code",
   "execution_count": null,
   "id": "59b5eae0",
   "metadata": {},
   "outputs": [],
   "source": []
  }
 ],
 "metadata": {
  "celltoolbar": "Slideshow",
  "hide_input": false,
  "kernelspec": {
   "display_name": "Python 3 (ipykernel)",
   "language": "python",
   "name": "python3"
  },
  "language_info": {
   "codemirror_mode": {
    "name": "ipython",
    "version": 3
   },
   "file_extension": ".py",
   "mimetype": "text/x-python",
   "name": "python",
   "nbconvert_exporter": "python",
   "pygments_lexer": "ipython3",
   "version": "3.9.7"
  },
  "latex_envs": {
   "LaTeX_envs_menu_present": true,
   "autoclose": true,
   "autocomplete": true,
   "bibliofile": "biblio.bib",
   "cite_by": "apalike",
   "current_citInitial": 1,
   "eqLabelWithNumbers": true,
   "eqNumInitial": 1,
   "hotkeys": {
    "equation": "Ctrl-E",
    "itemize": "Ctrl-I"
   },
   "labels_anchors": false,
   "latex_user_defs": false,
   "report_style_numbering": true,
   "user_envs_cfg": false
  },
  "nbTranslate": {
   "displayLangs": [
    "*"
   ],
   "hotkey": "alt-t",
   "langInMainMenu": true,
   "sourceLang": "en",
   "targetLang": "fr",
   "useGoogleTranslate": true
  },
  "toc": {
   "base_numbering": 1,
   "nav_menu": {},
   "number_sections": true,
   "sideBar": true,
   "skip_h1_title": true,
   "title_cell": "Table of Contents",
   "title_sidebar": "Contents",
   "toc_cell": false,
   "toc_position": {
    "height": "calc(100% - 180px)",
    "left": "10px",
    "top": "150px",
    "width": "298.792px"
   },
   "toc_section_display": true,
   "toc_window_display": true
  },
  "varInspector": {
   "cols": {
    "lenName": 16,
    "lenType": 16,
    "lenVar": 40
   },
   "kernels_config": {
    "python": {
     "delete_cmd_postfix": "",
     "delete_cmd_prefix": "del ",
     "library": "var_list.py",
     "varRefreshCmd": "print(var_dic_list())"
    },
    "r": {
     "delete_cmd_postfix": ") ",
     "delete_cmd_prefix": "rm(",
     "library": "var_list.r",
     "varRefreshCmd": "cat(var_dic_list()) "
    }
   },
   "types_to_exclude": [
    "module",
    "function",
    "builtin_function_or_method",
    "instance",
    "_Feature"
   ],
   "window_display": false
  }
 },
 "nbformat": 4,
 "nbformat_minor": 5
}
