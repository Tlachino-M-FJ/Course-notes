{
 "cells": [
  {
   "cell_type": "markdown",
   "id": "b24c8554",
   "metadata": {
    "slideshow": {
     "slide_type": "fragment"
    }
   },
   "source": [
    "> ## <font color=\"orange\"><b>Introducción a las ecuaciones diferenciales</font>"
   ]
  },
  {
   "cell_type": "markdown",
   "id": "5a20dd00",
   "metadata": {
    "slideshow": {
     "slide_type": "subslide"
    }
   },
   "source": [
    "<div class=\"alert alert-block alert-warning\">\n",
    "<font color=\"grey\" face=\"Ginebra\">\n",
    "\n",
    "<b>Nota</b>: <i>El estudio de las ecuaciones diferenciales es una parte de la Matemática que, quizá más que cualquier otra, ha sido directamente inspirada por la Mecánica, la Astronomía y la Física matemática. Su historia empezó en el siglo XVII cuando Newton, Leibniz y los Bernoulli resolvieron algunas ecuaciones diferenciales sencillas que se presentaron en problemas de Geometría y Mecánica.</i>\n",
    "\n",
    "</font>\n",
    "</div>"
   ]
  },
  {
   "cell_type": "markdown",
   "id": "0979b020",
   "metadata": {
    "slideshow": {
     "slide_type": "fragment"
    }
   },
   "source": [
    "*    <font color=\"gren\"><b>¿Qué es una ecuación diferencial?</b></font>\n",
    "\n",
    "*    <font color=\"gren\"><b>Tipos de ecuaciones diferenciales</b></font>\n",
    "\n",
    "*    <font color=\"gren\"><b>Sistemas de ecuaciones diferenciales</b></font>\n",
    "\n",
    "*    <font color=\"gren\"><b>Solucion de ecuaciones diferenciales</b></font>\n",
    "\n",
    "*    <font color=\"gren\"><b>Condiciones iniciales y valores en la frontera</b></font>"
   ]
  },
  {
   "cell_type": "markdown",
   "id": "a5ab70e9",
   "metadata": {
    "slideshow": {
     "slide_type": "slide"
    }
   },
   "source": [
    "### <font color=\"gren\"><b>¿Qué es una ecuación diferencial?</b></font>"
   ]
  },
  {
   "cell_type": "markdown",
   "id": "1ac617be",
   "metadata": {
    "slideshow": {
     "slide_type": "notes"
    }
   },
   "source": [
    "Para una gran variedad de problemas se desea determinar un elemento variable a partir de su coeficiente de variación."
   ]
  },
  {
   "cell_type": "markdown",
   "id": "8ccb669e",
   "metadata": {
    "slideshow": {
     "slide_type": "fragment"
    }
   },
   "source": [
    "<div class=\"alert alert-block alert-danger\">\n",
    "<font color=\"purple\" face=\"Ginebra\">\n",
    "\n",
    "<b>Ejemplo</b>: <i>Siendo $P = P(t)$ el tamaño de la población en el instante $t$, el modelo exponencial presupone que la tasa de aumento de la población es proporcional a la población en ese instante:</i>\n",
    "\n",
    "\\begin{equation*}\n",
    "    \\frac{dP}{dt} = k P \\quad\\ \\text{Ecuación malthusiana}\n",
    "\\end{equation*} \n",
    "\n",
    "<i>La ecuación malthusiana puede resultar adecuada cuando el tamaño de la población es pequeño en relación a las dimensiones del ecosistema y, en ese caso, $k$ representaría la tasa de aumento de la población que iguala a la tasa de natalidad menos la tasa de mortalidad.</i>\n",
    "\n",
    "</font>\n",
    "</div>"
   ]
  },
  {
   "cell_type": "markdown",
   "id": "9838a791",
   "metadata": {
    "slideshow": {
     "slide_type": "fragment"
    }
   },
   "source": [
    "<div class=\"alert alert-block alert-info\">\n",
    "<font color=\"blue\" face=\"Ginebra\">\n",
    "\n",
    "<b>Definición</b>: <i>Una <b>ecuación diferencial (ED)</b> es una ecuación que contiene la derivada o diferenciales de una o más variables dependientes con respecto a una o más variables independientes.</i>\n",
    "\n",
    "</font>\n",
    "</div>"
   ]
  },
  {
   "cell_type": "markdown",
   "id": "fa2fd8ae",
   "metadata": {
    "slideshow": {
     "slide_type": "slide"
    }
   },
   "source": [
    "### <font color=\"gren\"><b>Tipos de ecuaciones diferenciales</b></font>"
   ]
  },
  {
   "cell_type": "markdown",
   "id": "8012e0e8",
   "metadata": {
    "slideshow": {
     "slide_type": "fragment"
    }
   },
   "source": [
    "<div class=\"alert alert-block alert-warning\">\n",
    "<font color=\"grey\" face=\"Ginebra\">\n",
    " \n",
    "* <b>Tipo</b>\n",
    "    * <i>Ordinaria</i>\n",
    "    * <i>Parcial</i>\n",
    "* <b>Orden</b>\n",
    "* <b>Linealidad</b>\n",
    "    \n",
    "</font>\n",
    "</div>"
   ]
  },
  {
   "cell_type": "markdown",
   "id": "396c18f7",
   "metadata": {
    "slideshow": {
     "slide_type": "fragment"
    }
   },
   "source": [
    "\\begin{equation*}\n",
    "    \\color{blue}{\\text{ED}} \\left\\{\\begin{array}{ll}\n",
    "        \\color{orange}{\\text{Ordinarias}}& \\left\\{\\begin{array}{ll}\n",
    "            \\color{cyan}{\\text{Lineales}} & \\left\\{\\begin{array}{l}\n",
    "                \\color{blue}{\\text{Homogéneas}} & \\left\\{\\begin{array}{l}\n",
    "                    \\color{orange}{\\text{Coeficientes Constantes}}\n",
    "                \\end{array}\n",
    "                \\right. \\\\\n",
    "                \\color{blue}{\\text{No Homogéneas}}\n",
    "            \\end{array}\n",
    "            \\right. \\\\\n",
    "            &\\\\\n",
    "            \\color{cyan}{\\text{No Lineales}}\n",
    "        \\end{array}\n",
    "        \\right. \\\\\n",
    "        & \\\\\n",
    "        \\color{orange}{\\text{Parciales}}\n",
    "    \\end{array}\n",
    "    \\right.\n",
    "\\end{equation*}\n"
   ]
  },
  {
   "cell_type": "markdown",
   "id": "aa22cddd",
   "metadata": {
    "slideshow": {
     "slide_type": "subslide"
    }
   },
   "source": [
    "<div class=\"alert alert-block alert-info\">\n",
    "<font color=\"blue\" face=\"Ginebra\">\n",
    "\n",
    "<b>Definición</b>: <i>Si la ecuación contiene sólo derivadas (de una o más variables dependientes) con respecto a una sola variable independiente, la ecuación se llama <b>ecuación diferencial ordinaria (EDO)</b>.</i>\n",
    "\n",
    "</font>\n",
    "</div>"
   ]
  },
  {
   "cell_type": "markdown",
   "id": "c598d94b",
   "metadata": {
    "slideshow": {
     "slide_type": "fragment"
    }
   },
   "source": [
    "<div class=\"alert alert-block alert-danger\">\n",
    "<font color=\"purple\" face=\"Ginebra\">\n",
    "\n",
    "<b>Ejemplos</b>:\n",
    "\n",
    "\\begin{equation*}\n",
    "    \\ddot{\\theta} + \\frac{g}{L}\\theta = 0, \\quad\\ P' = rP\\left(1-\\frac{P}{k}\\right), \\quad\\ \\frac{dx}{dt} + \\frac{dy}{dt} = 2x + y, \\quad\\dots\n",
    "\\end{equation*}\n",
    "\n",
    "</font>\n",
    "</div>"
   ]
  },
  {
   "cell_type": "markdown",
   "id": "533fb234",
   "metadata": {
    "slideshow": {
     "slide_type": "subslide"
    }
   },
   "source": [
    "<div class=\"alert alert-block alert-info\">\n",
    "<font color=\"blue\" face=\"Ginebra\">\n",
    "\n",
    "<b>Definición</b>: <i>Si la ecuación contiene derivadas parciales de una o más variables dependientes,\n",
    "entonces la ecuación se llama <b>ecuación diferencial parcial (EDP)</b>.</i>\n",
    "    \n",
    "</font>\n",
    "</div>"
   ]
  },
  {
   "cell_type": "markdown",
   "id": "71ed96e1",
   "metadata": {
    "slideshow": {
     "slide_type": "fragment"
    }
   },
   "source": [
    "<div class=\"alert alert-block alert-danger\">\n",
    "<font color=\"purple\" face=\"Ginebra\">\n",
    "    \n",
    "<b>Ejemplos</b>:\n",
    "\n",
    "\\begin{equation*}\n",
    "    \\nabla^2 f=\\frac{\\partial^2 f}{\\partial x^2} + \\frac{\\partial^2 f}{\\partial y^2} + \\frac{\\partial^2 f}{\\partial z^2} = 0, \\quad\\ \\nabla\\cdot\\vec{J} = - \\frac{\\partial \\rho}{\\partial t}, \\quad\\dots\n",
    "\\end{equation*}\n",
    "    \n",
    "</font>\n",
    "</div>"
   ]
  },
  {
   "cell_type": "markdown",
   "id": "75911be0",
   "metadata": {
    "slideshow": {
     "slide_type": "subslide"
    }
   },
   "source": [
    "<div class=\"alert alert-block alert-info\">\n",
    "<font color=\"blue\" face=\"Ginebra\">\n",
    "    \n",
    "<b>Definición</b> <i>El <b>orden</b> de una ecuación diferencial (ya sea EDO o EDP) es el orden de la mayor derivada en la ecuación.</i>\n",
    "        \n",
    "</font>\n",
    "</div>"
   ]
  },
  {
   "cell_type": "markdown",
   "id": "7737c636",
   "metadata": {
    "slideshow": {
     "slide_type": "fragment"
    }
   },
   "source": [
    "<div class=\"alert alert-block alert-danger\">\n",
    "<font color=\"purple\" face=\"Ginebra\">\n",
    "        \n",
    "<b>Ejemplos</b>:\n",
    "    \n",
    "\\begin{equation*}\n",
    "    T(t) = \\frac{1}{2}m\\dot{x}^2, \\quad\\ \\ddot{\\theta} + \\frac{g}{L}\\theta = 0, \\quad\\ \\frac{d^2y}{dx^2} + 5 \\left(\\frac{dy}{dx}\\right)^3 - 4 y= e^x, \\quad\\dots\n",
    "\\end{equation*}\n",
    "    \n",
    "</font>\n",
    "</div>"
   ]
  },
  {
   "cell_type": "markdown",
   "id": "80808fb9",
   "metadata": {
    "slideshow": {
     "slide_type": "fragment"
    }
   },
   "source": [
    "<div class=\"alert alert-block alert-info\">\n",
    "<font color=\"blue\" face=\"Ginebra\">\n",
    "    \n",
    "<i>Simbólicamente podemos expresar una ecuación diferencial ordinaria de orden $n$ con una variable dependiente por la <b>forma general</b>.</i>\n",
    "    \n",
    "\\begin{equation}\\label{eq:eqd_fg}\n",
    "    F(x, y, y' , . . . , y^{(n)}) = 0,\n",
    "\\end{equation}\n",
    "    \n",
    "<i>o por su <b>forma normal</b>.</i>\n",
    "    \n",
    "\\begin{equation}\\label{eq:eqd_fn}\n",
    "    \\frac{d^n y}{dx^n} = f(x, y, y' , . . . , y^{(n-1)})\n",
    "\\end{equation}\n",
    "    \n",
    "</font>\n",
    "</div>"
   ]
  },
  {
   "cell_type": "markdown",
   "id": "ba829f8a",
   "metadata": {
    "slideshow": {
     "slide_type": "subslide"
    }
   },
   "source": [
    "<div class=\"alert alert-block alert-info\">\n",
    "<font color=\"blue\" face=\"Ginebra\">\n",
    "    \n",
    "<b>Definición</b>: <i>Una ecuación diferencial ordinaria (de orden $n$) es <b>lineal</b> si es de la forma:</i>\n",
    "    \n",
    "\\begin{equation}\\label{eq:eqd_l}\n",
    "    a_n(x)y^{(n)} + a_{n-1}(x)y^{(n-1)} + \\cdots + a_1(x)y' + a_0(x)y + f(x) = 0 \n",
    "\\end{equation}\n",
    "    \n",
    "<i>donde las funciones $a_i(x),\\, i = 0, 1, \\dots, n$, y $f(x)$ están dados y $a_n(x)$ no es identicamente cero.</i>\n",
    "    \n",
    "</font>\n",
    "</div>"
   ]
  },
  {
   "cell_type": "markdown",
   "id": "a29fd89f",
   "metadata": {
    "slideshow": {
     "slide_type": "fragment"
    }
   },
   "source": [
    "<div class=\"alert alert-block alert-danger\">\n",
    "<font color=\"purple\" face=\"Ginebra\">\n",
    "    \n",
    "<i>Dos casos especiales importantes de la ecuación (\\ref{eq:eqd_l}) son las ED lineales de primer orden ($n = 1$) y de segundo orden ($n = 2$):</i>\n",
    "    \n",
    "\\begin{equation*}\n",
    "    a_1(x)\\frac{dy}{dx} + a_0(x)y = f(x) \\quad\\text{y}\\quad\\ a_2(x)\\frac{d^2y}{dx^2} + a_1(x)\\frac{dy}{dx} + a_0(x)y = f(x)\n",
    "\\end{equation*}\n",
    "    \n",
    "</font>\n",
    "</div>"
   ]
  },
  {
   "cell_type": "markdown",
   "id": "45f7d1f7",
   "metadata": {
    "slideshow": {
     "slide_type": "fragment"
    }
   },
   "source": [
    "<div class=\"alert alert-block alert-warning\">\n",
    "<font color=\"grey\" face=\"Ginebra\">\n",
    "    \n",
    "<b>Nota</b>: <i>Las dos propiedades características de una EDO lineal son las siguientes:</i>\n",
    "\n",
    "    \n",
    "* <small><i>La variable dependiente $y$ y todas sus derivadas $y', y'', \\dots , y^{(n)}$ son de primer grado, es decir, la potencia de cada término que contiene $y$ es igual a $1$.</i></small>\n",
    "    \n",
    "    \n",
    "* <small><i>Los coeficientes de $a_0, a_1, \\dots , a_n$ de $y, y', \\dots , y^{(n)}$ dependen a lo más de la variable independiente $x$.</i></small>\n",
    "    \n",
    "</font>\n",
    "</div>"
   ]
  },
  {
   "cell_type": "markdown",
   "id": "172bfc4d",
   "metadata": {
    "slideshow": {
     "slide_type": "subslide"
    }
   },
   "source": [
    "<div class=\"alert alert-block alert-info\">\n",
    "<font color=\"blue\" face=\"Ginebra\">\n",
    "    \n",
    "<b>Definición</b>: <i>Una ecuación diferencial ordinaria <b>no lineal</b> es simplemente no lineal, es decir, funciones no lineales de la variable dependiente o de sus derivadas.</i>\n",
    "    \n",
    "</font>\n",
    "</div>"
   ]
  },
  {
   "cell_type": "markdown",
   "id": "728dd4c2",
   "metadata": {
    "slideshow": {
     "slide_type": "fragment"
    }
   },
   "source": [
    "<div class=\"alert alert-block alert-danger\">\n",
    "<font color=\"purple\" face=\"Ginebra\">\n",
    "        \n",
    "<b>Ejemplos</b>:\n",
    "        \n",
    "\\begin{equation*}\n",
    "    \\color{blue}{(1-y)y'} + y = e^x, \\quad\\ \\frac{d^2y}{dx^2} + \\color{blue}{\\sin(y)} = 0, \\quad\\ \\frac{d^3y}{dx^3} + \\color{blue}{y^2} = 0,\\quad\\dots\n",
    "\\end{equation*}\n",
    "        \n",
    "</font>\n",
    "</div>"
   ]
  },
  {
   "cell_type": "markdown",
   "id": "fe6fca4d",
   "metadata": {
    "slideshow": {
     "slide_type": "fragment"
    }
   },
   "source": [
    "<div class=\"alert alert-block alert-info\">\n",
    "<font color=\"blue\" face=\"Ginebra\">\n",
    "    \n",
    "<b>Definición</b>: <i>Si $f(x) = 0$, se dice que la ecuación (\\ref{eq:eqd_l}) es una <b>ecuación diferencial lineal homogénea</b>.</i>\n",
    "    \n",
    "\\begin{equation}\\label{eq:eqd_h}\n",
    "    a_n(x)y^{(n)} + a_{n-1}(x)y^{(n-1)} + \\cdots + a_1(x)y' + a_0(x)y = 0 \n",
    "\\end{equation}\n",
    "    \n",
    "</font>\n",
    "</div>"
   ]
  },
  {
   "cell_type": "markdown",
   "id": "f0134160",
   "metadata": {
    "slideshow": {
     "slide_type": "subslide"
    }
   },
   "source": [
    "<i>Wolfram Language nos permite identificar que tipo de ED tenemos, esto mediante el comando <b>WolframAlpha</b>, de la siguiente manera:</i>\n",
    "\n",
    "> WolframAlpha[\"ecuación diferencial\",{{\"ODEClassification\",1},\"Plaintext\"}]\n",
    "\n",
    "Para mostrar como funciona este comando, lo aplicaremos a la ED: $y''(t) = \\big(y(t) t\\big)^2$"
   ]
  },
  {
   "cell_type": "code",
   "execution_count": 1,
   "id": "f16fd7fa",
   "metadata": {
    "scrolled": true,
    "slideshow": {
     "slide_type": "fragment"
    },
    "vscode": {
     "languageId": "wolfram language"
    }
   },
   "outputs": [
    {
     "data": {
      "text/html": [
       "<div><pre style=\"&#102;&#111;&#110;&#116;&#45;&#102;&#97;&#109;&#105;&#108;&#121;&#58;&#32;&#34;&#67;&#111;&#117;&#114;&#105;&#101;&#114;&#32;&#78;&#101;&#119;&#34;&#44;&#67;&#111;&#117;&#114;&#105;&#101;&#114;&#44;&#109;&#111;&#110;&#111;&#115;&#112;&#97;&#99;&#101;&#59;\">&#115;&#101;&#99;&#111;&#110;&#100;&#45;&#111;&#114;&#100;&#101;&#114;&#32;&#108;&#105;&#110;&#101;&#97;&#114;&#32;&#111;&#114;&#100;&#105;&#110;&#97;&#114;&#121;&#32;&#100;&#105;&#102;&#102;&#101;&#114;&#101;&#110;&#116;&#105;&#97;&#108;&#32;&#101;&#113;&#117;&#97;&#116;&#105;&#111;&#110;</pre></div>"
      ],
      "text/plain": [
       "second-order linear ordinary differential equation"
      ]
     },
     "execution_count": 1,
     "metadata": {
      "text/html": [],
      "text/plain": []
     },
     "output_type": "execute_result"
    }
   ],
   "source": [
    "WolframAlpha[\"y''[t]*Cos[t] == y[t]*t^2\", {{\"ODEClassification\", 1}, \"Plaintext\"}]"
   ]
  },
  {
   "cell_type": "markdown",
   "id": "4c2595c1",
   "metadata": {
    "slideshow": {
     "slide_type": "slide"
    }
   },
   "source": [
    "### <font color=\"gren\"><b>Sistemas de ecuaciones diferenciales</b></font>"
   ]
  },
  {
   "cell_type": "markdown",
   "id": "2f88b9b5",
   "metadata": {
    "slideshow": {
     "slide_type": "fragment"
    }
   },
   "source": [
    "<div class=\"alert alert-block alert-info\">\n",
    "<font color=\"blue\" face=\"Ginebra\">\n",
    "    \n",
    "<b>Definición</b>: <i>Un <b>sistema de ecuaciones diferenciales ordinarias</b> tiene dos o más ecuaciones que implican derivadas de dos o más funciones incógnitas de una sola variable independiente.</i>\n",
    "    \n",
    "</font>\n",
    "</div>"
   ]
  },
  {
   "cell_type": "markdown",
   "id": "4a110ee1",
   "metadata": {
    "slideshow": {
     "slide_type": "fragment"
    }
   },
   "source": [
    "<div class=\"alert alert-block alert-danger\">\n",
    "<font color=\"purple\" face=\"Ginebra\">\n",
    "    \n",
    "<b>Ejemplo</b>: <i>Modelo depredador-presa de Lotka-Volterra</i>\n",
    "    \n",
    "\\begin{equation*}\n",
    "    \\left\\{\n",
    "        \\frac{dP}{dt} = r_1 P - a_1 PD \\atop\n",
    "        \\frac{dD}{dt} = a_2 PD - r_2 D\n",
    "    \\right.\n",
    "\\end{equation*}\n",
    "    \n",
    "</font>\n",
    "</div>"
   ]
  },
  {
   "cell_type": "markdown",
   "id": "abd0acaa",
   "metadata": {
    "slideshow": {
     "slide_type": "slide"
    }
   },
   "source": [
    "### <font color=\"gren\"><b>Solucion de ecuaciones diferenciales</b></font>"
   ]
  },
  {
   "cell_type": "markdown",
   "id": "80aa1569",
   "metadata": {
    "slideshow": {
     "slide_type": "fragment"
    }
   },
   "source": [
    "<div class=\"alert alert-block alert-info\">\n",
    "<font color=\"blue\" face=\"Ginebra\">\n",
    "    \n",
    "<b>Definición</b>: <i>Una <b>solución</b> a la ecuación diferencial ordinaria de orden $n$</i>\n",
    "    \n",
    "\\begin{equation*}\n",
    "    F(x, y, y', y'', \\dots, y^{(n)}) = 0\n",
    "\\end{equation*}\n",
    "    \n",
    "<i>en el intervalo $a < x < b$ es una función $\\phi(x)$ que es continua en el intervalo $a < x < b$ y tiene todas las derivadas presentes en la ecuación diferencial tales que</i>\n",
    "    \n",
    "\\begin{equation*}\n",
    "    F(x, \\phi(x), \\phi'(x), \\phi''(x), \\dots, \\phi^{(n)}(x)) = 0\n",
    "\\end{equation*}\n",
    "    \n",
    "<i>en $a < x < b$.</i>\n",
    "    \n",
    "</font>\n",
    "</div>"
   ]
  },
  {
   "cell_type": "markdown",
   "id": "a0ae9a8c",
   "metadata": {
    "slideshow": {
     "slide_type": "fragment"
    }
   },
   "source": [
    "<div class=\"alert alert-block alert-danger\">\n",
    "<font color=\"purple\" face=\"Ginebra\">\n",
    "    \n",
    "<b>Ejemplo</b>: <i>La ecuación diferencial $y' - y = 0$, tiene como solución $\\phi(x) = C e^x$. Veamos que $\\phi$ si es solución:</i>\n",
    "    \n",
    "\\begin{equation*}\n",
    "    \\text{Como } \\phi(x) = C e^x \\quad\\Rightarrow\\quad\\ \\phi'(x) = C e^x \\atop\n",
    "    \\text{Por lo tanto si } y = \\phi(x)  \\quad\\Rightarrow\\quad\\ y' - y = 0\n",
    "\\end{equation*}\n",
    "    \n",
    "</font>\n",
    "</div>"
   ]
  },
  {
   "cell_type": "markdown",
   "id": "2cd2495e",
   "metadata": {
    "slideshow": {
     "slide_type": "subslide"
    }
   },
   "source": [
    "<i>El lenguaje de programación de Wolfram Language nos permite comprobar si una función es solución de una ecuación diferencial. En este caso aplicaremos la función <b>Simplify</b>, la estructura de esta función es de la forma:</i>\n",
    "\n",
    "> Simplify[ecuacion] $\\quad\\text{ o }\\quad$ ecuacion//Simplify"
   ]
  },
  {
   "cell_type": "code",
   "execution_count": 2,
   "id": "4f86089d",
   "metadata": {
    "slideshow": {
     "slide_type": "fragment"
    },
    "vscode": {
     "languageId": "wolfram language"
    }
   },
   "outputs": [
    {
     "data": {
      "text/html": [
       "<div><img alt=\"Output\" src=\"data:image/png;base64,iVBORw0KGgoAAAANSUhEUgAAADoAAAAfCAIAAAA5uEn6AAAA03pUWHRSYXcgcHJvZmlsZSB0eXBlIGV4aWYAAHjabU9bDsMgDPvnFDsCSSCB49AVpN1gx59DI02dZqmx6zxI0ny/Vno4mHIq1Zp21QyUXjoPiJYvXEy577ghI3J09xOt8Aes+k3oDP+4+6YXc/sZlDle8hegpURDDBK+fIpNjqjn0dpt0DrWRiy8c7H63/8ixlqVrCAWzmbaoVuCBGnlXE2XPlVRSHpyLk/wVDO0qXmFDG908LR79UwqME4/QfxjGWBFFMFFQmB3CJGxzAldt+PnfADmNFyLWrZ8SwAAAAlwSFlzAAAWJQAAFiUBSVIk8AAAADx0RVh0U29mdHdhcmUAQ3JlYXRlZCB3aXRoIHRoZSBXb2xmcmFtIExhbmd1YWdlIDogd3d3LndvbGZyYW0uY29tXKKmhQAAACF0RVh0Q3JlYXRpb24gVGltZQAyMDIyOjA2OjMwIDEzOjAxOjI3MhQ8fQAAAnNJREFUWIXtl7GK4lAUhv9Z7OWClYWIWgo2KUREsFHRxkJJfAFJekHBJ0heINpZiQ+gQhS0iFiIRQTbWFhYGQRfIFPcJZuNozNmNrMKfpUefw//Odyce/Jmmiaeh1//28B9vOx6ycuul/gALBaL5XJ5WxcKhTiO+xFLNzFNUxTFT2X5fN58AHwAUqmU3fFsNlMUJRqN1ut1KxgKhbxo1t1cVkCtP0g7HfhcVDgYDPb7faVSiUQiAMbj8Xa7pRUmEgm7UpIkAJby0zgAwzCm0+l+vwcQj8eLxeJ3u5vP5wGoqqppWjQatWcTBMGupEFVVR0ZrsVFUSSE2BMSQkajkSVwP8j6/X42m9V1nWVZURRpDbIsLxYLdwnb7Xaz2QTQ6XRUVR2NRizLnk6nUqn0J6fr7tLS7R1iGAZ/N5jKvtJdTdNoQk3T7EpBEAAwDPPd7hJC5vN5Op22ItVqFcBut3ORrdvt0lIdp7/RaABYr9c0rZtHjdJqtRyp6UB0N/ImkwkAv99/7SwdDodIJOLe7iXpdNre7LvQdR0APbs3+Jd2v48gCOFw+MOfgsEgHscuIeR0OmUymdubyU9sZOfz2f6VPlUOcrkcgF6vdzuVt3bpaBsOh1ZkMBjwPH+pLJfLABRFuSzGMIzNZkM/e2uXjjZZlguFgiRJhUKhVqsRQhx3IQCO42htPM/HYrF2uy1JEv1LIBBQFOW3zvU1IYriNYHF8Xi07hQKwzCaplnXuENMLwUHDMNYyjfz4sWdbus39nG64qRSqS+OLWsHslYWx5JkZ7fbrVYruuL4/f5kMmmf7h/YfWSe7F3tZddLXna95MnsvgO+NE25QZXRnwAAAABJRU5ErkJggg==\"></div>"
      ],
      "text/plain": [
       "True"
      ]
     },
     "execution_count": 4,
     "metadata": {
      "text/html": [],
      "text/plain": []
     },
     "output_type": "execute_result"
    }
   ],
   "source": [
    "eqd = y'[t] + 20*y[t] == 24;  (*de esta manera defino mi ecuación*)\n",
    "y[t_]:= 6/5 - (6/5)*Exp[-20*t] (*de esta manera defino mi función solución*)\n",
    "Simplify[eqd] (*Pedimos a wolfran que simplifique la ecuacion eqd con la función solución dada*)"
   ]
  },
  {
   "cell_type": "code",
   "execution_count": 5,
   "id": "fee99049",
   "metadata": {
    "slideshow": {
     "slide_type": "fragment"
    },
    "vscode": {
     "languageId": "wolfram language"
    }
   },
   "outputs": [
    {
     "data": {
      "text/html": [
       "<style>\n",
       "\t\t\t\t\t\t\t\t\t\t\t\t\t.grid-container {\n",
       "\t\t\t\t\t\t\t\t\t\t\t\t\t\tdisplay: inline-grid;\n",
       "\t\t\t\t\t\t\t\t\t\t\t\t\t\tgrid-template-columns: auto;\n",
       "\t\t\t\t\t\t\t\t\t\t\t\t\t}\n",
       "\t\t\t\t\t\t\t\t\t\t\t\t</style>\n",
       "\n",
       "\t\t\t\t\t\t\t\t\t\t\t\t<div><div class=\"grid-container\"><div class=\"grid-item\"><img alt=\"Output\" src=\"data:image/png;base64,iVBORw0KGgoAAAANSUhEUgAAAGIAAAAfCAIAAACTe49GAAAA03pUWHRSYXcgcHJvZmlsZSB0eXBlIGV4aWYAAHjabU/bjQQhDPunii2BJOBAOcwOSNvBlX8J5GPndJaIjfOApPnzWenlYMqpVG3oQDaUXjoPEy0fHKbcd9wAR46efqIV/jCrfjXM8K+nrzjM7c+gHC+Iv2BaSjTEIOHj0zj3K+p5tPYYtK61ER/eufj6v/ciyqggLRYLZ1V00y2ZNELlXBULb8AKCTfn8jaeULU2qFfI8EYHT31WzwQx4/YVxA/LMIZFEdtIyNgdssjS+DZdt+Pr/AKle1xgjJJe6gAAAAlwSFlzAAAWJQAAFiUBSVIk8AAAADx0RVh0U29mdHdhcmUAQ3JlYXRlZCB3aXRoIHRoZSBXb2xmcmFtIExhbmd1YWdlIDogd3d3LndvbGZyYW0uY29tXKKmhQAAACF0RVh0Q3JlYXRpb24gVGltZQAyMDIyOjA2OjMwIDEzOjAxOjI4oqsh7AAAA+1JREFUaIHtmD1LI0EYx589rlbG7UVcewsXi6CFgm4KsQokdgGryTdw0oqwwcpCQ9B6t5SAwiIouBYSCGx6Zwux3CB+grni8eb29i2beJp45Nftztsz//nPqyKEgCmD+DHuACaIRqOhKIrv+/Gkby+TEuLh4SGSatu2TC0WiyO38r1lUhTFsiwhhBDCNM319fWwUo1GY29vz3VdzOA4zuhKif8IAKCUhj9N05SfrusCgJQ1UjARzjlm+N5uiiNXFtu2AaBUKsmkw8NDALi/v4+XQi1M04SQNEKIxcVFzPAzUqDX6zmOAwCzs7NbW1syXwa2bT8/PwNAoVBYW1sbvmv/BpxuMmAMSX4qioIqJK7Qg5HKeZ5nGEYklTGW7XN0MhJ2+NejaRqEvEApxd5xzuH3XDMMwzCMtBribpK8T7per7exseE4jqZpjDHTNFGyo6Ojer2eJnG/369Wq6MMTj6KxaISo9FoJObknFuWJe2zsLAAALZta5rGOa9UKh8KBdXyPI8QQikNgkBKiAMCKQILIRhjAIBDBONzU2LrlmUBgKZp4Z/w9xofIcNNfyad3DglaFcAuLq6ipf0PA8ACCGc8zHKlNY0Bh/f6eLdlKCyA2RKBGVK7L+u6wDQbDYzYh1IRtB5QL8n7vEyVXYbjZ9RGyqbaLcsmYIgQJninUF/ylaHlcmyLFQZ0TRtNIkTl5GwahgnkjHd0ur8I3F2ZzB3eMESv1XH6YZ/hpKJUqrrOmOMEIJm5JyXy2Vd1yMNTQ6pMgVBgFtsfBDiouSXiTFmGEYQBISQiEkppeVyecj4v4hUmbDnhJDICDebTQDQdT2eeaBMnHOskDGWOAUIIZ7nDRP/F5F8WanVao7jEELu7u5UVZX/fd8/ODgAgPPz88SC2dzc3FQqFVVVu93uzs5OPMPq6urj4+MINX820csKANRqtbOzMwBot9vLy8vhpOPj49fXV13XHcfBOw3y9PQEALe3t/iZdmt5e3vDU5/jOP1+/+TkJJKh0+lsbm5+pD+fRcRd8kiZuMvGbzOJpM0+0zQxCTLPLxPIX26SPrIsK/F0X61WE0e71WrhIRNTC4VConzz8/OXl5cAYBjGy8tLHsUnBSkY+mi0RTTnEi43OLwzDj2m4+PdTfV6HX20vb0dWXeQUqmU51ElG1VVT09Pd3d32+12q9WybTvi2evr65mZmTG+xqSCag1cdLKXkqGOl3hqxSKUUtd1XddljGmaZhjGZB4IFCEEhJ7W0sh2ExbP/yzn+/7FxUW32+10OnNzc0tLSysrK/v7+x837CfxLtOUbP63t/BPYipTLqYy5WIqUy6mMuViKlMufgGmrZZE984e0AAAAABJRU5ErkJggg==\"></div><div class=\"grid-item\"><img alt=\"Output\" src=\"data:image/png;base64,iVBORw0KGgoAAAANSUhEUgAAAGIAAAAfCAIAAACTe49GAAAA03pUWHRSYXcgcHJvZmlsZSB0eXBlIGV4aWYAAHjabU/bjQQhDPunii2BJOBAOcwOSNvBlX8J5GPndJaIjfOApPnzWenlYMqpVG3oQDaUXjoPEy0fHKbcd9wAR46efqIV/jCrfjXM8K+nrzjM7c+gHC+Iv2BaSjTEIOHj0zj3K+p5tPYYtK61ER/eufj6v/ciyqggLRYLZ1V00y2ZNELlXBULb8AKCTfn8jaeULU2qFfI8EYHT31WzwQx4/YVxA/LMIZFEdtIyNgdssjS+DZdt+Pr/AKle1xgjJJe6gAAAAlwSFlzAAAWJQAAFiUBSVIk8AAAADx0RVh0U29mdHdhcmUAQ3JlYXRlZCB3aXRoIHRoZSBXb2xmcmFtIExhbmd1YWdlIDogd3d3LndvbGZyYW0uY29tXKKmhQAAACF0RVh0Q3JlYXRpb24gVGltZQAyMDIyOjA2OjMwIDEzOjAxOjI4oqsh7AAAA+1JREFUaIHtmD1LI0EYx589rlbG7UVcewsXi6CFgm4KsQokdgGryTdw0oqwwcpCQ9B6t5SAwiIouBYSCGx6Zwux3CB+grni8eb29i2beJp45Nftztsz//nPqyKEgCmD+DHuACaIRqOhKIrv+/Gkby+TEuLh4SGSatu2TC0WiyO38r1lUhTFsiwhhBDCNM319fWwUo1GY29vz3VdzOA4zuhKif8IAKCUhj9N05SfrusCgJQ1UjARzjlm+N5uiiNXFtu2AaBUKsmkw8NDALi/v4+XQi1M04SQNEKIxcVFzPAzUqDX6zmOAwCzs7NbW1syXwa2bT8/PwNAoVBYW1sbvmv/BpxuMmAMSX4qioIqJK7Qg5HKeZ5nGEYklTGW7XN0MhJ2+NejaRqEvEApxd5xzuH3XDMMwzCMtBribpK8T7per7exseE4jqZpjDHTNFGyo6Ojer2eJnG/369Wq6MMTj6KxaISo9FoJObknFuWJe2zsLAAALZta5rGOa9UKh8KBdXyPI8QQikNgkBKiAMCKQILIRhjAIBDBONzU2LrlmUBgKZp4Z/w9xofIcNNfyad3DglaFcAuLq6ipf0PA8ACCGc8zHKlNY0Bh/f6eLdlKCyA2RKBGVK7L+u6wDQbDYzYh1IRtB5QL8n7vEyVXYbjZ9RGyqbaLcsmYIgQJninUF/ylaHlcmyLFQZ0TRtNIkTl5GwahgnkjHd0ur8I3F2ZzB3eMESv1XH6YZ/hpKJUqrrOmOMEIJm5JyXy2Vd1yMNTQ6pMgVBgFtsfBDiouSXiTFmGEYQBISQiEkppeVyecj4v4hUmbDnhJDICDebTQDQdT2eeaBMnHOskDGWOAUIIZ7nDRP/F5F8WanVao7jEELu7u5UVZX/fd8/ODgAgPPz88SC2dzc3FQqFVVVu93uzs5OPMPq6urj4+MINX820csKANRqtbOzMwBot9vLy8vhpOPj49fXV13XHcfBOw3y9PQEALe3t/iZdmt5e3vDU5/jOP1+/+TkJJKh0+lsbm5+pD+fRcRd8kiZuMvGbzOJpM0+0zQxCTLPLxPIX26SPrIsK/F0X61WE0e71WrhIRNTC4VConzz8/OXl5cAYBjGy8tLHsUnBSkY+mi0RTTnEi43OLwzDj2m4+PdTfV6HX20vb0dWXeQUqmU51ElG1VVT09Pd3d32+12q9WybTvi2evr65mZmTG+xqSCag1cdLKXkqGOl3hqxSKUUtd1XddljGmaZhjGZB4IFCEEhJ7W0sh2ExbP/yzn+/7FxUW32+10OnNzc0tLSysrK/v7+x837CfxLtOUbP63t/BPYipTLqYy5WIqUy6mMuViKlMufgGmrZZE984e0AAAAABJRU5ErkJggg==\"></div></div></div>"
      ],
      "text/plain": [
       " 24\n",
       "-----\n",
       " 20 t\n",
       "E\n",
       " 24\n",
       "-----\n",
       " 20 t\n",
       "E"
      ]
     },
     "execution_count": 5,
     "metadata": {
      "text/html": [],
      "text/plain": []
     },
     "output_type": "execute_result"
    }
   ],
   "source": [
    "y'[t]\n",
    "D[y[t], t]"
   ]
  },
  {
   "cell_type": "markdown",
   "id": "e739ff84",
   "metadata": {
    "slideshow": {
     "slide_type": "subslide"
    }
   },
   "source": [
    "<div class=\"alert alert-block alert-info\">\n",
    "<font color=\"blue\" face=\"Ginebra\">\n",
    "    \n",
    "<b>Definición</b>: <i>Una solución en la cual la variable dependiente se expresa sólo en términos de la variable independiente y las constantes, $y=\\phi(x)$, se dice que es una <b>solución explícita</b>.</i>\n",
    "    \n",
    "</font>\n",
    "</div>"
   ]
  },
  {
   "cell_type": "markdown",
   "id": "662a8bcd",
   "metadata": {
    "slideshow": {
     "slide_type": "fragment"
    }
   },
   "source": [
    "<div class=\"alert alert-block alert-info\">\n",
    "<font color=\"blue\" face=\"Ginebra\">\n",
    "    \n",
    "<b>Definición</b>: <i>Se dice que una relación $G(x, y) = 0$ es una <b>solución implícita</b> de una ecuación diferencial ordinaria (\\ref{eq:eqd_fg}) en un intervalo $I$, suponiendo que existe al menos una función $\\phi$ que satisface la relación así como la ecuación diferencial en el intervalo $I$.</i>\n",
    "    \n",
    "</font>\n",
    "</div>"
   ]
  },
  {
   "cell_type": "markdown",
   "id": "edb8bc6c",
   "metadata": {
    "slideshow": {
     "slide_type": "fragment"
    }
   },
   "source": [
    "<div class=\"alert alert-block alert-info\">\n",
    "<font color=\"blue\" face=\"Ginebra\">\n",
    "    \n",
    "<b>Definición</b>: <i>Cuando resolvemos una ecuación diferencial de orden $n$ (\\ref{eq:eqd_fg}), normalmente obtenemos una solución que contiene $n$ parámetros $(C_1, C_2, \\dots, C_n)$. La solución que contiene estas constantes arbitrarias representa un conjunto, $G(x, y, C_1, C_2, \\dots , C_n) = 0$, de soluciones llamado <b>familia de soluciones n-paramétrica</b>. Una solución de una ecuación diferencial que está libre de la elección de parámetros se llama <b>solución particular</b>.</i>\n",
    "    \n",
    "</font>\n",
    "</div>"
   ]
  },
  {
   "cell_type": "markdown",
   "id": "089c87fc",
   "metadata": {
    "slideshow": {
     "slide_type": "subslide"
    }
   },
   "source": [
    "<div class=\"alert alert-block alert-danger\">\n",
    "<font color=\"purple\" face=\"Ginebra\">\n",
    "    \n",
    "<b>Ejemplo</b>: <i>La ecuación diferencial $y' - y = 0$, tiene como solución $\\phi(x) = C e^x$.</i>\n",
    "    \n",
    "<i>Para ver la familia de soluciones podemos graficar la función $\\phi(x) = C e^x$ con alunos valores para $C$.</i>\n",
    "    \n",
    "<i>Para graficar usamos la función <b>Plot</b>. de la siguiente manera:</i>\n",
    "> Plot[f[x], {x, xmin, xmax}]\n",
    "    \n",
    "</font>\n",
    "</div>"
   ]
  },
  {
   "cell_type": "code",
   "execution_count": 7,
   "id": "470b766f",
   "metadata": {
    "slideshow": {
     "slide_type": "fragment"
    },
    "vscode": {
     "languageId": "wolfram language"
    }
   },
   "outputs": [
    {
     "data": {
      "text/html": [
       "<div><img alt=\"Output\" src=\"data:image/png;base64,iVBORw0KGgoAAAANSUhEUgAAA2QAAAGyCAIAAAAEcpCEAAAA03pUWHRSYXcgcHJvZmlsZSB0eXBlIGV4aWYAAHjabU/bDQMhDPtnio6QBzgwDtfjpG7Q8ZsAH72qlogdkwSSxvt1pUdAmFIuVtEAcuSWm3QXlRYWM7UZJ5BJt3vz0yFLcncuXw1jMR9337BY6s8gkiU0XnCteTfsQSrL577yY9dLr/U26Dquib3MvNtf/5tnNUEBW/aYhczQXNfk0glFqBguPAEvZJxC+ek8YOZtsKjQHo0BGXavHgnqxhkraBzR7gyPqr6RsnM47FG0yum6TCfW+QCqQVxjayTv7QAAAAlwSFlzAAAWJQAAFiUBSVIk8AAAADx0RVh0U29mdHdhcmUAQ3JlYXRlZCB3aXRoIHRoZSBXb2xmcmFtIExhbmd1YWdlIDogd3d3LndvbGZyYW0uY29tXKKmhQAAACF0RVh0Q3JlYXRpb24gVGltZQAyMDIyOjA2OjMwIDEzOjAxOjI4oqsh7AAAIABJREFUeJzs3XlclNfdP/wzrMMw+7DvMAOCoKAgogGNK6iJiYkJENMsNfdNJL2bJ23vkKV5nrt3mjT62Dbt0zC1P23SpA3QaPYgaIxREAmOywgKAjPsO7PvC/D8cY2Xk2ETHOcM8n2/fPk651zXwLcvGv14ruucQ5mYmEAAAAAAAABMxQN3AQAAAAAAwH1BWAQAAAAAANOCsAgAAAAAAKYFYREAAAAAAEwLwiIAAAAAAJiW1/w+Vltb29vbW1BQYD8olUqPHj06+eaXX37ZvisWi6urqxFCubm5qamp8ysAAAAAAAC4AGUeW+fIZLL4+PjMzMyqqir78UOHDj3//POT77f/FgUFBRUVFWQ3Pz+/vLx8rgUAAAAAAADXmPPMokwmy8vLUygUky91d3cjhL755hsmkznlZ19//fWKiop9+/a9+eabCKE33nhDKBSuXLnSYeqRUFRUdOjQobmWBwAAAAAAnGhuM4tisfi5554TiUQIodzcXIeZxby8vOrq6um+oEwmCwgIyMjIuHDhAjm4atUqiUTS1tbG4/Ec7oewCAAAAACA3RwWuFRWVqalpUkkkrKysilvaGhoyM3Nne7jP/zwA0Losccesx987rnnFAoFcQkAAAAAALibOYTFpqYmPp9/+vRph3UtBKlUqlAo0tPTpVLpgQMHDhw4UFlZ6fBxhNDatWvtB5OTk8lLAAAAAADA3czhncXc3NwpXy4k9Pf3I4QqKirefvttcjAjI6Oqqop4xNzZ2TndZ2e4BAAAAAAAMJrDzOLM29zU1dUhhDgcTk1NzcTEhEQi2bdvn0gkysvLI26QSqXTfXaGSwAAAAAAAKN57rM42e7duxFCe/fuJeYR4+LiSktLpVJpdXV1ZWXl9u3b5/E1i4qKphyHhS8AAAAAAK7htLAYFxc3+SH1M888U11d3dTUtH379ri4uBk+O+U4hEIAAAAAALzu7nF/ERERZDsmJma622a4BAAAAAAAMHJaWDx06FBxcbHD4LVr1xBCLBYLIZSSkkKOONxAXAIAAAAAAO7GaWHx9OnTQqGwtrbWfvDw4cMIoS1btiCEVq9eTY443EBcAgAAAAAA7sZpYfFnP/sZQmjnzp1EXpRKpQUFBSKR6LXXXiNeSeTxeK+99ppIJCouLpbJZDKZrLi4mLhh8vEtAAAAAADAHcztuL9bH6NQJh/3V15eXlxcbH9s9L59+0pLS8muTCbbs2dPdXU1OZKfn19eXj7lt4Dj/gAAAAAAsJvnauj9+/dHRUU5DBYUFGzZsuXkyZPd3d0IodzcXIetGXk8XlVVlVgsJvLi5BsAAAAAAIBbmefMogvAzCIAAAAAAHZ3d+scAAAAAACwoEFYBAAAAAAA04KwCAAAAAAApgVhEQAAgKvVto/ozFbcVUxrRPSpVaeY/b5Fo/5MO+4SAE4QFgEAALjUiMb0YX3nrz9vvNTtjoHMpOjvOPbGlf2bZVeP467FLfR1K76vavn7n892d8hw1wLwcOvV0PZdWBkNAAD3ht+fvCHutcXEN3Ykxwcx8NbjoOXIXvlV2y7CKS9+xozLxFsPdv94r3agV4kQ8qF67f35OhaHhrsi4Grz3GfRNSAgAgDAPeabxn4yKT6eEeVuSbH/+/9DJsWoHSWQFE8fbyaSIkJoywPJkBQXJ3gMDQAAwEXah7UVom6inRrBeWBZGN56HOh6Gzs/+x+izU5cH7H151jLwU/SMvzDWQnRXpYesSw9Em89ABcIiwAAAFzkw/pOokH19nwqKwZnKVORHnuDaFC8fGIffRNvMdhZzGMnv2oi2iwObcuDKXjrARhBWAQAAOAK/2ro6pRpifZTWTGBDF+89Tjo/nq/RnqBaMc9+qZfEB9vPdid+LJRKdcT7S0PJvv4uvV7a+CugrAIAADgrrvYJa++NkC018UHZQsC8dbjQNlypvfkn4l2QPqu4LVP4q0HO7Gou/FiL9HOzIkTJAXjrQfgBWERAADA3aU1WckH0MFMqrs9gB63mjpuPoD2YYfGLfoH0LIR7ckvbA+gQyPZG7cvxVsPwA7CIgAAgLvrw/OdCr2ZaD+VFevj5V5/9XQce8MwbFvGEfvom17+HLz1YHfiiyardZxob90JryoC9946BwAAwEJ3qmWovmOUaO9cHr4snIW3Hgcjok+H6v5FtEPXP8dbvg1vPdj9o7R2oMe2V86mHUtDI9h46wHuwL3+eQcAAOBe0qswfHTzAXRCMHO3m+29YlYOkA+g/cOTYx/5Dd56sGu9PkgmxSXLQldlx+GtB7gJCIsAAADulo/qO8dvnhPmbq8qIoSkx96w6m3ZKHb3b/EWg51KYaj69CrRpjOpuQ8tw1sPcB8QFgEAANwVn17ubR5UEe2frI6J4rrX4R8DZw7Lb57+HLXjZTis5finYr3O9mrptkeW0/x98NYD3AeERQAAAM53tU/5+ZWbe6/E8LYsDcFbjwNV+/mOT/8fos1esi5i64t468Hu9PHmznbbq6XrcxP5S4Lw1gPcilsvcCkqKiLbcE40AAAsFAq9+UitlGgzqd4/cbMH0FadQlL2S6Lt4e0Lh7Vcv9JHHuuXuCx0zf0CvPUAd+PWYRECIgAALESHa6XkXjlPr4ll+XnjrcdBe9kvjaNdRJtf+Hu/4EWdjUaHtcc/s72qyAnw3/ZIKt56gBuCx9AAAACcqfxCd2OfbdXIrrSIVTFcvPU46K48IG+sJtrhm38WmL4Lbz3YHf9UbDGPEe1tjyz3pbr1LBLAAsIiAAAAp6ltH61s6ifaq6J5u1ZE4K3HwejlL3ur/0S0Ocmbox98FW892J34sqmvS0G0Nz2QHBXLw1sPcE8QFgEAADhHl0xHvqoYwvTb62a79OkHWyVlvyLavtwIQeFBvPVgJ77Qfel8J9Felh6x6r5YnNUANwZhEQAAgBOMjU8cPicdm7AdE/dcdhzNxxNvSQ4kZb8aM+mItqDwoDcjEG89eA30Ko/f3FUxKJS5bRe8qgimBWERAACAExw5J+2S2aLY02tiE4IZeOtxIKl4WdN5kWjH7PofVkIO3nrwGh+fqLq5qAUhtO2R5R6eFIz1ADcHYREAAMCdqmwaqG0fIdqbEkM2JQbjrcfBwNm/kwdAB2UVhN3/H3jrwe74p1eH+tVEO2/XcjgAGswMwiIAAIA7crVPWX7BthPNkmDm02tisJbjSNVWRx4ATY9OExT+Hm892InqOhov9hDtFVnRaZlReOsB7g/CIgAAgPmz33+b5uPlbotarDo5uajFw5sKSbGnQ/btV9eIdngUBw6ABrcDwiIAAID5O2K3//Zz2XEhTCreehy0l/3KKLPNegoKf08LTcRbD14mo5Vc1OLl7bntkeV46wELBYRFAAAA81R+ofsquf/2ioiMaDfbf/sbu/23t/xXQPrDeOvBruqzq/JR2yKkbY8sD3CzRUjAbUFYBAAAMB8/2n87hrcrzf323z5B7r+9JfqBV/DWg93579ubr9p+Xpk5cclp4XjrAQsIhEUAAABz1iXTHamVEO0Qpt/e+9zrVUX9YGt72S+Jti83Evbfbr7af6a6hWjHCAI2bl+Ktx6wsLj1EZBFRUVk+9ChQxgrAQAAQLq5//YE0XXP/bfHTXqiLSg86M0IwFsPXv3diq8qLhNtP38feFURzJVbh0UIiAAA4Ibcff/t8lv7b8c+8htWQjbeevDSqo1fVlweH7cl+535K1gcGt6SwIIDj6EBAADMwRdX+tx9/+3z5P7bhaHrn8NbD3ZfVlxWym2TrHm7lsfGL+pDDsH8QFgEAABwu862jRy7bNvP2Q3335ZfPW63//YKeFXxm0+udEtlRHvthnjYf3txolAoeXl5ZLe2tpZCoQgEgtv/Cm79GBoAAID7uNqnPHxzUQvX3/c/c/h463Gg7bp84x8vEG0PHxrsv13z7Y3GS71EO2VFxLqtS/DWA2YgFourq6sRQiwWa8uWLXFxzlwxVlZWVlhYWFtbm52djRDKycnh8/nt7e23/xUgLAIAAJhdj0Iv/N72twuFQileLwhk+OItyZ5ZOdD6jxcmrCaim/B0KS10UWcjsaj73Kk2oh0Zy3vg8TS89YDpiMXi5557TiQS2Q/m5+e/9957PB7PKd+ioKDg17/+9ccff5ydnU1MMZ44cWJOXwHCIgAAgFloTVbh9+06s5XoFq8XuNeilomJ1n+8QJ7UEvf4O9yULXgrwquzfeT4MdtJLSwObWf+Crz1gOlIpdINGzYoFAoOh1NQUBATE9PZ2SkUCisqKiQSyYULF5z1jX77298WFhYihKqrq8vKyuY6cwlhEQAAwCyEZ9p7lbZFEk9kRq+Odc6Eh7O0flislv5AtCNy/6+Q+36Ctx685KO6L8ttG+VQKJSd+SsYLPc6gxGQDh48SCRFkUhEBriioqK0tDSRSHTo0CH7PQTvBDG5KBQK9+/fX1BQMNePwwIXAAAAMzlcK228eabftpSwvORQvPU46Pz8N6OXviTaQVkFUdv/G289eFmt419WXNLrbKd1P5i/Ijyag7ckMB2ZTCYUChFCpaWl9lN9qamp+/btQwh99tlnzvpeUqlUIpEghHbv3j2Pj8PMIgAAgGkdu9Rztm2YaGfFBhSucq/ltP2nD/Wf/hvRZifdD4tavqq4PNirItr35yUtTQ3DWw+YAY/Hq6mp6e3tzczMdLgUExMzpy9VW1tbV1eHEIqKisrMzJz8lHnr1q0IIT6ff/DgwdLS0rmWCmERAADA1E61DH0h7iPaS4KZxffPYa8NFxi99EXn5/9LtGmhiQlPzfmvwHvMqW+u32gaINors6Kz1rvXcnUwGbE8ebLOzs7b/AoHDhx45513FAqF/eD+/ftffvllspuXlyeRSGpqaurq6kpKSuYRFuExNAAAgClc6lb843wH0Q5iUN0tKaolP7T+o5hoe9HYCU+XetFYeEvC68K5jgu1UqLNTwza+tAyvPWAeSsvLyceT//85z+f4TaZTLZq1aqSkhKFQpGfn79///79+/dnZGQghEpKSsgz8A4cOFBdXb1///7s7GwiQR44cGCuJVEmbh7u6W6KiorguD8AAMCiY1T31vHrZusYQsjb0+P1bUvjAum4i7rFONrZ9OdHzapBort038fsxPV4S8Kr9drgp/+07b0SGMJ4sug+Xyo8OVxgysvLGxsbT5w4QWyj89prr7311lsz3J+Xl0dszYgQqqmpIScpCwoKKioqiJ0Ui4uLhUJhbm5uVVUVcfXAgQMlJSUSiWROC6LdOizadyE4AgCAayj1lreOXx9SG4juixsT0qO5eEuyN24xNv35UW33FaIreOIPQavz8ZaE12Cf6p+Hzlkt4wghX6rXk0X3BYa408ZGzmCxjmP5vt5ernsAax/+MjIy/vjHP073kBrdzHwcDueVV14pKSmxz3JisTgtLQ0hNNdEOAO3/pcHBEQAAHC90jNtZFJ8KivWrZIiQqj1wxfIpBi14+VFnhT1OvOXFZeIpIgQejB/xb2XFBFCOoP5xT9+5/rv+4//e7vLvld6evrGjRtVKlVFRYVIJMrJyXF49dDeO++8gxB65ZVXEEK5ubn2l1JTU4lGf3//ogiLAAAAXEx4pr1lUE20H1wevjkpGG89DqRHX5dftT1QC8l+KmLri3jrwWt8bPzzjy/KR3REd+tDKYJE9/p5LSq38y7g7t27pwtw5EPnt956i3h8XFJSsnbt2snzi5WVlcSKlr179+7Zs6ehocH+6GdSUlLS3P4HTA/CIgAAAJvyC93npaNEO1sQ+Fh6JN56HPSe/PNgzQdEm7tsa9xjv8NaDn7H/inqlsqIdtZ6/sqsGKzlLHYlJSWz3rN27drbme0rLS09ceKERCIhzuhzuPr1118jhHJzc3k8XkNDg0KhIJ9f23PWaYEIwiIAAABC9bXByqZ+op0cxvrPHPfaeEVS/t9D5z8m2vTI5bBRzhfllyQtti0wl6VH3p/ntGkk9/TW8zm4S5iFw+PgKTEYt/uSgEAgkEgkUql08iViMD09XSqVKhSKsrKyiIiIeX+j2wFhEQAAADrXPvqvhk6iHcbyK14fj7UcR6OXvySTojczKOHpUg8fP7wl4XX806vNYluyT1wWumN3Kt567jY2g8pmuPuhheSK49sklUr7+/vr6uqmezFxZiwWq6GhgThU2v5rHj16NCUlxYnPoNG8w+KhQ4e6u7snL+qWSqVHjhy5ePEim81++OGHJ58/KJPJjh49Spxgs2vXrt27dztxmhQAAMA8NHTKD9W0E20/b6/i++MZ7rTxirzxROsH+2wdCiXh6VJqYCzWijA79fU18YVuoh2XEPjwE+l46wHz09/fn5OTgxCa/GKiTCZraGhACKWnT/vD7ezsVKlUDqe/HDx4UCgUEvvmOLHU+awJF4vFzz///MWLFx3Ga2trMzIy3n77bYSQSCQqLCx0CIsymWz16tXPP/+8TCaTyWTPP//86tWrZTLZvKsHAABwhy73KP5yupXsvrBBEMWlYazHgbLlTMvhZ8lu4nN/ZwnWYKwHu5qTNy6cs22WHhHDfeTJDLz1gHnLzs7m8/kIoZdeesk+C8lksry8PIVCweFw9u7dO/mDxFuP5eXlJ06c2LhxIzlO7ub9wQcfOLfUOYdFsVi8YcOGyeMymWznzp0IoStXrlRVVbW3t+/bt6+ioqK8vJy8Z8+ePRKJpKys7MKFCxcuXCgrK5NIJG+88cad/A8AAAAwb039qne/vZUUX9y0ZHk4G2M9DtSS+pbDPyW7Cc8IuSlbMdaDXf0Zybnv2oh2UCjzkSczvLw98ZYE7sSf//xnhJBIJIqPjy8uLj5w4EBxcXF8fDyxL3dpaemUq2GeeOIJhJBCoSBuq62tra2tLS4uLiwsRAiVlZXNsEHj/MxtU+5Dhw69+uqrRIn2G4IjhMrLywsLC//617/ab6bN5XK5XC4xFyqVSvl8fn5+vn18JPYZn3LfSDjBBQAA7qrWIc2BEy3EMS0IoeL18VlxbvRekLbryvW/PmHVq4iuYM+7QZmP4S0Jr0v1nSe+aCLabB6t4KdZbHeaAwbzU1tb+8wzz0gkEvtBPp//wQcfzJD5iNDlMMjhcEpLSye/AXjn5vBWyqFDh55//vmMjIzDhw8Tm4PbO3v2LEIoKyvLfrCgoEAoFEql0ri4OOLpu8Os5MMPP1xRUdHQ0OCsfSMBAADcjo5R3bunbpBJ8T+y+W6VFPX9zc2HnyWTIv/x/Ys8KTZd6iWToj/d99EnMyAp3huys7Pb29vFYjG5/c2Ueys6KCgoyMzMJFaJIISIhSJbtmy5S+tA5hAWVSrVvn373nzzzSlLIRZyk/uGE2JiYtDNPcS7u7sRQsnJyfY3EIu9iUsAAABco1ehf/fUDa3JSnSfXhObEx+ItyR7xpGO5sM/taht+8LEPvKb4PuexFsSXq3XBr/+xHZojbeP5yNPZgSGMPGWBJwrNTXVIUHNKi4ububDo51oDmFx7969MyRWYuJwSteuXcvOzr506dJ0N8xwCQAAgHMNqY3vnmpV6M1E94nM6E3udOyHSdnffPhZk8w2iRD94Guh65/DWxJeHW0jn/5TRHYfeTIjPJqDsR6wCM1hgcvMc5vEyTNTUqlUCCGlUjndDTNcAgAA4EQKvfndU63DGiPRfSw9Ki85FG9J9ixaecv/+alh0LaGIzLvF+GbX8BbEl593Qr7pLhrT3qsO80Bg0XCjXbSmsx+rYw9WPgCAADzoDVZ3/22tU+pJ7oPpUU8uDwMb0n2xky6lsPP6nobiW745hcit/0Sb0l4jQxqPv2nyGK2vVe647G0JSlulOzB4uG0sJiRkUEs4Z4sJSUFIZSenj7l2YVo+j0nIRQCAICzmKzj755q7ZBpie72lLBHVzgeEYbRxLi15fBPNR22v0dC1++NfvA1vCXhpZDpPv2nSKcxEd2tO1OWrXSjnxdYVJwWFmd4SM1kMhFCLBZruhtmuAQAAODOjU9MvHvqRuuQmuhuSQopWBWFtyQHLYd/qmqtJdrBa5+MfeR/8daDl2xYe/TDCwqZjujen5e4ck0M1orAojafE1ymROwhXllZaT/4ySefIISIFeBr165FCB0/ftz+BqJLXAIAAHCX/OlU67V+2zY09ycE/SQrBms5jm78/T8V104R7cBVu/n5+/HWg9fwgLri/R/IpLh2Q3zWegHeksAi57SwmJubixD68MMPyRGxWCwSifLz84ludnY2h8OpqKggz7SRyWQVFRUcDsfpW40DAAAg/eV02+Ue2xrEtfzAn97nXvvatn30XzLxN0Sbt+LB+Cf/hLcevAZ6lf9+/we10kB0126MX7d1Cd6SAHBaWExNTc3Pz6+oqCgoKKitrS0vL9+wYQOHwyFOfCH87ne/k0gkeXl5lZWVlZWVeXl5EomktLTUWTUAAACwNz4x8cdvbzR02v6JviqG9/w6Pt6SHLR99PMR0adEm5uyZckzf8VbD1593Yp/f9CgvfmeYs6WJeu2QFIE+DlzNfR7773H5XKFQmFFRQW6eViN/SaTRUVFKpXqnXfe2bFjB0KIw+H89a9/vRvn0gAAADBaxt491Xp9wPb0OS2S818b4vGW5ODG3/9DJra9vMResm7Jc3/HWw9e3R2yYx9eMBltO6Xfn5cIT5+Bm5jb2dCk2tpaBoMx5W7jMpmsubl5uqvkx9HNdxmnA2dDAwDAvKkMlj+dam0f0RDdjGjezze6UVIct5paDu9VNp8muqwlOUnP/d3DZ/GeX9fZPnr0wwtWi22XnI07lmZmu9fbAmAxm+fM4gw5j8fjzfoOIrykCAAAd8+IxvSn71q75bYVEvfxA4vc6emzVa9sObxXLaknutyUrYnPHUEUp70WteBIbgwf/fDCxLht7mbLg8npa2PxlgSAPbfelBsAAMBc9SkN7566MaS2ndGyYUnws+6UPMzKgZYje7XdYqIbsPKhhKcX9ZvrbdcHj310a5fi3IeXrVgdjbEeACaDsAgAAPcO6aj2T3bnPuclhz6R6UbJwzAibTm81zDYSnSDsgoEhb/HWxJeLY0Dn398kexufzR1eUYkxnoAmBKERQAAuEe0DKrfPdWqN9tWSOxMDd+90o2Sh67vWsvhvSZ5D9ENzXk2dvdv8ZaE1/UrfV9WXCa7DzyeluJOZ+oAQIKwCAAA9wJxr/JPp1qt4+NEd/fKyJ2p4XhLsqfpELUc2WvRjBLd8E3F0Ttfx1sSXo2Xer75REx2HypcmeRO53QDYA/CIgAALHgXOuX/3+lWsrsnMyY3OQRjPQ5UN2pajuwdM9kW3ERu+2Vk3i/wloTXlQvdVZ9eJbu7nsxY4k4/LwAcuHVYLCoqItuwjQ4AAEzpXPvooZp2svvs2rgNS4Iw1uNA3nSi5fBeNGGb8ox+6NfhG/fhLQmvhhrpd5XXbR0K2v3UKkFiMNaKAJiFW4dFCIgAADCz724Mf1AnJbvPrxOs5QdgrMfB6KUvWv9RTHbjdr8VkvMMvnLw+67yekON7efl6eWx+6lVsfGBeEsCYFZuHRYBAADMoOrawMcNXWT35xsTMqK5GOtxMFxf3l72S7IreOIPQavzMdaD3Vf/vnztch/R9qP5PPxEejSfh7ckAG4HhEUAAFiQvhD3HbtkW1ns7enx4qaE5eFsvCXZ6ztV2vXlW2Q34RlhwIqdGOvBy6A3f1F2qbPdtr4nIJjxUOHKwGAG3qoAuE0QFgEAYOF5v67j9I0hok339X5xU8ISd0oeHcfeGDh786BnD8+kvUc4KVuwVoTT6JDmi7JLI0O2oxdjBAEPFaz08/fBWxUAtw/CIgAALCQG81jpmXZxr4Locv19X9yYEBvgj7cq0rjV1Pbhz2TiSqLrTeclPF3KSli8R7x2SUY/L7tk0Nm2SU9OC38wfwXekgCYKwiLAACwYPQpDcIz7eShz/xAxr71giCGL96qSMbRrtYPX9B22Taa9o9ISXjqPb9gAd6qMLp2pe8ru223M3PiNm5firEeAOYHwiIAACwMjX0q4Zk2rcl2QMuqGN6+9QIvDwreqkjq9vrWD18wqwaJLidlS8JT73n6usuUp+v9aIschDZsS1q9jo+xHgDmDcIiAAAsAGdaR46ck5Dd3KWhe1a70aHPIxc/a/vwZ2Q35L6n4h7/HcZ6sDt9vPmHs7d+XnCUH1jQICwCAIC7++xK72eXe8lu4arobSmhGOtx4LDwOWrHyxFbX8RYD3Zf/fvKtZs/LyrN++HClTEC2EwRLGAQFgEAwK0dOSc90zpMtCkUSvF6wepYN9qc70cLnxES7PljUObjGOvBy2iwfF52sbPt5hY5QfSHCtMDQ9xooToA8wBhEQAA3JTOZC09097YpyS6PH/ffesFCW6zRc4UC5+feo+1JAdvVRiNDmu/KLs4MmjbIieaH/BQ4UoabJEDboNYLK6vr1epVAihlJSU1atX83hO+zchhULJzc2tqqoiurW1tTk5OXw+v729feYPkiAsAgCAO+pR6Eu/b+9T6olufBBj33pBAB0WPrup9pahYx9emJiwdZemhe+ELXLAbZDJZHv27KmurrYf5HA4paWlBQUFTvkWZWVlhYWFtbW12dnZCKG5JkWEEGWC/L+2mykqKrLvwjnRAIDFQ9yrLP2+3WCxLXxeHcvbt17gQXHXhc/JWxKeXtQLn384Kzl9vJnsrsqO27QDtsgBs5PJZKtXr5ZIJAih/Pz8lStXqlSqiooKYqSsrMxZeVEgEGzdurW0tDQvL6+6uloikcTFxd3+x916ZhECIgBgETrZPPRRfQfZ3ZYSVrgqCmM9DobOfywp/2+yCwufvzl6pfHireVHsEUOuH1vvPGGRCLhcDinT59OTU0lBn/xi1+88MILFRUVhYWFmZmZc0p10/ntb39bWFiIEKquri4rK5vr1/S48woAAAA4y/t1HfZJcU9mjFslxY5jb9gnxagxYu3JAAAgAElEQVQdLy/mpDg6pPnHe7VkUqT6eT/6kwxIiuD2lZeXI4ReeeUVMikihHg83nvvvUe0T5486ZRvVFBQwOfzhULh/v375zFb6dYziwAAsHj0KQ1HaqXtI7blEd6eHs+vE6yK4eKtimQc7Wwv+5W6/Tw5ssgXPrc0Dnxz9IrFPEZ0I2K42x9N5brNuYvA/YnFYoVCgRDKzc11uMTj8XJzc6urq4klL7Oqra2tq6tDCEVFRU05GSmVSolH27t3755HqRAWAQAAv/oO2ZFaqclqSx5xAfS92XGRHBreqkiyq8clZb+y6m3rsmlhSYLCg/SoNLxVYVR7qrX221aym5YZlbdrOcZ6wEIUERFRU1NTV1dnP61Ius0FKAcOHHjnnXeI0Enav3//yy+/bD+ydetWhBCfzz948GBpaelcS4WwCAAAmB292PPl1T6yuy4+6LlsJ7yl5Cw9VX/oOf57shuY8Qi/4KCHt7usy3Yxi2Xsm6Pilqv95MimB5JX3ReLsSSwQPF4vOzsbGKFsoPa2lpiIjAlJWW6j8tksry8PJFIhG4ujkEIffLJJyKRqKSkhMVikQuF8/LyJBIJEUxLSkrmERbdejU0LHABANzb1EbLkVrp5Z5bswJ7VsfkLg3BWJI9q14lKf8VuZMiQih65+vhm4oxloTXQK+y8qh4ZMj2qgCDSd2+OzU2Hk5nAU62atUqkUg08wY3xLpmol1TU0OGzoKCgoqKCvKzBw4cKCkpIecaKRTK5HnHWcECFwAAwONav+p/vmoik2IgnfpK3lL3SYrq9vqrf9hBJkUfVkjS8/9czEmx6VLvh6XnyKQYIwh4qjgbkiJwuuLiYmK+8IMPPpjungMHDlRXV3M4nP379yOE7KcnX331VYSQRCKRSqXFxcUlJSW5ublkOty/f39JSYlUKp1TSTCzCAAAGFRdG/y4oZPsrozi7r0vlkH1xlfRjwycfb/j2K/JLjtpg6DwoA/LXYKs631f1Vx/RkJ2M+6L3fxAMsZ6Fpsx/bBV0zv7fc7mG7zSxd+xuLhYKBSi2TZZ5HK5CoWCSIrfffcdeToLgUKhoB9PN94heGcRAABcamICHTknPds2TI7sTA3fvTISY0kOJBUvD9X9i+yGbyqO3vk6xnrwUisNJ75oam8ZIkfydi1Ly4zGWNLiNPh1vuu/afTettu/+cCBA7Pes3v37un2OJTJZMT2imi2pFhZWUmsaNm7d++ePXsaGhry8vIm35aUlHS7pc8GwiIAALhOt1x/pFbaIdMSXaqX597suNWxTjsE9g7pB25Iyn+l6bxEdD28fPmFBwMzHsFbFUbXr/Sd+LLJaLAQXQ7Pf/vu1Ei32c8IuJWSkpJZ71m7du2UYVEqlebn5xNPn2c9uOXrr79GCOXm5vJ4vIaGBoVC4XBaIMGJp0tDWAQAABc50zr8j/Od1vFxohsfxNh7X1wY2w9vVaTRi5+3l/9q3GwguvSoNEHhQVqY0yYnFpwTXzRequ8iu/FJwdt3p/rRfDCWtJh5eNoW4Lvpy3NTbZc4GYPBmDwoFos3bNigUCgcjnKZDvHGYXp6ulQqVSgUZWVlERERt/ON5g3CIgAA3HV6s/Wj+q5zkhFyZOOS4GfWus1+KxMT0mO/Hqz5gBwIzirkFx7EVxBmvZ3yE182DQ+oyZH1uYlr7hdgLGmR86QFRT7ThLuKWTi8OHibyKTI5/OPHTs2a1IksVishoYGDodjPw0plUqPHj2akpLixGfQCMIiAADcbZe6FR/Vd8p0JnLkqazYzUnBGEuyp2qr6zj2a/3ADXIk9pH/DV2/F2NJeNWfaf++qoXsBoYwtu5MiXSbVwXAvUQqlRJJMSMjo6qqak4Pjjs7O1UqVWZmpv3gwYMHhULhzHvuzINbh0VyP0mEEKyMBgAsRB83dFVdGyC7gkDGT7JiYt3mULie47/vqfoD2aWFJMTufosVvxZjSRhNXsuyYnX0lp0pHh4UjFWBe1hxcTHx9HlOSZF467G8vJzP5z/22GPkeHl5ObGSeoY9d+YHts4BAIC7om1Y81F9Z6dMR448sCzs8YwojCXZ0/c3S4+9YX/Wc0j207GPvknx8MRYFUYOa1l8qV5bd6Ykr3B8FQwAZ6mtrc3JyUEI8fl8gWDqlxyeeeaZyYtdyA8ihPbv37927VqE0Mcff3w7e+7Mj1vPLAIAwAL11dX+Ty52k91gJvUnq2OWR7AxlmRv4OzfO469QXa9GQGxj74ZsGInxpLwOvFF06X6TrLLXxK09aEUltuczQ3uSR9//DHRkEgkxOF+k23cuHHyYHZ2dllZWWFhIfrxEmwOh1NaWur0pIggLAIAgHMNqo0f1Xc29inJkfXxQT/JivHxcosTs8yqoY5jb8jE35AjvBUPxj36pjdjkZ5EAmtZAC7r1q2LiYmZ+R5i1nCygoKCzMzMI0eOXLx4ESHEZrMffvjhLVu2OHG7HHvwGBoAAJzm+9bhj+o7LWO2zXFoPl4/WR1znyAAb1Wk0YufS4+9YdXJiS7FwzP20TdDsp/GWxVGjmtZghlbH4K1LAA4gplFAABwAp3Z+lF9V53d5jgro7hPro4OoPtirIo0YTVLP31j6Nw/yRFWwn2xj7xJC12CsSqMhgfUp483d7Td+nmtWB29dWcKBdayADAJhEUAALhTF7sVH9V3yu02xylcFb0tJRRjSfaUN852HHvDMHRrK43Ibb+KzHsJY0l41Z1uO3vi1lZBsJYFgJlBWAQAgPnTmawVop7vW29ttiIIYvxktbtsjjNm0nd/9fZAzfvkCC1sadyj/8sUrMFYFUY9HbLTx5v7e269UQprWQCYFYRFAACYp5q2kQpRt9poIUceWB7+eHokxpLsjYg+7frqd2ZlPzkSuu6nsY++ibEkjCYm0Onj1xtqpOSIj6/XhrykFVnRGKsCYEGAsAgAAHM2oDJUiHoudcvJkTCW3xOZ0W6yOY5xtKvrq7dlV74mR6gB0dE7f81L3Y6xKozamodOH2+Wj2jJkaWp4Ru2JTFYVIxVAbBQQFgEAIC5+bqx/9+ibvsRt5pQ7D/9t66v3p4YuzXfGbahKPrB1yiei/EPfKPBcvp4s/jCrZ8Xg0XdsC1paWo4xqoAWFgW458dAAAwPy2D6n+LetpHNORIYggzPyOKH0jHWBVJ0yHq+uptteQHcoQRmxH94GtM/mqMVWHUdKn3dFWzTnNr4dGK1dEbtiX5+MLffQDMAfwHAwAAsxsbn6gQdduf8uzl4ZGfEZWbHIKxqlsmJrq+ervvVOmtEYpH9IOvhm8qxlcTTiqF/vTx5pbGWz+vgGDGhm1J/CVBGKsCYIFy67BYVFREtmGDbgAALg2d8gpR94jGSI6sjuU9nh4VyHCLPRTlV493ffW2YfjW0g3u8m3RD77mFxSHsSqMLtZ1nq66brWMkyNZ9wvuz03EWBIAC5pbh0UIiAAAvOQ6c4Wo+7x0lBzh+fs+nhG1Js4tDvkwq4e7vnp7pOETcsSHGRz94KuBmY9hrAqjbqms5tvWng4ZORIRzbl/29KIaA7GqgBY6Nw6LAIAAEZfXe3//EoveXYfQmhLUsjjGVG+7nHK80DN+91f7x8z3nqBMiT7qegHX/OkMjBWhYtaaag91XpV1GM/eH9eYtZ6OOUZgDsFYREAABydl8o+v9I7oDKQI7EB9MfTI5PDWBirIimaTvZU/VHbIyZH/MOTo3e+zk5cj7EqjM5/317z7Y3xsQlyhJ8YtCEvKSB4MeZmAJwOwiIAANzSNqz5/EpfY5/SfvDRlZEPucdOK/r+5p6qP8rE39gPRm77ZWTeL3CVhFfz1f7aU62y4VsbKHID/LM3J8DOOAA4EYRFAABACCGF3vz5lb7TN4bsB7MFgbvSItxhIcuYUdNT9Yf+03+zH+Sl7ojIe8k/LAlXVRgN9qlqvr0haRkmRygelOxNCfdtjMdYFQD3JGeGxcrKyh07dkwen5i49WhALBb/7ne/q6ioQAjl5+e/+uqrqampTqwBAADmYfLriYkhzF1pEUmhTIxVkQbOHOmp/qNVpyBH6FGpkbkvcVK2YKwKF6PBUnuqVXSuw35w2cqI7M0JcMQzAHeDM8NiU1MTQigjI4PHm3qdoFgsTktL43A4r732GkJIKBRWVFRcuXIF8iIAAJfJrycG0Km70sJz4gMxVkWSN1b3VP1R19tIjnjTeRF5L4XmPIuxKowu1nXUfNtqNNw6nyYihpu9KSFGEICxKgDubc4Mi5cuXUIIXbhwYbobHn30UQ6Hc/r0aSIdPv744xs2bCgpKamqqnJiGQAAcDsmv55IQZSH08IfXhFBwVjWTbq+az1Vf5RfPW4/GLZxX2TeS56+/riqwqjt+lDd6baB3ls/L3+Gb87mhLTMaIxVAbAYODMsSiQSPp8/3VWxWCyRSPbt20fOI6amphYUFAiFQrFYDJOLAACXkevMX4gdX0/MEQQ+vCIikI7/9USLZqT3278MfH/YfpC34sHI3JdooUtwVYVRZ/to/dn2zrZR+8HV6/g5mxO8vD1xVQXA4uHMsCgSifLz86e7Wl9fjxBat26d/eADDzwgFArr6+shLAIAXEBttFQ2DlQ29dsPJoWwHl4RnhSC//VEq0Hd/52w75RwYuzWY1Z69IrIvJc4SzdhLAyXvm5F/RlJ2/VB+8ElKaHZmxICQ2BbHABcxGlhsba2FiHE5XKLi4uFQiFCKCMj4ze/+c327duJG1QqFUIoIiLC/lNMJpO8BAAAd4/ePFbZ2P9N08DY+K1VLIF06sMrwnME+F9PHLea+k8J+04Jx0y3doHxZgZG5r4Ukv00xsJwGR5Q15+VXL/SZz8YHs3JWi+ITwrGVRUAi5PTwmJvby9CSCgU5ubm7t+/v7Ozs7y8fMeOHWVlZQUFBQih7777brrPfvfddy+//LKzKgEAAHtm63hlU/83jQMm6xg56OPpuWN56K60iBk+6DJ9p4T93wkt2luH1FE8PMM2FUdufdHDxw9jYVgoZLr6MxLxhW77waBQZtZ6wdLUMFxVAbCYOXmfRTIaIoSKioo2bNhQWFiYmZkZF7dIz7MHAGA0PjHxTeNAZWO/zmwlBz0olO3LwranhNJ98W80O3D2SN8poVk5YD8Ydv9/hm3a58MMwlUVLlq1sf6sxGFPHE6Af9Z6fmpGFK6qAABO+7OyoKCAjImE1NTUffv2vf322ydPniwqKprH15zuU4cOHZpPiQCAxeR400Bl04DKYLYfzEsO3b4sjO3njasq0lDdP/tOCY2jnfaDIdlPh2/a58uNxFQUNiajpf6MpP6sZGL81r68dCY1az0/Y20sxsIAAOhun+Cybdu2t99+m3glcePGjdXV1VPetnHjxinHIRQCAObhZPNQZWO/TGeyH9ycFLI9JTTADRY7Dzd80v+dUD9ww34wKKsgfOM+v2ABrqpwsZjHLpyT1p+VmI23Zn99/byz1vGz1vMpFHfYxQiAxc6ZYVEqlTo8blar1WSbxWI5jJBd4hIAANyh0zeGK5v6h9RG+8ENS4K3pYSGMKm4qiINN/x78Oz72p6r9oOB6bvCNu3zD0/GVRUuOq3pYl2n6HyHfUz08PTIWs/PWsf3cYOXBAAABKf917hq1SqRSDQ6Omp/fMu5c+cQQikpKQihrKwshNDXX39Nro8muuQlAACYn7HxiW+bh75tHhzS/Cgm5ggCty8LC2djXiMyMT42WPPBQM37xpEfvY3HS90etqmYEb0CV2G4KGS6i3WdF8932J0FixBCq7Ljstbz/d1g9hcAYI8y4fAf63wdOHCgpKRk3759paWlxAhxuB+fz29vbydGBAKBXC4nT3ARi8UbNmzgcrnkDfaKiorgMTQAYGYao+Vk89C3zUNak8V+fE1cwPaU0Gge5pNOrHrFwNkPBmvet1/pjBDiJG8O37iPKVh0/04eGlBfrOu4KupxGF+xOnr1Oj6bCyc7A+COnDazuHfv3k8++UQoFEql0o0bN3Z2dgqFQg6Hc+zYMfKeDz74ICcnZ8OGDfv27UMICYVChUJx+vRpZ9UAAFg8BtXGb5sHTzYPOfyLd1U0b/uyUH4gHVdhBKOse/Ds+wM179tvr40Q4i7PC815lpWQjaswXHo65RfrOloaf7Tu29PLI2NtbPqaGCbu2V8A3B+FQsnNzSVPSK6trc3JybGfkruL39pZM4sIIZlMduTIkb/97W8SiQQhlJ+f/+qrrzoczVJbW/uXv/yloqJiuhtIMLMIAJiSZET7bfPQOcmIw3hOfNDmxODYAMyzibrepoGa94fryx3GgzIfD1n3LD1yOZaqMJLeGBad75TeGLYf9PP3yVgTk742luoGK9MBWBDKy8sLCwtramqys7MRQhQKxTVJETk3LDoXhEUAgIPGPuXJ5qErPQr7QS8Pj81JwZuTgoMYmJewqNrqBmvel4kr7QcpHp4hOc+GrnuWGhCDqS5sWhr7RXWdvZ1y+0EWh5a+NiZjbayHB6x0BmBuBALB1q1bS0tL8/LyqqurJRKJa/axhuVmAIAFoF4qO9k82DassR9k+XlvTgzZnBTsj3vlrPxq1UDN+6rWWvtBL39OaM6zITnPetO5uArDwqC3iC90iy90K2Q6+/HAEEb62ti0VbC9NgDz9Nvf/rawsBAhVF1dXVZW5rITT2BmEQDgvlQGy5nW4bNtI8M/XuYcyvLbnBSyBfcZwVa9cqi+bPh8mWFYYj9ODYgOyXk2NOdZiufi+gf5YJ/ySkO3+EKPw98s4VGc9LWxcFgfAHdOIBBIJJL9+/e78pzkxfUHGQBgobgxqDnTNlzb7vhioiCQsTkpeC0/AEtVJG3X5aH6sqHzZWhi3H7cP2JZ6Lpng1bn4yoMl5bG/isXujvbRh3G45YErcyKFiRijvUA3BukUimxLGT37t2u/L4QFgEAbmRiAp1tGz7TOtI+onG4lBrB2ZwUnBrBxlIYaUT06XB9maqtzmGclZATkvM0b/k2LFXhYtCbxRe6xRd6HJ44e3p6pK6KSs2MCg5l4qoNgAWntra2rq4OIRQVFZWZmTn5KfPWrVsRQnw+/+DBg+ROhS4AYREA4BYGVIYzrSNn20Ycdkz09fJcnxC4Lj4oCusmfCZF/3B92VB9mVn5o81fKJ7ewVmFQWsKF9sy54FepVjUI27odnjizA2kp62KSl0V5UuFv18AuF0HDhx45513FIofrd5zeNacl5cnkUhqamrq6upKSkpcGRbd+p1F+y68vwjAvepSt+Js28ilbrnDeAzPf1180PqEQG9PDyyFEVSttUP15aMXP3MYp4UkBK0pDM4q9KQysBSGxfj4xLXLvdeu9HW2T/HEOW1VVEJyCJbCAFigZDJZXl6eSCRCCOXn569cuRIh9MknnxAjf/3rX4k4RBx9QsZHCoXiytcW3TosQkAE4B6mMljOSUbPtA4PqAwOl7JiA9YnBCaH4Tw13qIeHrn42YjoM11vo8Ml7rK84DUFnOQtWArDpa9bce1yb9PlPrPJaj9ue+K8Kio4DJ44AzBnxCY4RJvcQxEhVFBQUFFRQeykWFxcLBQK7XfkJrKjy7bOgbAIAHA1UZe8TjIq6nKcSuTSfNclBK5PCOT54zwdWH71+IjoM5n4G4dxLxo7KKsweE2hXxAfS2FYGPTma5f7mi73DvapHC7BE2cA7hCR+TgcziuvvFJSUmIfyYgzkxFCLkuEM4D/wgEALtIp052XjNZJZSqD2eHS0lDW+oTANXE41zjr+q6PXvx0RPSZWTXocIkevYJ4MZFCwflA3MUkN4avXem7fqVv8qXEZaHJKyLicW9dBBYPnXGkrf+U679vWlzBXf3677zzDkLolVdeQQjl5ubaXyLPt+vv74ewCAC4x2lN1vPS0fMS2eQFzn7eXmv4vPXxQRjP6BszakcufjYq+lQtbXC45EllBGbsCkjfxYzLxFIbFgqZ7tqVvmuX+xwWOCOEgkKZyWnhKSsi/Bk4p37B4vR94//r+m86p7B44MCBWe/ZvXs3mfwqKyuJFS179+7ds2dPQ0NDXl7e5I8kJSXdfg13CYRFAMDdcrlHcV4iq+9wXAmBEFoezl7DD1gbF0DBd+SbsuXMiOjT0YufTYyPOVxiJ95PxESKhyeW2lxvbGy8pXHg+pU+yY8PcUYIeXl7JKdFpKwIj4zlYakNgAWhpKRk1nvWrl1LhsWvv/4aIZSbm8vj8RoaGhQKBfnyoj0eD/9/dxAWAQBOJh3Vijrl56Uymc7kcCmU5bc2LmANPyAI39SUrrdRJq4cvfyVcaTD4RI1MDYw45HA9F3UwFgstWHRdn2wpWngRuOA1TrucCkylpeyIjx5RbiX12IJzcBthXFTcZcwC4fnyFNiMG5tniCVShFC6enpUqlUoVCUlZVFRETMcD9GEBYBAM7RI9df6JJf6JT3KfUOl7w9PdbEBazlByzFt0WzfvCGTFwpF1fq+q47XvPwDEzfFZjxCDtxPY7S8OhsH73RNNDSOGDQO75C6s/wTVkRkZwWHgRbagP34E8NfDzn77irmAW5VHlOWCxWQ0MDh8MpKLj1yFsqlR49ejQlJcUdnkEjCIsAgDs0oDJc6JSLuuSdk15xQwgtDWWtiQtYy+fh2ivRONIhE1fKxJXa7iuTrzLiMgMzdgWmP+JJpbu+Niz6uxUtTQMtjQNqpeOORQihhOSQpanhictCXV8YAItTZ2enSqXKzPzRi9EHDx4UCoXEvjm4CrMHYREAMB8jGpOoS36hS94+7LhsBSEUzqatiuFmxfHCWH6urw0hZFL0EfOIk5etIIT8ggW81O28tAf9w5e6vjYsRgY1LU0DNxr7R4e1k6/GxAckpoQlLgul+nm7vjYAFifi5cXy8nI+n//YY4+R4+Xl5UKhECH0wQcf4KrNAYRFAMAcKPRmUZdc1KloHnTcdQ8hFMykrormZsRw4wLwTNRZNCPEPKKqtXbyVV9eFC91Oy91ByNmpetrw2KgV9neMtzePDTUP8XPKzyak5gSumRZKBNTpgdgMXviiSeEQqFCoRCJRI899lhtbS1C6OOPPyaSYllZGblBN3YQFgEAs+tV6K/0KK/0KluH1JOv8vx9V8VwM6K5CcF43sU2jnTIr32ruPbtlBnRhxVCZESmIMv1tWHRJRklMuLk7W8QQkGhzCUpoYnLQnmBi+XhOwBuKDs7u6ysrLCwEP14JTWHwyktLbV/hRE7CIsAgGndGNRc6VVc6VFOXrOCEGL5+WREc1fFcHEtW9F0XVZc+1Zx7Vtdb9Pkq150LpER2UvWub4215uYmGhvHm5vGWpvHtJpHdehI4TYPFpiSmjisrCQcJznKAIASAUFBZmZmUeOHLl48SJCiM1mP/zww1u2bHGH7XLsQVgEAPzI+MTElR7llR7FlR6lctJRKwghmo/Xqhjuqmju8gi268tDCCmaTxMZ0STvnXzVk0onMiInebPra3M9k9FCZMS25iGrxXHDSIRQQBBdkBQsSAqOiOa6vjwAwMzi4uLeeust3FXMwq3DYlFREdmGc6IBuKs0RsuVHiUREy3jjvvtIYQCGdS0CHZaJGcZjnkpq0GtuHZKcf1bxbVTY8YpltT4sEM5SzdxkjdzU7a4vjzXk41oO9pGpK0j0kl7aBPCItlERgwKge1vAAB3xK3DIgREAO42yYi2qV/V1K+6MTjFy4gIoVgePTWSnRbJxrJmRdstVt44q7pRo2o7N+UNtLAkTvImztLNzLhVLq7N9cbGxjvbRjvaRjraRmQjUyxqRgjFxAcIEoMFScFsDs3F5QEA7lVuHRYBAHeDQm9u6ldd61M19avURsuU96SEsdMi2WmR7CAG1cXlWdTDyhs1ytYa1Y2zZtXQlPcwBWuIjEgLiXdxea4nG9YSAbGjbWR8fGLyDR6eHvFJQYLEYEFisJ+/j+srBADc2yAsArBYXB9QExmxQzb1pJSvl2daJDstkpMWwfb3dfUfDqr286obZ5U3arRdl6e8geLpzUnexEnezF26yZsZ5OLyXGxsbJwMiPKRKVY0I4SYLL+Y+AD+kiBBYrCnF549zwEAiwGERQDuZf1KQ/OguqlP1dSvMlmnWP2AEIrg0FLCWClhLNcvWDGOdipv1BAZcco3ERFCfiEJ7CU57CXr2EvWUbzu8Wmzng55d4esWzraLZVPTEwxiYgQiorjxcYHxsYHwqJmAIBrQFgE4F4zoDLeGFK3DGpuDKpluim2UEEI0Xy8UsJYyWGslDBWIMPXleUZZd1qSb1a8oO6vd442jnlPZ5UOnvJOtaSHPaSddSAGFeW53oDvcpuqaxbKuvukFnMUwd6JtuPCIix8YG+VPhzGwDgUvCHDgD3giG18caQpmVQ3TKoHp1qjz0CP5CREsZKDmMmunaFrEneSwREVXu9cUQ63W30qDQiI7Li17qyPNcbGdQQ6bBbOmrQT/3aKEIomh8QGx8QGx8YHAaTiAAAbCAsArBQjWhMLYPqliHNjUH1sMY43W1cf9+loUziQTPThSf/mpT96vZ6taRe3V5vGJZMd5s3M4i9ZB17SQ5ryTqfe/pNxKF+VW+Xoq9b0S2VadXT/ryCw1jRcbyoOF5UHM/H5W+OAgDAZPAnEQALSZdM1z6ibR/Wto9ohqYPHByaz5IQZmIwIzGEGcZ23bG/+v5mTedFTedFTcfFmQIincfkZzEFWUx+ln/4UpeV52JW63hfl7yvS9HbrejrkpuM1unuDAiiR8XxouICouJ4NFjODABwMxAWAXBrevNY+4imfVjbPqJtH9YYpzqig8Dy80kMYSSGMJcEMyM4LgqI42YDmQ41nReteuV0d3r5c5j8LBYRECNSXFOe62k1JjIg9ncrZriTzaVFxfGiYnlRcTymCwM9AADMFYRFANzOoNrYPmwLiN3yqbdNITCp3okhzCUhjMQQZqSrNmE2yXvJgKjtvjLDnV5+LGL6kCnIoms6IjQAACAASURBVEcud015rjfUrx7oU/Z3K/q6FNPtlU3g8PzDozkR0ZyouABugL/LKgQAgDsBYREA/DRGa6dM2zGq65Dp2oe1qqlOZCYFMaiCIIYgkJ4QzIjiuiIgWnVybc9VbfdVbc9VXc9Vk6Jvhpt9uZGM2HRGTDojJp0eleqC8lxPIdMP9ikHeolfqilPZCaFRrDCo7nhUZyIaC6D5eodzgEA4M5BWAQAA4NlrHNU1yHTdYzqOmXaGd4+RAhRKBRBIF0QRBcEMgRBdA7trr/TNmbS6Xquaolf3VdnWL9MoEelkQHRlxtxt8tzPb3WNNCnGuhVDvYqB3pVuunXmyOEvH08w6M5EVHc8GhOeDTXx8fTZXUCAMDd4NZhsaioiGzDOdFgQbOMjXeM6jpt6VDXp9TPfD/bz4dIh/wguiCQ7ulBuavlTYxZtD2NZEDU9zfPfL8XjU2mQ0ZMuofPvfbKnVZtHBpQDw+ohwfUg30qhWymlwEQQiwuLTSCHRHFCY/mhLp8b3MAALir3DosQkAEC5dCb+6W63vk+m6FvkeunzUdelI8YgL8YwP84wLogiB6CPPuPq+0aEZ0fdd1/df1fc26/uuzpkOKpxc9crl/5HJ6ZCo9ajktNPGulud68lHd8IBqaEA93K8eGlDPsLUNwc/fJzScFRrBDolgh0aw6a7d2BwAAFzJrcMiAAsImQu75foehX7m9w4JMTz/GB49NsA/hucfE+B/VycPDUPtuv7r+r7rREY0Kwdm/Yh/eLJ/5HJ61HJ6ZCo9cjmi3N3ZTVcaGxsfGdQQE4dDA6rhAfUM+9oQPD09QiNupUNYngIAWDwgLAIwH3KduV9p6FMaehS2dDg2Pj7rpyI4tBieP5EOYwPoXnft4bJZOaAfbNUPthoG2/QDLbr+6+Nmw6yf8gsW0COX+0em0qOW0yOXe3jfO6sxRoe1o0Oa0SHN6LBmZEgjG55pzTLBy9szOJQZFMoMDmOGhLPhIGYAwKIFYRGA2ZHRsF9l6FMa+hR6nXmWiSiEkI+nZySXFsWlRXJoUVxaFJdG9b4rax3M6iHDYKt+sFU/2EY0rLqZdvgjUDy9/cOX+ocvpYXZfvfyc+kZgHePUq4fIaLhkGZkSDM6rBkfm5j1UzR/n6BQZnAYKyiUGRzKDAhmuKBUAABwfxAWAXA0ojUNqoz9KoMtICoNWtO0p/fa49J8bemQS4vi0O7S0Skmea9hRGoclt6cO2y1aGW380FvRiAZDf3DltLC7oX3DsfGxuUjOvmoVjailY/qZCPa0SGNxTzTXjYkFpdmmzsMZQaFsliu2skcAAAWFgiLYFHTmawDauOgyjCoNg6qjAMq46DaYBmb/YEyQsjb0yOcTQtn+9nSIZfGpDr55GWrQWUclhqGpUQ6NAxLDCPS23mgjBDy8Pb1C1lCC0mghSTQwhL9w5b6sEOdW57r6TQm2ahWPqKTj2iJxqzrlEn+dN+AYEZAMD0wmBEQxAgIZlBdeFI2AAAsXBAWwWJhto4Pa4xDatOg2jCoMg6qjQMqg9p4W1OGyBYN/cLYtHC2XzjbL4zt59wFy+MWo1HWZRztMg5LDSNSw7DUOCw1q4du8+MUT29a6BJaSIJfSAItJMEvJN4vMM6J5bmeXmdWyHRKmU4h1ytkeqVMJxvVGvW3+/Oi+nkTiZBMh/6wYBkAAOYFwiK4B6kNlmGNaVhjtP9dqZ99eTLJ18szhEUNZ/uFs2lhbL9wp0ZDq05uHO0yyrqNo122gDjaZVb23/5X8PD28wuK8wsW3EqHwQJnled6GrVRKdMpZHqFXKeU6RUynUKmN912jkcI+dN9uYH+3EA6L4DOC6IHBjPgtGUAAHAWCItgATNbx0e1plGdaVRjss+FxhmPX5ssiEENYVFDmH6hTGoIixrCovL8nTALNW42mBS9JnmvUd5rkveaZN1ENLTqlXP6Or68KL/AOL+gOGpQnF8g3y8oboGekmLQm1UKg0qht/2uNKgUeoVMP/NxeQ4oFAo30J8XSOcG0LmB/rwAOjfQ3+/un2oDAACLFoRFsADozWOjWpNMZxrVmka1ZpmWaJhu/yEyiUH1DmFSQ1h+IUxqKItKtO9wC5sxo5YIhSZ5r0lxMxrKey2akbl+KS9/jl8gEQrJdBi34Law0evMaqVBrXTMhbPuZTgZm0vj8PyJ3zkB/twAf14g/W7UDAAAYDoQFoG7MFvH5XqzXEf8Msn1ZoXOLNeZR7Wm29mnZrJABjWI4Rt08/dAhm8Qg0qb70G941aTWTlgUg6Ylf03GwMmZb9J3mfVyefxBX054dSAaCov2jcgmmhQA6K9aAvmpDiTyapRGtQqo1plcGjMaaaQ4OFB4fD82Twah+vP5tE4PH8Ol8bm+Xvc5XMOAQAAzArCInApndmq1FuUejOZBcmAeJvb00xG8/Hi+fsGMXyDmNQghm/gzYDoMfcTR6x6lVk9ZFENmdVDZtWQyS4XzmOakODpx6RyI3w5Eb68SDIUUnnRFK8F8ORUqzFq1SaN2qglfmmMGrVJozJoVEajYZ4/LzqTyuL4sTg04nc2h8bh0VgcmnMrBwAA4CwQFoGTkXFQabAo9Wal3qKwa5vH5jznRGJQvQPovgH+vjy6TwDdN4Duy6P7Bvj7+PvO4f/GYwYNEQSJ3y12bbN66DZ3pZmSlz/HlxtB5UT4cm/+4kT4ciPcfLJQpzHptCadxkQEQa3Glgs1aqNWbZqYmH0v6+n4M3xtiZBNs0+HXl4eTqwfAADA3ebWYbGoqIhsHzp0CGMlgKQ3j6kMFrXBojJaVAaL2mBWGaxqo0VlsHXNt7dJ4XR8vDy5NB+u/81fNB8e3Zfn7xtA97md40/GDGqzZtSiGbFoRi2aEfPNhkUzataMWDQjdxIHEUIe3lQfdqgvO9SHHUY0fDlhRCj0pLrjgR8GvZnIgg6/a2+27/Dr+1K9mWwqk+XHYPnZGmw/JovKZPl5QigEACxKUqn05MmTKpUKIZSbm5uamoq7ojtFuZOZg7uqqKgIAqKL6c1jGqNFY7RqjBa10aoxWjQmu7bRojJYbnPD6plRvT05NB8uzYdzKxT6Eg369NOEYyatRSu3amUWrcyilVt0MivRIEY0oxbNyLjFeOflefr6+7CCfVghPuxQH3ao781c6MMO9aYH3PnXdxajwaLXmvQ6s15n1t1s6HUmvdas15n0OrNea3bKf+A0ui+D6UtnUukMKoNJpTOpTDaVwfJjsvx8qW79D04AAHCx119//e2337Yfyc3N/de//sXj8XCVdOfgD/pFQW+2ak1WrdGqNf34l9GqMdnSocZotY47IQgSqF6ebJoPm+bNpvmw/bw5RNvPNuL34zlCq0Ft1SusWoV1SDmiV1h1CqtOYdUrLDqlVaew6GRWrdyilTklCBI8fGg+rGAfZrAPK5hoeJNdZhD2OUKD3mzQmQ16i0FvNujNer3ZoLcYdGaiaxvXmcfHnfYvPaqftz/Dl86kMhhUOtOXzrSFQjqDymD6enjCHCEAAMyOTIr5+fkrV67s7OwUCoXV1dV5eXlVVVULNy9CWFyoLGPjOtOYzmzVmax6s9XWJhrEiHlMa7RqTRatyTru7Pljb08PJtWb5efN8vNmEr/f7LL8vNk0H1/KmFWvHDOorHqlVa+yGlRWudKqVxkNqj6iq1NY9AqrTmnVKSbG57PYeQYUL18fRoA3I9CbEejDtDW8GQE+RIMZ5OXHdO53nJXFPGY0WowGi1FvMRrMBoPFaLjVNRosBlvbYpjL5uG3ydvH05/u68/w9af70hm2hj+DSg7Ce4QAAHCHamtriaRYVlZWUFBADBYVFW3YsEEkEh05cuTll1/GWuD8wWNod2G0jOnNY3rzmMFiJRp6s9VANCxWvXnMYB7Tm4lLVp3JeoevBs7Ag0JhUL0ZVC8G1ZtJ9WJQvRm+Xv5e43RPiz8y+U/oaeNaH4vKalCPGdVWg2bMoLYa1GMGtdWoHjNorP8/e/cdHtV15g/83D69qXekESDRJEBUG2zcwBCXJHaAxIm9wWvWTvsl2QTHyW7i3Q1ZcOpuFnAcZ+PEa4RxEscFgwu2QRSDMIgOkgb1Or3f/vvjDsOghgBp7kh6P88885x75s7VCzb463PvOSfiE8I+iQuPUnkIwyhDGqVPIw02ypBGGWyUIY3Up1HG9HhAJHXm0frpCCGEZFlmowLLClyUj0YFNsqzESEa5dkoH43wbFSIN6JRno3wbFQQR+2fF0HiOj2t0zM6A6009AZap2d0elqnp3UGRqen6euZAwQAAOAGrFmzZseOHcuXL9+9e3dif3V19dq1a61Wq9t9I+uspQL4T8gIYwUpyouxlyBFeTHCi1FOjPCxV2I7wonRy+2kpHbMwBB6CtdTSE9IOkLUYrwOY7VyRCeFNKJfy/s0nJti3aI3IEaDYjQgRoNCNCBGg0iWEEIhhEKjWR+pt5I6K6W3knorqbdSOgupt5J6JRSmUQYbqU+jDLaR+nGyjDhW4DiBY+MvMfGQZQU2KnCswEb5WDvKs6zAczc+p3v4cALT6mitjtbqKK2O1upjbV2sk9bqaZ2e1mipJBQDAABgaDt27EAIPfbYY3367777boSQx+Opqam59dZbk1/YzYOweBVelFhBYnmRFaSoILKCxPISK4hKBGQFiRVEpSfKS1FBCYXKR7G2jJI9UktiSEuIWkzUYLwGsVrEMlKYEUOMGGJ4H8N5aNZNsy4q0kuFupTMNxgOof53QF+KfuZRzVs3XB5GUKTOTGrNpM5M6iyE0tCaSb3lSi683LiuK8sy4nmB50SeF3lOeQkcJ/KswMXbnMBzYuJhYhxMTubrg6QIjZbSaCmtltLoKI2Wjh3qKI2W0mgvR0Md3WfuyEQba09Z8A8iRcA/iFQA/xTi6urqlEZ5eXmfj9LS0qqqqmpraw8ePAhhUQWSLPOixAkSp7xfblzVefUJrCBxosQKYqwdexeVdvKjXn8EkhiZZeQoI0VpMUSLIVoI0kKA4vy0GKRFJQgGGSGoNEjpZlc/uS4YQRJaE6kxkVoToTWRWhOhMZFaY0LbROrMhM6iBESC0ce/K4qSwEuCICrvPC+GeFHgRd4lCV0Rng8KvMjzosBLPC8KykdKEORFnhOFhLZyQjJ/4YMhKZzRUBoNxWhIRtu3odFQjDbW0GgpjY4iyRvcQgYAAEDKCgQCSmPAhXKUqS3KYjpjUSqGRW+Ye72uHSH0o9dPZRgZXpR4UeZFiRclTowFQaVnBGfvjgZS4igxQkkRWozQUoQSw/F3WkxoSGFajNBimJbCtBgipZGf3zAgnNIQjJ5g9ITGSGgMOGPAaQNG63HagCgdRukRqZdJHXr1/fSHX5YJnYhrJVwnIloQJEGQooIoCpIgSILSCEiCRxIvB0GBdwlCT2I0FARJHrnZu6OBZkiaIWmGoGmSZkhGQ9IMyTBUrKEhGYaiNSQT+4hiNCTDkLCaIAAAgDNnzlzznGPHjiWhktGQimERRbx7z3drEWrxhFo8I/OMnPbw/0YW/sP1fUeWKYmlpCgZe49ePoy2XWicUpJOSRFKilJihJKilBShxGi8h5ailBTBhrznm+iGbvViiNRgpFYmtYjQIEIjExoZ18i45uVL2rWTaQljREwTe8mMgDGCrLxoXmZ4iRFEJIqSKEiiXxI9Q5X617dH7GHFS+43i233jcil+lwNwzCaISiapGiCpgmKJq96T/iIZkglDvZJhyN+PyWVb9CMbG0T52ojLpV/sal8tRGXyr/YVL4aiBu7o4bDkYphkaZv/IF9XBJImSMllpQ4QuZIKdZ2IlTqqaEklkx8ySwpsX06qdh7dIjbuy+hzyzq+OMNlCdjpIQoCaMlRIsYJSFKlGkJoxBCPeR8CdEioiUs4R3RIkZLiFF6lEMR0RLGiIiJXVRCSELoqn163zzsWj50IQiN2JqFN4OkcJIkKIogKYKkcKWR8I4rDYpW3snLDYKiCJImfvzsm089fafyESz+AgAA45XkdXLHP0bX/agYdpM/V7Ps8zd5hfEhFcOiLGJlrg+aEaroeYOQeULiyNg7R0jxRuyQjDVYUuJIicPQwCNkL6HP3NX8q2v/aITJiJIwUkKaKGaQMEpGpIQoCZESRkmIlBAlYyRCqIO8XcIoCVESoq40EtsJDRHREkZJiJbRIIEm9OZ5et1N/J6NFpzAEEJaHU2QOEHgJIWTJE6QBEniBImTVxqxzliDwimSUILglXeKIEn8Rz9+82tP33W5k8Bu9g8yMpm1I/DrBAAAkNqCL29K/g8dflgsLCwc1UrUlYphEReFJa0vNqO7qzr/KiFSRoSMERIiZETKiJAQIWOkhAgZaWVk4BDJYoSESBknJYKQESnFTiMvn0ZKiETRnjPMk0pbwkhZyX+xc640ZDTMyQdvNtBrR/d34TIMk3EMEZiMx16xNjHAIVIal9xoRpoPxxCBy/FPCUzGcaWB4j0ELie2+zcwhL6zFz0+5exQJUqDzKMeBL5723V+YyihHb8eicuMytVG/IJwtVS42ohfEK6WIheEq93w1XCTVXvvoyN4zbEoPz//mufMnTs3CZWMhlQMizKODuj+C0XfPKT9+chd9U0PMROTJRzJGJLiDVyWKFnGEIuhCC7LGJIwJCkNPHaa0iNhSMKRrPRcQmhq5HjiOf0byrdwJF7+roTLIn7lUiIuX+n8Bcp92PXbhHNEHMW/e92TQnaTsxee+83N/GZddWebnB1595WbudpVJs7VRvyCcLVUuNqIXxCuliIXhKvdxNX0D31txC44xI8qmZGEn3LDjMbYPrF1dXX9J0S7XC6EkNk8uhtGjB4VdnBZv359kn8iAAAAAFQ0EWbV2Gw2j8eTuNefwuVypaenI4T2798/RtdZTMXt/qK+jlO/fOD3XXMez/5U7VrUgWE4hjAMwzCEIwy7fIgjdKWNIRxTPoqdFu9XOmP9GIYjhOOJhxiOJ7SVBq58BSlfhJkiAAAAhovMt8NtaATb/SUbRRycI6Fd6MCclF5GcTSp/AvHcYrEKQKnCYIicJrAaSJ2SJPKIcGQ/Q9xmiRoAmdIgiEJhsQZgqBJnCEJhiAYEmdIgiZxhiAYAocd6gAAAIwrX//613fs2LFnz57q6ur44GJdXd1TTz2FEHr66adVre6mpOLIIhv2dG2fv/HIHT+Yv1dGCGHKJGUUe2GxBkJYvH25H+tzjjzkORK6fIj1PUG60oldPnPgT5WHCiWEZCx2ZSl+2tUfSVjsuwDDcJJgSEITe8cZKt6OvccaFM6QpIYitCShoQgNSWopou8hgdNq/4IAAAAA9NRTT23duhUhtHz58jvuuKOpqUk5rKqq2r17t7KPy1iUimEx6O3a8sIfGhuaF5UxAcmMI5HARAKJBCbE2pcPidihQCCRxIQr/bGPBPLKCYLSUPsXh9DAgTIWSZX+Kw0sdrJ0+eRY9MRpmaBkgpJwSsYJGSclnJAxPPaOYRKGKQFXREhCsoQkSZZEJEmSIMqisiGOJPGSlBI75t0kHCdIQkMRWorUUoSOIrXxNk1qSVJLX+nUUYSWJnUUqadJHU3qKFJHk3q48w4AAGBE/PCHP9y4cWNiz/Lly//v//5v7CZFlJph0Rtk//zOmdPvP68tW51u0fKCxAsiJ0i8IPKCxPEiL9z48ByJCQQSSEwgMIG8kjIFEl3uwQQSCSQmkBifcMiTmNIpECje5imlHykN/vJp/LXrUBWGUzilxyg9RullSidTOkRpJVIrkxqZ1MgEI5G0TNASruRRUsJxCcMlDBdlQRA5UdlqW+REib3cuNKjbLstiqwgsoLECiInSan+G0KSGprU04SSHXU0qY81KANN6hnSQFN6mtTTpIGmEg/11740AACACcbhcLz33nvKni7Lly8fcLfosSUVw6Ji6C2JOEHk+ViIVOIjx4ucIHJKJx/rV07jlB5eYnmR48XE93hjZIsnMZ5S4ublHElhHIUN2OYpjCMxnsY4CuMZgtcQPI0r53AU4gjE4XJK7LaCEMJJHU6bcNqI0Ub8yiuxx4TTRpwx44wJp80YQSOEZFm6HBxZUWIF8fJLYgUxKohRQWQFMcqLbLyd+BEvRnkhIohRXlTeo6KYpO2zh4ZhWCw+UkaGNDKUgaFi7zRlYEgjQxnjPcoLx4a5kCcAAACQKlJygssw0CRBkwRCIzZP4kqC5MQoL7KcwPIiy4lsYvtyQzkhyolRTohyAsuJUVYQpSuxW5ApQaYQGrHNRZTsSGM8hXE0xlI4R2McjbE6SjBQgp4WdCSvIXkNzjM4R+MshVgSsYQcwcUIJkWQEJZHYnhPEsKSEEbhrmGej5M6JTVeeWfMFG1iGDPOmHHGQjDpuN6Cayw4bRp+GbIs8mJUEKO8EIk1xAgvRHgxwgvhq9pChBcj3NWdnBDmhdDN/2+SLMssH2D5QAAN9zeEpvQaysRQJg1tijcYyqSJN2iThjJraTNF6m6yPAAAAGBEjNWwOOIYimAowngTV+AEUUmN8RAZa7BChBWinBBhY68oK0S4yw1WGM5ddV6meZkO9/8gMtzyaEK0aiWLTjQzgokRjTSvpwUdyelIToOzGjxKoSglR3ApJHEhiQ/KfFDighIflMVB98i+pli4DF07S2EYgTMWXGMhGAvOWHCN9XLDgjNWQmPDNTZCa8MZi3Jy7C4wc80LDyoWIoUQJ4SVBMkJoXiUVA45IcTxIVYIckKI44OcEGL5kCzf+Dg0x4c4PoRQ5zXPJAhaS5s1tEVLmTWMRUuZNbRFQ5u1V71bGcpww8UAAAAAwwFhccQog51G3XXPzBVEKcIKkagQZvlwVIiwfDgqhFkhEuXj7+EoH2GFsNKO8ImjmMPEiUR3kOgOXmMsliAwo45WXiY9Y0yjXR0X/9+6z7744ou3zi83kKyWiNIoLHGBhJdfTmhLnF+WrnsikSyLYtQlRl1Dj39iGI5rbLHsqLHhGuuVtjad0KYR2nScGdYS+RShpQgtYq77iWNeiHBCLDhyQpDlgxwfYIUgywdYXnkPsHyQFWINjg9e749ACIkiF4z0BiO95475j37oOl7jQQilZzOVt1pvfyBTb4z9ySUIWkdbtYxVS1t1jFXL2GKNhEMaBilHQnV19S9+8Yva2lqE0OrVq3/wgx+Mg+eQxjSHw1FVVTV//vw+a9qBJNi1a9eqVav696fsg23gJkFYVB9J4Eo4G/5XlOAYivKhCB+O8qGocLnBhyJ8KMqHI3woygfDXDByfXefRVH2BlhvIDaayIYD7//5XxBCOw+6Pm7zKJ0UqTPprWYDbdIzZj1jMjDmNNqkZ8wGxqSnrXpGR/IS5xNZn8T6JS7hnfUlHPqkqFdivfL17Gcoy5IYcYoR5xDnYDhNxIPj5UZiWxmevGEUqaVIrR5lDL9qJURGeT/L+aO8P95geX+Uix8Gory/T7I8vt/zp19c0hmIux7K1uqJ+pOB91/runDCv/7HpUpeFEUuEOkORLqH+PEkodFpbHomTcek6Zk0neZKQ8+k6Zh0kriJEdqJQZneaLfbN23a5PP5tm7dumPHjrG7GcP48Mwzz3g8HrWrmKBOnz6NEKqqqhrTM3zB8EFYHJO0DKllyDTzsJ6JVCJjMMIFI3wwzAcjXEg5DMfe/WEuEOZEse/dcCUpujrq+/TzguTyRVy+QW+B0xRhMTAWI2MxaiyGPIvRbjEwFhtjMWgsRkavuWp0U2K9YtQrsV6J9SjxUWS9Euu90o64xahbloY7qUWWOCHUIYQ6BjsBIxhCl0noMkldBqHNVNrx1zAHJq8HpsxuMaHca54qyWKU80U5X4TzdnW3/PjRR/ILM7e98i1az0c4X5TzPv/cx3vfcJw85F10T/owf7wgRv2hDv/gvyEMZVCCo16TadBk6DUZie8QJR0Ox8aNGxOXSfvCF75QWVn57W9/++jRo2pXN0Ht2rVrx44dalcxcX366acIIfj3f+KAsDj+GXS0QUcjdI11XsJRPhDm/CEuEOYCYe7DD979+XPfCQX9BSXlrY5zJj1DkfgwFy3ieLHHE+7xDPCMJVKipJGxGjU2k0Z5t5k0VlOxzVpuMQyaSyQuIEXdYtQjRd1i1H353RNrR9xSxCmJw5o2LousEGgVAq0DPoyJE5or2VGfQ+qzCX02oc8m9TmEPms4178ZOEboGJuOsSGEnG04gVNfeeTxVbc8Ez/hznJXenq6r7H8n+7dEeE8YdYTf4+w7oRDd4T1DPOWEMsHWT7oCTQP+KmGNivB8UqC1GYYNVkGbbaOsY7IrzrFnT9/3m63f/e7340PolRUVCxfvnzPnj3qFjZhuVyuRx55ZPXq1ZAX1dLY2Gi329WuAiRPSi+dk3g4EfYgTykYhlmt1jfeeOPgwYMbNmxQ7riFo4I/xPpCrD/I+UKsP8T6gqwvxPmDrC/E+kPcTS5CRBCYzai1muIJUmMzadJM2nSLdji36SUuIEacUsSl3KqWorFGvFMShj0haCAYhl9OjUp8zCb0OYQ+mzTkEdrhjvPdPAzD+u89OqAI51USZJh1hVhXOOoKsc5wrOEKs66b/ONPEoxRm23QZhljryttmhznM29sNhtCaOzu9DqmrVmz5t13362vr09PTx/mnwUwsjAMW716dXV1tdqFgCRJ6ZFFCIgqWr169caNG0tKSg4ePBjv1GlInYbMTht0kDLCCr4g6w1EvUHWE2C9waj3yjsbZa8x8UUU5V5vuNc7wJAkQ5PpZk26RZtm1qabtWkWXbpZm27WWoxXBiOVdR+RuXiw60t8UIo4xXCPGO4Rwj1i7NWrNKRrzUSRZUkIdgjBAe7n4oSGMOaRhtiLMOSShjzSmEfoRngwUvnbee7cucM5WUtbtLTFNvgk/zDrDrOuUNQVZp0h1hWM9IaivcFoTyjaG4z2SteaqCSIrCfY7AkOMCTJ0EajNtukzTHpck26fBAwsQAAIABJREFUXJMu1tBQ17FGUmqqq6v72c9+5vF4tm3bpnYtE5FyA3rbtm3wtJxaampqEEI2my2+tV1VVdWzzz67cuVKtUsDoyWlwyJQ0Y39L6PyMOVgaTLCCt54lPRH3f6o2x/1BCJufzQ+pWYwLCe09wbbe/vmOYrElfiYYdVlWHWZFl2GVZdp1eo0A8z7xikDThlI06QBf4TEh8QrCbJHDHeLoS4h1CWGOoVrrf4jiVHJ28h7G/v0YzgVS42GPNKQT5kKSWMBaSq8sUk2LpfrRz/6EUJo3bp1N/D1/pRb3ummyQN+GmE9wagSH2Pv8RwZjrqGvjLLBVgu4PT1feCVoYzx4KiESLMuz6zPp4gRW5R0VGEYpjQ2bdrU5+4HSALlBvTy5cvhN19FbW1tCKGtW7cuX75806ZNTU1N1dXVq1at2r59+5o1a9SuDowKCIsgeZQomTNQlBQl2eOPuv0Rtz/qDkSVKOm53B7imrwgdblCXa5Qn36jns606jKtugyLLtaw6mwmzRCXwik9bi6mBh6YlIVQl3g5OIqhLjHUJYQ6lTQ5xDVlief9Tby/qU8/wViU1EgaC0hjYaxhGGoGjMvlWrFiRWNj47Zt20pKSoY4c6RoGauWsWaYp/T/SJSUWdhdwUh3IPaKtVk+MMQ1WT7Q6wv0+i726TdoM826fIs+36zPt+gLzPp8iz6fSbFhyLq6uk2bNiGEfve7323YsKGpqWnLli1qFzWx/PKXv0QIwW97KkiMhuvXr1+2bNnatWvnz5+fnL+dQJJBWAQpgcCxdIs23TLA8JIgSk5fxOWNOH0Rly/iTGgMccFAiAuEuMY2b2InTREZVm22TZ+dpo+9p+lN+uHM9sVIfQ6pz0Fodt9PJFEItisvMdhxpR1oH2JVIJH1iqyXdZ666mfgNGkqoEyTKHMxaS6mzJNIczGhzUCXk2Jtbe2TTz6ZCmMqBE5b9AUWfUH/j1g+GIx0B6LdgXCnP9zhj3T6wx3+cEdoyMHIYKQnGOlpd32a2KllrEp8NOsKLPp8q6HQaihSMUFWVFQoayuuW7duxYoVW7duXbp0KQylJE1NTc3GjRuT9j9LYDBr1qzp8699RUXFk08+uXHjxvfeey8V/oICIw7CIkh1JIFn2/TZtr7jkbKMEuJjuNcT7vGEezwRb2DQkUiOF9t7gu09V93LNuioeHDMthmUBkXiw60PJ0hTIWkq7P9JPDUKSogMtAj+1iHW9JElju93LxunTRfdtn/eevrEha7vPbX6P/7tG7IQxcihhkjVxVAGhjKkmfrOlBTEqD8WHztijXCHP9wZZgedIxJhPRHW0+m+KlLrNelWQ5HVMMlqKFJeA2bWUZWWlvbss8+uWrXq9ddfh7CYHC6X67HHHquqqoIskpruvffejRs3+nw+tQsBowLCIhirMAxlWLQZFi0quqqf5cUeTyw7Xk6Q4V5PeLBtb4JhviHsbbh6DDLDostO0+dlGHIzDHkZhtx0o05z3X9YlMkuKPuqTlnkYqkx0CIEWgV/ixBo5f0tgy0keaaxd81zJ3xh6b+fyL5vzrHO1+9XrkyZiymLnbKUUtZSyjJ5FJaHHGEkobEZi23Gvnf5OSHoDbX5Qm3eUKsv1OYNtflCrUMsMx6KOkNRZ5vzWLyHwKnLwXGS1VBkM5akGUtGe3lIk8mEEPJ6vdc8E4yIc+fONTY2ooTHRhV79uwZ/voAYKQ4HI4+47t+v1+tYkASQFgE4w1DEQWZxoLMvnOAe72RXk+42xPqdoW6XKEud6jLFRps6RhlUvapxt54T5pZezk43nh8RAhhBE1ZSilLaZ9+IdgRC5H+S7zvEu9rEnyXzraE1zzXHkuK8w0JJ7cLwfZIe028h9RlK6mRspZSllLKOhmnb2ar8+ShSUOmuSzTXJbYKYisLxwLjgnvbQNeQZR4p7/B6W9I7LQaCtOMdpvJnmYsSTPa00x2DGEDfv2ann/++R/84AdvvPFG4n4tyjP+w5yWDm5ebm6u8sBoog0bNtjt9ieeeKKwcIChfTBK5s2bV1tb63Q6EyekHzhwACE0Y8YM9eoCoyil11mEpXNSwebNm+PrLKpdywiTZTmeGrsuJ8hrzsuOSzNr8zIMeRnGgixjYZaxIGvkn6WrmjPr2PFTf9i8/oHFGUp8FMJD7eyXiNTnxuMjbZtK2cow/Bo7g6c4UeI9wSZlsR5PsMkdbPYEm4e59TaGYUpktCnZ0VhiNRRd+2sIIYSqq6vXrl2bOHblcrkWLFjQ2Nh44sQJ2CFaRTCmqArlPwpPPvlkfKZRXV1dZWWl3W5vaGgY+rtgjIKRRTBxYRiWk27ISb9q+ehwlFdSY4cz1N4b6OgN9p9qrVD2PDzZEBt9JHCsIMtUkGVU3gszjYbr2e+7v+rq6mPHT1mt1h0fNO34oAkhhJABSVpJjFROzf3h47dwngbeW99/vR6FsudhpG1fvIe2TqXTyihbGW0ro2xlyVxIfEQQOJVumtxnoZ9gtEfJjkqIdAea/OEBngqVZbnP6CNJMOmmyRnmqRnmKRnmKRmmqYPduV6zZs2+ffu2bt1aWlr6xBNPKHtDezye7du3Q1IEE9C6det27ty5detWh8Nxxx13NDU1bd261Wq1/uUvf1G7NDBaICwCcBWdhirJs5TkXVkHkRekDmdQCY7tzuBg8VGU5KZOX1Pnlee70y3agkwlPhoLs0xDLGY+oH379iGEPB5P/23lcGq5ec63lLYsCby3gffU894GXomPvksDXpDzXOA8FxD6u3JI6rOV4KhkR8oyJjfvMmgyDZrMgvR58R5OCLr8Dleg0RVwuAKNLn9jKOrs/0VBZLs8p7s8p+M9aaaSDJOSHadmmKZoEzYz3LJly6RJk3bu3LlhwwaE0PLly7/5zW/CEsRgYkpLS9u9e/eLL774u9/9TvnbafXq1T/4wQ/g/53GMbgNDcB14wWpozfY7gx09AZbuwMt3X73kItBKrQMWZxrnpQTe2XZdKNUnixyV8VHz0U+0HLNb+Gkjk6fEX8Nst7kmBRhPYnZ0RVwRLlrz9k06XIyzFPSTVMzzFOyLOVGbfY1vwIAAOMShEUARkAgzLV0+5Xg2NodaO0OXPNPllFHT8o1F8eyoynNPIpbmEicn3ef59znOdd5pSFL/NBfIRhLQnacOfSC4WNOMNLjDDT0+i72+i70+i96Ak3X/IpRm5VlmZZlnZZlmZ5lmcZQY2P+EAAA3DwIiwCMPEmWW7sDrfH42BMIhAZeGSfOatIoqbEk11Kabxlwu8IRxLsvcO7znDuWHcXIADdqE5G6rMTsSGjH1ba8vBDu9V/s9V3o9V3s9V3s9V+QJHHor9iMxVmWaVnW6dmWaVmW6Rg27IU5AQBgrEnpsJh4CMERjGkuX6Sp03ep09/U6Wvq8AXC18iOBVnG0nxrab7Fnm8dcIPEkSWGujjXWc55mnOeZp2nrpkdKbOdyaxkMmczWZWUdepol5d8SmRUhh57fOc5fuBJTgoMw5XgmGudlWOrMOlyklYnAAAkQUqHRQiIYLzqdoeV2TCXOn1NHb4IKwxxstnA2PMtpfnW0jyLPd9CEqM+iCUEWpXgqGRHiRtqu2eCsTCZs2klO2bOTuXdZW6YK9DY7Tnb7T3T5T3b4z079F+bZn1ejm1WjrUi1zYrwzwOkzQAYKKBsAiA+jp6g5cuZ8fGNq80yGYzCCGEodI8ZcTRMrnAajUmI5nx3oaE7HhaFodaipLJmKWkRjpz9jh70lEhyWK390y352y392y396w7MPDccwVDG3OtFTm2Wbm2ihzbLAK/qdWUAABAFRAWAUgtkiQ3tHkb2j2Nbd6GNs/Qi4TnZRrLCm1Ti2xlRTazYXQ3uIvjek+yPSfYnuNsz3Eh2D7EmZS5WJM9n8mep8mZT+jH583ZKO9XgmOn52Snuy7KDbXp2eXUWJGfPldDjfwq7gAAMBogLAKQ0rrcISU1NrZ5m7uGCiIFWcapRbaywrSpRTaTPkkjWEKwne05znUfZ3tOsM6TQ5xJWeyx4Jg9n9BnJae85HP66zvcdZ3uug73ycH2J1RkW2fkp8/NT6/KT5s72jtZAwDAzYCwCMCYEWEFJTU2tHkb2z3h6KBPOhZlm6YW2aYW2aYW2ow3t5HM8MlChO05rgw6cj3HRXbQtQxpy2QmZ56SHQldZnLKS75ApKvDXdfpPtnpruv2nhvizPz0ufnpc/PT5uanVyWtPAAAGCYIiwCMVY3t3gvN7vPN7gvN7ig3aHCclGOeVpw2vSR9RklS9/fjnGfYriPRrqNs15GhgqOtTJN7izbvFk3eLWj8LkDDCaFO90klO7a5jknSwP+8CIJWImN++twc68wkFwkASI4+25rX1NQsWbIklTfXhrAIwHhQ3+q50OJWsiPHD7xGIEXiM0rSp5ekTy9Jz716R+zRxjlPRTuPsl1Hol1HBptbjeGUJu8Wbd4tmtxbKOvkAc8ZH2RZbHUea3Mda3PWdrhODHaahjYVZiwsylxUlLHQoB23468ATEDV1dVr167dv3//rbfeihDCMCyVkyKCsAjA+HOxxXOhxaWMOPKCNOA52Wn66SXp04vTp5eka2gimeWxvXVs11G280i066jEBwc8hzIWavJuUV44ldRcm2S8EFFSY5vzWLf37GCnZVmmFWUuLMxYmJ8+N5nlAQBGSWlp6T333LNly5YVK1bs2bOnsbGxpKRE7aIGBWERgPHsQrP7XJPrtMNZ3+oZ7BzlJvX0kvTiHHMya0MIsT0nou010fYD0e7awc7RZC9QRhzpjFnJrC35Ipy37fKIo8vfOOA5DG0sylhYlLGwMHMhbFcNwNilDC4++eSTW7du3b59+5o1a9SuaCgQFgGYEIIR7ozDddrhPONwunyRAc/JsOgqpmRUTs6cac9IcnkS54+2H4i2H4i0HxCCA08iJnVZ2oJl2sLbtQXLxvHTjYpgpKe591Bzz+GW3sODLceTaSkvylw4KXNxXtqcJJcHALh5paWljY2NmzZt+v73v692LdcAYRGACaely3/a4TxzyXnG4RzwLwCdhqyYnFk5ObNicqaWIZNcHu++EOk4oGRHWR7g+Uuc0CiRUVuwDNdYk1xe8rW7Pm3uOdzce6jbM/B9aoM2ozhraUn20uKsW5NcGwDgxjgcDrvdjhBK8RvQCgiLAExcvCApY41nLjk7egd+fHBWaUbl5MyKKZnpZm2Sy5MlPtp+INpxMNp+gPNcHPAcbe4iTcEybcHtlLk4yeUlXzDa29JzqLn3cHPP4Sg3wARzmtKXZC0pzl5akr2UIpL9zwsAkKimpubgwYMIocLCwvnz5/dJhMqwot1uV55cVKnG4UrpsJh4CMERgFHV3husq+85Ud9zodk94An2PEvFlMzKyZlF2SpsPSL4myOtH0ZaPop0HBjwBDptmrbgdm3BMiazMsm1qaLddbyl93BT98GBp8VgqCQ21rhEr0nqkkkAgM2bN//nf/6nx3PVk+KJt5uVSS379+8/ePDghg0bUjaJxaV0WISACEDyeYNsXX3PiYs9dfU94kC7VGen6avKsqvKs4tzkz0hBiEksd5I60eRlg8jrR9JQrj/CZSxUDdpuXbSPRMkNXpDrY6ufZe69rU6B54klJ8+tyR7aXHWUquhMMm1ATDRuFyuFStW1NbWIoRWr149Z84chNDOnTuVnm3btq1fv37z5s0bNmyIZ0cMw1L/sUUIiwCAgfGCpIw11tX3+ENc/xPyM41V5dlV5dkFmcbkl4eQHGn5KNL6YaT1IyHU2f9jylKqm3SPbtJyOm1a8otLvjDrdnTtc3Tvu9S1b8C/2LNtM6fk3jU59y6YRg3AKFGGDJV2fBlFhNCaNWt27Nih3HTeunVr4orcSnZM8ScXISwCAK7tXJNLSY2dzlD/TyflmKvKs+eVZ2en6ZNfG0KI7f5USY2c+3z/T+m0cl3Rcl3xcspSmvzakk8Qo46ufY7u/Y6ufdxAK1kWZsyfnHvX5Ny7NLQKY8MAjFdK7LNarU8//XSfm8t1dXWVlZVojExn6Q/CIgDgOrR0+WvPd9We62ofaELM5AJrVXl2VVl2ukWd2RW852L40p5w0x7Oc6H/p0xGhW7Sct2k5aRpotyQbeo+4Oje5+jaF4z09P/UnnObkhoJPEkbiANwY4L+6I4/fDKqeQUbqHPd/7tt+Few2Wwej2fTpk0Iob1798bHDmPXxzB09XDjGAJhEQBwIxzt3trzXUfPdfW4B3hwsHxSWlV59oLpOUadOimEc54ON+0JN+3hfZf6f6rJqtIVL9cV30vospJfmypanUfrO96v7/ggwvZdnp3Aqcm5d03OvdOes0yV2gC4pqA/+tufvZ/8n/v0zz4zzDN37dq1atUqhJDT6fzSl7505MiR+fPnJ56g3J52Op1paWkjXudog7AIALgpF1vcR8911Z7rcvuj/T9dMD1n0Yzc2VNVy2Rsz/Fw057wpT0DrvWtK7pHX3qfbtKK5BemFkfXvvqO9+s73hdEts9HGto0OfeuqXkrYFNBkGpSPyw+9dRT8YcRlSHGAU9L2dA1NAiLAICRceaSs/ZcV+25rv6zYWwmzaKZuYtm5BVkqTIVBiGEop2fhJv2RJr2COG+N2QJbYbefr++9D46bboqtSWfJAv1HR/Ud7zf0LG3/6fpptKygpXl+Sv1mmTv5QPAgIL+6KUGZ/J/7sw5+cM8U5na8swzz6xbt85ut2/fvj0/v+93jUZjRUXFSNeYDBAWAQAjrK6+p/Zc1+EznRzfd/+VKYW2RTNzF83ITf7GMHHR9ppw056QY5fUbxs9JnOOvvR+vf1+nFYt1CYZyweU1Njcc6j/p6W5d5bnr7Tn3J70ugAYY5SwuGnTpsLCwqeeesrtvrJgrcPheO2112bMmLFgwYKxeA8aQVgEAIwSQZQOneo4eKr97CVXn49wDFs0M3fRzNzkb0KdKNT4RqjhjUjbx336MYTp7ffrSu/X5i9VpTBVBKM99R3vn2/b3e050+cjozZLGWi0GcfeLE4AkkMJi08++aTVaj127Fji7BblDrXdbm9oaFCxwpsBYREAMLo6XaFDp9oPne7oPxUm06pbNDN3aWWBWrOnEUJCoDXU8Eao8Q3e5+jzEWUs1Jfer7PfPxH2Eozr8pw617brfOsutt+yOwUZ88vzV5YVrMQxQpXaAEhZSiK0Wq12u/3hhx+OL7JdXV29du1aNGbnQSsgLAIAkuRUY++hUx2HTndI/TaGWTA9Z+nsghklam5MF+04qKRGWeL7fKQrWKaf+rCu6G5VClOFLEvn294537aruedwn49oUldWsKo8/94c25h8+gqA0VBTU7NkyRKlvWnTpsWLFyOEXnnlla1btyKEtm/fvmbNGjXruzkQFgEASRVlhUOnOw6d6rjQ0ncT6sJs022zC5ZW5tOUagNXshAONbwZanwj2nWkz0eUudgw5WHD1IdxxqJKbapwB5vOt+4637bLH+67TU5uWuWMos9OKxjudFEAxrf4IGIiq9W6ZcuWMZ0UEYRFAIBaWnsCB0+27zvRFgxfNXuapoils/NvqywozDapVRtCiHdfCDW+GWp8o89eghjCDFMf1k95eILsPR3n6Pr4XNuu+va+y5fotRkziz47o/CzBm2mKoUBkDocDseLL7547NgxhJDFYnnwwQfvvvvuMTqpJVFKh8XEQwiOAIxXHx9v3XeiraG177JkM+zpSysLFkzPUaWquLDj7eDFnZH2A336NdnzDVMf1pc+qEpVagmxLmWgsdd3sc9H5QWrZhR9Ni9ttiqFAQBGT0qHRQiIAEwcF1vcHx9vq6nru3R2ukW7tLJg6ex8q1GjSmEKznkmeHFn8OJOWbxqHJTUZRmmPKSf+jBpyFOrNlU09Rw83fy3/ss0wr1pAMYfCIsAgBTiD3H7jrd+fKK1/9TpWyvy7qwqKslT83lBiQ+FLuwMXtzJefqOq+lLPmMs/yKTPU+VwtTiCTafbv7b6ea/9Zk6rddkzCz67IwiuDcNwHgAYREAkIpqz3XtO9FaV9/bp3/2lMw75xWpu0AjQijS+lHwws5w87t9+rV5txqnfVlbeIcqValFkoTTzX871fy3Xt+FPh+VF6yqKH442zpTlcIAACMCwiIAIHW19QT2nWjbd7w1wgqJ/VMKrXfNm6T644y871Lo4mvBCztF9qoHLpmMCuO0L+tLH1CrMLUMdm+6JPu2ypLVhRkLVKkKAHCTRjIs1tTU9O8sLy/vMw+orq4uEAj07+8DwiIAQCGI0ofHWt4/2tzlCiX252Ua75pXdMfcQrUKu0wOXng1cPZlzn0+sZcylxinPWKc9mW1ylLLYPemCzLmVRavtucsU6swAMCNGbGw6HA47HZ7//7EJctramoee+yxxsZG5fCZZ575zne+M1hkhLAIAOjj4Kn29482N7Z5EzutRs2d84rumlek4n7TivCldwJn/xztOprYSWgzlMg4cfabVkiSsOf4v/T4LnoCTYn9WdZplcVrygtWqVQXAOC6jVhYVNYuX7169Zw5cxL7H3rooZKSEoRQXV3dsmXLEEJbtmzJz8//7W9/u2PHjmeeeeanP/3pgBeEsAgAGFBdfc/7R5tPNlz1OCNNEXfNK7prXlGaWbWdAxXR9prA2ZfDLR8kduIEY5j2ZeO0RybapGmE0LnWt09cqu72nE3stBknVRavmVX8sFpVAQCGb8TC4ubNmzds2DDE1odr1qzZsWPHiRMnKioqEnsaGxuVNNkHhEUAwBDqWz3vH20+fLqjT/+yuYX3LirJsulUqSqO660LnH052PB6n37j1NWGaY/QtjJVqlJRY+eHJxzVrc7axE6DNrOyZE1l8WqSUHNdJADA0EYsLCpbaDudzsFuK2MYVlVVdfTolRs0u3btWrVq1aZNm+L7bSeCsAgAuKYOZ/D9o80fHG3u03/3/En3LipWfZSR910Knv1z4OzLMrrqb1rD5M+ZZj5OWSerVZhaWno/OeGodnTtS+xkKENlyZq5pV+hSb1ahQEAhjBiYXHevHkej6ehoUGZv5Kbm5s4XqjcpO5/0xnDsOXLl+/evbv/BSEsAgCGyRdk3z/a/P7R5nCUT+xfsah45aISs4FRqzCFGHEGzr4cOPtnifMn9hvL1phm/iNpUn2CTrJ1eU6dcFSfb7vqb36GMswtfbRq8qM4ptrO4ACAAeEjdaHa2lqE0IoVKyorK5csWWK321esWOFyuZRP/X4/QshsNvf/YvwcAAC4MWYD8/llU/77u3c+dMdUvZaK9+8+dOnbv967c++FUIQf4uujjdCmW+b+v/wvHrLOfzrxmcXA+er2nXd6Dv+HGOpSsbzky7bOXDH3p1++49WZkz4X72T54MFz//Piu6uOO7arWBsAoL+RCYt1dXUIIeXpw/3797/99turV6/es2dPPC+ePn16sO8qKRMAAG4SSeD33Wr/1bfuePC2yQwdG50SJfmtmsZv/3rv3z6uZzlRxfIwgjbNXJe3+iPrgh8Q2iuLivvPvNRevdR7dLMU7bs79viWZrTfWfHDdfe8Ndv+xXhnKNr78amf//GDB083/03F2gAAiUbmNrTD4XjmmWcefPDBNWvWxDuV+Svbtm1bv369Mv2l/+OJGIYhhAasYf369YP9OLg9DQAYWijC7zrkeOegQ5Su/PWi11L3LipZubiEwDEVa0MIyZLgP/V7/8kXEm9M44TGNOtx48zHcWrCPbrnC7XVNrx0qumviZ0Z5ilzSx8ty1+hVlUAAMWwwmJNTc3BgwcH+3TA6SkIobq6usrKSuWRxOeff/6f/umfBgyLVqvV7Xb3/zo8swgAuEm+ILvrkGP3oUuJnSYDs3JRyb2LitWqKk7mw/5TL/hP/l4So/FOnDaZZj1umvk4hlNDfHdccvrra+tfOt/2TmJnjm1W1eRH7dm3q1QUAGB4YVEZFxzs0yGuEJ+/okxwGTAswgQXAMCocvki7xxyvHfkqhnTNrN21eKSu+YVqVVVnBT1KKOMiTOmCW2GaebjpplfVbEwtXR6TtXW/7Gx86PEzsKMBVWTH4UNAwFQxbA2PHjooYcWL148xAl1dXXt7e1lZWWJM6AdDke8nZubixBqampK/JZywoCLLAIAwEhJM2sfWTH97vmT3jl06cNjLUqn2xf58ztnauraHrxtcuXkTBXLwzVWy7zvGad9xX/qBf+Zl5ROMdLrOfKz0MXXzHO+riteqWJ5yZdjnXnf/F+09h6pbXipueew0tnS+0lL7yclObdVlT6aa6tQt0IAJpqReWZRGXrcvn174jOLyq1n5ZlFhFBpaanb7U6846yc0OdbcTCyCAAYce29wXcOOfafaEvsnDct+8Glk/Mz1d+OT/C3+E/9PnD+qunA2oLbzbO/zmRMxITk6Pq4tuGlDlddYufMSZ9bOHW9XpOuVlUATDQjNsHFbrdbrdYPP/xQ2aClpqbm/vvvRwjV19cry3QrgfLJJ5/csmULStj9L35CHxAWAQCjpLnL/8b+htpzVy1Yc++ikgdvK9XQKm8wjRDiPQ3+k9uCDX9P7DSWf9E8+xuEdiImpAvte2rrX+r1XYj3kASzsGx9VemjKlYFwMQxYotyV1dXr127FiG0fPlyl8tVW1ubmB0V8+bNq62ttdvtpaWle/bssVqtb7zxxmDbA0JYBACMquMXe17/uL6p0xfvMeroB2+bnAoPMiKEoh0Hfcd/G+26susVTmjMc75hmvWEilWp6Ezz60fq/+ALtcd70kz2RVPXl+beqWJVAEwEIxYWEUIOh+PFF188duwYQmju3Lnr1q3r/zxidXX166+/7vV6BzshDsIiACAJ3jvS9Pq+hmCYi/cU55ofXDq5coqaDzLGBS++5jv+30LwyhbYlMVunv11fclnVKxKRYcvPH/4/O8Se+w5ty+cuj7DPEWtkgAY90YyLI6+y3G2AAAgAElEQVQsCIsAgOSIsMLr++r7rLAzrzz7gdsmF6TAg4xIFn3Hf+s9/tvEPm3+UvPsrzOZs9UqSkXeUNvhC9vOt161ws6c0kcWTV1PkTq1qgJgHCN+8pOfqF3DwN5666377rtP7SoAAOMfReIz7RlV5dn+ENfhDCqdHc7g3tqWKCeU5lspcsR2Rr0RGK7JWWiY/FmZC3Duc0qf4G8OXtwpRXrp9Ok4ZVCzvKTT0KbSnDtybLN84dZgpEfp7HSfPNPyd4rUZlmmq1seAOMPhEUAAEAIIbOeWTA9Z1KOudsd8gZYpbOhzfvx8VYNTRbnDrC1fTLhjFlXdLcmZ74Y7BCCsef2OOfp4PlqnDZMwLnSFn3BjKIHtYyt23tGEKMIIV6MXOquae49bNRmW/T5ahcIwPgBYREAAK7ISdPfPqfQqKMvdfg4XkQIcbxYV9/T2ObJzzSaDYy65ZHGfMPkz1HGfM59XtkqUJb4SNvHXPcxylpK6LLULS/5sq3TZ036vChxnZ5TSk8w0n2+bZcv3J5rmwV3pQEYERAWAQCgr5I8yx1zC0VJamjzKj09nvCHx1owhMomDbDUV5LRaeWm6Y9iGBbt/ETpEQKtwQs7kCxqchepW1vyEThdlLnInnN7mHV6grF9epz++tPNr2tpc6alXN3yABgHICwCAMAASBKfYc+YW5bl9EV63GGl83yz+9ML3ZkWXaZN9SErTJOzQF98rxjs4P1NShfbdTTStIc05FJm9Xe+TjK9Jn1q3vI0U6k76IiwHoSQKHGOrn09vvOZljItbVG7QADGsJSeDZ14CDOjAQBq2Xus5dUPzkeiQrznjqrCL9xZpmXUX8EbIRS88Kr36M9F1hPvMUz9gnXe93BmgiakvsvrYNiSad+aW/pl9SoCYGxL6bAIAREAkCK8QfbVD84fqLuyIrTFyHzhzrJbZuWpWFWcFPV4jj4XvLgz3kNobJZ53zNMeUjFqlTU4z23/+xvWnuvLGmelz5nybRvZVtnqFgVADcPw7Dly5fv3r1bOaypqVmyZIndbm9oaBi9Hwq3oQEA4No0NDm3LLswy9jc5Q9GeIRQlBOPne9u6wlMyjEZtLS65WGkVld0J5M+g3dfEKNuhJAsRCItH/CuM3RaOaGxqVte8uk1GdMKPsNQxlbnUVmWEEKBcOfp5tclJBakz1O7OjDO1dXV/f3vf9+7d++BAwd8Pp/NZtPpRuzBlbKysk2bNt11112FhYUIoaKiotFOighGFgEA4LrIsvzqBxd2HXTEe3Ac+8KdU+9dNOh+VEnmrf2lr25rYo+l6rvmin9Sqx51eUOtNWd/09DxYbwnwzzl1mnfLMqccDOBQBK4XK4vfelLe/bsSey0Wq1btmxZs2bNSP2U0tLSe+65Z8uWLStWrNizZ09jY+MQ++GNCBhZBACA64Bh2IyS9Bkl6V3ukMsXRQjJMjrtcJ695MzPMFpNGrULRJrcRbqC2wV/qxBsU3qiHYeibR+TpkmkccKtPqihzVPy7jHpcjo8dcpyjGHWdb5tV4T3FaTPxfGUeOoUjA8ul2vBggVHjx5FCK1evforX/nK/PnzOzo6Ojo6/vKXv5SVlc2YMTJPQWRmZj799NM9PT3V1dXbt29fsmTJiFx2CDCyCAAAN+idQ45XP7ggSVf+Fl19d9nKlBliDJz5k/foc5IYjfdYZn/TPOcbKpakogjnrTnzmzMtb8R7TLqcW6d9a0re3SpWBcaTp556auvWrVar9cMPP6yoiK2T73K5vva1r+3YsQMhNIJDgKWlpY2NjZs2bfr+978/IhccGoRFAAC4cd3u0KsfXKg91xXvqZyS+ciKaRkW1dfWQQghIdjhPfpcyPFWvEeTs8C26F8p6xQVq1JRQ+eHNWd+4w21xnvKC1bePnMDM8G2TASjwWazeTye/gHO5XKlp6cjhLZt29ZnpZcb43A47HY7GtH0OTS4DQ0AADfOoKUXTM9JM2nONrlEUUYIdblC+060WY1MYbZJ7eoQTht1xStoi53tOioLEYSQEGwPntuOa6xMxiy1q1OBzVg8q/ghTgh3Xd7xxemvr+9416IvtBoK1a0NjGl1dXW//vWvEUI///nPs7OzEz/S6XSHDx9ubGxcsmTJLbfccs1L1dTUVFdXHzhwoLW1VafTWa3WPifMmzfP4/HY7fbu7u5Vq1aN4K9iMHgSfgYAAIxvS2cX/PsTS2aVZiiHUVZ44e8nf//GySgnDP3F5NCVrMr53Jv64nuVQxnJ7kPPOvd+Qwz3qluYKnCMvG3Gdz9/y7b45i6+UMffD3/rwLn/UbcwMKbl5+fv379/06ZN8RvQiYY5W3nz5s02m23JkiUbNmzYsGHD2rVr7Xb75s2bE89ZsWJFY2Pj/v37n3jiia1btw52qZEFt6EBAGDEvH3A8eoH5+OHGVbdl1dMq5icqWJJiQJnX/Yc/ndlKRmEEKGxWRf9q74kGSMTqanm7H/V1r8UP8xLn7Ns5oZ0U6mKJYHxR1kKESH09ttvr1y5csBzXC7XihUramtrEUKrV6+eM2cOQmjnzp1KT/z+9ebNmzds2BC/041hWHIeW4SwCAAAI6mxzfvn3WcudfjiPSsXl6y+q0zFkhLxnovuQ/8e7Twc7zGWrbUu+hcMp1SsSkWOro/3ntwUjHQrhxhGLJu1Ydakz6tbFRhP5s2bV1tbO/RqiMoiOEp7//79t956q9Jes2bNjh07lO8qE2gSV+RWsmMSnlyEsAgAACOv+r3z7xy6shZjSZ7lyyumleSlyv57vuP/7f30v+KHlMVuW/gvmrxrP001LkU5396T/3mx/d14T1nByjtmbaBJmPWSKiSeVeXn4hRzk1dQEh66OgL2oWQ+q9X69NNPb9iwITGY1dXVVVZWoiTOZRkQhEUAABgVJy72/Hn3Gac3Eu9ZfVfZysWpsrBOtPMTz+F/59wX4j3myqcsc7+tYknqqru048OTVx4OM+lz75j59KSsCRqgUw3n66791znJ/7mLf9N+7ZMGF0+K27dvH2JR7vg0aoTQ3r174wOHCgzD0JBZMwlSOiwmHkJwBACMORFWeHn32Zq6tnhPxeTML6+YlmFNiYV1EEKeQ//mP/vn+KEmq8q6+Me0LVVumidZr+/C3pP/2ek+Ge+ZP+Wri8u/pmJJQDHmwmLi8opDJ8Vdu3YpM5qdTueXvvSlI0eOzJ8/P/EE5fa00+lMS0u7sWJuXkqHRQiIAIBxYP+Jtj/vPsNyonKoocl/+MyMhTNy1a0qLty0x3Po34Rwj3KI4VTakp/pSx9QtyoV7T/7m2P1f4of5qXPuWPm02kmu4olgbEVFh0Ox+rVq5W5KUMnRXR59FF5ElEZYhzwNHXTGux0BAAAo2tJZf7UItvLu8/W1fcghKKcsPWvJ1p7Ag/fMVXt0hBCSDdpuSZ7vvvQvylrd8sS7/z4nzn3eev8DWqXpo4l076VZ6uMz3ppd3768kdr7pj19EyY9aKqyqf3ql3CsNTV1S1btszj8fTZymUwDocDITR37lyHw+HxeLZv356f33dbTqPROFrlDg+ERQAAGHWZVt131lbtOujY8X5sYZ23ahrbugNfvX+mWX+zT9DfPFxjTV/2KyZrrvvQs0qP/9TvefeFtCUbCX320N8dl0qyb8u1VcZnvciy9EHdxk7Pqbtn/xhDmNrVTUS0OYs2Z6ldxbXFk6Ldbv/LX/5yzaQYZzabjxw5YrVaE4chHQ7Ha6+9NmPGjPLy8tGpd7hgUW4AAEiSlYtLnv7KgvgDiyfqe579/cEzDqe6VcUZpz2SveoVyjRJOYy07+964/OR1o9VLUo1Gtq8supnt8+6soLd2ZY3q/c96go0qlgVSGUOh0NJilVVVZ988snwkyJCqKmp6dSpU32eVvz5z3++YcOGb37zmyo+raiAsAgAAMlTPintJ+sWz5kaGyNx+SKbXz6y+/AldauKY7LnZT/wV/2kFcqhEO7pefdx/8nfqVuViiqLV3/x9ldybLGtEbs9Z6r3PVrf8b66VYHU9NRTTyl3n3fv3j38eKcsiFNdXf3uu+/ecccd8f7q6mplJvUf//jHUSj2+sAEFwAAUMFfP7r4931XVui9tSJ/3X0zcTxVbnH6jv/W++lv4od6+/1pt/4UIzUqlqSuD+r+41TT3+KHC8vWL5z6hIr1gFQT36bFbreXlg68CdBjjz3Wf7JL/IsIoU2bNi1evBgh9MorrwxnzZ2kgbAIAADqOHK28w9vnoqwsf2jJ+WYvnrfrKJsk7pVxYWb33Pvf0ZkvcohbZ1iW7KRybiOO2vjzHHHKx+f+kX8cEre3XfP/jFFaFUsCaSO+JKKQxhsa77q6uq1a9f26bRarVu2bEmFpIggLAIAgIo6naEX3zxZ3xpbLIMgsHX3zbplVp66VcUJgRbX/h8m7g2YdutPDVO/oGJJ6mruPfze8WeDkdgyQ2km+z2zf5JlmaZuVSAVVFdXt7S0DH3O4sWLB1tY2+FwvPjii8eOHUMIWSyWBx988O6771b9UcU4CIsAAKCyl3ad3lt75T8z9y4qWXN3Ci2L7Tn8H/4zL8UPTdO+Yl30LyrWo65gpOfdEz9p6flEOcQw/J7ZPy4v+Iy6VQEwqoif/OQnatcwsLfeeuu+++5TuwoAABh1lZMzzXq6rr5XOWxo8zS0econpWmZlFjdTJu/lNTnRFs+UA7Z3jq284gmey7OpMpW18lEU/ryglWsEOjynEYIISQ3dn4kSGxhxgKVKwNg1EBYBAAA9RXnWqaXpNe3eoIRHiHU4wl/cqajKNuUIhsD0unTtQW3c70nxYgTISQE28ONf6fMdsqSKltdJ9mkzMV6Tcal7v3KYYe7rsd3vjBzIUVM3DlAYByDsAgAACkhzay9tSK/2xPq6A0ihKKceOBke4ZFW5gaU14IfZZhyufFQDvnuYAQkkU25HiL0KYxGbPULk0dWZbygoz5He7jUc6PEPIEmxs692aap5p0OWqXBsAIg7AIAACpgiLx+dNycAw71+RSej690E3g2NQim7qFKTCc1E26Bye10Y4DSk+k9SMk8ZrcxeoWphaTLqcs/153qMkTbEYIsbz/bMubBm1mpkXl/TYAGFkpPcEl8RAmuwAAJo5Dpzq2/e1E/HDZ3MLHVs1QsZ4+Is3vOz/8jiRGlEND6YNptz2nbknqOnD2v4/W/zF+uKj8yQVTHlevHABGWEqHRQiIAIAJ63yze9tfT3gCUeWwYnLmk5+rTJEpLwghznna+eG3eX+TcqjJWZS+7JeENl3VotR0rvXt9048K0miclhR/IVlszaoWxIAIwW2+wMAgFRUVmR75rGFJXmxGcd19T0b/3i4vTeoblVxdPqMrM+8oslZqBxGOw91v/1Fznla3apUVF6w6qFbXjBoM5XDukuvvnX0e5IsqlsVACMCwiIAAKSoTKvuh48trCrPVg5buv0bXzp0utGpblVxhDYja+WfDaUPKoe871L321+MNE/cfZNzbRUP3/JCfI3uho69r9X8Y3wFbwDGLpjgAgAAqQvHsQXTc8JRvrHdixDieOngqfY0k6Yox6x2aTG6SfcgiWe7axFCsiSEHG9P5CnSGtpUVnCv01/vDbYghAKR7sauj3NtFQZNhtqlAXDjICwCAECqm1WaoaGJ047YmOLxiz0YQmWTUmUrME3uYkJji7R9rBxO8CnSBE6V5a8IRnt6fOcRQizvv9C+O8M82WooUrs0AG4QhEUAABgDJhdYc9L1x853K4fnm92eQHT2lCx1q4pjMmYxadMizR/IsoAQYrtrxUCrbtI9atelmpLs2yRZbHcdRwhJknChbbdBm5VpSaFdHAEYPgiLAAAwNuRnGqcVp5+95IqwAkKoudPf2O6tKM2kKULt0hBCiLKUaPOXsp2fSKwXIcS5z7NdR7X5S3EqJTahSb6CjHlaxtrUHVuT0tG1D8fJvLQ56lYFwA2ACS4AADBmTCm0PvPowskFVuXwVEPvxpcO97jD6lYV12+K9OHutyb0FOmK4i+smrcZw2L/qT14bsuHpzarWxIANwDCIgAAjCXpFu0zjy6cPz22p1xbT+C5/zvS2hNQt6q4vlOk/Zd6dn+V7apVtyoVTc698+FbXzBoYxNc6hw73j76fVmW1K0KgOsCYREAAMYYHMe+9vnZKxYWK4c9nvBzLx9RpkuniLTbnjNXxHbhEllPz+5/iLbvV7ckFeXaKh+65YX4HoD1HR/sPPCPwSgsqQPGDAiLAAAwJq29p/yBpaVK2xdkn3v5SHxH6VRgqfpn6/wfKG1JjHbv/mq4+T11S1KRRV/w8C0vFGffqhx2uE68duAJZbo0AKkPwiIAAIxVn7t9ysN3TlXaEVZ47uUjJ+pTaLzKNPOrtsXPxg97338q1PiGivWoiyK1Dyz4zfSiB5RDb7D19UPf6PJM3Ac6wRgCYREAAMawz9xif2RFbMsQUZJ/tb32yNlOdUtKZCz/YvrSK1M6nB99N3jhVRXrUd3dlf86f8o6pR1m3X87/HVleR0AUhkmy7LaNQxs/fr1iYfPP/+8WpUAAECK+/h46x/ePBU//McHZt1aka9iPX2EL73Tu/eb8UPbwh8Zpz+qYj2qO9bwp/1nfqO0KVJ7/4JfFaTPU7ckAIaQ0mERAiIAAAzTodMd2/56In74lZXT76xKoS1DIq0f9b7/lCzxyqG16p9NFeuH/sr4dtzxysenfqG0cZx6YMGvijIXqVsSAIOB29AAADAeLJqR+63Vc+OHf9p15p1DDhXr6UNbcHvmiv/FaaNy6Kn9uffYr9UtSV2zS764bNbTSluS+L8d/rqja5+6JQEwGAiLAAAwTsyZmvW9R+Yzlzd0qX7v/N/31atbUiJNzoLMFf9L6jKVQ9+J//F88jN1S1JXRfHDd1X+KHYgozc++XZD515VKwJgYBAWAQBg/JhRkv69R+YbdbRy+NeP6l/94IK6JSViMioyV/wvZYrdH/ef/oP7wI/VLUldM4o+e8+cn8QP3zryvQvte9QrB4CB3cje0A6H44UXXrjlllv6f1RXV/enP/3pwIEDBoMhOzt7wO+++uqre/fu9fl8kydPHuKnwN7QAABwA9LM2ukl6ScbepUtpOtbPaEIP6s0Q+26YghtmrZwGdt5WIy4EEKc85QYbNMV3a12XarJME+1GoriY4oNHR/8//buPS6qau0D+OJ+U2EYEFFE5WKiKCgD3sAryKhZ5qkYtYtlnxTq6LFjcEStt6NiQ3R66xiEb5ZZyUzlJU0ENTEZbzDoIOINZ0REvM1mQOQiorx/rGmaRoYAgTXI7/vXs/beM/ywPvm0915rOTp4uDoOZpsKQF9bJrgIhcLMzMxHPygSiaRSqW4YFRUlkUj0L0hNTV28eLFuKBAIpFKpl5dXkz8FE1wAANrsOlf9mTSvTH2XDieO7P/6rOFsI+l7UHv79v6Ye7e1M3IcBk13mfIZ20hsFZUd2JMbpxtGjHxvmOezDPMA6Gv1Y+iYmJjMzCZukq9cuVIqlUZHR6vVarVaHR0dLZVKExP/WF4rPT198eLFAoFAqVQ2NjZ+8cUXcrk8JibmseIDAEBT3PkO774UMtDdkQ5/O3X1ix2K5j/SmSzsXHsLv7Z1187/rb68V623tk435Ns3fNbo/+iG+0/9+3TxTwzzAOhrxZ1FjuPeeust3b1D/Q9yHOfi4iIQCHJzc3UHg4ODlUplUVERn8+nQ7lcrlar6ZAQsnLlyoSEhOzs7NDQ0Ed/HO4sAgA8pru19Z9KT14sKafDCSP7LzSl+4uNDxvUB2JqrmbRYQ+f2fyJH7GNxFbxzSO7cpY9fPiADicNfzfQS8Q2EgBp+Z1FlUrl6+srlUrj4+MjIyMNzp44cYIQ8sILL+gffOONNzQaDT3FcZxcLo+MjNR1ioSQF198kRCyd+/ex/kFAADAmB521u++FOzv5UKHh09d/XZvIdtI+szMLV2nbbTvP5kO717aWS5b1fxHnmwD3cbPHvNfSwsbOjxU8FGe8lu2kaAN8vPzExMTExMTU1NTVap2XsHKzMxMKBTqhjKZzMzMzMfHp31/ioGWNotlZWWEkLS0tHXr1j169syZM4SQcePG6R8cNmyY7tS5c+cIIVOmTNG/ICAggBCSl5fXhtwAANAS1pYWS6OCnvJ0psMDuVck+8+zjWTANSLFrq/2r4+qC1LNsTVs87Dl6Tr6ubEbrK160GH2mf/Nu7SFbSRoufz8/ODg4MDAwLi4uLi4uMWLF3t7e4tEIo7j2utHpKWlZWZmymQyOgwLC/P29r506VJ7fX+TWtos9u3bt6ioSCRq+n54cXGxsQ/SU6WlpcYu6OjfEACgm7O2slgaFTSor/b9xb3HVNuyLrKN9CdmFq7hKbZu2hXF75zdUpGT2Pwnnmz9+KOeG/NfOxsnOswu/BTvL3YJKpVq8uTJcrmcx+NFR0eLxeLo6GhCiFQq1b8X+JhEIpG3t/fWrVsJIfRr9+3b115fbkxLm0UvLy/9J8gGmrnLSk+VlJQYu0CpVLYwAwAAtI2DndXSqCCP3toNVHZlX9qVbUL/o25mZe8anmLj4k+HlQX/V3nyU7aR2HJ3HjF7zAZdv3gwf/350nS2keAvJSUlaTQaHo8nl8uTk5NjY2OTk5MVCgUhRC6Xt+M0jLVr16akpNAJx2lpacZWlWlHlh39Ax7HokVN7xyKiS8AAK3F62m7NCoo6fucm+U1hJBtWRetLS2EYwexzqVlbstzDU+5lfF6fUURIaTi1AYzC5teAYv/8oNPKjcnv1khH28/GtPw4B4hJCNvtZWFvbf7JNa5oGkcx6WkpBBCkpOT9bu3gICA6OjolJSUHTt2GOtqWkskEq1atSolJUUsFht75Nu+LAkhEolk8+bNxq7IyMj4y29ppqulpzw9PY1d4O3tbewUmkIAgHbUm2e/NEqQ9H1O+Z06Qkja/nNWVuZTBQNY59KycOjjGpFyK+P1+1UlhBCN/GMzC5ue/q+xzsVMX+fAp0OSdh77Ox3uzl0+Z2yyp2sI21TQJD6fn52dXVpaGhJi+A9o4MCBrfoqmUx29OhRQoinp2dISMijLZZKpaJPZZ9//vm2J24NS0JISUlJk0sntlwzfxD0lIeHh7ELOnoKDwAA6PRz7bE0Kijp+9yqmnpCyJb0QitLiwmBRv8T3cksew2g/WJDzU1CSPmJBGJh09NvHutczAzsPW5msFi7Xndj4y+5y+eMTe7D82edC5rQ5DqApNl5HQYSExM//PBDjUajf1AsFsfGxuofmTZtGiHE29s7KSkpOTm5LVlbyZwQEhsb22hcS77F39+fEFJY+KcVGeiQnvLz8yOEnDx5Uv+C/Px8QkhQUFD7/CoAANACA90dl0YF2Vhb0OGmXaePnSljG0mfFW+wa3iKhY12Ok750feri7axjcSWb9/waSO1O2jX36/enbOcq2rn1Vig40gkEvp4esmS5pad5zguODg4Li5Oo9FERUWJxWKxWCwQCAghcXFx+g9ahUKhUqnMzs5+88036Td3glbv4NKk0aNHE0K+/PJL/YN0SE/x+Xy6uZ/+7PEffviBENLkHtMAANBxfPvzlkYFmZub0eEX2xV552+wjaTP2nW4a/gX5ha2dKg+/K9q1R62kdga6vnMpOHv0rq67vYvOf+sqr3ONhI0TyKRrFy5Mjg4eO7cuYSQ+Pj4GTNmNHP9/Pnz5XI5rd9+++3Y2NjY2Njc3NyoqChCyEcfaRerT0xMzMzMFIvFoaGh9Haj/lZ5Had9mkU+nx8fH0+37+M4juO4mJgYuVweHx+vm0P9wQcfEEKEQiGdH52ampqQkCAQCJr/4wMAgI4wbJDL0qg/Hux89sPJ05duM8xjwKaPwDUixYxo21l11j9qrhxgG4mtQC/R+KFv0Vpzt2R3zvK6+kq2kaAZmzdvTkhIoP2fQCCYPn16MxfTFpDH44nFYvLnx9krVqwghCiVSpVKFRMTExcXFxkZqXsqLRaL4+Li2n3d70e1Yrs/HaFQmJmZafBBjuPmz5+v/+5jVFSURCLRv4bu76cb0nuNxibHYLs/AICOlnvuxoYftS8IWVqYL58f7DfQ6Cppna+25Ndb+/+YEO0W+ZWtRxjDPMwdOfd57sWvaO3hMuq5sckW5lZsI3WOipr623fvdf7P9f19tanWWrlypaOjY2VlpVQqpZNRHn31UMfZ2Vmj0dBO8eDBgwYTi83MzAghxvZG7hxtaRYlEklJSUmTv3N+fj7tFyMjI+kGLQZUKtX+/fsrKyv9/f2bv6eIZhEAoBMcLbiWuiOf1nY2lsvnh/h4OLGNpK/mcvrtg0tpbWZh01v4lW2fbj0d+FDBRwqV9kbMILfQZ8d0iwUpK2rql0hP/vV17W3La2Me/0tiYmLoy4VNNnzp6ekzZ84khKjV6vnz5+fk5BjMp6ZtlVqtbma5647Wlmaxc6BZBADoHL+dvPrVLwW0dna0W/nqGBcnO7aR9FUX7VAf1t6eMLfu5TbjW2v+ULaR2Np/6oPCkl20Htxv2gzBerZ5OkGXbhYJIT4+PkqlMjo6+tHJy7SVjIyMzMjIoLcYm/wGtt2aSS/KDQAAnWDiqP71DQ++yzhLCCmvrE3efir+1TGWFu3zUvvjc/B9rvHBPe7IakLIw/o76qxlbjO3WtiZ0OPyThYx8v36BzVF1w4QQi5e22dtaR8euJp1qA5nZTL/QrYBbRabfLmQHgwKClKpVBqNJi0t7dHVBnv2bOPT8PaCZhEAAEhEyMDquvs7DhURQpSlFSnbFX9/YRTrUH/oMUTU+OBe+fG1hJD7lSr1oWVu07ewDsXSTIF4Z8Pfi28eJYScubLTytJ+ov8/WYfqQE721pteMenXD1QqVVlZ2dGjR429mNg8R0fHnJwcHo+nvyOLSqX66aef/P396fqDDHXhPh0AANrR7Am+k4O0u23Jz92gNz/LCPIAAA9OSURBVBpNR89hrzqOeJPWdWXHuN/eZZuHuadDPu7HH0nrU8qtOb9PfAEmysrKwsLC4uLiZDKZwSmO43JyckizC0sXFxcXFBQYvK2YlJQUFxe3ZMkShm8rUmgWAQBAa8FM/8DBvWm9P6d4zxHTWvzZKfhdB59naX330s6K3CS2ediyNLd+OiTJ1fEpOjx67vPzpelsI3VnoaGhdPviZcuW6S8pzXGcUCjUaDQ8Hm/hwoWPfpCuCSORSPbt2zdlyhTdcd1q3s1syNxp0CwCAMAfop8LHNCnF61/+PX80dPX2OYx4DIxydZdO+eg8nRq1dlu/TDaztppZrDY3lZ72ykjb/U17hTbSN3ZZ599RgiRy+W+vr4xMTGJiYkxMTG+vr50tcXk5OQm1wqcN28eIUSj0dDLZDKZTCaLiYmhq3mnpaUxXDFHx6RnQ+sPMTMaAKBzXFffTfjmxJ1q7bJ2/3pltEktvvigVn1zz/z7ldq7nq5TN9gPjGQbia2r6txtR7SrUfa0c3shbFMvO3e2kbotmUy2YMECurCijre39+bNm5vp+SQSCW0N9fF4vOTkZP1XGBky6WYRDSIAABNnL3Pib0/QulcPm/hXx7jzHdhG0lfPFd7cM//h/WpCiJm5tdvM7216B7IOxdLZkl37Tn1A6778wBdDN7HN083p1pwmhIwbN64ltwZVKtWmTZvy8vIIIU5OTrNnz46IiGD+qqIOmkUAAGjCkdPXNu7ULtY9wL1X/KtjbK1NaAGN2pKDt/ZrH0BZ9vRwm7nV0qFb3047fmHj8fPavzSf8hBOD1rHNg88SfDOIgAANGH8iH4vTtVOnrhy/U7KdgXbPAbsPKfwx6+hdUNVKZe1jDQ+YBuJrTFPvTlswDO0vlCaceTcBrZ54EmCZhEAAJo2c7x3RMhAWisu3tq85wzTOIZ6DBE5jXyb1nU389RZ77DNw1xE4Pv9XbVrr+Re/Pp08U9s88ATA80iAAAY9ZJwqMCvD62z8kp+PnyJbR4DjqOW9hj8Aq2rL6drTiSwzcPc9KB1Tj20i2UezF9/+abhmn8AbYBmEQAAmhM9J9Dbw4nW2w9dPHzqKts8BvhhCXYeE2l958zXdwq+ZJuHLXsb5+lBay3MregwI28VV6Vs/iMAfwnNIgAANMfSwjx6TqCzox0dbtpdcPrSbbaRDLhM/o+18xBaa3LE1crdbPOw5eY0TPj77JZ796v25q2sb6hmGwm6OjSLAADwF1yd7KPnBJqbmdFhynbF1VtVbCPpM7fu5TLpPxY2PDpUH3qn7kYO20hs+fadOsF/Ga3VlUUZeavY5oGuDs0iAAD8tcH9edF/065lWFN3P2Xbqbu199lG0mfF83WZ/IluyGW903C3jGEe5kZ5vxTopV3nWXXjcNZpMds80KWhWQQAgBYJGeo+b5ofra/dvqtbhdFE2PYb7zJB2xI11Nwsz45nm4e5ScOXe7tPonX+5R/kl7r11ojwONAsAgBAS0WOGTR9rHZ/2/yiWz/8eoFtHgMOvnOcgrSPX2vLjmBy9PSgdb2dtG9zygo/vXhtH9s80EWhWQQAgFYQRQwJGuJG6z1HlMcKTOtpr2NgjIPXTFrfOfP13Yvdeq1BSwtb4ai1ttbayex781Zd15xmGwm6IpPe7k9/iK3/AABMRHXt/f/ZdORWeQ0hxMrS/P2F4/u79WQd6g+NDTU3fn6+vqKIEGJGzPo885O16wjWoVi6cuvYjmPa1csdHfqJJmyx+719BGgJk24W0SACAJim81fK139znNaD+jq+v3D871OlTcK9W4obu7WLdVvznurz7DYzCxu2kdgquLL9V4V2PR1v98mzQpLY5oGuBY+hAQCg1YYMcH55+jBaXy6r3LTbtB5u2vQO5Idqe6N6zQUuewXbPMwNHzAnePBrtFZezzpxYSPbPNC1oFkEAIC2CA8eMDlIu7NctqI04/hltnkM9HjqxV7DXqF1tXL3nfzu/qhqvN/bA93G0frY+VTVjd/Y5oEuBM0iAAC00YKZ/j79tUthp+07V6hSs81jgDdmta37GFpr5Em1JVls8zAXHrjawdaF1gcUa6tqb7DNA10FmkUAAGi7hbOG29pY0nrT7oLKu/fY5jHAD0uwsHWmNZcd33D3Gts8bPWw7R0eqN3NpeZe+QHFGrZ5oKtAswgAAG3X16XHwlnDac1V1m7aXcA2jwHLnv35YdrVFh/UqbFS9yC3sHF+0bS+cuu47OxnbPNAl4BmEQAAHkvIUPdnJ/jQ2gRX6rbznOoU9A6ta8uOao6vY5uHuZDBb/j0nUpredE3F65lss0Dpg/NIgAAPK45kwab9krd0Q5eT9P6TuHmuxd/ZJuHufDAVY4OHrQ+oFijuVvMNA6YOjSLAADQDhbOGtHb2Z7Wm3afvnqzim0eA/ywBGueL6257Pj626a11k8ns7XqpXt58X5D7X68vAjNQrMIAADtwMHOauEs7UYp9xsebtp92qT2fDCztHMOXa8bctkrGhvqGOZhrr9L8AR/7T7aZZziUEEi2zxgytAsAgBA+zD5lboD9FbqvoiVukd5v+TXX7uPtkIlLSz5mW0eMFloFgEAoN10hZW6X6V1teqXO/lfsM3DXHjgKpde2slJBxRrblWeZ5sHTBOaRQAAaE8mv1L3Klv3sbTWyD+uLTnINg9bFubWupcXGxsbDyjWNBJTensATINZo0m9VKJn0aJF+sPU1O6+UxMAQFdRpr77waajdfcaCCFuzvZrFoXZWFmwDvWHhqrSG7v+9qCunBBiYct3n/2zhYMb61AsnS7edjBfuxrlsAHPRgS+xzYPmBqTbhbRIAIAdFE5Z69//tMpWk8I9Fj4zAi2eQzUlhy8tV97S8J+4DTXqZ+zzcPcr/kJBcXbaD1pRGzgoCi2ecCk4DE0AAC0v5Ch7sIxg2h9WFGanV/KNo8BO88pTqP+Qeua4n1Vhd+wzcPc1ID4Pjx/Wh86nVhWrmCbB0wKmkUAAOgQc6f5DerrSOvv9p69palhm8eA48i37PqOo3X58bX13Dm2eZgLD1xlYWFF6wOKNQ0PTGubb2AIzSIAAHSUl4TalXTq6hu+yyhkG+ZRvLHvmZlb0lpz7N9swzDn0ss3PGA1rcurirNOf8g2D5gONIsAANBRfDycosKH0Dq/6PYvR5Rs8xiwcvJ2HqudzFF3U16R9wnbPMz59Z/p6NCP1oUlu85c2ck2D5gINIsAANCBZozzChzcm9Y//nqh6KqGbR4DPYbM1W0bXalIrrt2hG0e5l4L3+XG094PzioQl2PbaECzCAAAHe1l4TA7G+3TXhN8GO08drWlvbadLT+2pvHhfbZ5mJsy4l+0ePCg/tBpMdswYArQLAIAQMdycbLTbQNYfP3O95ln2eYxYG7rzPv9YfT9SiVeXnRzGjrR/5+0Lrmdc/wClrHr7tAsAgBAhxs/ot/Ekf1pve9Esfz8DbZ5DNgPjOw19BVaV52XVCt3s83D3EjveT59p9L6+PmNpeo8tnmALTSLAADQGV6ePqwP34HW3+49W1VTzzaPAd7Y1dbO2rk4mmNrHtTcZJuHuSkj4uxstNs2HipIZBsG2EKzCAAAncHK0lz3MLqiqu7bvSb48qL2YfSDe5ryY2vYhmHO3oY/aXgsrdV3Lh0q+IhtHmAIzSIAAHQSfy+XZ8J8aH2i8Pqv8its8xiw6ROst61LJrZ1earftBED/0ZrhUpy6fpBtnmAFZPeG1p/iH2iAQCeDAnfHL9wpZwQYmZmtnZRqEfvnqwT/cmtva/Wlh2ltftzu6yd/djmYevhw4bvDkWVVxUTQnrYuc6fJLGzdmIdCjqbJesAzUGDCADw5HlZOGxVajYhhO9oq66oNbVmkTd2dd2OWY0PGywd+jRUlXbzZtHc3HLS8He3H32LEGJnzSuvUvXjj2IdCjqbSTeLAADw5Onv1vPl6cNU1ypeEg6ztzW5v4asnHycx75Xd0PuPPY9cxtH1nHY83QdEzL49fqG2knDl7POAmyY9GNo3FkEAAAAYAsTXAAAAADAKDSLAAAAAGBUW14Wkclka9euzcjIMDguFAofvVgsFgcEBOiGEolk586dFRUVQUFBCxcu9PLyakMAAAAAAOgcrW4WOY5bsGCBUqk0OC6TyTIzMx+9ftWqVbpaJBJJpVJvb28fH5+EhISUlJRdu3aFhoa2NgMAAAAAdI7WPYbmOE4oFD7aKRJCSktLCSF79uxp/DNdL5iYmCiVSqOjoy9dupSRkaFQKAghCxYseNzfAAAAAAA6TCuaRZlMNnr0aLlczuPxHj1bUlJCCOnXr5+xj2/cuJHH4yUnJ9NhQEDA+vXrlUqlRCJpZWYAAAAA6CQtbRbz8/PDwsLKy8v37NkTEhLy6AUHDx4khOi/nqhPpVIplcpp06bpH4yIiCCEHD58uHWRAQAAAKCztLRZrKqqioyMzMrKmjFjRpMX5OTkREZGymQykUgkFApjYmJkMpnubFlZGSFk1Kg/LftOZ7eoVKo2ZgcAAACADtbSZtHPzy8jI8PYjUOO4zQaTWZmZlhYWEVFBcdxKSkpYWFhukfMhYWFxr45JyentaEBAAAAoHO0tFnk8/nNnD137hwhRCAQKJXKjIyM3NxchULB4/Hmzp1L7y9WVlYa+6xGo2lNYAAAAADoPO2zKWdoaKhCofDw8ND1lAEBAcnJyXPnzt26dWubF8dZtGhRk8exDSAAAABA57AkhCQmJsbFxRm7ooWbRz/6hJrOX6GvJPr7+xv7oEAgMHYKTSEAAAAAW5aEEE9Pz8jIyHb/av0n17169WrJZQAAAABgUiwJISKRSCQSPc63pKamfvnll5988on+E2f6tiKd8kyP//jjj7GxsboL0tPTCSFTpkx5nB8NAAAAAB2ndTu4GOPo6CiXyzds2KB/cO3atYSQefPm0WFUVJRcLs/Pz9ddsGXLFkJIR9zUBAAAAIB20T7NokgkEggEUqlUJBLJZLL09HShUJiZmRkdHa2717hixQpCyOTJkyUSCV2Oke7+Z2w5HgAAAABgrn1mQxNCMjIyVq9enZKSIpVK6ZH4+Ph169bpLggICNizZ8+SJUvmzp2ru+Cdd95prwAAAAAA0O7MWjjZWV9+fn5VVVWTC+JwHEfXXPTz8zM2c4V+vJkLqEWLFmE2NAAAAABbbWkWAQAAAKCbaJ93FgEAAADgiYRmEQAAAACMQrMIAAAAAEahWQQAAAAAo/4f0hRHlnXZ2JEAAAAASUVORK5CYII=\"></div>"
      ],
      "text/plain": [
       "Legended[-Graphics-, Placed[LineLegend[{Directive[Opacity[1.], \n",
       " \n",
       ">       RGBColor[0.368417, 0.506779, 0.709798], AbsoluteThickness[1.6]], \n",
       " \n",
       ">      Directive[Opacity[1.], RGBColor[0.880722, 0.611041, 0.142051], \n",
       " \n",
       ">       AbsoluteThickness[1.6]], Directive[Opacity[1.], \n",
       " \n",
       ">       RGBColor[0.560181, 0.691569, 0.194885], AbsoluteThickness[1.6]], \n",
       " \n",
       ">      Directive[Opacity[1.], RGBColor[0.922526, 0.385626, 0.209179], \n",
       " \n",
       ">       AbsoluteThickness[1.6]], Directive[Opacity[1.], \n",
       " \n",
       ">       RGBColor[0.528488, 0.470624, 0.701351], AbsoluteThickness[1.6]], \n",
       " \n",
       ">      Directive[Opacity[1.], RGBColor[0.772079, 0.431554, 0.102387], \n",
       " \n",
       ">       AbsoluteThickness[1.6]], Directive[Opacity[1.], \n",
       " \n",
       ">       RGBColor[0.363898, 0.618501, 0.782349], AbsoluteThickness[1.6]]}, \n",
       " \n",
       "           x      x    x      x     x     x\n",
       ">     {-3 E , -2 E , -E , 0, E , 2 E , 3 E }, LegendMarkers -> None, LabelStyle -> {}, \n",
       " \n",
       ">     LegendLayout -> Column], After, Identity]]"
      ]
     },
     "execution_count": 7,
     "metadata": {
      "text/html": [],
      "text/plain": []
     },
     "output_type": "execute_result"
    }
   ],
   "source": [
    "Plot[Evaluate[C*Exp[x]/.C->Range[-3, 3]], {x, 0, 5}, PlotLegends->\"Expressions\"]"
   ]
  },
  {
   "cell_type": "markdown",
   "id": "f0a8ce08",
   "metadata": {
    "slideshow": {
     "slide_type": "subslide"
    }
   },
   "source": [
    "<div class=\"alert alert-block alert-warning\">\n",
    "<font color=\"grey\" face=\"Ginebra\">\n",
    "    \n",
    "<b>Nota</b>: <i>Algunas veces una ecuación diferencial tiene una solución que no es miembro de una familia de soluciones de la ecuación, esto es, una solución que no se puede obtener usando un parámetro específico de la familia de soluciones. Esa solución extra se llama <b>solución singular</b>.</i>\n",
    "    \n",
    "<i>Una solución de una ecuación diferencial que es igual a cero en un intervalo $I$ se dice que es la <b>solución trivial</b>.</i>\n",
    "    \n",
    "</font>\n",
    "</div>"
   ]
  },
  {
   "cell_type": "markdown",
   "id": "22d793e9",
   "metadata": {
    "slideshow": {
     "slide_type": "fragment"
    }
   },
   "source": [
    "<div class=\"alert alert-block alert-danger\">\n",
    "<font color=\"purple\" face=\"Ginebra\">\n",
    "        \n",
    "<b>Ejemplo</b>: <i>La ecuación diferencial $y' = x\\sqrt{y}$, tiene como soluciones $y = \\frac{1}{16}(x^2 + C)^2$ y $y = 0$.</i>\n",
    "            \n",
    "</font>\n",
    "</div>"
   ]
  },
  {
   "cell_type": "markdown",
   "id": "1408f95d",
   "metadata": {
    "slideshow": {
     "slide_type": "fragment"
    }
   },
   "source": [
    "<small><i>En Wolfram Language el comando <b>DSolve</b> se utiliza para resolver ED: su estructura es la siguiente</i></small>\n",
    "> DSolve[ecuación diferencial, función incógnita, variable]"
   ]
  },
  {
   "cell_type": "code",
   "execution_count": 8,
   "id": "52bb828d",
   "metadata": {
    "slideshow": {
     "slide_type": "fragment"
    },
    "vscode": {
     "languageId": "wolfram language"
    }
   },
   "outputs": [
    {
     "data": {
      "text/html": [
       "<div><img alt=\"Output\" src=\"data:image/png;base64,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\"></div>"
      ],
      "text/plain": [
       "            2          2\n",
       "          (t  + 2 C[1])\n",
       "{{x[t] -> --------------}}\n",
       "                16"
      ]
     },
     "execution_count": 8,
     "metadata": {
      "text/html": [],
      "text/plain": []
     },
     "output_type": "execute_result"
    }
   ],
   "source": [
    "DSolve[x'[t] == t*Sqrt[x[t]], x[t], t]//Simplify"
   ]
  },
  {
   "cell_type": "markdown",
   "id": "c8c2714a",
   "metadata": {
    "slideshow": {
     "slide_type": "slide"
    }
   },
   "source": [
    "### <font color=\"gren\"><b>Condiciones iniciales y valores en la frontera</b></font>"
   ]
  },
  {
   "cell_type": "markdown",
   "id": "45035c5b",
   "metadata": {
    "slideshow": {
     "slide_type": "fragment"
    }
   },
   "source": [
    "<i>En muchas aplicaciones, no solo se nos da una ecuación diferencial para resolver, sino que también se dan una o más <b>condiciones auxiliares</b> que tambien deben ser satisfechas por la(s) solución(es).</i>"
   ]
  },
  {
   "cell_type": "markdown",
   "id": "8c219c62",
   "metadata": {
    "slideshow": {
     "slide_type": "fragment"
    }
   },
   "source": [
    "<div class=\"alert alert-block alert-info\">\n",
    "<font color=\"blue\" face=\"Ginebra\">\n",
    "    \n",
    "<b>Definición</b>: <i>Si toda solución de una EDO de orden $n$, $F(x, y, y', \\dots, y^{(n)}) = 0$, en un intervalov$I$ se puede obtener a partir de una familia con n-parámetros, $G(x, y, C_1, C_2, \\dots, C_n) = 0$, eligiendo apropiadamente los parámetros $C_i, i = 1, 2, \\dots, n$, entonces diremos que la familia es la <b>solución general</b> de la ED.</i>\n",
    "    \n",
    "</font>\n",
    "</div>"
   ]
  },
  {
   "cell_type": "markdown",
   "id": "414f713b",
   "metadata": {
    "slideshow": {
     "slide_type": "fragment"
    }
   },
   "source": [
    "<i>Debido a que las ecuaciones de primer orden implican una sola $\\color{cyan}{\\text{condición auxiliar}}$, que es generalmente referida como una <b>condición inicial</b>, usamos los siguientes ejemplos para distinguir entre problemas de <b>valores iniciales</b> y de <b>valores en la frontera</b> que involucran ecuaciones</i>"
   ]
  },
  {
   "cell_type": "markdown",
   "id": "43c85a42",
   "metadata": {
    "slideshow": {
     "slide_type": "subslide"
    }
   },
   "source": [
    "<div class=\"alert alert-block alert-danger\">\n",
    "<font color=\"purple\" face=\"Ginebra\">\n",
    "    \n",
    "<b>Ejemplo</b>: <i>Considere la ecuación diferencial de segundo orden $x'' + x = 0$, que modela el movimiento de una masa, con $m = 1$, unida a la extremo de un resorte con constante de resorte $k = 1$, donde $x(t)$ representa el desplazamiento de la masa desde la posición de equilibrio $x = 0$ en el tiempo $t$. Se encuentra que una solución general de esta ecuación diferencial es $x(t) = A \\cos(t) + B\\sin(t)$, donde $A$ y $B$ son constantes arbitrarias.</i>\n",
    "\n",
    "<i>Debido a que esta es una ecuación de segundo orden, necesitamos dos condiciones auxiliares para determinar las dos constantes desconocidas. Supongamos que la inicial el desplazamiento de la masa es $x(0) = 0$ y la velocidad inicial es $x'(0) = 1$. Este es un <b>problema de valor inicial</b> porque tenemos dos condiciones auxiliares dadas en el mismo valor de $t$, a saber, $t = 0$. Use estas condiciones iniciales para determinar la solución de este problema.</i>\n",
    "    \n",
    "</font>\n",
    "</div>"
   ]
  },
  {
   "cell_type": "markdown",
   "id": "6c460e6e",
   "metadata": {
    "slideshow": {
     "slide_type": "subslide"
    }
   },
   "source": [
    "<div class=\"alert alert-block alert-danger\">\n",
    "<font color=\"purple\" face=\"Ginebra\">\n",
    "    \n",
    "<b>Solución</b>: <i>Aplicando la primer condición auxiliar: posición inicial, tenemos</i>\n",
    "        \n",
    "\\begin{equation*}\n",
    "    x(0) = A \\cos(0) + B \\sin(0) = A =0\n",
    "\\end{equation*}\n",
    "        \n",
    "<i>Necesitamos la primera derivada de la solución general,</i>\n",
    "        \n",
    "\\begin{equation*}\n",
    "    x'(t) =  B \\cos(t) - A \\sin (t)\n",
    "\\end{equation*}\n",
    "        \n",
    "<i>Sustituyendo en la condición auxiliar: velocidad inicial, tenemos</i>\n",
    "        \n",
    "\\begin{equation*}\n",
    "    x'(0) =  B \\cos(0) - A \\sin(0) = B = 1\n",
    "\\end{equation*}\n",
    "        \n",
    "<i>Por lo tanto, la solución es $x(t) = \\sin(t)$</i>\n",
    "        \n",
    "</font>\n",
    "</div>"
   ]
  },
  {
   "cell_type": "markdown",
   "id": "fd60c0c5",
   "metadata": {
    "slideshow": {
     "slide_type": "subslide"
    }
   },
   "source": [
    "<i>El comando <b>Solve</b> de Wolfram Language se utiliza para resolver sistemas de ecuaciones algebraicas, la estructura de la función es:</i>\n",
    "    \n",
    "> Solve[{ecuación$1$, ecuación$2$, $\\dots$, ecuación$n$}, {incognitas}]"
   ]
  },
  {
   "cell_type": "code",
   "execution_count": 9,
   "id": "38c10f57",
   "metadata": {
    "slideshow": {
     "slide_type": "fragment"
    },
    "vscode": {
     "languageId": "wolfram language"
    }
   },
   "outputs": [
    {
     "data": {
      "text/html": [
       "<div><img alt=\"Output\" src=\"data:image/png;base64,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\"></div>"
      ],
      "text/plain": [
       "{{A -> 0, B -> 1}}"
      ]
     },
     "execution_count": 10,
     "metadata": {
      "text/html": [],
      "text/plain": []
     },
     "output_type": "execute_result"
    }
   ],
   "source": [
    "x[t_] := A*Cos[t] + B*Sin[t]\n",
    "Solve[{x[0] == 0, x'[0] == 1}, {A, B}]//Simplify"
   ]
  },
  {
   "cell_type": "markdown",
   "id": "09aaaf63",
   "metadata": {
    "slideshow": {
     "slide_type": "subslide"
    }
   },
   "source": [
    "<div class=\"alert alert-block alert-danger\">\n",
    "<font color=\"purple\" face=\"Ginebra\">\n",
    "    \n",
    "<b>Ejemplo</b>: <i>La forma de una viga flexible de longitud $1\\,unidad$ que es sometido a una fuerza de compresión en un extremo se escribe mediante la gráfica de la solución $y(x)$ de la ecuación diferencial $\\frac{d^2y}{dx^2} + \\frac{\\pi^2}{4}y = 0$, $0 < x <1$. Si la altura de la viga sobre el eje $x$ se conoce en los puntos extremos $x = 0$ y $x = 1$, entonces tenemos un <b>problema de valores en la frontera</b>. Usa las condiciones en los límites $y(0) = 0$ y $y(1) = 2$ para encontrar la forma de la viga.</i>\n",
    "    \n",
    "</font>\n",
    "</div>"
   ]
  },
  {
   "cell_type": "code",
   "execution_count": 11,
   "id": "992d1b81",
   "metadata": {
    "slideshow": {
     "slide_type": "notes"
    },
    "vscode": {
     "languageId": "wolfram language"
    }
   },
   "outputs": [],
   "source": [
    "Clear[y]\n",
    "Sol = DSolveValue[{y''[x] + (Pi/4)*y[x] == 0, y[0] == 0, y[1] == 2}, y[x], x];"
   ]
  },
  {
   "cell_type": "code",
   "execution_count": 13,
   "id": "a959444e",
   "metadata": {
    "scrolled": true,
    "slideshow": {
     "slide_type": "fragment"
    },
    "vscode": {
     "languageId": "wolfram language"
    }
   },
   "outputs": [
    {
     "data": {
      "text/html": [
       "<div><img alt=\"Output\" src=\"data:image/png;base64,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\"></div>"
      ],
      "text/plain": [
       "-Graphics-"
      ]
     },
     "execution_count": 13,
     "metadata": {
      "text/html": [],
      "text/plain": []
     },
     "output_type": "execute_result"
    }
   ],
   "source": [
    "Plot[Sol,{x, 0, 1}]"
   ]
  },
  {
   "cell_type": "markdown",
   "id": "0ebafaf9",
   "metadata": {
    "slideshow": {
     "slide_type": "subslide"
    }
   },
   "source": [
    "<div class=\"alert alert-block alert-danger\">\n",
    "<font color=\"purple\" face=\"Ginebra\">\n",
    "    \n",
    "<b>Solución</b>: <i>Primero, la solución general a esta ecuación es</i>\n",
    "\n",
    "\\begin{equation*}\n",
    "    y(x) = A \\cos\\left(\\frac{\\pi}{2} x\\right) + B \\sin\\left(\\frac{\\pi}{2} x\\right)\n",
    "\\end{equation*}\n",
    "    \n",
    "<i>Aplicando la condición $y(0) = 0$ en la solución general, tenemos</i>\n",
    "    \n",
    "\\begin{equation*}\n",
    "    y(0) = A \\cos(0) + B \\sin(0) = A = 0\n",
    "\\end{equation*}\n",
    "    \n",
    "<i>De igual manera para la condición $y(1) = 2$, tenemos</i>\n",
    "    \n",
    "\\begin{equation*}\n",
    "    y(1) = B \\sin\\left(\\frac{\\pi}{2}\\right) = B = 2\n",
    "\\end{equation*}\n",
    "    \n",
    "<i>Por lo que la solución al problema con valores en la frontera es $y(x) = 2 \\sin\\left(\\frac{\\pi}{2} x\\right)$, $0 < x < 1$.</i>\n",
    "    \n",
    "</font>\n",
    "</div>"
   ]
  },
  {
   "cell_type": "markdown",
   "id": "7dd4d3de",
   "metadata": {
    "slideshow": {
     "slide_type": "subslide"
    }
   },
   "source": [
    "<i>Comprovemos el resultado con Wolfram Language</i>"
   ]
  },
  {
   "cell_type": "code",
   "execution_count": 14,
   "id": "342a44d9",
   "metadata": {
    "scrolled": true,
    "slideshow": {
     "slide_type": "fragment"
    },
    "vscode": {
     "languageId": "wolfram language"
    }
   },
   "outputs": [
    {
     "data": {
      "text/html": [
       "<div><img alt=\"Output\" src=\"data:image/png;base64,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\"></div>"
      ],
      "text/plain": [
       "{{a -> 2, b -> 0}}"
      ]
     },
     "execution_count": 15,
     "metadata": {
      "text/html": [],
      "text/plain": []
     },
     "output_type": "execute_result"
    }
   ],
   "source": [
    "y[x_] := -(x^4)/12 + a*x + b\n",
    "\n",
    "Solve[{y[0] == 0, y'[0] == 2}, {a, b}]//Simplify"
   ]
  }
 ],
 "metadata": {
  "celltoolbar": "Slideshow",
  "hide_input": false,
  "kernelspec": {
   "display_name": "Wolfram Language 13",
   "language": "Wolfram Language",
   "name": "wolframlanguage13"
  },
  "language_info": {
   "codemirror_mode": "mathematica",
   "file_extension": ".m",
   "mimetype": "application/vnd.wolfram.m",
   "name": "Wolfram Language",
   "pygments_lexer": "mathematica",
   "version": "12.0"
  },
  "latex_envs": {
   "LaTeX_envs_menu_present": true,
   "autoclose": false,
   "autocomplete": true,
   "bibliofile": "biblio.bib",
   "cite_by": "apalike",
   "current_citInitial": 1,
   "eqLabelWithNumbers": true,
   "eqNumInitial": 1,
   "hotkeys": {
    "equation": "Ctrl-E",
    "itemize": "Ctrl-I"
   },
   "labels_anchors": false,
   "latex_user_defs": false,
   "report_style_numbering": false,
   "user_envs_cfg": false
  },
  "toc": {
   "base_numbering": 1,
   "nav_menu": {},
   "number_sections": true,
   "sideBar": true,
   "skip_h1_title": false,
   "title_cell": "Table of Contents",
   "title_sidebar": "Contents",
   "toc_cell": false,
   "toc_position": {
    "height": "calc(100% - 180px)",
    "left": "10px",
    "top": "150px",
    "width": "331.991px"
   },
   "toc_section_display": true,
   "toc_window_display": false
  }
 },
 "nbformat": 4,
 "nbformat_minor": 5
}
