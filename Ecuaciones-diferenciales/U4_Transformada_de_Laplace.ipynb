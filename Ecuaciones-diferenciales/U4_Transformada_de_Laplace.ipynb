{
 "cells": [
  {
   "cell_type": "markdown",
   "id": "0de3edb7",
   "metadata": {
    "slideshow": {
     "slide_type": "slide"
    }
   },
   "source": [
    "<video controls src=\"Bugs_Bunny_Warner_Bros_presenta.mp4\" width=\"900\"></video>"
   ]
  },
  {
   "cell_type": "markdown",
   "id": "06ddecbb",
   "metadata": {
    "slideshow": {
     "slide_type": "fragment"
    }
   },
   "source": [
    "## <font color=\"orange\"><b>Transformada de Laplace</b></font>"
   ]
  },
  {
   "cell_type": "markdown",
   "id": "4b871887",
   "metadata": {
    "slideshow": {
     "slide_type": "slide"
    }
   },
   "source": [
    "## <font color=\"orange\"><b>Sistemas de ecuaciones diferenciales</b></font>"
   ]
  },
  {
   "cell_type": "code",
   "execution_count": null,
   "id": "96ebba52",
   "metadata": {},
   "outputs": [],
   "source": [
    "Jose Antoni Garcia Paredes\n",
    "Julio Arturo Gomez Peña\n",
    "\n",
    "https://www.bigmarker.com/wolfram-u/computational-xplorations-jul-2022?bmid=910e900ab28e"
   ]
  },
  {
   "cell_type": "markdown",
   "id": "9437c5af",
   "metadata": {},
   "source": [
    "<video controls src=\"Porky_eso_es_todo_amigos.mp4\" width=\"1100\"></video>"
   ]
  }
 ],
 "metadata": {
  "celltoolbar": "Slideshow",
  "hide_input": false,
  "kernelspec": {
   "display_name": "Wolfram Language 13",
   "language": "Wolfram Language",
   "name": "wolframlanguage13"
  },
  "latex_envs": {
   "LaTeX_envs_menu_present": true,
   "autoclose": false,
   "autocomplete": true,
   "bibliofile": "biblio.bib",
   "cite_by": "apalike",
   "current_citInitial": 1,
   "eqLabelWithNumbers": true,
   "eqNumInitial": 1,
   "hotkeys": {
    "equation": "Ctrl-E",
    "itemize": "Ctrl-I"
   },
   "labels_anchors": false,
   "latex_user_defs": false,
   "report_style_numbering": false,
   "user_envs_cfg": false
  },
  "toc": {
   "base_numbering": "4",
   "nav_menu": {},
   "number_sections": true,
   "sideBar": true,
   "skip_h1_title": true,
   "title_cell": "Table of Contents",
   "title_sidebar": "Contents",
   "toc_cell": false,
   "toc_position": {},
   "toc_section_display": true,
   "toc_window_display": true
  }
 },
 "nbformat": 4,
 "nbformat_minor": 5
}
